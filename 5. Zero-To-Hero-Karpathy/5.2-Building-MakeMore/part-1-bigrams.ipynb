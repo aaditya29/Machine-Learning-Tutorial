{
 "cells": [
  {
   "cell_type": "markdown",
   "id": "5ee1c660",
   "metadata": {},
   "source": [
    "# Building Makemore From Scratch\n"
   ]
  },
  {
   "cell_type": "markdown",
   "id": "7b0216a7",
   "metadata": {},
   "source": [
    "**Makemore** is an educational language model by [Andrej Karpathy](https://github.com/karpathy) that demonstrates how to build text generation models from scratch.<br>\n",
    "As we can see the name comes from its purpose i.e. training models that can *\"make more\"* examples of data (e.g., generate new names, words, or text) based on a given dataset. It shows how character-level language models are built step by step\n",
    "\n"
   ]
  },
  {
   "cell_type": "markdown",
   "id": "fe4e15f7",
   "metadata": {},
   "source": [
    "## Part-1: Bigrams"
   ]
  },
  {
   "cell_type": "markdown",
   "id": "c1f52608",
   "metadata": {},
   "source": [
    "### 1.  Loading and Inspecting The Data"
   ]
  },
  {
   "cell_type": "code",
   "execution_count": 4,
   "id": "ef089022",
   "metadata": {},
   "outputs": [],
   "source": [
    "words = open('names.txt', 'r').read().splitlines()#reading names from file"
   ]
  },
  {
   "cell_type": "code",
   "execution_count": 5,
   "id": "b15a5119",
   "metadata": {},
   "outputs": [
    {
     "data": {
      "text/plain": [
       "['emma',\n",
       " 'olivia',\n",
       " 'ava',\n",
       " 'isabella',\n",
       " 'sophia',\n",
       " 'charlotte',\n",
       " 'mia',\n",
       " 'amelia',\n",
       " 'harper',\n",
       " 'evelyn']"
      ]
     },
     "execution_count": 5,
     "metadata": {},
     "output_type": "execute_result"
    }
   ],
   "source": [
    "words[:10]"
   ]
  },
  {
   "cell_type": "code",
   "execution_count": 6,
   "id": "6fa62d1a",
   "metadata": {},
   "outputs": [
    {
     "data": {
      "text/plain": [
       "32033"
      ]
     },
     "execution_count": 6,
     "metadata": {},
     "output_type": "execute_result"
    }
   ],
   "source": [
    "len(words) # total number of words"
   ]
  },
  {
   "cell_type": "code",
   "execution_count": 9,
   "id": "37fb4774",
   "metadata": {},
   "outputs": [
    {
     "name": "stdout",
     "output_type": "stream",
     "text": [
      "Minimum length: 2 and Maximum length: 15\n"
     ]
    }
   ],
   "source": [
    "# finding minimum and maximum length of words\n",
    "min_len = min(len(w) for w in words)\n",
    "max_len = max(len(w) for w in words)\n",
    "print(f\"Minimum length: {min_len} and Maximum length: {max_len}\")"
   ]
  },
  {
   "cell_type": "markdown",
   "id": "2b5c040a",
   "metadata": {},
   "source": [
    "### 2. Building the Bigram Model (Dictionary Approach)"
   ]
  }
 ],
 "metadata": {
  "kernelspec": {
   "display_name": "Python 3",
   "language": "python",
   "name": "python3"
  },
  "language_info": {
   "codemirror_mode": {
    "name": "ipython",
    "version": 3
   },
   "file_extension": ".py",
   "mimetype": "text/x-python",
   "name": "python",
   "nbconvert_exporter": "python",
   "pygments_lexer": "ipython3",
   "version": "3.8.19"
  }
 },
 "nbformat": 4,
 "nbformat_minor": 5
}
