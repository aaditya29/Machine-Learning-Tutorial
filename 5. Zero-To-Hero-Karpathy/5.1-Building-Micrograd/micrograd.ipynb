{
 "cells": [
  {
   "cell_type": "markdown",
   "id": "8fb0a614",
   "metadata": {},
   "source": [
    "# Micrograd-From-Scratch"
   ]
  },
  {
   "cell_type": "code",
   "execution_count": 30,
   "id": "57155546",
   "metadata": {},
   "outputs": [],
   "source": [
    "import math\n",
    "import numpy as np\n",
    "import matplotlib.pyplot as plt\n",
    "%matplotlib inline"
   ]
  },
  {
   "cell_type": "code",
   "execution_count": 31,
   "id": "971f1c60",
   "metadata": {},
   "outputs": [],
   "source": [
    "def f(x):\n",
    "    return 3*x**2 -4*x + 5"
   ]
  },
  {
   "cell_type": "code",
   "execution_count": 32,
   "id": "d1d9a5c3",
   "metadata": {},
   "outputs": [
    {
     "data": {
      "text/plain": [
       "20.0"
      ]
     },
     "execution_count": 32,
     "metadata": {},
     "output_type": "execute_result"
    }
   ],
   "source": [
    "f(3.0)"
   ]
  },
  {
   "cell_type": "code",
   "execution_count": 33,
   "id": "867b32db",
   "metadata": {},
   "outputs": [
    {
     "data": {
      "image/png": "[encoded data removed]",
      "text/plain": [
       "<Figure size 640x480 with 1 Axes>"
      ]
     },
     "metadata": {},
     "output_type": "display_data"
    }
   ],
   "source": [
    "xs = np.arange(-5,5, 0.25)# Generate a range of x values\n",
    "ys = f(xs) # Compute the corresponding y values\n",
    "plt.plot(xs, ys)\n",
    "plt.xlabel('x')\n",
    "plt.ylabel('f(x)')\n",
    "plt.title('Plot of f(x) = 3x^2 - 4x + 5')\n",
    "plt.grid()\n",
    "plt.show()"
   ]
  },
  {
   "cell_type": "code",
   "execution_count": 35,
   "id": "06a6662c",
   "metadata": {},
   "outputs": [
    {
     "data": {
      "text/plain": [
       "2.999378523327323e-06"
      ]
     },
     "execution_count": 35,
     "metadata": {},
     "output_type": "execute_result"
    }
   ],
   "source": [
    "h = 0.000001\n",
    "x = 2/3\n",
    "(f(x + h) - f(x))/h"
   ]
  },
  {
   "cell_type": "code",
   "execution_count": 36,
   "id": "2d60e95d",
   "metadata": {},
   "outputs": [
    {
     "name": "stdout",
     "output_type": "stream",
     "text": [
      "4.0\n"
     ]
    }
   ],
   "source": [
    "a = 2.0\n",
    "b = -3.0\n",
    "c = 10.0\n",
    "d = a*b + c\n",
    "print(d)"
   ]
  },
  {
   "cell_type": "code",
   "execution_count": 37,
   "id": "ab723e92",
   "metadata": {},
   "outputs": [
    {
     "name": "stdout",
     "output_type": "stream",
     "text": [
      "d1 4.0\n",
      "d2 4.0001\n",
      "slope 0.9999999999976694\n"
     ]
    }
   ],
   "source": [
    "h = 0.0001\n",
    "\n",
    "#inputs\n",
    "a = 2.0\n",
    "b = -3.0\n",
    "c = 10.0\n",
    "\n",
    "d1 = a*b + c\n",
    "c += h\n",
    "d2 = a*b + c\n",
    "\n",
    "print('d1', d1)\n",
    "print('d2', d2)\n",
    "print('slope', (d2 - d1)/h)"
   ]
  },
  {
   "cell_type": "markdown",
   "id": "efc3bfe4",
   "metadata": {},
   "source": [
    "### Building Core Value Object of MicroGrad and its Visualisation"
   ]
  },
  {
   "cell_type": "code",
   "execution_count": 44,
   "id": "9ef61889",
   "metadata": {},
   "outputs": [],
   "source": [
    "class Value:\n",
    "    \n",
    "    def __init__(self, data, _children=(), _op='', label=''):\n",
    "        self.data = data# value of this node\n",
    "        self.grad = 0.0# gradient of this node\n",
    "        self._backward = lambda: None# function to compute the gradient. here lambda  is used to create a function that does nothing\n",
    "        self._prev = set(_children)# previous nodes in the computation graph\n",
    "        self._op = _op#  operation to produce this node\n",
    "        self.label = label\n",
    "        \n",
    "    def __repr__(self):\n",
    "        return f\"Value(data={self.data})\"\n",
    "    \n",
    "    def __add__(self, other):\n",
    "        out = Value(self.data + other.data, (self, other), '+') # creating a new Value object with the sum of self and other\n",
    "        \n",
    "        def _backward():\n",
    "            self.grad += 1.0 * out.grad # gradient of self is incremented by the gradient of out\n",
    "            other.grad += 1.0 * out.grad # gradient of other is incremented by the gradient of out\n",
    "        out._backward = _backward # assigning the backward function to the out object\n",
    "        return out # returning the new Value object\n",
    "    \n",
    "    def __mul__(self, other):\n",
    "        out = Value(self.data * other.data, (self, other), '*') # creating a new Value object with the product of self and other\n",
    "        \n",
    "        def _backward():\n",
    "            self.grad += other.data * out.grad # gradient of self is incremented by the product of other data and out gradient\n",
    "            other.grad += self.data * out.grad # gradient of other is incremented by the product of self data and out gradient\n",
    "        out._backward = _backward # assigning the backward function to the out object\n",
    "        return out\n",
    "    \n",
    "    def tanh(self):\n",
    "        x = self.data# hyperbolic tangent function\n",
    "        t = (math.exp(2*x) - 1)/(math.exp(2*x) + 1) # calculating tanh using the exponential function\n",
    "        out = Value(t, (self, ), 'tanh')# creating a new Value object with the tanh value\n",
    "\n",
    "        def _backward():\n",
    "            self.grad += (1 - t**2) * out.grad# gradient of self is incremented by the derivative of tanh multiplied by the gradient of out\n",
    "        out._backward = _backward# assigning the backward function to the out object\n",
    "\n",
    "        return out\n",
    "    \n",
    "    def backward(self):\n",
    "        topo = []# topological order of the computation graph\n",
    "        visited = set()# set to keep track of visited nodes\n",
    "        def build_topo(v):\n",
    "            if v not in visited:\n",
    "                visited.add(v)# adding the node to the visited set\n",
    "                for child in v._prev:# iterating through the previous nodes\n",
    "                    build_topo(child)# recursively building the topological order\n",
    "                topo.append(v)# appending the node to the topological order\n",
    "        build_topo(self)# building the topological order starting from self\n",
    "        \n",
    "        self.grad = 1.0# setting the gradient of self to 1.0\n",
    "        for node in reversed(topo):# iterating through the topological order in reverse\n",
    "            node._backward()# calling the backward function of each node to compute the gradients\n",
    "\n",
    "\n"
   ]
  },
  {
   "cell_type": "code",
   "execution_count": 45,
   "id": "ff4e6fe2",
   "metadata": {},
   "outputs": [
    {
     "data": {
      "text/plain": [
       "Value(data=-8.0)"
      ]
     },
     "execution_count": 45,
     "metadata": {},
     "output_type": "execute_result"
    }
   ],
   "source": [
    "# creating a Value object with data 2.0 and label 'a'\n",
    "a = Value(2.0, label='a')\n",
    "b = Value(-3.0, label='b')\n",
    "c = Value(10.0, label='c')\n",
    "e = a*b\n",
    "e.label = 'e'\n",
    "d = e + c\n",
    "d.label = 'd'\n",
    "f = Value(-2.0, label='f')\n",
    "L = d * f\n",
    "L.label = 'L'\n",
    "L"
   ]
  },
  {
   "cell_type": "code",
   "execution_count": 46,
   "id": "d7654d8f",
   "metadata": {},
   "outputs": [],
   "source": [
    "from graphviz import Digraph\n",
    "\n",
    "\n",
    "def trace(root):\n",
    "  # builds a set of all nodes and edges in a graph\n",
    "  nodes, edges = set(), set()\n",
    "\n",
    "  def build(v):\n",
    "    if v not in nodes:\n",
    "      nodes.add(v)\n",
    "      for child in v._prev:\n",
    "        edges.add((child, v))\n",
    "        build(child)\n",
    "  build(root)\n",
    "  return nodes, edges\n",
    "\n",
    "\n",
    "def draw_dot(root):\n",
    "  dot = Digraph(format='svg', graph_attr={\n",
    "                'rankdir': 'LR'})  # LR = left to right\n",
    "\n",
    "  nodes, edges = trace(root)\n",
    "  for n in nodes:\n",
    "    uid = str(id(n))\n",
    "    # for any value in the graph, create a rectangular ('record') node for it\n",
    "    dot.node(name=uid, label=\"{ %s | data %.4f | grad %.4f }\" % (\n",
    "        n.label, n.data, n.grad), shape='record')\n",
    "    if n._op:\n",
    "      # if this value is a result of some operation, create an op node for it\n",
    "      dot.node(name=uid + n._op, label=n._op)\n",
    "      # and connect this node to it\n",
    "      dot.edge(uid + n._op, uid)\n",
    "\n",
    "  for n1, n2 in edges:\n",
    "    # connect n1 to the op node of n2\n",
    "    dot.edge(str(id(n1)), str(id(n2)) + n2._op)\n",
    "\n",
    "  return dot"
   ]
  },
  {
   "cell_type": "code",
   "execution_count": 47,
   "id": "10150f67",
   "metadata": {},
   "outputs": [
    {
     "data": {
      "image/svg+xml": [
       "<?xml version=\"1.0\" encoding=\"UTF-8\" standalone=\"no\"?>\n",
       "<!DOCTYPE svg PUBLIC \"-//W3C//DTD SVG 1.1//EN\"\n",
       " \"http://www.w3.org/Graphics/SVG/1.1/DTD/svg11.dtd\">\n",
       "<!-- Generated by graphviz version 13.1.1 (20250719.2154)\n",
       " -->\n",
       "<!-- Pages: 1 -->\n",
       "<svg width=\"1140pt\" height=\"156pt\"\n",
       " viewBox=\"0.00 0.00 1140.00 156.00\" xmlns=\"http://www.w3.org/2000/svg\" xmlns:xlink=\"http://www.w3.org/1999/xlink\">\n",
       "<g id=\"graph0\" class=\"graph\" transform=\"scale(1 1) rotate(0) translate(4 152)\">\n",
       "<polygon fill=\"white\" stroke=\"none\" points=\"-4,4 -4,-152 1135.75,-152 1135.75,4 -4,4\"/>\n",
       "<!-- 4800678928 -->\n",
       "<g id=\"node1\" class=\"node\">\n",
       "<title>4800678928</title>\n",
       "<polygon fill=\"none\" stroke=\"black\" points=\"2.62,-111.5 2.62,-147.5 185.62,-147.5 185.62,-111.5 2.62,-111.5\"/>\n",
       "<text xml:space=\"preserve\" text-anchor=\"middle\" x=\"13.62\" y=\"-124.7\" font-family=\"Times,serif\" font-size=\"14.00\">a</text>\n",
       "<polyline fill=\"none\" stroke=\"black\" points=\"24.62,-112 24.62,-147.5\"/>\n",
       "<text xml:space=\"preserve\" text-anchor=\"middle\" x=\"64.5\" y=\"-124.7\" font-family=\"Times,serif\" font-size=\"14.00\">data 2.0000</text>\n",
       "<polyline fill=\"none\" stroke=\"black\" points=\"104.38,-112 104.38,-147.5\"/>\n",
       "<text xml:space=\"preserve\" text-anchor=\"middle\" x=\"145\" y=\"-124.7\" font-family=\"Times,serif\" font-size=\"14.00\">grad 0.0000</text>\n",
       "</g>\n",
       "<!-- 4803500880* -->\n",
       "<g id=\"node7\" class=\"node\">\n",
       "<title>4803500880*</title>\n",
       "<ellipse fill=\"none\" stroke=\"black\" cx=\"251.25\" cy=\"-101.5\" rx=\"27\" ry=\"18\"/>\n",
       "<text xml:space=\"preserve\" text-anchor=\"middle\" x=\"251.25\" y=\"-96.45\" font-family=\"Times,serif\" font-size=\"14.00\">*</text>\n",
       "</g>\n",
       "<!-- 4800678928&#45;&gt;4803500880* -->\n",
       "<g id=\"edge9\" class=\"edge\">\n",
       "<title>4800678928&#45;&gt;4803500880*</title>\n",
       "<path fill=\"none\" stroke=\"black\" d=\"M185.81,-113.13C195.66,-111.35 205.21,-109.63 213.82,-108.08\"/>\n",
       "<polygon fill=\"black\" stroke=\"black\" points=\"214.19,-111.57 223.41,-106.34 212.95,-104.68 214.19,-111.57\"/>\n",
       "</g>\n",
       "<!-- 4803498096 -->\n",
       "<g id=\"node2\" class=\"node\">\n",
       "<title>4803498096</title>\n",
       "<polygon fill=\"none\" stroke=\"black\" points=\"630,-0.5 630,-36.5 816,-36.5 816,-0.5 630,-0.5\"/>\n",
       "<text xml:space=\"preserve\" text-anchor=\"middle\" x=\"640.25\" y=\"-13.7\" font-family=\"Times,serif\" font-size=\"14.00\">f</text>\n",
       "<polyline fill=\"none\" stroke=\"black\" points=\"650.5,-1 650.5,-36.5\"/>\n",
       "<text xml:space=\"preserve\" text-anchor=\"middle\" x=\"692.62\" y=\"-13.7\" font-family=\"Times,serif\" font-size=\"14.00\">data &#45;2.0000</text>\n",
       "<polyline fill=\"none\" stroke=\"black\" points=\"734.75,-1 734.75,-36.5\"/>\n",
       "<text xml:space=\"preserve\" text-anchor=\"middle\" x=\"775.38\" y=\"-13.7\" font-family=\"Times,serif\" font-size=\"14.00\">grad 0.0000</text>\n",
       "</g>\n",
       "<!-- 4800121296* -->\n",
       "<g id=\"node10\" class=\"node\">\n",
       "<title>4800121296*</title>\n",
       "<ellipse fill=\"none\" stroke=\"black\" cx=\"879\" cy=\"-45.5\" rx=\"27\" ry=\"18\"/>\n",
       "<text xml:space=\"preserve\" text-anchor=\"middle\" x=\"879\" y=\"-40.45\" font-family=\"Times,serif\" font-size=\"14.00\">*</text>\n",
       "</g>\n",
       "<!-- 4803498096&#45;&gt;4800121296* -->\n",
       "<g id=\"edge6\" class=\"edge\">\n",
       "<title>4803498096&#45;&gt;4800121296*</title>\n",
       "<path fill=\"none\" stroke=\"black\" d=\"M816.25,-34.67C825.01,-36.21 833.5,-37.7 841.24,-39.05\"/>\n",
       "<polygon fill=\"black\" stroke=\"black\" points=\"840.39,-42.46 850.84,-40.74 841.6,-35.56 840.39,-42.46\"/>\n",
       "</g>\n",
       "<!-- 4803501360 -->\n",
       "<g id=\"node3\" class=\"node\">\n",
       "<title>4803501360</title>\n",
       "<polygon fill=\"none\" stroke=\"black\" points=\"631.12,-55.5 631.12,-91.5 814.88,-91.5 814.88,-55.5 631.12,-55.5\"/>\n",
       "<text xml:space=\"preserve\" text-anchor=\"middle\" x=\"642.5\" y=\"-68.7\" font-family=\"Times,serif\" font-size=\"14.00\">d</text>\n",
       "<polyline fill=\"none\" stroke=\"black\" points=\"653.88,-56 653.88,-91.5\"/>\n",
       "<text xml:space=\"preserve\" text-anchor=\"middle\" x=\"693.75\" y=\"-68.7\" font-family=\"Times,serif\" font-size=\"14.00\">data 4.0000</text>\n",
       "<polyline fill=\"none\" stroke=\"black\" points=\"733.62,-56 733.62,-91.5\"/>\n",
       "<text xml:space=\"preserve\" text-anchor=\"middle\" x=\"774.25\" y=\"-68.7\" font-family=\"Times,serif\" font-size=\"14.00\">grad 0.0000</text>\n",
       "</g>\n",
       "<!-- 4803501360&#45;&gt;4800121296* -->\n",
       "<g id=\"edge7\" class=\"edge\">\n",
       "<title>4803501360&#45;&gt;4800121296*</title>\n",
       "<path fill=\"none\" stroke=\"black\" d=\"M815.36,-56.89C824.5,-55.23 833.36,-53.62 841.4,-52.15\"/>\n",
       "<polygon fill=\"black\" stroke=\"black\" points=\"841.83,-55.63 851.04,-50.4 840.57,-48.75 841.83,-55.63\"/>\n",
       "</g>\n",
       "<!-- 4803501360+ -->\n",
       "<g id=\"node4\" class=\"node\">\n",
       "<title>4803501360+</title>\n",
       "<ellipse fill=\"none\" stroke=\"black\" cx=\"567\" cy=\"-73.5\" rx=\"27\" ry=\"18\"/>\n",
       "<text xml:space=\"preserve\" text-anchor=\"middle\" x=\"567\" y=\"-68.45\" font-family=\"Times,serif\" font-size=\"14.00\">+</text>\n",
       "</g>\n",
       "<!-- 4803501360+&#45;&gt;4803501360 -->\n",
       "<g id=\"edge1\" class=\"edge\">\n",
       "<title>4803501360+&#45;&gt;4803501360</title>\n",
       "<path fill=\"none\" stroke=\"black\" d=\"M594.47,-73.5C601.87,-73.5 610.38,-73.5 619.43,-73.5\"/>\n",
       "<polygon fill=\"black\" stroke=\"black\" points=\"619.17,-77 629.17,-73.5 619.17,-70 619.17,-77\"/>\n",
       "</g>\n",
       "<!-- 4800679216 -->\n",
       "<g id=\"node5\" class=\"node\">\n",
       "<title>4800679216</title>\n",
       "<polygon fill=\"none\" stroke=\"black\" points=\"314.25,-28.5 314.25,-64.5 504,-64.5 504,-28.5 314.25,-28.5\"/>\n",
       "<text xml:space=\"preserve\" text-anchor=\"middle\" x=\"325.25\" y=\"-41.7\" font-family=\"Times,serif\" font-size=\"14.00\">c</text>\n",
       "<polyline fill=\"none\" stroke=\"black\" points=\"336.25,-29 336.25,-64.5\"/>\n",
       "<text xml:space=\"preserve\" text-anchor=\"middle\" x=\"379.5\" y=\"-41.7\" font-family=\"Times,serif\" font-size=\"14.00\">data 10.0000</text>\n",
       "<polyline fill=\"none\" stroke=\"black\" points=\"422.75,-29 422.75,-64.5\"/>\n",
       "<text xml:space=\"preserve\" text-anchor=\"middle\" x=\"463.38\" y=\"-41.7\" font-family=\"Times,serif\" font-size=\"14.00\">grad 0.0000</text>\n",
       "</g>\n",
       "<!-- 4800679216&#45;&gt;4803501360+ -->\n",
       "<g id=\"edge5\" class=\"edge\">\n",
       "<title>4800679216&#45;&gt;4803501360+</title>\n",
       "<path fill=\"none\" stroke=\"black\" d=\"M504.39,-62.83C513.16,-64.35 521.65,-65.82 529.37,-67.15\"/>\n",
       "<polygon fill=\"black\" stroke=\"black\" points=\"528.5,-70.56 538.95,-68.81 529.69,-63.66 528.5,-70.56\"/>\n",
       "</g>\n",
       "<!-- 4803500880 -->\n",
       "<g id=\"node6\" class=\"node\">\n",
       "<title>4803500880</title>\n",
       "<polygon fill=\"none\" stroke=\"black\" points=\"315.38,-83.5 315.38,-119.5 502.88,-119.5 502.88,-83.5 315.38,-83.5\"/>\n",
       "<text xml:space=\"preserve\" text-anchor=\"middle\" x=\"326.38\" y=\"-96.7\" font-family=\"Times,serif\" font-size=\"14.00\">e</text>\n",
       "<polyline fill=\"none\" stroke=\"black\" points=\"337.38,-84 337.38,-119.5\"/>\n",
       "<text xml:space=\"preserve\" text-anchor=\"middle\" x=\"379.5\" y=\"-96.7\" font-family=\"Times,serif\" font-size=\"14.00\">data &#45;6.0000</text>\n",
       "<polyline fill=\"none\" stroke=\"black\" points=\"421.62,-84 421.62,-119.5\"/>\n",
       "<text xml:space=\"preserve\" text-anchor=\"middle\" x=\"462.25\" y=\"-96.7\" font-family=\"Times,serif\" font-size=\"14.00\">grad 0.0000</text>\n",
       "</g>\n",
       "<!-- 4803500880&#45;&gt;4803501360+ -->\n",
       "<g id=\"edge4\" class=\"edge\">\n",
       "<title>4803500880&#45;&gt;4803501360+</title>\n",
       "<path fill=\"none\" stroke=\"black\" d=\"M503.05,-84.81C512.25,-83.16 521.16,-81.56 529.24,-80.1\"/>\n",
       "<polygon fill=\"black\" stroke=\"black\" points=\"529.71,-83.58 538.93,-78.36 528.47,-76.69 529.71,-83.58\"/>\n",
       "</g>\n",
       "<!-- 4803500880*&#45;&gt;4803500880 -->\n",
       "<g id=\"edge2\" class=\"edge\">\n",
       "<title>4803500880*&#45;&gt;4803500880</title>\n",
       "<path fill=\"none\" stroke=\"black\" d=\"M278.69,-101.5C286.1,-101.5 294.64,-101.5 303.71,-101.5\"/>\n",
       "<polygon fill=\"black\" stroke=\"black\" points=\"303.51,-105 313.51,-101.5 303.51,-98 303.51,-105\"/>\n",
       "</g>\n",
       "<!-- 4800677248 -->\n",
       "<g id=\"node8\" class=\"node\">\n",
       "<title>4800677248</title>\n",
       "<polygon fill=\"none\" stroke=\"black\" points=\"0,-56.5 0,-92.5 188.25,-92.5 188.25,-56.5 0,-56.5\"/>\n",
       "<text xml:space=\"preserve\" text-anchor=\"middle\" x=\"11.38\" y=\"-69.7\" font-family=\"Times,serif\" font-size=\"14.00\">b</text>\n",
       "<polyline fill=\"none\" stroke=\"black\" points=\"22.75,-57 22.75,-92.5\"/>\n",
       "<text xml:space=\"preserve\" text-anchor=\"middle\" x=\"64.88\" y=\"-69.7\" font-family=\"Times,serif\" font-size=\"14.00\">data &#45;3.0000</text>\n",
       "<polyline fill=\"none\" stroke=\"black\" points=\"107,-57 107,-92.5\"/>\n",
       "<text xml:space=\"preserve\" text-anchor=\"middle\" x=\"147.62\" y=\"-69.7\" font-family=\"Times,serif\" font-size=\"14.00\">grad 0.0000</text>\n",
       "</g>\n",
       "<!-- 4800677248&#45;&gt;4803500880* -->\n",
       "<g id=\"edge8\" class=\"edge\">\n",
       "<title>4800677248&#45;&gt;4803500880*</title>\n",
       "<path fill=\"none\" stroke=\"black\" d=\"M188.49,-90.75C197.27,-92.28 205.77,-93.76 213.51,-95.1\"/>\n",
       "<polygon fill=\"black\" stroke=\"black\" points=\"212.66,-98.51 223.11,-96.78 213.86,-91.61 212.66,-98.51\"/>\n",
       "</g>\n",
       "<!-- 4800121296 -->\n",
       "<g id=\"node9\" class=\"node\">\n",
       "<title>4800121296</title>\n",
       "<polygon fill=\"none\" stroke=\"black\" points=\"942,-27.5 942,-63.5 1131.75,-63.5 1131.75,-27.5 942,-27.5\"/>\n",
       "<text xml:space=\"preserve\" text-anchor=\"middle\" x=\"954.12\" y=\"-40.7\" font-family=\"Times,serif\" font-size=\"14.00\">L</text>\n",
       "<polyline fill=\"none\" stroke=\"black\" points=\"966.25,-28 966.25,-63.5\"/>\n",
       "<text xml:space=\"preserve\" text-anchor=\"middle\" x=\"1008.38\" y=\"-40.7\" font-family=\"Times,serif\" font-size=\"14.00\">data &#45;8.0000</text>\n",
       "<polyline fill=\"none\" stroke=\"black\" points=\"1050.5,-28 1050.5,-63.5\"/>\n",
       "<text xml:space=\"preserve\" text-anchor=\"middle\" x=\"1091.12\" y=\"-40.7\" font-family=\"Times,serif\" font-size=\"14.00\">grad 0.0000</text>\n",
       "</g>\n",
       "<!-- 4800121296*&#45;&gt;4800121296 -->\n",
       "<g id=\"edge3\" class=\"edge\">\n",
       "<title>4800121296*&#45;&gt;4800121296</title>\n",
       "<path fill=\"none\" stroke=\"black\" d=\"M906.44,-45.5C913.59,-45.5 921.78,-45.5 930.49,-45.5\"/>\n",
       "<polygon fill=\"black\" stroke=\"black\" points=\"930.26,-49 940.26,-45.5 930.26,-42 930.26,-49\"/>\n",
       "</g>\n",
       "</g>\n",
       "</svg>\n"
      ],
      "text/plain": [
       "<graphviz.graphs.Digraph at 0x108b59790>"
      ]
     },
     "execution_count": 47,
     "metadata": {},
     "output_type": "execute_result"
    }
   ],
   "source": [
    "draw_dot(L)"
   ]
  },
  {
   "cell_type": "code",
   "execution_count": 48,
   "id": "9d064d74",
   "metadata": {},
   "outputs": [
    {
     "data": {
      "image/svg+xml": [
       "<?xml version=\"1.0\" encoding=\"UTF-8\" standalone=\"no\"?>\n",
       "<!DOCTYPE svg PUBLIC \"-//W3C//DTD SVG 1.1//EN\"\n",
       " \"http://www.w3.org/Graphics/SVG/1.1/DTD/svg11.dtd\">\n",
       "<!-- Generated by graphviz version 13.1.1 (20250719.2154)\n",
       " -->\n",
       "<!-- Pages: 1 -->\n",
       "<svg width=\"1135pt\" height=\"156pt\"\n",
       " viewBox=\"0.00 0.00 1135.00 156.00\" xmlns=\"http://www.w3.org/2000/svg\" xmlns:xlink=\"http://www.w3.org/1999/xlink\">\n",
       "<g id=\"graph0\" class=\"graph\" transform=\"scale(1 1) rotate(0) translate(4 152)\">\n",
       "<polygon fill=\"white\" stroke=\"none\" points=\"-4,4 -4,-152 1131.25,-152 1131.25,4 -4,4\"/>\n",
       "<!-- 4800678928 -->\n",
       "<g id=\"node1\" class=\"node\">\n",
       "<title>4800678928</title>\n",
       "<polygon fill=\"none\" stroke=\"black\" points=\"2.62,-111.5 2.62,-147.5 185.62,-147.5 185.62,-111.5 2.62,-111.5\"/>\n",
       "<text xml:space=\"preserve\" text-anchor=\"middle\" x=\"13.62\" y=\"-124.7\" font-family=\"Times,serif\" font-size=\"14.00\">a</text>\n",
       "<polyline fill=\"none\" stroke=\"black\" points=\"24.62,-112 24.62,-147.5\"/>\n",
       "<text xml:space=\"preserve\" text-anchor=\"middle\" x=\"64.5\" y=\"-124.7\" font-family=\"Times,serif\" font-size=\"14.00\">data 2.0000</text>\n",
       "<polyline fill=\"none\" stroke=\"black\" points=\"104.38,-112 104.38,-147.5\"/>\n",
       "<text xml:space=\"preserve\" text-anchor=\"middle\" x=\"145\" y=\"-124.7\" font-family=\"Times,serif\" font-size=\"14.00\">grad 0.0000</text>\n",
       "</g>\n",
       "<!-- 4800634992* -->\n",
       "<g id=\"node5\" class=\"node\">\n",
       "<title>4800634992*</title>\n",
       "<ellipse fill=\"none\" stroke=\"black\" cx=\"251.25\" cy=\"-101.5\" rx=\"27\" ry=\"18\"/>\n",
       "<text xml:space=\"preserve\" text-anchor=\"middle\" x=\"251.25\" y=\"-96.45\" font-family=\"Times,serif\" font-size=\"14.00\">*</text>\n",
       "</g>\n",
       "<!-- 4800678928&#45;&gt;4800634992* -->\n",
       "<g id=\"edge9\" class=\"edge\">\n",
       "<title>4800678928&#45;&gt;4800634992*</title>\n",
       "<path fill=\"none\" stroke=\"black\" d=\"M185.81,-113.13C195.66,-111.35 205.21,-109.63 213.82,-108.08\"/>\n",
       "<polygon fill=\"black\" stroke=\"black\" points=\"214.19,-111.57 223.41,-106.34 212.95,-104.68 214.19,-111.57\"/>\n",
       "</g>\n",
       "<!-- 4800590944 -->\n",
       "<g id=\"node2\" class=\"node\">\n",
       "<title>4800590944</title>\n",
       "<polygon fill=\"none\" stroke=\"black\" points=\"632.62,-55.5 632.62,-91.5 813.38,-91.5 813.38,-55.5 632.62,-55.5\"/>\n",
       "<text xml:space=\"preserve\" text-anchor=\"middle\" x=\"642.5\" y=\"-68.7\" font-family=\"Times,serif\" font-size=\"14.00\"> </text>\n",
       "<polyline fill=\"none\" stroke=\"black\" points=\"652.38,-56 652.38,-91.5\"/>\n",
       "<text xml:space=\"preserve\" text-anchor=\"middle\" x=\"692.25\" y=\"-68.7\" font-family=\"Times,serif\" font-size=\"14.00\">data 4.0000</text>\n",
       "<polyline fill=\"none\" stroke=\"black\" points=\"732.12,-56 732.12,-91.5\"/>\n",
       "<text xml:space=\"preserve\" text-anchor=\"middle\" x=\"772.75\" y=\"-68.7\" font-family=\"Times,serif\" font-size=\"14.00\">grad 0.0000</text>\n",
       "</g>\n",
       "<!-- 4441070320* -->\n",
       "<g id=\"node8\" class=\"node\">\n",
       "<title>4441070320*</title>\n",
       "<ellipse fill=\"none\" stroke=\"black\" cx=\"879\" cy=\"-45.5\" rx=\"27\" ry=\"18\"/>\n",
       "<text xml:space=\"preserve\" text-anchor=\"middle\" x=\"879\" y=\"-40.45\" font-family=\"Times,serif\" font-size=\"14.00\">*</text>\n",
       "</g>\n",
       "<!-- 4800590944&#45;&gt;4441070320* -->\n",
       "<g id=\"edge7\" class=\"edge\">\n",
       "<title>4800590944&#45;&gt;4441070320*</title>\n",
       "<path fill=\"none\" stroke=\"black\" d=\"M813.58,-57.21C823.41,-55.43 832.95,-53.69 841.55,-52.13\"/>\n",
       "<polygon fill=\"black\" stroke=\"black\" points=\"841.93,-55.62 851.15,-50.38 840.68,-48.73 841.93,-55.62\"/>\n",
       "</g>\n",
       "<!-- 4800590944+ -->\n",
       "<g id=\"node3\" class=\"node\">\n",
       "<title>4800590944+</title>\n",
       "<ellipse fill=\"none\" stroke=\"black\" cx=\"567\" cy=\"-73.5\" rx=\"27\" ry=\"18\"/>\n",
       "<text xml:space=\"preserve\" text-anchor=\"middle\" x=\"567\" y=\"-68.45\" font-family=\"Times,serif\" font-size=\"14.00\">+</text>\n",
       "</g>\n",
       "<!-- 4800590944+&#45;&gt;4800590944 -->\n",
       "<g id=\"edge1\" class=\"edge\">\n",
       "<title>4800590944+&#45;&gt;4800590944</title>\n",
       "<path fill=\"none\" stroke=\"black\" d=\"M594.47,-73.5C602.26,-73.5 611.28,-73.5 620.86,-73.5\"/>\n",
       "<polygon fill=\"black\" stroke=\"black\" points=\"620.8,-77 630.8,-73.5 620.8,-70 620.8,-77\"/>\n",
       "</g>\n",
       "<!-- 4800634992 -->\n",
       "<g id=\"node4\" class=\"node\">\n",
       "<title>4800634992</title>\n",
       "<polygon fill=\"none\" stroke=\"black\" points=\"316.5,-83.5 316.5,-119.5 501.75,-119.5 501.75,-83.5 316.5,-83.5\"/>\n",
       "<text xml:space=\"preserve\" text-anchor=\"middle\" x=\"326.38\" y=\"-96.7\" font-family=\"Times,serif\" font-size=\"14.00\"> </text>\n",
       "<polyline fill=\"none\" stroke=\"black\" points=\"336.25,-84 336.25,-119.5\"/>\n",
       "<text xml:space=\"preserve\" text-anchor=\"middle\" x=\"378.38\" y=\"-96.7\" font-family=\"Times,serif\" font-size=\"14.00\">data &#45;6.0000</text>\n",
       "<polyline fill=\"none\" stroke=\"black\" points=\"420.5,-84 420.5,-119.5\"/>\n",
       "<text xml:space=\"preserve\" text-anchor=\"middle\" x=\"461.12\" y=\"-96.7\" font-family=\"Times,serif\" font-size=\"14.00\">grad 0.0000</text>\n",
       "</g>\n",
       "<!-- 4800634992&#45;&gt;4800590944+ -->\n",
       "<g id=\"edge5\" class=\"edge\">\n",
       "<title>4800634992&#45;&gt;4800590944+</title>\n",
       "<path fill=\"none\" stroke=\"black\" d=\"M502.15,-84.97C511.74,-83.25 521.03,-81.58 529.42,-80.07\"/>\n",
       "<polygon fill=\"black\" stroke=\"black\" points=\"529.91,-83.54 539.13,-78.33 528.67,-76.65 529.91,-83.54\"/>\n",
       "</g>\n",
       "<!-- 4800634992*&#45;&gt;4800634992 -->\n",
       "<g id=\"edge2\" class=\"edge\">\n",
       "<title>4800634992*&#45;&gt;4800634992</title>\n",
       "<path fill=\"none\" stroke=\"black\" d=\"M278.69,-101.5C286.37,-101.5 295.26,-101.5 304.7,-101.5\"/>\n",
       "<polygon fill=\"black\" stroke=\"black\" points=\"304.5,-105 314.5,-101.5 304.5,-98 304.5,-105\"/>\n",
       "</g>\n",
       "<!-- 4803498096 -->\n",
       "<g id=\"node6\" class=\"node\">\n",
       "<title>4803498096</title>\n",
       "<polygon fill=\"none\" stroke=\"black\" points=\"630,-0.5 630,-36.5 816,-36.5 816,-0.5 630,-0.5\"/>\n",
       "<text xml:space=\"preserve\" text-anchor=\"middle\" x=\"640.25\" y=\"-13.7\" font-family=\"Times,serif\" font-size=\"14.00\">f</text>\n",
       "<polyline fill=\"none\" stroke=\"black\" points=\"650.5,-1 650.5,-36.5\"/>\n",
       "<text xml:space=\"preserve\" text-anchor=\"middle\" x=\"692.62\" y=\"-13.7\" font-family=\"Times,serif\" font-size=\"14.00\">data &#45;2.0000</text>\n",
       "<polyline fill=\"none\" stroke=\"black\" points=\"734.75,-1 734.75,-36.5\"/>\n",
       "<text xml:space=\"preserve\" text-anchor=\"middle\" x=\"775.38\" y=\"-13.7\" font-family=\"Times,serif\" font-size=\"14.00\">grad 0.0000</text>\n",
       "</g>\n",
       "<!-- 4803498096&#45;&gt;4441070320* -->\n",
       "<g id=\"edge4\" class=\"edge\">\n",
       "<title>4803498096&#45;&gt;4441070320*</title>\n",
       "<path fill=\"none\" stroke=\"black\" d=\"M816.25,-34.67C825.01,-36.21 833.5,-37.7 841.24,-39.05\"/>\n",
       "<polygon fill=\"black\" stroke=\"black\" points=\"840.39,-42.46 850.84,-40.74 841.6,-35.56 840.39,-42.46\"/>\n",
       "</g>\n",
       "<!-- 4441070320 -->\n",
       "<g id=\"node7\" class=\"node\">\n",
       "<title>4441070320</title>\n",
       "<polygon fill=\"none\" stroke=\"black\" points=\"942,-27.5 942,-63.5 1127.25,-63.5 1127.25,-27.5 942,-27.5\"/>\n",
       "<text xml:space=\"preserve\" text-anchor=\"middle\" x=\"951.88\" y=\"-40.7\" font-family=\"Times,serif\" font-size=\"14.00\"> </text>\n",
       "<polyline fill=\"none\" stroke=\"black\" points=\"961.75,-28 961.75,-63.5\"/>\n",
       "<text xml:space=\"preserve\" text-anchor=\"middle\" x=\"1003.88\" y=\"-40.7\" font-family=\"Times,serif\" font-size=\"14.00\">data &#45;8.0000</text>\n",
       "<polyline fill=\"none\" stroke=\"black\" points=\"1046,-28 1046,-63.5\"/>\n",
       "<text xml:space=\"preserve\" text-anchor=\"middle\" x=\"1086.62\" y=\"-40.7\" font-family=\"Times,serif\" font-size=\"14.00\">grad 0.0000</text>\n",
       "</g>\n",
       "<!-- 4441070320*&#45;&gt;4441070320 -->\n",
       "<g id=\"edge3\" class=\"edge\">\n",
       "<title>4441070320*&#45;&gt;4441070320</title>\n",
       "<path fill=\"none\" stroke=\"black\" d=\"M906.41,-45.5C913.45,-45.5 921.5,-45.5 930.05,-45.5\"/>\n",
       "<polygon fill=\"black\" stroke=\"black\" points=\"930.04,-49 940.04,-45.5 930.04,-42 930.04,-49\"/>\n",
       "</g>\n",
       "<!-- 4800679216 -->\n",
       "<g id=\"node9\" class=\"node\">\n",
       "<title>4800679216</title>\n",
       "<polygon fill=\"none\" stroke=\"black\" points=\"314.25,-28.5 314.25,-64.5 504,-64.5 504,-28.5 314.25,-28.5\"/>\n",
       "<text xml:space=\"preserve\" text-anchor=\"middle\" x=\"325.25\" y=\"-41.7\" font-family=\"Times,serif\" font-size=\"14.00\">c</text>\n",
       "<polyline fill=\"none\" stroke=\"black\" points=\"336.25,-29 336.25,-64.5\"/>\n",
       "<text xml:space=\"preserve\" text-anchor=\"middle\" x=\"379.5\" y=\"-41.7\" font-family=\"Times,serif\" font-size=\"14.00\">data 10.0000</text>\n",
       "<polyline fill=\"none\" stroke=\"black\" points=\"422.75,-29 422.75,-64.5\"/>\n",
       "<text xml:space=\"preserve\" text-anchor=\"middle\" x=\"463.38\" y=\"-41.7\" font-family=\"Times,serif\" font-size=\"14.00\">grad 0.0000</text>\n",
       "</g>\n",
       "<!-- 4800679216&#45;&gt;4800590944+ -->\n",
       "<g id=\"edge8\" class=\"edge\">\n",
       "<title>4800679216&#45;&gt;4800590944+</title>\n",
       "<path fill=\"none\" stroke=\"black\" d=\"M504.39,-62.83C513.16,-64.35 521.65,-65.82 529.37,-67.15\"/>\n",
       "<polygon fill=\"black\" stroke=\"black\" points=\"528.5,-70.56 538.95,-68.81 529.69,-63.66 528.5,-70.56\"/>\n",
       "</g>\n",
       "<!-- 4800677248 -->\n",
       "<g id=\"node10\" class=\"node\">\n",
       "<title>4800677248</title>\n",
       "<polygon fill=\"none\" stroke=\"black\" points=\"0,-56.5 0,-92.5 188.25,-92.5 188.25,-56.5 0,-56.5\"/>\n",
       "<text xml:space=\"preserve\" text-anchor=\"middle\" x=\"11.38\" y=\"-69.7\" font-family=\"Times,serif\" font-size=\"14.00\">b</text>\n",
       "<polyline fill=\"none\" stroke=\"black\" points=\"22.75,-57 22.75,-92.5\"/>\n",
       "<text xml:space=\"preserve\" text-anchor=\"middle\" x=\"64.88\" y=\"-69.7\" font-family=\"Times,serif\" font-size=\"14.00\">data &#45;3.0000</text>\n",
       "<polyline fill=\"none\" stroke=\"black\" points=\"107,-57 107,-92.5\"/>\n",
       "<text xml:space=\"preserve\" text-anchor=\"middle\" x=\"147.62\" y=\"-69.7\" font-family=\"Times,serif\" font-size=\"14.00\">grad 0.0000</text>\n",
       "</g>\n",
       "<!-- 4800677248&#45;&gt;4800634992* -->\n",
       "<g id=\"edge6\" class=\"edge\">\n",
       "<title>4800677248&#45;&gt;4800634992*</title>\n",
       "<path fill=\"none\" stroke=\"black\" d=\"M188.49,-90.75C197.27,-92.28 205.77,-93.76 213.51,-95.1\"/>\n",
       "<polygon fill=\"black\" stroke=\"black\" points=\"212.66,-98.51 223.11,-96.78 213.86,-91.61 212.66,-98.51\"/>\n",
       "</g>\n",
       "</g>\n",
       "</svg>\n"
      ],
      "text/plain": [
       "<graphviz.graphs.Digraph at 0x11e233130>"
      ]
     },
     "execution_count": 48,
     "metadata": {},
     "output_type": "execute_result"
    }
   ],
   "source": [
    "a.data += 0.01 * a.grad# updating the data of a by adding the product of its gradient and a small step size\n",
    "b.data += 0.01 * b.grad# updating the data of b by adding the product of its gradient and a small step size\n",
    "c.data += 0.01 * c.grad# updating the data of c by adding the product of its gradient and a small step size\n",
    "f.data += 0.01 * f.grad# updating the data of f by adding the product of its gradient and a small step size\n",
    "\n",
    "e = a * b# re-evaluating e after updating a and b\n",
    "d = e + c\n",
    "L = d * f# re-evaluating L after updating d and f\n",
    "\n",
    "draw_dot(L)"
   ]
  },
  {
   "cell_type": "code",
   "execution_count": 49,
   "id": "8298315c",
   "metadata": {},
   "outputs": [
    {
     "name": "stdout",
     "output_type": "stream",
     "text": [
      "-8.0\n"
     ]
    }
   ],
   "source": [
    "a.data += 0.01 * a.grad\n",
    "b.data += 0.01 * b.grad\n",
    "c.data += 0.01 * c.grad\n",
    "f.data += 0.01 * f.grad\n",
    "\n",
    "e = a * b\n",
    "d = e + c\n",
    "L = d * f\n",
    "\n",
    "print(L.data)"
   ]
  },
  {
   "cell_type": "code",
   "execution_count": 50,
   "id": "ba8d38a7",
   "metadata": {},
   "outputs": [
    {
     "name": "stdout",
     "output_type": "stream",
     "text": [
      "-3.9999999999995595\n"
     ]
    }
   ],
   "source": [
    "def lol():\n",
    "\n",
    "  h = 0.001\n",
    "\n",
    "  a = Value(2.0, label='a')\n",
    "  b = Value(-3.0, label='b')\n",
    "  c = Value(10.0, label='c')\n",
    "  e = a*b\n",
    "  e.label = 'e'\n",
    "  d = e + c\n",
    "  d.label = 'd'\n",
    "  f = Value(-2.0, label='f')\n",
    "  L = d * f\n",
    "  L.label = 'L'\n",
    "  L1 = L.data\n",
    "\n",
    "  a = Value(2.0, label='a')\n",
    "  b = Value(-3.0, label='b')\n",
    "  b.data += h\n",
    "  c = Value(10.0, label='c')\n",
    "  e = a*b\n",
    "  e.label = 'e'\n",
    "  d = e + c\n",
    "  d.label = 'd'\n",
    "  f = Value(-2.0, label='f')\n",
    "  L = d * f\n",
    "  L.label = 'L'\n",
    "  L2 = L.data\n",
    "\n",
    "  print((L2 - L1)/h)\n",
    "\n",
    "\n",
    "lol()"
   ]
  },
  {
   "cell_type": "code",
   "execution_count": 55,
   "id": "891b9bb8",
   "metadata": {},
   "outputs": [
    {
     "data": {
      "image/png": "[encoded data removed]",
      "text/plain": [
       "<Figure size 640x480 with 1 Axes>"
      ]
     },
     "metadata": {},
     "output_type": "display_data"
    }
   ],
   "source": [
    "plt.plot(np.arange(-5, 5, 0.2), np.tanh(np.arange(-5, 5, 0.2)))\n",
    "plt.grid()"
   ]
  },
  {
   "cell_type": "code",
   "execution_count": null,
   "id": "5520cf7c",
   "metadata": {},
   "outputs": [],
   "source": []
  }
 ],
 "metadata": {
  "kernelspec": {
   "display_name": "env",
   "language": "python",
   "name": "python3"
  },
  "language_info": {
   "codemirror_mode": {
    "name": "ipython",
    "version": 3
   },
   "file_extension": ".py",
   "mimetype": "text/x-python",
   "name": "python",
   "nbconvert_exporter": "python",
   "pygments_lexer": "ipython3",
   "version": "3.8.19"
  }
 },
 "nbformat": 4,
 "nbformat_minor": 5
}
