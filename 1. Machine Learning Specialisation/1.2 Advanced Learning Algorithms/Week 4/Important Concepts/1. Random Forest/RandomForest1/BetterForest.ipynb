{
 "cells": [
  {
   "cell_type": "markdown",
   "metadata": {},
   "source": [
    "# Improved Random Forest Model"
   ]
  },
  {
   "cell_type": "markdown",
   "metadata": {},
   "source": [
    "### Three Approaches to Making a Better ML Model\n",
    "\n",
    "1. More high-quality data.\n",
    "2. Hyperparameter tuning of algorithm.\n",
    "3. Trying different algorithm."
   ]
  },
  {
   "cell_type": "markdown",
   "metadata": {},
   "source": [
    "## Starting from Previous Model"
   ]
  },
  {
   "cell_type": "code",
   "execution_count": null,
   "metadata": {},
   "outputs": [],
   "source": []
  }
 ],
 "metadata": {
  "language_info": {
   "name": "python"
  }
 },
 "nbformat": 4,
 "nbformat_minor": 2
}
