{
 "cells": [
  {
   "cell_type": "markdown",
   "metadata": {},
   "source": [
    "# Solving SAT Through Python Libraries"
   ]
  },
  {
   "cell_type": "markdown",
   "metadata": {},
   "source": [
    "## Things We Are Going To Implement\n",
    "\n",
    "1. Graph 3-coloring\n",
    "   - Brute-force method\n",
    "   - Backtracking (using recursion)\n",
    "   - SAT solvers\n",
    "2. Graph $k$-coloring (Exercise)\n",
    "3. Hamiltonian Path\n",
    "   - SAT solvers\n",
    "   - Backtracking (Exercise)\n",
    "4. Sudoku Solver (Exercise)"
   ]
  },
  {
   "cell_type": "code",
   "execution_count": 1,
   "metadata": {},
   "outputs": [],
   "source": [
    "import pycosat as sat\n",
    "import networkx as nx\n",
    "from random import random\n",
    "from itertools import product, combinations"
   ]
  },
  {
   "cell_type": "markdown",
   "metadata": {},
   "source": [
    "## Graph 3-Colouring\n",
    "\n",
    "### Creating some test graphs\n",
    "1. $G_1$: An odd-cycle\n",
    "2. $G_2$: Peterson Graph\n",
    "3. $G_3$: A random tripartite graph\n",
    "4. $G_4$: Adding a few intra-part edges to $G_3$ \n",
    "\n",
    "The first 3 are YES instances for 3-coloring, while the 4th is most likely a NO instance\n"
   ]
  },
  {
   "cell_type": "code",
   "execution_count": 2,
   "metadata": {},
   "outputs": [],
   "source": [
    "G1 = nx.cycle_graph(11)"
   ]
  },
  {
   "cell_type": "code",
   "execution_count": 3,
   "metadata": {},
   "outputs": [],
   "source": [
    "G2 = nx.petersen_graph()"
   ]
  },
  {
   "cell_type": "code",
   "execution_count": 10,
   "metadata": {},
   "outputs": [
    {
     "data": {
      "text/plain": [
       "(100, 648)"
      ]
     },
     "execution_count": 10,
     "metadata": {},
     "output_type": "execute_result"
    }
   ],
   "source": [
    "# Generate a random 3-colorable graph\n",
    "n = 100\n",
    "p = 0.2\n",
    "\n",
    "G3 = nx.empty_graph()\n",
    "\n",
    "for u, v in combinations(range(n), 2):\n",
    "    if (u - v) % 3 != 0 and random() < p:\n",
    "        G3.add_edge(u, v)\n",
    "\n",
    "G3.number_of_nodes(), G3.number_of_edges()"
   ]
  },
  {
   "cell_type": "code",
   "execution_count": 11,
   "metadata": {},
   "outputs": [
    {
     "data": {
      "text/plain": [
       "(100, 649)"
      ]
     },
     "execution_count": 11,
     "metadata": {},
     "output_type": "execute_result"
    }
   ],
   "source": [
    "p_in = 0.001\n",
    "\n",
    "G4 = G3.copy()\n",
    "\n",
    "for u, v in combinations(range(n), 2):\n",
    "    if (u - v) % 3 == 0 and random() < p_in:\n",
    "        G4.add_edge(u, v)\n",
    "\n",
    "G4.number_of_nodes(), G4.number_of_edges()"
   ]
  },
  {
   "cell_type": "markdown",
   "metadata": {},
   "source": [
    "### Helper Functions"
   ]
  },
  {
   "cell_type": "code",
   "execution_count": 12,
   "metadata": {},
   "outputs": [],
   "source": [
    "# A function to check if a given coloring is proper\n",
    "\n",
    "def is_proper(G, col_dict):\n",
    "    # Function to check if a given coloring is proper\n",
    "    if G.number_of_nodes() != len(col_dict):\n",
    "        return False\n",
    "\n",
    "    for u, v in G.edges():\n",
    "        if col_dict[u] == col_dict[v]:\n",
    "            return False\n",
    "    return True"
   ]
  },
  {
   "cell_type": "code",
   "execution_count": null,
   "metadata": {},
   "outputs": [],
   "source": [
    "# A function to draw a graph in circular layout with nodes grouped by colors\n",
    "def draw_color(G, col_dict):\n",
    "    nodes_by_color = sorted(col_dict, key=col_dict.get)\n",
    "    C = nx.cycle_graph(nodes_by_color)\n",
    "    pos = nx.circular_layout(C)\n",
    "    col_list = [col_dict[node] for node in G.nodes()]\n",
    "    nx.draw_networkx(G, pos=pos, node_color=col_list,\n",
    "                     with_labels=False, node_size=3000/G.number_of_nodes())"
   ]
  },
  {
   "cell_type": "code",
   "execution_count": null,
   "metadata": {},
   "outputs": [],
   "source": []
  }
 ],
 "metadata": {
  "kernelspec": {
   "display_name": "Python 3",
   "language": "python",
   "name": "python3"
  },
  "language_info": {
   "codemirror_mode": {
    "name": "ipython",
    "version": 3
   },
   "file_extension": ".py",
   "mimetype": "text/x-python",
   "name": "python",
   "nbconvert_exporter": "python",
   "pygments_lexer": "ipython3",
   "version": "3.8.19"
  }
 },
 "nbformat": 4,
 "nbformat_minor": 2
}
