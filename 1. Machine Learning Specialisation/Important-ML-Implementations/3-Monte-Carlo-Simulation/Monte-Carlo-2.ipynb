{
 "cells": [
  {
   "cell_type": "markdown",
   "metadata": {},
   "source": [
    "# Monte Carlo Integration"
   ]
  },
  {
   "cell_type": "markdown",
   "metadata": {},
   "source": [
    "Monte Carlo integration is a statistical technique used to approximate the value of a definite integral. It's especially useful for high-dimensional integrals or problems where the region of integration is complex. \n",
    "\n",
    "### What is Monte Carlo Integration?\n",
    "\n",
    "Monte Carlo integration uses random sampling to estimate the value of an integral. The basic idea is to evaluate the function at random points and use the average of these evaluations to estimate the integral.\n",
    "\n",
    "### Basic Concept\n",
    "\n",
    "Suppose we want to estimate the integral of a function $( f(x))$ over the interval $([a, b])$:\n",
    "\n",
    "$[ I = \\int_a^b f(x) \\, dx ]$\n",
    "\n",
    "\n",
    "### Steps to Perform Monte Carlo Integration\n",
    "\n",
    "1. **Generate Random Points**:\n",
    "   - Generate $( N )$ random points $( x_1, x_2, \\ldots, x_N )$ uniformly distributed over the interval $([a, b])$.\n",
    "\n",
    "2. **Evaluate the Function**:\n",
    "   - Compute the function values at these random points: $( f(x_1), f(x_2), \\ldots, f(x_N) )$.\n",
    "\n",
    "3. **Compute the Average**:\n",
    "   - Calculate the average of these function values:\n",
    "     $[\n",
    "     \\bar{f} = \\frac{1}{N} \\sum_{i=1}^N f(x_i)\n",
    "     ]$\n",
    "\n",
    "4. **Estimate the Integral**:\n",
    "   - The integral can be estimated by multiplying the average value by the length of the interval:\n",
    "     $[\n",
    "     I \\approx (b - a) \\bar{f}\n",
    "     ]$\n",
    "\n",
    "### Example\n",
    "\n",
    "Let's consider an example to make it clearer. Suppose we want to estimate the integral of $( f(x) = x^2 )$ over the interval ([0, 1])$.\n",
    "\n",
    "1. **Generate Random Points**:\n",
    "   - Let's say we generate 5 random points: $( x_1 = 0.1, x_2 = 0.4, x_3 = 0.6, x_4 = 0.8, x_5 = 0.9 )$.\n",
    "\n",
    "2. **Evaluate the Function**:\n",
    "   - Evaluate $( f(x) = x^2 )$ at these points: $( f(0.1) = 0.01, f(0.4) = 0.16, f(0.6) = 0.36, f(0.8) = 0.64, f(0.9) = 0.81 )$.\n",
    "\n",
    "3. **Compute the Average**:\n",
    "   - The average of these values is:\n",
    "     $[\n",
    "     \\bar{f} = \\frac{1}{5} (0.01 + 0.16 + 0.36 + 0.64 + 0.81) = \\frac{1}{5} \\times 1.98 = 0.396\n",
    "     ]$\n",
    "\n",
    "4. **Estimate the Integral**:\n",
    "   - The estimated integral is:\n",
    "     $[\n",
    "     I \\approx (1 - 0) \\times 0.396 = 0.396\n",
    "     ]$\n",
    "\n",
    "The actual integral of $( x^2 )$ from 0 to 1 is $(\\frac{1}{3} \\approx 0.333)$, so our estimate is fairly close given the small sample size.\n",
    "\n",
    "### Advantages and Disadvantages\n",
    "\n",
    "**Advantages**:\n",
    "- Easy to implement.\n",
    "- Works well for high-dimensional integrals.\n",
    "- Can handle complex regions of integration.\n",
    "\n",
    "**Disadvantages**:\n",
    "- Can be less accurate than other numerical integration methods for low-dimensional problems.\n",
    "- Requires a large number of samples to achieve high accuracy.\n",
    "\n",
    "### Practical Considerations\n",
    "\n",
    "- **Number of Samples**: The accuracy of the Monte Carlo integration improves with the number of samples. More samples generally lead to a better estimate but also increase computational cost.\n",
    "- **Variance Reduction Techniques**: Techniques like importance sampling and stratified sampling can be used to reduce variance and improve accuracy.\n"
   ]
  },
  {
   "cell_type": "markdown",
   "metadata": {},
   "source": [
    "## Monte Carlo Example"
   ]
  },
  {
   "cell_type": "code",
   "execution_count": 2,
   "metadata": {},
   "outputs": [],
   "source": [
    "%matplotlib inline\n",
    "import random\n",
    "import numpy as np\n",
    "import matplotlib.pyplot as plt\n",
    "\n"
   ]
  },
  {
   "cell_type": "markdown",
   "metadata": {},
   "source": [
    "### Things We Want To Establish for Monte Carlo Integration\n",
    "\n",
    "- Function to Integrate\n",
    "- Limits\n",
    "- Random Number Generator\n",
    "- Loop through monte carlo equation"
   ]
  },
  {
   "cell_type": "code",
   "execution_count": null,
   "metadata": {},
   "outputs": [],
   "source": [
    "a = 0\n",
    "b = np.pi # limits of integration\n",
    "N = 1000\n",
    "xrand = np.zeros(N)"
   ]
  }
 ],
 "metadata": {
  "kernelspec": {
   "display_name": "Python 3",
   "language": "python",
   "name": "python3"
  },
  "language_info": {
   "codemirror_mode": {
    "name": "ipython",
    "version": 3
   },
   "file_extension": ".py",
   "mimetype": "text/x-python",
   "name": "python",
   "nbconvert_exporter": "python",
   "pygments_lexer": "ipython3",
   "version": "3.8.19"
  }
 },
 "nbformat": 4,
 "nbformat_minor": 2
}
