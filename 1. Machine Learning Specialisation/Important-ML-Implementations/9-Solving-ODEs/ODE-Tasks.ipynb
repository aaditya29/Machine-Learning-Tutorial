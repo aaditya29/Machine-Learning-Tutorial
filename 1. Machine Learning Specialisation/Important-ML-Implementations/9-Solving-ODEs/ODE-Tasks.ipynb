{
 "cells": [
  {
   "cell_type": "markdown",
   "metadata": {},
   "source": [
    "# Implementing RK1, RK2 and RK4 ODE Solvers"
   ]
  },
  {
   "cell_type": "markdown",
   "metadata": {},
   "source": [
    "## Numerically Solving Higher Order Ordinary Differential Equations\n",
    "\n",
    "A first order Ordinary Differential Equation (ODE) can be written in the form\n",
    "$$\\frac{dy(t)}{dt} = f(y(t), t)$$\n",
    "Here, $y$ can be an $\\mathbb{R}$-valued or vector-valued function. If $y(t) = (y_1(t), \\ldots, y_k(t))$, then $\\frac{dy(t)}{dt} = (\\frac{dy_1(t)}{dt}, \\ldots, \\frac{dy_k(t)}{dt})$.\n",
    "\n",
    "Higher order ODEs can also be converted to a system of first order ODEs and then represented as a single ODE of a vector-valued function. "
   ]
  },
  {
   "cell_type": "markdown",
   "metadata": {},
   "source": [
    "### Initial Value Problem (IVP)\n",
    "\n",
    "An *Initial Value Problem* is an ODE together with the value of $y$ at some point $t_0$. The task then is to find a solution for $y$ in some interval $[a, b]$. (Usually $a = t_0$).\n",
    "\n",
    "A unique solution is guaranteed if $f$ satisfies certain continuity conditions. [Picard–Lindelöf theorem](https://en.wikipedia.org/wiki/Picard%E2%80%93Lindel%C3%B6f_theorem)."
   ]
  },
  {
   "cell_type": "markdown",
   "metadata": {},
   "source": [
    "### Numerical Solution\n",
    "\n",
    "Solving an IVP analytically (symbollically) can be hard or even impossible (?). But there are multiple ways to solve any IVP numerically. The `solve_ivp` function in `numpy.integrate` supports five such methods - RK23, RK45, DOP853, BDF, LSODA, with RK45 being the default."
   ]
  },
  {
   "cell_type": "markdown",
   "metadata": {},
   "source": [
    "#### Example 1. Simple harmonic oscillation\n",
    "\n",
    "\\begin{align*}\n",
    "    \\frac{d}{dt} y_1 = y_2 \\\\\n",
    "    \\frac{d}{dt} y_2 = -y_1\n",
    "\\end{align*}\n",
    "\n",
    "with initial conditions $y_1(0) = 0$ and $y_2(0) = 1$.\n",
    "\n",
    "Solve it in the interval $[0,10]$\n",
    "\n",
    "Note that this differential equation has an exact solution \n",
    "$$ y_1(t) = sin(t) $$\n",
    "which you can use to check the accuracy of your numerical solutions"
   ]
  },
  {
   "cell_type": "code",
   "execution_count": 1,
   "metadata": {},
   "outputs": [],
   "source": [
    "# Importing packages\n",
    "from scipy import integrate\n",
    "import matplotlib.pyplot as plt\n",
    "import numpy as np\n",
    "import math as math"
   ]
  },
  {
   "cell_type": "code",
   "execution_count": null,
   "metadata": {},
   "outputs": [],
   "source": []
  }
 ],
 "metadata": {
  "kernelspec": {
   "display_name": "Python 3",
   "language": "python",
   "name": "python3"
  },
  "language_info": {
   "codemirror_mode": {
    "name": "ipython",
    "version": 3
   },
   "file_extension": ".py",
   "mimetype": "text/x-python",
   "name": "python",
   "nbconvert_exporter": "python",
   "pygments_lexer": "ipython3",
   "version": "3.8.19"
  }
 },
 "nbformat": 4,
 "nbformat_minor": 2
}
