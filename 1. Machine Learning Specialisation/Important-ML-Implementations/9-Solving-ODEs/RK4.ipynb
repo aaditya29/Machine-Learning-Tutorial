{
 "cells": [
  {
   "cell_type": "markdown",
   "metadata": {},
   "source": [
    "# Fourth Order Runge Kutta Integrator"
   ]
  },
  {
   "cell_type": "markdown",
   "metadata": {},
   "source": [
    "The Fourth Order Runge Kutta (RK4) method is a numerical technique used to solve ordinary differential equations (ODEs). It provides a powerful and accurate way to approximate the solutions of ODEs. The RK4 method is widely used due to its balance between simplicity and accuracy. Here is a step-by-step explanation of the RK4 method:\n",
    "\n",
    "1. **Initial Setup**:\n",
    "    - Given an initial value problem of the form:\n",
    "      $[\n",
    "      \\frac{dy}{dt} = f(t, y), \\quad y(t_0) = y_0\n",
    "      ]$\n",
    "    - We want to find the value of $( y )$ at $( t = t_0 + h )$, where $( h )$ is the step size.\n",
    "\n",
    "2. **Compute the Slopes**:\n",
    "    - Calculate four intermediate slopes (k1, k2, k3, k4) using the following formulas:\n",
    "      $[\n",
    "      k_1 = h \\cdot f(t_n, y_n)\n",
    "      ]$\n",
    "      $[\n",
    "      k_2 = h \\cdot f\\left(t_n + \\frac{h}{2}, y_n + \\frac{k_1}{2}\\right)\n",
    "      ]$\n",
    "      $[\n",
    "      k_3 = h \\cdot f\\left(t_n + \\frac{h}{2}, y_n + \\frac{k_2}{2}\\right)\n",
    "      ]$\n",
    "      $[\n",
    "      k_4 = h \\cdot f(t_n + h, y_n + k_3)\n",
    "      ]$\n",
    "\n",
    "3. **Update the Solution**:\n",
    "    - Combine the slopes to get the next value of $( y )$:\n",
    "      $[\n",
    "      y_{n+1} = y_n + \\frac{1}{6}(k_1 + 2k_2 + 2k_3 + k_4)\n",
    "      ]$\n",
    "\n",
    "4. **Iterate**:\n",
    "    - Repeat the above steps for each time step to approximate the solution over the desired interval.\n",
    "\n",
    "The RK4 method uses a weighted average of slopes to estimate the next value of the solution. This approach provides a good balance between computational efficiency and accuracy, making it one of the most popular methods for solving ODEs numerically."
   ]
  },
  {
   "cell_type": "markdown",
   "metadata": {},
   "source": [
    "## Lorenz 1963 Order of Differential Equation\n",
    "\n",
    " * This function/model implements the Lorenz 1963 system of differential equations.\n",
    " * \n",
    " * The Lorenz 1963 system is a set of three coupled, first-order, nonlinear differential equations\n",
    " * originally developed by Edward Lorenz in 1963. It is a simplified mathematical model for atmospheric convection.\n",
    " * \n",
    " * The equations are:\n",
    " * \n",
    " * $dx/dt = σ * (y - x)$\n",
    " * $dy/dt = x * (ρ - z) - y$\n",
    " * $dz/dt = x * y - β * z$\n",
    " * \n",
    " * where:\n",
    " * - x, y, and z make up the system state.\n",
    " * - t represents time.\n",
    " * - σ (sigma) is the Prandtl number.\n",
    " * - ρ (rho) is the Rayleigh number.\n",
    " * - β (beta) is a geometric factor.\n",
    " * \n",
    " * The Lorenz system is notable for its chaotic solutions for certain parameter values and initial conditions.\n",
    " * It is often used as an example of how deterministic systems can exhibit unpredictable behavior.\n",
    " * \n",
    " * Parameters:\n",
    " * - sigma (σ): A positive real number, typically around 10.\n",
    " * - rho (ρ): A positive real number, typically around 28.\n",
    " * - beta (β): A positive real number, typically around 8/3.\n",
    " * - initial_state: A tuple or list of three floats representing the initial values of x, y, and z.\n",
    " * - t: A float representing the time variable.\n",
    " * \n",
    " * Returns:\n",
    " * - A tuple of three floats representing the derivatives (dx/dt, dy/dt, dz/dt) at time t.\n",
    " "
   ]
  },
  {
   "cell_type": "code",
   "execution_count": 3,
   "metadata": {},
   "outputs": [],
   "source": [
    "import numpy as np\n",
    "import matplotlib.pyplot as plt\n",
    "from scipy.integrate import solve_ivp"
   ]
  },
  {
   "cell_type": "code",
   "execution_count": 4,
   "metadata": {},
   "outputs": [],
   "source": [
    "# Lorenz Chaos Theory Parameters\n",
    "sigma = 10\n",
    "beta = 8/3\n",
    "rho = 28"
   ]
  },
  {
   "cell_type": "code",
   "execution_count": 5,
   "metadata": {},
   "outputs": [],
   "source": [
    "def rk4singlestep(fun, dt, t0, y0):\n",
    "    \"\"\"\n",
    "    This function does a single 4th-order Runge-Kutta step for ODE integration, where fun is the ODE, dt is the timestep, t0 is the current time, and y0 is the current initial condition. \n",
    "    \"\"\"\n",
    "    f1 = fun(t0, y0)#first slope of the RK4 method\n",
    "    f2 = fun(t0 + dt/2, y0 + (dt/2) * f1)\n",
    "    f3 = fun(t0 + dt/2, y0 + (dt/2)*f2)\n",
    "    f4 = fun(t0 + dt, y0 +dt*f3)\n",
    "    yout = y0 + (dt/6)*(f1 + 2*f2 + 2*f3 + f4)\n",
    "    return yout\n",
    "    \n",
    "    "
   ]
  },
  {
   "cell_type": "code",
   "execution_count": null,
   "metadata": {},
   "outputs": [],
   "source": []
  }
 ],
 "metadata": {
  "kernelspec": {
   "display_name": "Python 3",
   "language": "python",
   "name": "python3"
  },
  "language_info": {
   "codemirror_mode": {
    "name": "ipython",
    "version": 3
   },
   "file_extension": ".py",
   "mimetype": "text/x-python",
   "name": "python",
   "nbconvert_exporter": "python",
   "pygments_lexer": "ipython3",
   "version": "3.8.19"
  }
 },
 "nbformat": 4,
 "nbformat_minor": 2
}
