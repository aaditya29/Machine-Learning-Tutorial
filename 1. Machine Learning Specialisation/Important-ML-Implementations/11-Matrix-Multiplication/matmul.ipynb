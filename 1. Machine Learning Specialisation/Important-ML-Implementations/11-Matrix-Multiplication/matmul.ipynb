{
 "cells": [
  {
   "cell_type": "markdown",
   "metadata": {},
   "source": [
    "# Matrix Multiplication and Eigen Computations"
   ]
  },
  {
   "cell_type": "markdown",
   "metadata": {},
   "source": [
    "\n",
    "Here we are computing Eigen Values and Eigen Vectors of a Real Matrix\n",
    "- Power Method\n",
    "- Variations of Power Method (Inverse, Shifted)\n",
    "- QR Method"
   ]
  },
  {
   "cell_type": "markdown",
   "metadata": {},
   "source": [
    "## Power Method\n",
    "\n",
    "See [Wikipedia article on Power Iteration](https://en.wikipedia.org/wiki/Power_iteration): \n",
    "\n",
    "- $A$ : $n \\times n$ real matrix.\n",
    "- Assumptions:\n",
    "  1. $A$ has a full set of eigenvalues $\\lambda_1, \\lambda_2, \\ldots, \\lambda_n$.\n",
    "  2. $|\\lambda_1| > |\\lambda_2| \\geq |\\lambda_i|, 3 \\leq i \\leq n$\n",
    "\n",
    "**Power Iteration:**\n",
    "\n",
    "1. Pick an arbitary unit vector $v_0 \\in \\mathbb R^n$\n",
    "2. Repeat the iteration $v_{t+1} = \\frac{Av_t}{\\lVert Av_t \\lVert}$ till it converges\n",
    "\n",
    "Once it converges, $v_t$ is very close to the eigenvector of $A$ corresponding to the eigenvalue $\\lambda_1$\n",
    "\n",
    "*Rate of convergence:* $\\frac{|\\lambda_2|}{|\\lambda_1|}$."
   ]
  },
  {
   "cell_type": "markdown",
   "metadata": {},
   "source": []
  }
 ],
 "metadata": {
  "language_info": {
   "name": "python"
  }
 },
 "nbformat": 4,
 "nbformat_minor": 2
}
