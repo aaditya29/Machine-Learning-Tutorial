{
 "cells": [
  {
   "cell_type": "markdown",
   "metadata": {},
   "source": [
    "# Matrix Multiplication and Eigen Computations"
   ]
  },
  {
   "cell_type": "markdown",
   "metadata": {},
   "source": [
    "\n",
    "Here we are computing Eigen Values and Eigen Vectors of a Real Matrix\n",
    "- Power Method\n",
    "- Variations of Power Method (Inverse, Shifted)\n",
    "- QR Method"
   ]
  },
  {
   "cell_type": "markdown",
   "metadata": {},
   "source": [
    "## Power Method\n",
    "\n",
    "See [Wikipedia article on Power Iteration](https://en.wikipedia.org/wiki/Power_iteration): \n",
    "\n",
    "- $A$ : $n \\times n$ real matrix.\n",
    "- Assumptions:\n",
    "  1. $A$ has a full set of eigenvalues $\\lambda_1, \\lambda_2, \\ldots, \\lambda_n$.\n",
    "  2. $|\\lambda_1| > |\\lambda_2| \\geq |\\lambda_i|, 3 \\leq i \\leq n$\n",
    "\n",
    "**Power Iteration:**\n",
    "\n",
    "1. Pick an arbitary unit vector $v_0 \\in \\mathbb R^n$\n",
    "2. Repeat the iteration $v_{t+1} = \\frac{Av_t}{\\lVert Av_t \\lVert}$ till it converges\n",
    "\n",
    "Once it converges, $v_t$ is very close to the eigenvector of $A$ corresponding to the eigenvalue $\\lambda_1$\n",
    "\n",
    "*Rate of convergence:* $\\frac{|\\lambda_2|}{|\\lambda_1|}$."
   ]
  },
  {
   "cell_type": "code",
   "execution_count": 1,
   "metadata": {},
   "outputs": [],
   "source": [
    "import numpy as np\n",
    "import matplotlib.pyplot as plt"
   ]
  },
  {
   "cell_type": "code",
   "execution_count": 2,
   "metadata": {},
   "outputs": [],
   "source": [
    "# Write the power iteration function\n",
    "\n",
    "def power_iteration(A, num_iterations=20):\n",
    "    v = np.random.rand(A.shape[1])\n",
    "    for t in range(num_iterations):\n",
    "        u = A @ v  # np.matmul(A, v)\n",
    "        v = u / np.linalg.norm(u)\n",
    "\n",
    "    l = v.T @ (A @ v)\n",
    "    return v, l\n",
    "\n",
    "# Power Iteration function which starts from a given vector\n",
    "\n",
    "\n",
    "def power_iteration_seed(A, v0, num_iterations=20):\n",
    "    v = v0\n",
    "    for t in range(num_iterations):\n",
    "        u = A @ v\n",
    "        v = u / np.linalg.norm(u)\n",
    "\n",
    "    l = v.T @ (A @ v)\n",
    "    return v, l"
   ]
  },
  {
   "cell_type": "code",
   "execution_count": 3,
   "metadata": {},
   "outputs": [
    {
     "name": "stdout",
     "output_type": "stream",
     "text": [
      "[[0.5 0.5]\n",
      " [0.2 0.8]]\n",
      "Eigenvalue with largest magnitude: 1.0000\n",
      "Corresponding Eigenvector: [0.70710678 0.70710678]\n",
      "Eigenvalues:\n",
      " [0.3 1. ]\n",
      "Eigenvectors: \n",
      " [[-0.92847669 -0.70710678]\n",
      " [ 0.37139068 -0.70710678]]\n"
     ]
    }
   ],
   "source": [
    "# Use power iteration to compute the largest eigenvalue of a matrix\n",
    "# and compare it with the result using np.linalg.eig()\n",
    "\n",
    "A = np.array([[0.5, 0.5], [0.2, 0.8]])\n",
    "print(A)\n",
    "v1, l1 = power_iteration(A)\n",
    "\n",
    "print(f'Eigenvalue with largest magnitude: {l1:.4f}')\n",
    "print('Corresponding Eigenvector:', v1)\n",
    "\n",
    "# Compare with result from np.linalg.eig()\n",
    "E, V = np.linalg.eig(A)\n",
    "print(\"Eigenvalues:\\n\", E)\n",
    "print(\"Eigenvectors: \\n\", V)"
   ]
  },
  {
   "cell_type": "code",
   "execution_count": 4,
   "metadata": {},
   "outputs": [
    {
     "name": "stdout",
     "output_type": "stream",
     "text": [
      "Eigenvalue with largest magnitude: 0.3000\n",
      "Corresponding Eigenvector: [-0.92847615  0.37139203]\n"
     ]
    }
   ],
   "source": [
    "# When can power iteration go wrong\n",
    "v0 = V[:, 0].T\n",
    "v1, l1 = power_iteration_seed(A, v0)\n",
    "\n",
    "print(f'Eigenvalue with largest magnitude: {l1:.4f}')\n",
    "print('Corresponding Eigenvector:', v1)"
   ]
  },
  {
   "cell_type": "markdown",
   "metadata": {},
   "source": [
    "### In Case if Power Method Fails"
   ]
  },
  {
   "cell_type": "code",
   "execution_count": 5,
   "metadata": {},
   "outputs": [
    {
     "name": "stdout",
     "output_type": "stream",
     "text": [
      "[[ 0.5        0.         0.       ]\n",
      " [ 0.         0.8660254 -0.5      ]\n",
      " [ 0.         0.5        0.8660254]]\n",
      "Eigenvalue with largest magnitude: 0.8660\n",
      "Corresponding Eigenvector: [ 3.69862736e-07  5.54655913e-01 -8.32079815e-01]\n",
      "Eigenvalues:\n",
      " [0.8660254+0.5j 0.8660254-0.5j 0.5      +0.j ]\n",
      "Eigenvectors: \n",
      " [[0.        +0.j         0.        -0.j         1.        +0.j        ]\n",
      " [0.        +0.70710678j 0.        -0.70710678j 0.        +0.j        ]\n",
      " [0.70710678+0.j         0.70710678-0.j         0.        +0.j        ]]\n"
     ]
    }
   ],
   "source": [
    "# More than one eigenvalue with the largest magnitude\n",
    "\n",
    "th = np.pi/6\n",
    "A = np.array([[0.5, 0, 0], [0, np.cos(th), -np.sin(th)],\n",
    "             [0, np.sin(th), np.cos(th)]])\n",
    "print(A)\n",
    "\n",
    "v1, l1 = power_iteration(A)\n",
    "\n",
    "print(f'Eigenvalue with largest magnitude: {l1:.4f}')\n",
    "print('Corresponding Eigenvector:', v1)\n",
    "\n",
    "# Compare with result from np.linalg.eig()\n",
    "E, V = np.linalg.eig(A)\n",
    "print(\"Eigenvalues:\\n\", E)\n",
    "print(\"Eigenvectors: \\n\", V)"
   ]
  },
  {
   "cell_type": "markdown",
   "metadata": {},
   "source": [
    "### Convergence of Power Iteration"
   ]
  },
  {
   "cell_type": "code",
   "execution_count": null,
   "metadata": {},
   "outputs": [],
   "source": []
  }
 ],
 "metadata": {
  "kernelspec": {
   "display_name": "Python 3",
   "language": "python",
   "name": "python3"
  },
  "language_info": {
   "codemirror_mode": {
    "name": "ipython",
    "version": 3
   },
   "file_extension": ".py",
   "mimetype": "text/x-python",
   "name": "python",
   "nbconvert_exporter": "python",
   "pygments_lexer": "ipython3",
   "version": "3.8.19"
  }
 },
 "nbformat": 4,
 "nbformat_minor": 2
}
