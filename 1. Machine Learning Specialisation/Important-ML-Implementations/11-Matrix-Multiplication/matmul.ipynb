{
 "cells": [
  {
   "cell_type": "markdown",
   "metadata": {},
   "source": [
    "# Matrix Multiplication and Eigen Computations"
   ]
  },
  {
   "cell_type": "markdown",
   "metadata": {},
   "source": [
    "\n",
    "Here we are computing Eigen Values and Eigen Vectors of a Real Matrix\n",
    "- Power Method\n",
    "- Variations of Power Method (Inverse, Shifted)\n",
    "- QR Method"
   ]
  },
  {
   "cell_type": "markdown",
   "metadata": {},
   "source": [
    "## Power Method\n",
    "\n",
    "See [Wikipedia article on Power Iteration](https://en.wikipedia.org/wiki/Power_iteration): \n",
    "\n",
    "- $A$ : $n \\times n$ real matrix.\n",
    "- Assumptions:\n",
    "  1. $A$ has a full set of eigenvalues $\\lambda_1, \\lambda_2, \\ldots, \\lambda_n$.\n",
    "  2. $|\\lambda_1| > |\\lambda_2| \\geq |\\lambda_i|, 3 \\leq i \\leq n$\n",
    "\n",
    "**Power Iteration:**\n",
    "\n",
    "1. Pick an arbitary unit vector $v_0 \\in \\mathbb R^n$\n",
    "2. Repeat the iteration $v_{t+1} = \\frac{Av_t}{\\lVert Av_t \\lVert}$ till it converges\n",
    "\n",
    "Once it converges, $v_t$ is very close to the eigenvector of $A$ corresponding to the eigenvalue $\\lambda_1$\n",
    "\n",
    "*Rate of convergence:* $\\frac{|\\lambda_2|}{|\\lambda_1|}$."
   ]
  },
  {
   "cell_type": "code",
   "execution_count": 1,
   "metadata": {},
   "outputs": [],
   "source": [
    "import numpy as np\n",
    "import matplotlib.pyplot as plt"
   ]
  },
  {
   "cell_type": "code",
   "execution_count": 2,
   "metadata": {},
   "outputs": [],
   "source": [
    "# Write the power iteration function\n",
    "\n",
    "def power_iteration(A, num_iterations=20):\n",
    "    v = np.random.rand(A.shape[1])\n",
    "    for t in range(num_iterations):\n",
    "        u = A @ v  # np.matmul(A, v)\n",
    "        v = u / np.linalg.norm(u)\n",
    "\n",
    "    l = v.T @ (A @ v)\n",
    "    return v, l\n",
    "\n",
    "# Power Iteration function which starts from a given vector\n",
    "\n",
    "\n",
    "def power_iteration_seed(A, v0, num_iterations=20):\n",
    "    v = v0\n",
    "    for t in range(num_iterations):\n",
    "        u = A @ v\n",
    "        v = u / np.linalg.norm(u)\n",
    "\n",
    "    l = v.T @ (A @ v)\n",
    "    return v, l"
   ]
  },
  {
   "cell_type": "code",
   "execution_count": 3,
   "metadata": {},
   "outputs": [
    {
     "name": "stdout",
     "output_type": "stream",
     "text": [
      "[[0.5 0.5]\n",
      " [0.2 0.8]]\n",
      "Eigenvalue with largest magnitude: 1.0000\n",
      "Corresponding Eigenvector: [0.70710678 0.70710678]\n",
      "Eigenvalues:\n",
      " [0.3 1. ]\n",
      "Eigenvectors: \n",
      " [[-0.92847669 -0.70710678]\n",
      " [ 0.37139068 -0.70710678]]\n"
     ]
    }
   ],
   "source": [
    "# Use power iteration to compute the largest eigenvalue of a matrix\n",
    "# and compare it with the result using np.linalg.eig()\n",
    "\n",
    "A = np.array([[0.5, 0.5], [0.2, 0.8]])\n",
    "print(A)\n",
    "v1, l1 = power_iteration(A)\n",
    "\n",
    "print(f'Eigenvalue with largest magnitude: {l1:.4f}')\n",
    "print('Corresponding Eigenvector:', v1)\n",
    "\n",
    "# Compare with result from np.linalg.eig()\n",
    "E, V = np.linalg.eig(A)\n",
    "print(\"Eigenvalues:\\n\", E)\n",
    "print(\"Eigenvectors: \\n\", V)"
   ]
  },
  {
   "cell_type": "code",
   "execution_count": 4,
   "metadata": {},
   "outputs": [
    {
     "name": "stdout",
     "output_type": "stream",
     "text": [
      "Eigenvalue with largest magnitude: 0.3000\n",
      "Corresponding Eigenvector: [-0.92847615  0.37139203]\n"
     ]
    }
   ],
   "source": [
    "# When can power iteration go wrong\n",
    "v0 = V[:, 0].T\n",
    "v1, l1 = power_iteration_seed(A, v0)\n",
    "\n",
    "print(f'Eigenvalue with largest magnitude: {l1:.4f}')\n",
    "print('Corresponding Eigenvector:', v1)"
   ]
  },
  {
   "cell_type": "markdown",
   "metadata": {},
   "source": [
    "### In Case if Power Method Fails"
   ]
  },
  {
   "cell_type": "code",
   "execution_count": 5,
   "metadata": {},
   "outputs": [
    {
     "name": "stdout",
     "output_type": "stream",
     "text": [
      "[[ 0.5        0.         0.       ]\n",
      " [ 0.         0.8660254 -0.5      ]\n",
      " [ 0.         0.5        0.8660254]]\n",
      "Eigenvalue with largest magnitude: 0.8660\n",
      "Corresponding Eigenvector: [ 3.69862736e-07  5.54655913e-01 -8.32079815e-01]\n",
      "Eigenvalues:\n",
      " [0.8660254+0.5j 0.8660254-0.5j 0.5      +0.j ]\n",
      "Eigenvectors: \n",
      " [[0.        +0.j         0.        -0.j         1.        +0.j        ]\n",
      " [0.        +0.70710678j 0.        -0.70710678j 0.        +0.j        ]\n",
      " [0.70710678+0.j         0.70710678-0.j         0.        +0.j        ]]\n"
     ]
    }
   ],
   "source": [
    "# More than one eigenvalue with the largest magnitude\n",
    "\n",
    "th = np.pi/6\n",
    "A = np.array([[0.5, 0, 0], [0, np.cos(th), -np.sin(th)],\n",
    "             [0, np.sin(th), np.cos(th)]])\n",
    "print(A)\n",
    "\n",
    "v1, l1 = power_iteration(A)\n",
    "\n",
    "print(f'Eigenvalue with largest magnitude: {l1:.4f}')\n",
    "print('Corresponding Eigenvector:', v1)\n",
    "\n",
    "# Compare with result from np.linalg.eig()\n",
    "E, V = np.linalg.eig(A)\n",
    "print(\"Eigenvalues:\\n\", E)\n",
    "print(\"Eigenvectors: \\n\", V)"
   ]
  },
  {
   "cell_type": "markdown",
   "metadata": {},
   "source": [
    "### Convergence of Power Iteration"
   ]
  },
  {
   "cell_type": "code",
   "execution_count": 6,
   "metadata": {},
   "outputs": [
    {
     "data": {
      "image/png": "[encoded data removed]",
      "text/plain": [
       "<Figure size 640x480 with 1 Axes>"
      ]
     },
     "metadata": {},
     "output_type": "display_data"
    }
   ],
   "source": [
    "# Observe the convergence pattern of the power iteration by plotting\n",
    "# the vector after each iteration component-wise\n",
    "\n",
    "def power_iteration_convergence(A, num_iterations=20):\n",
    "    vEvolves = np.zeros((A.shape[1], num_iterations))\n",
    "    v = np.random.rand(A.shape[1])\n",
    "    for t in range(num_iterations):\n",
    "        u = A @ v\n",
    "        v = u / np.linalg.norm(u)\n",
    "        vEvolves[:, t] = v\n",
    "\n",
    "    plt.plot(vEvolves.T)\n",
    "\n",
    "\n",
    "A = np.random.rand(5, 5)\n",
    "power_iteration_convergence(A)"
   ]
  },
  {
   "cell_type": "code",
   "execution_count": 7,
   "metadata": {},
   "outputs": [
    {
     "name": "stdout",
     "output_type": "stream",
     "text": [
      "Eigenvalues:\n",
      " [0.99862953+0.05233596j 0.99862953-0.05233596j]\n",
      "Eigenvectors: \n",
      " [[0.        +0.70710678j 0.        -0.70710678j]\n",
      " [0.70710678+0.j         0.70710678-0.j        ]]\n",
      "[[ 0.99862953 -0.05233596]\n",
      " [ 0.05233596  0.99862953]]\n"
     ]
    },
    {
     "data": {
      "image/png": "[encoded data removed]",
      "text/plain": [
       "<Figure size 640x480 with 1 Axes>"
      ]
     },
     "metadata": {},
     "output_type": "display_data"
    }
   ],
   "source": [
    "# Component-wise plot in a case where the power iteration fails\n",
    "\n",
    "th = np.pi/60\n",
    "A = np.array([[np.cos(th), -np.sin(th)], [np.sin(th), np.cos(th)]])\n",
    "\n",
    "# Result from np.linalg.eig()\n",
    "E, V = np.linalg.eig(A)\n",
    "print(\"Eigenvalues:\\n\", E)\n",
    "print(\"Eigenvectors: \\n\", V)\n",
    "print(A)\n",
    "\n",
    "power_iteration_convergence(A, 1000)"
   ]
  },
  {
   "cell_type": "markdown",
   "metadata": {},
   "source": [
    "### Inverse Power Method"
   ]
  },
  {
   "cell_type": "code",
   "execution_count": 8,
   "metadata": {},
   "outputs": [
    {
     "name": "stdout",
     "output_type": "stream",
     "text": [
      "Inverse Power Method Results:\n",
      "Smallest Eigenvalue: 0.5000\n",
      "Corresponding Eigenvector:\n",
      " [ 1.00000000e+00  1.43537269e-31 -5.62915408e-31]\n",
      "\n",
      "np.linalg.eig Results:\n",
      "Eigenvalues:\n",
      " [0.8660254+0.5j 0.8660254-0.5j 0.5      +0.j ]\n",
      "Eigenvectors (columns):\n",
      " [[0.        +0.j         0.        -0.j         1.        +0.j        ]\n",
      " [0.        +0.70710678j 0.        -0.70710678j 0.        +0.j        ]\n",
      " [0.70710678+0.j         0.70710678-0.j         0.        +0.j        ]]\n"
     ]
    }
   ],
   "source": [
    "# Task 1a. Find the eigenvalue with the smallest magnitude and the\n",
    "# corresponding eigenvector using power itertion for the given matrix\n",
    "# Compare the result with linalg.eig()\n",
    "def inverse_power_iteration(A, num_iterations=100):\n",
    "    n = A.shape[1]\n",
    "    v = np.random.rand(n)\n",
    "    v = v / np.linalg.norm(v)\n",
    "    for _ in range(num_iterations):\n",
    "        u = np.linalg.solve(A, v)\n",
    "        v = u / np.linalg.norm(u)\n",
    "    eigenvalue = v.T @ A @ v  # Rayleigh quotient for A\n",
    "    return v, eigenvalue\n",
    "\n",
    "\n",
    "# Given matrix A\n",
    "th = np.pi/6\n",
    "A = np.array([\n",
    "    [0.5, 0, 0],\n",
    "    [0, np.cos(th), -np.sin(th)],\n",
    "    [0, np.sin(th), np.cos(th)]\n",
    "])\n",
    "\n",
    "# Compute using inverse power method\n",
    "v_small, l_small = inverse_power_iteration(A, num_iterations=100)\n",
    "\n",
    "# Compare with numpy's eig\n",
    "E, V = np.linalg.eig(A)\n",
    "\n",
    "print(\"Inverse Power Method Results:\")\n",
    "print(f\"Smallest Eigenvalue: {l_small:.4f}\")\n",
    "print(\"Corresponding Eigenvector:\\n\", v_small)\n",
    "print(\"\\nnp.linalg.eig Results:\")\n",
    "print(\"Eigenvalues:\\n\", E)\n",
    "print(\"Eigenvectors (columns):\\n\", V)"
   ]
  },
  {
   "cell_type": "code",
   "execution_count": 9,
   "metadata": {},
   "outputs": [
    {
     "name": "stdout",
     "output_type": "stream",
     "text": [
      "Shifted Inverse Power Method Results:\n",
      "Eigenvalue closest to 1: 0.865557\n",
      "Corresponding Eigenvector:\n",
      " [-0.14346663  0.84511398 -0.45411732 -0.17990218 -0.16313294]\n",
      "\n",
      "np.linalg.eig Results:\n",
      "All Eigenvalues (sorted):\n",
      " [-1.18740784 -0.19984541  0.66014598  0.86555685  5.05629255]\n",
      "Closest eigenvalue to 1: 0.865557\n",
      "Corresponding Eigenvector:\n",
      " [ 0.14346663 -0.84511398  0.45411732  0.17990218  0.16313294]\n",
      "\n",
      "Verification:\n",
      "||A*v - λ*v||: 2.4196749845665633e-16\n",
      "Dot product with numpy's eigenvector: 1.0\n"
     ]
    }
   ],
   "source": [
    "# Task 1b. Find the eigenvalue nearest to 1 and the\n",
    "# corresponding eigenvector using power itertion for the given matrix\n",
    "# Compare the result with linalg.eig()\n",
    "\n",
    "def shifted_inverse_power(A, sigma, num_iterations=1000, tol=1e-10):\n",
    "    n = A.shape[0]\n",
    "    B = A - sigma * np.eye(n)\n",
    "    v = np.random.rand(n)\n",
    "    v = v / np.linalg.norm(v)\n",
    "\n",
    "    for _ in range(num_iterations):\n",
    "        try:\n",
    "            u = np.linalg.solve(B, v)\n",
    "        except np.linalg.LinAlgError:\n",
    "            return v, sigma\n",
    "        v_new = u / np.linalg.norm(u)\n",
    "        if np.linalg.norm(v_new - v) < tol:\n",
    "            break\n",
    "        v = v_new\n",
    "\n",
    "    # Compute eigenvalue using Rayleigh quotient\n",
    "    mu = (v.T @ B @ v) / (v.T @ v)\n",
    "    lambda_A = sigma + mu\n",
    "    return v, lambda_A\n",
    "\n",
    "\n",
    "# Given matrix A\n",
    "A = np.array([\n",
    "    [0.17452104, 0.69752617, 0.58067469, 1.30159768, 1.16944494],\n",
    "    [0.69752617, 1.83217498, 0.86335401, 1.37726111, 0.47197377],\n",
    "    [0.58067469, 0.86335401, 1.42367935, 1.70622102, 0.52668159],\n",
    "    [1.30159768, 1.37726111, 1.70622102, 1.52025199, 0.51860264],\n",
    "    [1.16944494, 0.47197377, 0.52668159, 0.51860264, 0.24411477]\n",
    "])\n",
    "\n",
    "# Compute using shifted inverse power method\n",
    "sigma = 1\n",
    "v_shifted, lambda_shifted = shifted_inverse_power(A, sigma)\n",
    "\n",
    "# Compare with numpy's eig\n",
    "E, V_np = np.linalg.eig(A)\n",
    "closest_idx = np.argmin(np.abs(E - sigma))\n",
    "lambda_closest = E[closest_idx]\n",
    "v_closest = V_np[:, closest_idx]\n",
    "\n",
    "print(\"Shifted Inverse Power Method Results:\")\n",
    "print(f\"Eigenvalue closest to {sigma}: {lambda_shifted:.6f}\")\n",
    "print(\"Corresponding Eigenvector:\\n\", v_shifted)\n",
    "print(\"\\nnp.linalg.eig Results:\")\n",
    "print(\"All Eigenvalues (sorted):\\n\", np.sort(E))\n",
    "print(f\"Closest eigenvalue to {sigma}: {lambda_closest:.6f}\")\n",
    "print(\"Corresponding Eigenvector:\\n\", v_closest)\n",
    "\n",
    "# Verify eigenpair correctness\n",
    "Av = A @ v_shifted\n",
    "lambda_v = lambda_shifted * v_shifted\n",
    "print(\"\\nVerification:\")\n",
    "print(\"||A*v - λ*v||:\", np.linalg.norm(Av - lambda_v))\n",
    "print(\"Dot product with numpy's eigenvector:\",\n",
    "      abs(np.dot(v_shifted, v_closest)))"
   ]
  },
  {
   "cell_type": "markdown",
   "metadata": {},
   "source": [
    "## Finding More EigenValues Using Power Method"
   ]
  },
  {
   "cell_type": "markdown",
   "metadata": {},
   "source": [
    "### Case 1. The matrix is real symmetric\n",
    "\n",
    "A real symmetric matrix A has a set of orthogonal eigenvectors. We can decompose $A$ as\n",
    "$$\n",
    "    A = \\lambda_1 b_1 b_1^T + \\lambda_2 b_2 b_2^T + \\cdots + \\lambda_n b_n b_n^T\n",
    "$$\n",
    "where $\\lambda_1 > \\cdots > \\lambda_n$ are the eigenvalues and $b_1, \\ldots, b)n$ are the corresponding eigenvectors.\n"
   ]
  },
  {
   "cell_type": "code",
   "execution_count": 10,
   "metadata": {},
   "outputs": [
    {
     "name": "stdout",
     "output_type": "stream",
     "text": [
      "Deflation Method Results:\n",
      "Eigenvalues (sorted descending):\n",
      " [ 4.52895975  0.92223505  0.19807806 -0.02902499 -1.31408512]\n",
      "\n",
      "NumPy Results (sorted descending):\n",
      " [ 4.52895975  0.92223505  0.19807806 -0.02902499 -1.31408512]\n",
      "\n",
      "Orthogonality Check (should be near identity):\n",
      "[[ 1.  0. -0.  0.  0.]\n",
      " [ 0.  1.  0. -0.  0.]\n",
      " [-0.  0.  1. -0. -0.]\n",
      " [ 0. -0. -0.  1.  0.]\n",
      " [ 0.  0. -0.  0.  1.]]\n",
      "\n",
      "Eigenvalue Comparison:\n",
      "Sum of computed eigenvalues: 4.306163\n",
      "Trace of matrix: 4.306163\n",
      "Sum of numpy eigenvalues: 4.306163\n",
      "\n",
      "Residuals (||Av - λv||):\n",
      "[7.32690e-06 2.87045e-05 1.95054e-05 6.88740e-06 1.33990e-06]\n"
     ]
    }
   ],
   "source": [
    "# Task 2. Find all the eigenvalues and eigenvectors of the\n",
    "# a real symmetric matrix using the above idea and compare it\n",
    "# with the result from linalg.eig()\n",
    "\n",
    "def power_iteration(A, max_iter=1000, tol=1e-10):\n",
    "    \"\"\"Power iteration with convergence check using Rayleigh quotient.\"\"\"\n",
    "    n = A.shape[0]\n",
    "    v = np.random.rand(n)\n",
    "    v /= np.linalg.norm(v)\n",
    "    prev_rayleigh = 0\n",
    "\n",
    "    for _ in range(max_iter):\n",
    "        u = A @ v\n",
    "        v_new = u / np.linalg.norm(u)\n",
    "        rayleigh = v_new.T @ A @ v_new  # Rayleigh quotient\n",
    "\n",
    "        if np.abs(rayleigh - prev_rayleigh) < tol:\n",
    "            break\n",
    "        prev_rayleigh = rayleigh\n",
    "        v = v_new\n",
    "\n",
    "    # Final Rayleigh quotient and eigenvector\n",
    "    eigenvector = v_new\n",
    "    eigenvalue = eigenvector.T @ A @ eigenvector\n",
    "    return eigenvector, eigenvalue\n",
    "\n",
    "\n",
    "def symmetric_eigen_deflation(A, num_eigs=None):\n",
    "    \"\"\"Find eigenvalues/vectors of symmetric matrix using deflation.\"\"\"\n",
    "    n = A.shape[0]\n",
    "    A = A.copy()\n",
    "    eigs = []\n",
    "    vecs = []\n",
    "\n",
    "    for _ in range(n if num_eigs is None else num_eigs):\n",
    "        v, l = power_iteration(A)\n",
    "        eigs.append(l)\n",
    "        vecs.append(v)\n",
    "        A -= l * np.outer(v, v)  # Deflate the matrix\n",
    "\n",
    "    return np.array(eigs), np.array(vecs).T\n",
    "\n",
    "\n",
    "# Test case: Random symmetric matrix\n",
    "np.random.seed(42)\n",
    "A = np.random.rand(5, 5)\n",
    "A = A + A.T  # Make symmetric\n",
    "\n",
    "# Compute using deflation method\n",
    "computed_eigs, computed_vecs = symmetric_eigen_deflation(A)\n",
    "\n",
    "# Compare with numpy's eig\n",
    "numpy_eigs, numpy_vecs = np.linalg.eig(A)\n",
    "sorted_idx = np.argsort(numpy_eigs)[::-1]  # Sort descending\n",
    "numpy_eigs_sorted = numpy_eigs[sorted_idx]\n",
    "numpy_vecs_sorted = numpy_vecs[:, sorted_idx]\n",
    "\n",
    "print(\"Deflation Method Results:\")\n",
    "print(\"Eigenvalues (sorted descending):\\n\", np.sort(computed_eigs)[::-1])\n",
    "print(\"\\nNumPy Results (sorted descending):\\n\", numpy_eigs_sorted)\n",
    "\n",
    "# Verify orthogonality of computed vectors\n",
    "ortho_check = computed_vecs.T @ computed_vecs\n",
    "print(\"\\nOrthogonality Check (should be near identity):\")\n",
    "print(np.round(ortho_check, 2))\n",
    "\n",
    "# Verify eigenvalue correctness\n",
    "print(\"\\nEigenvalue Comparison:\")\n",
    "print(f\"Sum of computed eigenvalues: {np.sum(computed_eigs):.6f}\")\n",
    "print(f\"Trace of matrix: {np.trace(A):.6f}\")\n",
    "print(f\"Sum of numpy eigenvalues: {np.sum(numpy_eigs):.6f}\")\n",
    "\n",
    "# Verify eigenpair residuals\n",
    "residuals = [np.linalg.norm(A @ v - l*v)\n",
    "             for v, l in zip(computed_vecs.T, computed_eigs)]\n",
    "print(\"\\nResiduals (||Av - λv||):\")\n",
    "print(np.round(residuals, 10))"
   ]
  },
  {
   "cell_type": "markdown",
   "metadata": {},
   "source": [
    "### Case 2. Shifting Method\n",
    "\n",
    "- If $A$ has eigenvalues $\\lambda_1, \\lambda_2, \\ldots, \\lambda_n$, what are the eigenvalue of $A - \\lambda_1 I$?\n",
    "- Ans: $0, \\lambda_2 - \\lambda_1, \\ldots, \\lambda_n - \\lambda_1$\n",
    "- If this list has a unique largest magnitude value, we can find that by doing a power iteration on $A - \\lambda_1I$."
   ]
  },
  {
   "cell_type": "code",
   "execution_count": 12,
   "metadata": {},
   "outputs": [
    {
     "name": "stdout",
     "output_type": "stream",
     "text": [
      "[[0.65036664 0.84920042 1.13135307 0.91864193 0.72150715]\n",
      " [0.84920042 1.42648957 1.28351788 1.19768761 1.1813501 ]\n",
      " [1.13135307 1.28351788 0.85508204 0.33977511 0.86344257]\n",
      " [0.91864193 1.19768761 0.33977511 1.01714138 1.13636464]\n",
      " [0.72150715 1.1813501  0.86344257 1.13636464 0.15395982]]\n",
      "Eigenvalues:\n",
      " [ 4.76079408  0.6602557   0.14528311 -0.88191736 -0.58137607]\n",
      "Eigenvectors: \n",
      " [[ 0.39941466  0.19488379  0.70524159 -0.31104395 -0.45648023]\n",
      " [ 0.56129924  0.01620036 -0.67082527 -0.09209158 -0.47559785]\n",
      " [ 0.42507172  0.66068435  0.03671418  0.48861823  0.37777575]\n",
      " [ 0.43564579 -0.70916884  0.2220481   0.50163835  0.07966124]\n",
      " [ 0.39362148 -0.14944435 -0.04443505 -0.63591036  0.64526898]]\n",
      "Eigenvalue with largest magnitude: 4.7608\n",
      "Corresponding Eigenvector: [0.39941452 0.56129919 0.42507193 0.43564599 0.39362124]\n",
      "Eigenvalue with second largest magnitude: -0.8819\n",
      "Corresponding Eigenvector: [ 0.31106822  0.09211687 -0.48863831 -0.50164259  0.63587606]\n"
     ]
    }
   ],
   "source": [
    "# Finding a second eigenvalue\n",
    "\n",
    "A = np.random.rand(5, 5)\n",
    "A = A + A.T\n",
    "print(A)\n",
    "\n",
    "# Result from np.linalg.eig()\n",
    "E, V = np.linalg.eig(A)\n",
    "print(\"Eigenvalues:\\n\", E)\n",
    "print(\"Eigenvectors: \\n\", V)\n",
    "\n",
    "v1, l1 = power_iteration(A)\n",
    "\n",
    "print(f'Eigenvalue with largest magnitude: {l1:.4f}')\n",
    "print('Corresponding Eigenvector:', v1)\n",
    "\n",
    "B = A - l1*np.eye(A.shape[1])\n",
    "v2, l2 = power_iteration(B)\n",
    "l2 = l2 + l1\n",
    "\n",
    "print(f'Eigenvalue with second largest magnitude: {l2:.4f}')\n",
    "print('Corresponding Eigenvector:', v2)"
   ]
  },
  {
   "cell_type": "code",
   "execution_count": 13,
   "metadata": {},
   "outputs": [
    {
     "name": "stdout",
     "output_type": "stream",
     "text": [
      "Eigenvalues via Deflation Method (sorted by magnitude):\n",
      "[ 2.38237214  0.64754616 -0.6423354   0.05969511 -0.03716248]\n",
      "\n",
      "Eigenvalues via numpy.linalg.eig (sorted by magnitude):\n",
      "[ 2.38237214  0.64466334 -0.64216455  0.05969511 -0.03716248]\n",
      "\n",
      "Verifying eigenvectors for deflation method:\n",
      "Eigenvalue 1: Error = 2.220446e-16\n",
      "Eigenvalue 2: Error = 2.485075e-02\n",
      "Eigenvalue 3: Error = 8.796058e-03\n",
      "Eigenvalue 4: Error = 7.952451e-15\n",
      "Eigenvalue 5: Error = 1.194647e-14\n"
     ]
    }
   ],
   "source": [
    "# Task 3. Extend the above method to find all the eigenvalues and eigenvectors\n",
    "# of a real matrix (not necessarily symmetric)\n",
    "def power_iteration(A, num_iterations=1000):\n",
    "    n = A.shape[0]\n",
    "    v = np.random.rand(n)\n",
    "    v = v / np.linalg.norm(v)\n",
    "    for _ in range(num_iterations):\n",
    "        Av = A.dot(v)\n",
    "        v = Av / np.linalg.norm(Av)\n",
    "        # Rayleigh quotient for eigenvalue estimation\n",
    "        lambda_est = v.dot(A.dot(v))\n",
    "    return v, lambda_est\n",
    "\n",
    "\n",
    "# Given matrix A\n",
    "A = np.array([\n",
    "    [0.36017761, 0.29899136, 0.94790805, 0.66225041, 0.05242949],\n",
    "    [0.96834243, 0.38633789, 0.13144678, 0.25635183, 0.7449862],\n",
    "    [0.63736823, 0.03674595, 0.7195524, 0.77701343, 0.06313019],\n",
    "    [0.69311961, 0.44329579, 0.57682117, 0.53503807, 0.32678736],\n",
    "    [0.27317887, 0.80795302, 0.7149457, 0.1515109, 0.40629759]])\n",
    "\n",
    "n = A.shape[0]\n",
    "B = A.copy()\n",
    "eigenvalues = []\n",
    "right_eigenvectors = []\n",
    "left_eigenvectors = []\n",
    "\n",
    "for _ in range(n):\n",
    "    # Compute right eigenvector and eigenvalue\n",
    "    v, lam = power_iteration(B)\n",
    "    # Compute left eigenvector using transpose of B\n",
    "    w, _ = power_iteration(B.T)\n",
    "    # Normalize left eigenvector to ensure w.T @ v = 1\n",
    "    scale = np.dot(w, v)\n",
    "    if np.abs(scale) < 1e-10:\n",
    "        scale = 1\n",
    "    w = w / scale\n",
    "    # Store results\n",
    "    eigenvalues.append(lam)\n",
    "    right_eigenvectors.append(v)\n",
    "    left_eigenvectors.append(w)\n",
    "    # Deflate the matrix\n",
    "    B = B - lam * np.outer(v, w)\n",
    "\n",
    "# Compute eigenvalues using numpy for comparison\n",
    "E_np, V_np = np.linalg.eig(A)\n",
    "\n",
    "# Sort eigenvalues by magnitude for comparison\n",
    "eigenvalues_sorted = sorted(eigenvalues, key=lambda x: abs(x), reverse=True)\n",
    "E_np_sorted = sorted(E_np, key=lambda x: abs(x), reverse=True)\n",
    "\n",
    "print(\"Eigenvalues via Deflation Method (sorted by magnitude):\")\n",
    "print(np.array(eigenvalues_sorted))\n",
    "print(\"\\nEigenvalues via numpy.linalg.eig (sorted by magnitude):\")\n",
    "print(np.array(E_np_sorted))\n",
    "\n",
    "# Check eigenvectors by verifying A*v ≈ λ*v\n",
    "print(\"\\nVerifying eigenvectors for deflation method:\")\n",
    "for i in range(n):\n",
    "    v = right_eigenvectors[i]\n",
    "    lambda_i = eigenvalues[i]\n",
    "    Av = A.dot(v)\n",
    "    error = np.linalg.norm(Av - lambda_i * v)\n",
    "    print(f\"Eigenvalue {i+1}: Error = {error:.6e}\")\n",
    "    \n",
    "    \n",
    "    "
   ]
  },
  {
   "cell_type": "markdown",
   "metadata": {},
   "source": [
    "## QR Factorisation\n",
    "\n",
    "Any real square matrix $A$ may be decomposed as\n",
    "$$ A = QR $$\n",
    "where $Q$ is an orthogonal matrix (its columns are orthogonal unit vectors meaning \n",
    "$Q^T = Q^{−1}$ and $R$ is an upper triangular matrix (also called right triangular matrix).\n",
    "\n",
    "QR factorisation of a square matrix can be computed using Gram-Schmidt orthonormalisation procedure."
   ]
  },
  {
   "cell_type": "code",
   "execution_count": 14,
   "metadata": {},
   "outputs": [
    {
     "name": "stdout",
     "output_type": "stream",
     "text": [
      "A = \n",
      " [[0.67756436 0.01658783 0.51209306 0.22649578 0.64517279 0.17436643\n",
      "  0.69093774 0.38673535 0.93672999 0.13752094]\n",
      " [0.34106635 0.11347352 0.92469362 0.87733935 0.25794163 0.65998405\n",
      "  0.8172222  0.55520081 0.52965058 0.24185229]\n",
      " [0.09310277 0.89721576 0.90041806 0.63310146 0.33902979 0.34920957\n",
      "  0.72595568 0.89711026 0.88708642 0.77987555]\n",
      " [0.64203165 0.08413996 0.16162871 0.89855419 0.60642906 0.00919705\n",
      "  0.10147154 0.66350177 0.00506158 0.16080805]\n",
      " [0.54873379 0.6918952  0.65196126 0.22426931 0.71217922 0.23724909\n",
      "  0.3253997  0.74649141 0.6496329  0.84922341]\n",
      " [0.65761289 0.5683086  0.09367477 0.3677158  0.26520237 0.24398964\n",
      "  0.97301055 0.39309772 0.89204656 0.63113863]\n",
      " [0.7948113  0.50263709 0.57690388 0.49251769 0.19524299 0.72245212\n",
      "  0.28077236 0.02431597 0.6454723  0.17711068]\n",
      " [0.94045858 0.95392858 0.91486439 0.3701587  0.01545662 0.92831856\n",
      "  0.42818415 0.96665482 0.96361998 0.85300946]\n",
      " [0.29444889 0.38509773 0.85113667 0.31692201 0.16949275 0.55680126\n",
      "  0.93615477 0.6960298  0.57006117 0.09717649]\n",
      " [0.61500723 0.99005385 0.14008402 0.51832965 0.87737307 0.74076862\n",
      "  0.69701574 0.70248408 0.35949115 0.29359184]]\n",
      "Q = \n",
      " [[-0.35172756 -0.41974873 -0.17552432  0.26000512 -0.49938368 -0.04016484\n",
      "   0.23062855  0.05230875  0.46476264 -0.28064203]\n",
      " [-0.17704951 -0.12705209 -0.56904158 -0.42596203  0.0790484   0.36395725\n",
      "   0.09339802  0.0054622   0.16023256  0.52356302]\n",
      " [-0.04833018  0.65945019 -0.34139703 -0.28387995 -0.04253933 -0.38504004\n",
      "   0.03034866  0.21043779  0.29988828 -0.28363068]\n",
      " [-0.33328233 -0.34290866  0.11084328 -0.61781044 -0.03389334 -0.3685269\n",
      "  -0.27342818 -0.29110224 -0.19771616 -0.20446165]\n",
      " [-0.28485087  0.20372338 -0.07739643  0.2598252  -0.50357899 -0.29800791\n",
      "  -0.29087639  0.07460721 -0.32635347  0.51456293]\n",
      " [-0.34137064  0.03510529  0.34680077 -0.06741234  0.21616498 -0.29482379\n",
      "   0.72447466  0.13979264 -0.06022357  0.27520493]\n",
      " [-0.41259113 -0.10520376 -0.00967906  0.0509098   0.28069857  0.19362131\n",
      "  -0.26412964  0.73864867 -0.2001976  -0.21044935]\n",
      " [-0.48819747  0.16333818 -0.06022098  0.38058957  0.4971068  -0.03121099\n",
      "  -0.23607918 -0.46138662  0.262263    0.0320424 ]\n",
      " [-0.15285012  0.12039864 -0.42681548  0.12671633 -0.04117859  0.1734754\n",
      "   0.35687207 -0.26080126 -0.63580889 -0.36399893]\n",
      " [-0.31925379  0.40028644  0.45209739 -0.23048927 -0.33687877  0.5810053\n",
      "  -0.0086689  -0.12885801  0.07777646 -0.08091508]]\n",
      "R = \n",
      " [[-1.92638972 -1.53645041 -1.5183873  -1.35231738 -1.1786012  -1.42187385\n",
      "  -1.57196139 -1.6582551  -1.89603092 -1.23792507]\n",
      " [ 0.          1.2479469   0.58931979  0.21571907  0.22003017  0.56617158\n",
      "   0.58265368  0.8174149   0.58845402  0.81577455]\n",
      " [ 0.          0.         -1.28415609 -0.47336203  0.04979941 -0.42375878\n",
      "  -0.62359506 -0.57592237 -0.65408018 -0.21886014]\n",
      " [ 0.          0.          0.         -0.92955963 -0.41078805 -0.00550738\n",
      "  -0.28305066 -0.33765362  0.26062825  0.0684067 ]\n",
      " [ 0.          0.          0.          0.         -0.87814574  0.27498367\n",
      "  -0.24999112 -0.27879312 -0.08251356 -0.00855931]\n",
      " [ 0.          0.          0.          0.          0.          0.59060769\n",
      "   0.17729632 -0.23833148 -0.24221535 -0.52108972]\n",
      " [ 0.          0.          0.          0.          0.          0.\n",
      "   0.99303336  0.06217968  0.55068868  0.02820491]\n",
      " [ 0.          0.          0.          0.          0.          0.\n",
      "   0.         -0.57053968  0.24744404 -0.04851497]\n",
      " [ 0.          0.          0.          0.          0.          0.\n",
      "   0.          0.          0.30852811  0.13889651]\n",
      " [ 0.          0.          0.          0.          0.          0.\n",
      "   0.          0.          0.          0.37555789]]\n"
     ]
    }
   ],
   "source": [
    "# Compute QR factorisation using linalg.qr()\n",
    "\n",
    "A = np.random.rand(10, 10)\n",
    "Q, R = np.linalg.qr(A)\n",
    "\n",
    "print('A = \\n', A)\n",
    "print('Q = \\n', Q)\n",
    "print('R = \\n', R)"
   ]
  },
  {
   "cell_type": "code",
   "execution_count": 15,
   "metadata": {},
   "outputs": [
    {
     "name": "stdout",
     "output_type": "stream",
     "text": [
      "Q from Gram-Schmidt:\n",
      " [[ 0.25287644  0.15399259  0.65195713 -0.22179168  0.66189134]\n",
      " [ 0.67986176 -0.14235976 -0.56835388 -0.39213715  0.20180192]\n",
      " [ 0.44748869 -0.38360308  0.50159394 -0.1307692  -0.61960107]\n",
      " [ 0.48663107  0.12033207 -0.01152497  0.86092661  0.08592402]\n",
      " [ 0.19179565  0.89128494  0.0140163  -0.19682911 -0.36039898]]\n",
      "\n",
      "Q from numpy.linalg.qr (adjusted signs):\n",
      " [[ 0.25287644  0.15399259  0.65195713 -0.22179168  0.66189134]\n",
      " [ 0.67986176 -0.14235976 -0.56835388 -0.39213715  0.20180192]\n",
      " [ 0.44748869 -0.38360308  0.50159394 -0.1307692  -0.61960107]\n",
      " [ 0.48663107  0.12033207 -0.01152497  0.86092661  0.08592402]\n",
      " [ 0.19179565  0.89128494  0.0140163  -0.19682911 -0.36039898]]\n",
      "\n",
      "Difference between Q matrices: 4.618423283455313e-15\n",
      "\n",
      "R from Gram-Schmidt:\n",
      " [[ 1.42432255  0.725391    1.06888339  0.97888133  0.78494685]\n",
      " [ 0.          0.75040669  0.55786598 -0.03315566  0.27925069]\n",
      " [ 0.          0.          0.9075833   0.67176287 -0.35563972]\n",
      " [ 0.          0.          0.          0.08179063 -0.11065193]\n",
      " [ 0.          0.          0.          0.          0.02757638]]\n",
      "\n",
      "R from numpy.linalg.qr (adjusted signs):\n",
      " [[ 1.42432255  0.725391    1.06888339  0.97888133  0.78494685]\n",
      " [ 0.          0.75040669  0.55786598 -0.03315566  0.27925069]\n",
      " [-0.         -0.          0.9075833   0.67176287 -0.35563972]\n",
      " [-0.         -0.         -0.          0.08179063 -0.11065193]\n",
      " [-0.         -0.         -0.         -0.          0.02757638]]\n",
      "\n",
      "Difference between R matrices: 6.518960647919238e-16\n",
      "\n",
      "Check orthogonality of Q_gs (off-diagonal elements):\n",
      " [[ 0.00000000e+00  1.52552710e-16 -1.43749721e-16  9.69473287e-16\n",
      "  -9.61354110e-17]\n",
      " [ 1.52552710e-16  0.00000000e+00  1.19839004e-17  1.98691117e-17\n",
      "  -3.05483927e-16]\n",
      " [-1.43749721e-16  1.19839004e-17  0.00000000e+00 -2.01465233e-16\n",
      "  -6.70341250e-16]\n",
      " [ 9.69473287e-16  1.98691117e-17 -2.01465233e-16  0.00000000e+00\n",
      "   2.98776329e-16]\n",
      " [-9.61354110e-17 -3.05483927e-16 -6.70341250e-16  2.98776329e-16\n",
      "   0.00000000e+00]]\n",
      "\n",
      "Check if Q_gs @ R_gs ≈ A: True\n",
      "Check if Q_np @ R_np ≈ A: True\n"
     ]
    }
   ],
   "source": [
    "# Task 4. Implement the QR factorisation by hand using the\n",
    "# Gram-Schmidt procedure and compare it to the above result using linalg.qr()\n",
    "# Reference: https://en.wikipedia.org/wiki/QR_decomposition#Using_the_Gram%E2%80%93Schmidt_proce\n",
    "\n",
    "def gram_schmidt_qr(A):\n",
    "    n = A.shape[0]\n",
    "    Q = np.zeros((n, n))\n",
    "    R = np.zeros((n, n))\n",
    "    for j in range(n):\n",
    "        v = A[:, j].copy()\n",
    "        for i in range(j):\n",
    "            R[i, j] = np.dot(Q[:, i], v)\n",
    "            v -= R[i, j] * Q[:, i]\n",
    "        R[j, j] = np.linalg.norm(v)\n",
    "        if R[j, j] == 0:\n",
    "            Q[:, j] = v\n",
    "        else:\n",
    "            Q[:, j] = v / R[j, j]\n",
    "    return Q, R\n",
    "\n",
    "\n",
    "# Given matrix A\n",
    "A = np.array([\n",
    "    [0.36017761, 0.29899136, 0.94790805, 0.66225041, 0.05242949],\n",
    "    [0.96834243, 0.38633789, 0.13144678, 0.25635183, 0.7449862],\n",
    "    [0.63736823, 0.03674595, 0.7195524, 0.77701343, 0.06313019],\n",
    "    [0.69311961, 0.44329579, 0.57682117, 0.53503807, 0.32678736],\n",
    "    [0.27317887, 0.80795302, 0.7149457, 0.1515109, 0.40629759]])\n",
    "\n",
    "# Compute QR using Gram-Schmidt\n",
    "Q_gs, R_gs = gram_schmidt_qr(A)\n",
    "\n",
    "# Compute QR using numpy\n",
    "Q_np, R_np = np.linalg.qr(A)\n",
    "\n",
    "# Adjust signs for comparison\n",
    "signs = np.sign(np.diag(np.dot(Q_gs.T, Q_np)))\n",
    "Q_np_adjusted = Q_np * signs\n",
    "R_np_adjusted = R_np * signs[:, np.newaxis]\n",
    "\n",
    "# Calculate differences\n",
    "diff_Q = np.linalg.norm(Q_gs - Q_np_adjusted)\n",
    "diff_R = np.linalg.norm(R_gs - R_np_adjusted)\n",
    "\n",
    "# Check orthogonality of Q_gs\n",
    "ortho_check = np.dot(Q_gs.T, Q_gs)\n",
    "# Remove diagonal for checking off-diagonal zeros\n",
    "np.fill_diagonal(ortho_check, 0)\n",
    "\n",
    "# Print results\n",
    "print(\"Q from Gram-Schmidt:\\n\", Q_gs)\n",
    "print(\"\\nQ from numpy.linalg.qr (adjusted signs):\\n\", Q_np_adjusted)\n",
    "print(\"\\nDifference between Q matrices:\", diff_Q)\n",
    "\n",
    "print(\"\\nR from Gram-Schmidt:\\n\", R_gs)\n",
    "print(\"\\nR from numpy.linalg.qr (adjusted signs):\\n\", R_np_adjusted)\n",
    "print(\"\\nDifference between R matrices:\", diff_R)\n",
    "\n",
    "print(\"\\nCheck orthogonality of Q_gs (off-diagonal elements):\\n\", ortho_check)\n",
    "print(\"\\nCheck if Q_gs @ R_gs ≈ A:\", np.allclose(Q_gs @ R_gs, A, atol=1e-8))\n",
    "print(\"Check if Q_np @ R_np ≈ A:\", np.allclose(Q_np @ R_np, A, atol=1e-8))"
   ]
  },
  {
   "cell_type": "markdown",
   "metadata": {},
   "source": [
    "## QR Algorithm for finding all eigenvalues\n",
    "\n",
    "The following iteration\n",
    "\\begin{align*}\n",
    "     A_i &= Q_i R_i \\\\\n",
    "     A_{i+1} &= R_iQ_i \n",
    "\\end{align*}\n",
    "starting with $A_0 = A$ keeps producing matrices $A_i$ which are similar to $A$ (in the sense that their eigenvalues are same) and converges to a triangular matrix $A_t$ for sufficiently large $t$. Hence the eigenvalues of $A$ which are same as that of $A_t$ can be read out from the diagonal of $A_t$."
   ]
  },
  {
   "cell_type": "code",
   "execution_count": 16,
   "metadata": {},
   "outputs": [],
   "source": [
    "# Implement the QR iteration\n",
    "def qr_iteration(A, num_iterations=20):\n",
    "    for i in range(num_iterations):\n",
    "        Q, R = np.linalg.qr(A)\n",
    "        A = R @ Q\n",
    "\n",
    "    return np.diag(A)"
   ]
  },
  {
   "cell_type": "code",
   "execution_count": 17,
   "metadata": {},
   "outputs": [
    {
     "name": "stdout",
     "output_type": "stream",
     "text": [
      "Eigenvalues returned by QR Algo \n",
      " [ 4.79409246  1.06758972  0.25848171  0.8186838   0.06036889 -0.69905449\n",
      " -0.26276474 -0.18833758  0.02336516  0.21919503]\n",
      "Eigenvalues returned by linalg.eig: \n",
      " [ 4.79409246+0.j         -0.74114095+0.j          0.18400232+0.7970475j\n",
      "  0.18400232-0.7970475j   1.02384894+0.j          0.85535715+0.j\n",
      " -0.22560559+0.27453041j -0.22560559-0.27453041j  0.12133445+0.22207593j\n",
      "  0.12133445-0.22207593j]\n"
     ]
    }
   ],
   "source": [
    "# Compute the eigenvalues using QR algorithm\n",
    "\n",
    "A = np.random.rand(10, 10)\n",
    "\n",
    "Eqr = qr_iteration(A)\n",
    "print(\"Eigenvalues returned by QR Algo \\n\", Eqr)\n",
    "\n",
    "# Compare with result from linalg.eig()\n",
    "E, V = np.linalg.eig(A)\n",
    "print(\"Eigenvalues returned by linalg.eig: \\n\", E)"
   ]
  },
  {
   "cell_type": "code",
   "execution_count": 18,
   "metadata": {},
   "outputs": [],
   "source": [
    "# Visualising the matrices $A_i$ during the QR iteration\n",
    "\n",
    "def qr_iteration_plot(A, num_iterations=20):\n",
    "    fig = plt.subplots(4, num_iterations//4)\n",
    "\n",
    "    for i in range(num_iterations):\n",
    "        plt.subplot(4, num_iterations//4, i+1)\n",
    "        plt.imshow(np.abs(A), norm='linear', cmap='gray')\n",
    "        Q, R = np.linalg.qr(A)\n",
    "        A = R @ Q\n",
    "    return np.diag(A)"
   ]
  },
  {
   "cell_type": "code",
   "execution_count": 19,
   "metadata": {},
   "outputs": [
    {
     "data": {
      "text/plain": [
       "array([ 5.08489044,  1.16063741, -0.66136994, -0.91598539,  0.60341399,\n",
       "       -0.10055696, -0.05218708,  0.31344432, -0.3984585 , -0.01080445])"
      ]
     },
     "execution_count": 19,
     "metadata": {},
     "output_type": "execute_result"
    },
    {
     "data": {
      "image/png": "[encoded data removed]",
      "text/plain": [
       "<Figure size 640x480 with 20 Axes>"
      ]
     },
     "metadata": {},
     "output_type": "display_data"
    }
   ],
   "source": [
    "A = np.random.rand(10, 10)\n",
    "qr_iteration_plot(A)"
   ]
  },
  {
   "cell_type": "code",
   "execution_count": 20,
   "metadata": {},
   "outputs": [],
   "source": [
    "# Task 5. Study the convergence of QR algorithm by plotting the\n",
    "# ratio sum(L)/sum(A) where L is the entries in the lower triangular\n",
    "# portion of A (excluding the diagonal) as the iteration progresses."
   ]
  }
 ],
 "metadata": {
  "kernelspec": {
   "display_name": "env",
   "language": "python",
   "name": "python3"
  },
  "language_info": {
   "codemirror_mode": {
    "name": "ipython",
    "version": 3
   },
   "file_extension": ".py",
   "mimetype": "text/x-python",
   "name": "python",
   "nbconvert_exporter": "python",
   "pygments_lexer": "ipython3",
   "version": "3.8.19"
  }
 },
 "nbformat": 4,
 "nbformat_minor": 2
}
