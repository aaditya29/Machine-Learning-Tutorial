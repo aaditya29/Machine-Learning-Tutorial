{
 "cells": [
  {
   "cell_type": "markdown",
   "metadata": {},
   "source": [
    "# NetworkX In Python"
   ]
  },
  {
   "cell_type": "markdown",
   "metadata": {},
   "source": [
    "\n",
    "## NetworkX Package in Python\n",
    "\n",
    "NetworkX is a Python package used for the creation, manipulation, and study of complex networks of nodes and edges. It provides tools to work with both undirected and directed graphs, and it is widely used in the field of network analysis.\n",
    "\n",
    "### Key Features of NetworkX:\n",
    "- **Graph Creation**: Easily create various types of graphs such as undirected, directed, and multigraphs.\n",
    "- **Graph Manipulation**: Add or remove nodes and edges, and modify graph attributes.\n",
    "- **Graph Algorithms**: Implement standard graph algorithms like shortest path, clustering, and network flow.\n",
    "- **Visualization**: Visualize graphs using Matplotlib or other visualization tools.\n",
    "\n",
    "### Example Usage:\n",
    "\n",
    "#### 1. Creating a Graph\n",
    "```python\n",
    "import networkx as nx\n",
    "\n",
    "# Create an empty graph\n",
    "G = nx.Graph()\n",
    "\n",
    "# Add nodes\n",
    "G.add_node(1)\n",
    "G.add_nodes_from([2, 3])\n",
    "\n",
    "# Add edges\n",
    "G.add_edge(1, 2)\n",
    "G.add_edges_from([(2, 3), (3, 1)])\n",
    "\n",
    "print(\"Nodes of graph: \", G.nodes())\n",
    "print(\"Edges of graph: \", G.edges())\n",
    "```\n",
    "\n",
    "#### 2. Drawing a Graph\n",
    "```python\n",
    "import matplotlib.pyplot as plt\n",
    "\n",
    "# Draw the graph\n",
    "nx.draw(G, with_labels=True)\n",
    "plt.show()\n",
    "```\n",
    "\n",
    "#### 3. Using Graph Algorithms\n",
    "```python\n",
    "# Find the shortest path between nodes\n",
    "shortest_path = nx.shortest_path(G, source=1, target=3)\n",
    "print(\"Shortest path between 1 and 3: \", shortest_path)\n",
    "```\n",
    "\n",
    "NetworkX is a powerful tool for network analysis and visualization, making it a valuable resource for researchers and developers working with graph data."
   ]
  },
  {
   "cell_type": "code",
   "execution_count": 1,
   "metadata": {},
   "outputs": [],
   "source": [
    "import networkx as nx\n",
    "import matplotlib.pyplot as plt"
   ]
  },
  {
   "cell_type": "code",
   "execution_count": null,
   "metadata": {},
   "outputs": [],
   "source": [
    "G = nx.Graph()\n",
    "G = nx.DiGraph()\n",
    "G = nx.MultiGraph()\n",
    "G = nx.MultiDiGraph()"
   ]
  },
  {
   "cell_type": "code",
   "execution_count": null,
   "metadata": {},
   "outputs": [],
   "source": []
  }
 ],
 "metadata": {
  "kernelspec": {
   "display_name": "Python 3",
   "language": "python",
   "name": "python3"
  },
  "language_info": {
   "codemirror_mode": {
    "name": "ipython",
    "version": 3
   },
   "file_extension": ".py",
   "mimetype": "text/x-python",
   "name": "python",
   "nbconvert_exporter": "python",
   "pygments_lexer": "ipython3",
   "version": "3.8.19"
  }
 },
 "nbformat": 4,
 "nbformat_minor": 2
}
