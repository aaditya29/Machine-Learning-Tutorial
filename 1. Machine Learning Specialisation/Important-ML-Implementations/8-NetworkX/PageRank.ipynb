{
 "cells": [
  {
   "cell_type": "markdown",
   "metadata": {},
   "source": [
    "# PageRank Implementation"
   ]
  },
  {
   "cell_type": "markdown",
   "metadata": {},
   "source": [
    "## Methods To Implement Page Rank\n",
    "\n",
    "\n",
    "We can compute PageRank in three ways\n",
    "   - Random surfer\n",
    "   - Probability spreading\n",
    "   - Eigen vector of Transition Probability Matrix"
   ]
  },
  {
   "cell_type": "code",
   "execution_count": 2,
   "metadata": {},
   "outputs": [],
   "source": [
    "import networkx as nx\n",
    "import numpy as np\n",
    "import matplotlib.pyplot as plt\n",
    "import random\n",
    "import pandas as pd"
   ]
  },
  {
   "cell_type": "markdown",
   "metadata": {},
   "source": [
    "### Checking Graph Stats"
   ]
  },
  {
   "cell_type": "code",
   "execution_count": 3,
   "metadata": {},
   "outputs": [],
   "source": [
    "def graph_stats(G):\n",
    "    print(\"Number of nodes\\t= \", G.number_of_nodes())\n",
    "    print(\"Number of edges\\t= \", G.number_of_edges())\n",
    "    print(\"Average degree \\t\\t= \", 2.0*G.number_of_edges()/G.number_of_nodes())\n",
    "    print(\"Is strongly connected\\t= \", nx.is_strongly_connected(G))"
   ]
  },
  {
   "cell_type": "markdown",
   "metadata": {},
   "source": [
    "## PageRank"
   ]
  },
  {
   "cell_type": "markdown",
   "metadata": {},
   "source": [
    "### 1. Using Built-In Function"
   ]
  },
  {
   "cell_type": "code",
   "execution_count": 4,
   "metadata": {},
   "outputs": [
    {
     "name": "stdout",
     "output_type": "stream",
     "text": [
      "Number of nodes\t=  107\n",
      "Number of edges\t=  352\n",
      "Average degree \t\t=  6.579439252336448\n",
      "Is strongly connected\t=  False\n"
     ]
    }
   ],
   "source": [
    "\n",
    "df = pd.read_csv(\"/Users/adityamishra/Documents/Machine Learning Tutorial/1. Machine Learning Specialisation/Important-ML-Implementations/8-NetworkX/data/got-edges.csv\")\n",
    "G = nx.from_pandas_edgelist(df, source = 'Source', target='Target', create_using=nx.DiGraph)# in this line we are \n",
    "graph_stats(G)"
   ]
  },
  {
   "cell_type": "markdown",
   "metadata": {},
   "source": [
    "### Calculating the PageRank using the `nx.pagerank()` Function"
   ]
  },
  {
   "cell_type": "code",
   "execution_count": 7,
   "metadata": {},
   "outputs": [
    {
     "data": {
      "text/html": [
       "<div>\n",
       "<style scoped>\n",
       "    .dataframe tbody tr th:only-of-type {\n",
       "        vertical-align: middle;\n",
       "    }\n",
       "\n",
       "    .dataframe tbody tr th {\n",
       "        vertical-align: top;\n",
       "    }\n",
       "\n",
       "    .dataframe thead th {\n",
       "        text-align: right;\n",
       "    }\n",
       "</style>\n",
       "<table border=\"1\" class=\"dataframe\">\n",
       "  <thead>\n",
       "    <tr style=\"text-align: right;\">\n",
       "      <th></th>\n",
       "      <th>Name</th>\n",
       "      <th>InDeg</th>\n",
       "      <th>OutDeg</th>\n",
       "      <th>PageRank</th>\n",
       "      <th>PageRanxM</th>\n",
       "    </tr>\n",
       "  </thead>\n",
       "  <tbody>\n",
       "    <tr>\n",
       "      <th>5</th>\n",
       "      <td>Robert</td>\n",
       "      <td>13</td>\n",
       "      <td>5</td>\n",
       "      <td>0.013432</td>\n",
       "      <td>RobertRobertRobertRobertRobertRobertRobertRobe...</td>\n",
       "    </tr>\n",
       "    <tr>\n",
       "      <th>6</th>\n",
       "      <td>Tyrion</td>\n",
       "      <td>12</td>\n",
       "      <td>24</td>\n",
       "      <td>0.013550</td>\n",
       "      <td>TyrionTyrionTyrionTyrionTyrionTyrionTyrionTyri...</td>\n",
       "    </tr>\n",
       "    <tr>\n",
       "      <th>4</th>\n",
       "      <td>Jaime</td>\n",
       "      <td>9</td>\n",
       "      <td>15</td>\n",
       "      <td>0.011496</td>\n",
       "      <td>JaimeJaimeJaimeJaimeJaimeJaimeJaimeJaimeJaimeJ...</td>\n",
       "    </tr>\n",
       "    <tr>\n",
       "      <th>51</th>\n",
       "      <td>Stannis</td>\n",
       "      <td>8</td>\n",
       "      <td>6</td>\n",
       "      <td>0.009496</td>\n",
       "      <td>StannisStannisStannisStannisStannisStannisStan...</td>\n",
       "    </tr>\n",
       "    <tr>\n",
       "      <th>24</th>\n",
       "      <td>Sandor</td>\n",
       "      <td>7</td>\n",
       "      <td>6</td>\n",
       "      <td>0.008425</td>\n",
       "      <td>SandorSandorSandorSandorSandorSandorSandorSand...</td>\n",
       "    </tr>\n",
       "    <tr>\n",
       "      <th>27</th>\n",
       "      <td>Loras</td>\n",
       "      <td>7</td>\n",
       "      <td>2</td>\n",
       "      <td>0.024829</td>\n",
       "      <td>LorasLorasLorasLorasLorasLorasLorasLorasLorasL...</td>\n",
       "    </tr>\n",
       "    <tr>\n",
       "      <th>2</th>\n",
       "      <td>Samwell</td>\n",
       "      <td>7</td>\n",
       "      <td>8</td>\n",
       "      <td>0.025444</td>\n",
       "      <td>SamwellSamwellSamwellSamwellSamwellSamwellSamw...</td>\n",
       "    </tr>\n",
       "    <tr>\n",
       "      <th>47</th>\n",
       "      <td>Petyr</td>\n",
       "      <td>7</td>\n",
       "      <td>0</td>\n",
       "      <td>0.010491</td>\n",
       "      <td>PetyrPetyrPetyrPetyrPetyrPetyrPetyrPetyrPetyrP...</td>\n",
       "    </tr>\n",
       "    <tr>\n",
       "      <th>19</th>\n",
       "      <td>Gregor</td>\n",
       "      <td>7</td>\n",
       "      <td>5</td>\n",
       "      <td>0.009566</td>\n",
       "      <td>GregorGregorGregorGregorGregorGregorGregorGreg...</td>\n",
       "    </tr>\n",
       "    <tr>\n",
       "      <th>84</th>\n",
       "      <td>Margaery</td>\n",
       "      <td>7</td>\n",
       "      <td>0</td>\n",
       "      <td>0.032841</td>\n",
       "      <td>MargaeryMargaeryMargaeryMargaeryMargaeryMargae...</td>\n",
       "    </tr>\n",
       "  </tbody>\n",
       "</table>\n",
       "</div>"
      ],
      "text/plain": [
       "        Name  InDeg  OutDeg  PageRank  \\\n",
       "5     Robert     13       5  0.013432   \n",
       "6     Tyrion     12      24  0.013550   \n",
       "4      Jaime      9      15  0.011496   \n",
       "51   Stannis      8       6  0.009496   \n",
       "24    Sandor      7       6  0.008425   \n",
       "27     Loras      7       2  0.024829   \n",
       "2    Samwell      7       8  0.025444   \n",
       "47     Petyr      7       0  0.010491   \n",
       "19    Gregor      7       5  0.009566   \n",
       "84  Margaery      7       0  0.032841   \n",
       "\n",
       "                                            PageRanxM  \n",
       "5   RobertRobertRobertRobertRobertRobertRobertRobe...  \n",
       "6   TyrionTyrionTyrionTyrionTyrionTyrionTyrionTyri...  \n",
       "4   JaimeJaimeJaimeJaimeJaimeJaimeJaimeJaimeJaimeJ...  \n",
       "51  StannisStannisStannisStannisStannisStannisStan...  \n",
       "24  SandorSandorSandorSandorSandorSandorSandorSand...  \n",
       "27  LorasLorasLorasLorasLorasLorasLorasLorasLorasL...  \n",
       "2   SamwellSamwellSamwellSamwellSamwellSamwellSamw...  \n",
       "47  PetyrPetyrPetyrPetyrPetyrPetyrPetyrPetyrPetyrP...  \n",
       "19  GregorGregorGregorGregorGregorGregorGregorGreg...  \n",
       "84  MargaeryMargaeryMargaeryMargaeryMargaeryMargae...  "
      ]
     },
     "execution_count": 7,
     "metadata": {},
     "output_type": "execute_result"
    }
   ],
   "source": [
    "#Calculating the in and out degrees\n",
    "dfG = pd.DataFrame(data=G.nodes(), columns=['Name'])\n",
    "dfG['InDeg']=dfG['Name'].map(G.in_degree)\n",
    "dfG['OutDeg'] = dfG['Name'].map(G.out_degree)\n",
    "dfG['PageRank']= dfG['Name'].map(nx.pagerank(G))\n",
    "dfG['PageRanxM'] = dfG['Name']*G.number_of_edges()\n",
    "dfG.sort_values('InDeg', ascending=False).head(10)"
   ]
  },
  {
   "cell_type": "code",
   "execution_count": null,
   "metadata": {},
   "outputs": [],
   "source": []
  }
 ],
 "metadata": {
  "kernelspec": {
   "display_name": "Python 3",
   "language": "python",
   "name": "python3"
  },
  "language_info": {
   "codemirror_mode": {
    "name": "ipython",
    "version": 3
   },
   "file_extension": ".py",
   "mimetype": "text/x-python",
   "name": "python",
   "nbconvert_exporter": "python",
   "pygments_lexer": "ipython3",
   "version": "3.8.19"
  }
 },
 "nbformat": 4,
 "nbformat_minor": 2
}
