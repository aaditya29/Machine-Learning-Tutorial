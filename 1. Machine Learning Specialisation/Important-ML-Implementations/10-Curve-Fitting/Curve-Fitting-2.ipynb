{
 "cells": [
  {
   "cell_type": "markdown",
   "metadata": {},
   "source": [
    "# Fitting First Order ODE Solutions to Given Data\n"
   ]
  },
  {
   "cell_type": "markdown",
   "metadata": {},
   "source": [
    "## Solving First Order ODE\n",
    "\n",
    "Let $y(t)$ be defined by a system of first order ODEs which involve some unknown parameters $p = (p_1, \\ldots, p_l)$. That is\n",
    "\n",
    "$$\\frac{dy(t)}{dt} = f(y(t), t, p)$$\n",
    "\n",
    "Here, $y$ can be an $\\mathbb{R}$-valued or vector-valued function. If $y(t) = (y_1(t), \\ldots, y_k(t))$, then $\\frac{dy(t)}{dt} = (\\frac{dy_1(t)}{dt}, \\ldots, \\frac{dy_k(t)}{dt})$."
   ]
  },
  {
   "cell_type": "markdown",
   "metadata": {},
   "source": [
    "### Task 1. Simple harmonic oscillation\n",
    "\n",
    "The data in the file `simple-harmonic-noisy.csv` is a noisy reading of a function $y(t)$ defined by the following second order ODE\n",
    "$$\\frac{d^2}{dt^2} y + \\omega^2 y = 0$$\n",
    "with initial conditions $y(0) = 0$ and $y_1(0) = 0$ in the interval $[0,10]$.\n",
    "\n",
    "Estimate the value of $\\omega$ using\n",
    "1. scipy.optimize.minimize (try multiple methods and time the successfull ones)\n",
    "2. scipy.optimize.least_squares (try multiple methods and time the successfull ones)"
   ]
  },
  {
   "cell_type": "code",
   "execution_count": 1,
   "metadata": {},
   "outputs": [],
   "source": [
    "import matplotlib.pyplot as plt\n",
    "import numpy as np\n",
    "import scipy.integrate as integrate\n",
    "import scipy.optimize as optimize\n",
    "import pandas as pd\n",
    "import time"
   ]
  },
  {
   "cell_type": "code",
   "execution_count": null,
   "metadata": {},
   "outputs": [],
   "source": [
    "# Read the data from csv file into a pandas dataframe"
   ]
  }
 ],
 "metadata": {
  "kernelspec": {
   "display_name": "Python 3",
   "language": "python",
   "name": "python3"
  },
  "language_info": {
   "codemirror_mode": {
    "name": "ipython",
    "version": 3
   },
   "file_extension": ".py",
   "mimetype": "text/x-python",
   "name": "python",
   "nbconvert_exporter": "python",
   "pygments_lexer": "ipython3",
   "version": "3.8.19"
  }
 },
 "nbformat": 4,
 "nbformat_minor": 2
}
