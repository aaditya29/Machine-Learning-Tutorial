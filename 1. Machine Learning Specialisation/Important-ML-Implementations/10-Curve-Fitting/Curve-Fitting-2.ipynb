{
 "cells": [
  {
   "cell_type": "markdown",
   "metadata": {},
   "source": [
    "# Fitting First Order ODE Solutions to Given Data\n"
   ]
  },
  {
   "cell_type": "markdown",
   "metadata": {},
   "source": [
    "## Solving First Order ODE\n",
    "\n",
    "Let $y(t)$ be defined by a system of first order ODEs which involve some unknown parameters $p = (p_1, \\ldots, p_l)$. That is\n",
    "\n",
    "$$\\frac{dy(t)}{dt} = f(y(t), t, p)$$\n",
    "\n",
    "Here, $y$ can be an $\\mathbb{R}$-valued or vector-valued function. If $y(t) = (y_1(t), \\ldots, y_k(t))$, then $\\frac{dy(t)}{dt} = (\\frac{dy_1(t)}{dt}, \\ldots, \\frac{dy_k(t)}{dt})$."
   ]
  },
  {
   "cell_type": "markdown",
   "metadata": {},
   "source": [
    "### Task 1. Simple harmonic oscillation\n",
    "\n",
    "The data in the file `simple-harmonic-noisy.csv` is a noisy reading of a function $y(t)$ defined by the following second order ODE\n",
    "$$\\frac{d^2}{dt^2} y + \\omega^2 y = 0$$\n",
    "with initial conditions $y(0) = 0$ and $y_1(0) = 0$ in the interval $[0,10]$.\n",
    "\n",
    "Estimate the value of $\\omega$ using\n",
    "1. scipy.optimize.minimize (try multiple methods and time the successfull ones)\n",
    "2. scipy.optimize.least_squares (try multiple methods and time the successfull ones)"
   ]
  },
  {
   "cell_type": "code",
   "execution_count": 1,
   "metadata": {},
   "outputs": [],
   "source": [
    "import matplotlib.pyplot as plt\n",
    "import numpy as np\n",
    "import scipy.integrate as integrate\n",
    "import scipy.optimize as optimize\n",
    "import pandas as pd\n",
    "import time"
   ]
  },
  {
   "cell_type": "code",
   "execution_count": 2,
   "metadata": {},
   "outputs": [
    {
     "name": "stdout",
     "output_type": "stream",
     "text": [
      "      time         y\n",
      "0  0.00000 -0.046736\n",
      "1  0.10101  0.231668\n",
      "2  0.20202  0.471371\n",
      "3  0.30303  0.705724\n",
      "4  0.40404  0.835048\n"
     ]
    }
   ],
   "source": [
    "# Read the data from csv file into a pandas dataframe\n",
    "df = pd.read_csv(\"/Users/adityamishra/Documents/Machine Learning Tutorial/1. Machine Learning Specialisation/Important-ML-Implementations/10-Curve-Fitting/data/simple-harmonic-noisy.csv\")\n",
    "print(df.head())"
   ]
  },
  {
   "cell_type": "code",
   "execution_count": 3,
   "metadata": {},
   "outputs": [],
   "source": [
    "# Storing the data in the numpy arrays\n",
    "t_eval = np.array(df[\"time\"])# definig t_eval as the time values array\n",
    "y_real = np.array(df[\"y\"])"
   ]
  },
  {
   "cell_type": "code",
   "execution_count": 4,
   "metadata": {},
   "outputs": [],
   "source": [
    "# Setting up the IVP: ODE, initial conditions\n",
    "def harmonic_ode(t,y,omega):\n",
    "    y_current, y1_current = y # unpacking the y array into y_current and y1_current\n",
    "    dy_dt = y1_current\n",
    "    dy1_dt = -(omega ** 2) * y_current\n",
    "    return [dy_dt, dy1_dt]\n",
    "\n",
    "#Definding the initial conditions\n",
    "y0 = [0,1]"
   ]
  },
  {
   "cell_type": "code",
   "execution_count": 9,
   "metadata": {},
   "outputs": [],
   "source": [
    "# Define residual and cost (least square error) between real data and estimate\n",
    "def residual(p):\n",
    "   sol = integrate.solve_ivp(harmonic_ode,(t_eval[0], t_eval[-1]),y0,t_eval=t_eval,args=tuple(p), method='RK45')\n",
    "   return sol.y[0] - y_real\n",
    "\n",
    "def cost(p):\n",
    "    return np.sum(residual(p) ** 2)"
   ]
  },
  {
   "cell_type": "code",
   "execution_count": 10,
   "metadata": {},
   "outputs": [
    {
     "name": "stdout",
     "output_type": "stream",
     "text": [
      "Estimating the value of omega using scipy.optimize.minimize: \n",
      "Method:  Nelder-Mead -> ω = 3.2716, Cost: 51.19, Time: 0.11s\n",
      "Method:  Powell -> ω = 2.4891, Cost: 17.99, Time: 0.06s\n"
     ]
    }
   ],
   "source": [
    "# Find omega using scipy.optimize.minimize\n",
    "p_guess = [3.0]\n",
    "methods_min = ['Nelder-Mead', 'Powell']\n",
    "\n",
    "print(\"Estimating the value of omega using scipy.optimize.minimize: \")\n",
    "results_min = []# list to store the results of the optimization\n",
    "for method in methods_min:\n",
    "    start_time = time.time()# start time of the optimization\n",
    "    result = optimize.minimize(cost, p_guess, method=method)\n",
    "    elapsed_time = time.time() - start_time# time taken to optimize\n",
    "    if result.success:\n",
    "        print(f\"Method:  {method} -> ω = {result.x[0]:.4f}, Cost: {result.fun:.2f}, Time: {elapsed_time:.2f}s\")# printing the results where method is the optimization method, result.x[0] is the optimized value of omega, result.fun is the cost and elapsed_time is the time taken to optimize\n",
    "    else:\n",
    "        print(f\"Method:  {method} Failed.\")\n",
    "         "
   ]
  },
  {
   "cell_type": "code",
   "execution_count": null,
   "metadata": {},
   "outputs": [],
   "source": [
    "# Find omega using scipy.optimize.least_squares"
   ]
  }
 ],
 "metadata": {
  "kernelspec": {
   "display_name": "Python 3",
   "language": "python",
   "name": "python3"
  },
  "language_info": {
   "codemirror_mode": {
    "name": "ipython",
    "version": 3
   },
   "file_extension": ".py",
   "mimetype": "text/x-python",
   "name": "python",
   "nbconvert_exporter": "python",
   "pygments_lexer": "ipython3",
   "version": "3.8.19"
  }
 },
 "nbformat": 4,
 "nbformat_minor": 2
}
