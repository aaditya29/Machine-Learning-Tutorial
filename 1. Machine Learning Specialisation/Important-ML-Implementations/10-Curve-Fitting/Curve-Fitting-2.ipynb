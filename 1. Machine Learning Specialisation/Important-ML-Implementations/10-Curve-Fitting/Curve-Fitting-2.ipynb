{
 "cells": [
  {
   "cell_type": "markdown",
   "metadata": {},
   "source": [
    "# Fitting First Order ODE Solutions to Given Data\n"
   ]
  },
  {
   "cell_type": "markdown",
   "metadata": {},
   "source": [
    "## Solving First Order ODE\n",
    "\n",
    "Let $y(t)$ be defined by a system of first order ODEs which involve some unknown parameters $p = (p_1, \\ldots, p_l)$. That is\n",
    "\n",
    "$$\\frac{dy(t)}{dt} = f(y(t), t, p)$$\n",
    "\n",
    "Here, $y$ can be an $\\mathbb{R}$-valued or vector-valued function. If $y(t) = (y_1(t), \\ldots, y_k(t))$, then $\\frac{dy(t)}{dt} = (\\frac{dy_1(t)}{dt}, \\ldots, \\frac{dy_k(t)}{dt})$."
   ]
  },
  {
   "cell_type": "markdown",
   "metadata": {},
   "source": []
  }
 ],
 "metadata": {
  "language_info": {
   "name": "python"
  }
 },
 "nbformat": 4,
 "nbformat_minor": 2
}
