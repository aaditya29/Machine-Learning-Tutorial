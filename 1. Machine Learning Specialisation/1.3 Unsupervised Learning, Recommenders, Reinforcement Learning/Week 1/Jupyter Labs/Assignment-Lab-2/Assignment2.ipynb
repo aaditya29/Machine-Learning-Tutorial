{
 "cells": [
  {
   "cell_type": "markdown",
   "metadata": {},
   "source": [
    "# Anomaly Detection"
   ]
  },
  {
   "cell_type": "code",
   "execution_count": 1,
   "metadata": {},
   "outputs": [],
   "source": [
    "import numpy as np\n",
    "import matplotlib.pyplot as plt\n",
    "from utils import *"
   ]
  },
  {
   "cell_type": "markdown",
   "metadata": {},
   "source": [
    "### Loading The Dataset"
   ]
  },
  {
   "cell_type": "markdown",
   "metadata": {},
   "source": [
    "The `load_data(`) function shown below loads the data into the variables `X_train`, `X_val` and `y_val`.\n",
    "\n",
    "- We will use `X_train` to fit a Gaussian distribution\n",
    "- We will use `X_val` and `y_val` as a cross validation set to select a threshold and determine anomalous vs normal examples"
   ]
  },
  {
   "cell_type": "code",
   "execution_count": 3,
   "metadata": {},
   "outputs": [],
   "source": [
    "#Loading the dataset\n",
    "X_train, X_val, y_val = load_data()"
   ]
  },
  {
   "cell_type": "markdown",
   "metadata": {},
   "source": [
    "### Viewing The Variables"
   ]
  },
  {
   "cell_type": "code",
   "execution_count": 4,
   "metadata": {},
   "outputs": [],
   "source": [
    "#Displaying the first five elements of X_train"
   ]
  },
  {
   "cell_type": "code",
   "execution_count": 5,
   "metadata": {},
   "outputs": [
    {
     "name": "stdout",
     "output_type": "stream",
     "text": [
      "The first 5 elements of X_train are:\n",
      " [[13.04681517 14.74115241]\n",
      " [13.40852019 13.7632696 ]\n",
      " [14.19591481 15.85318113]\n",
      " [14.91470077 16.17425987]\n",
      " [13.57669961 14.04284944]]\n"
     ]
    }
   ],
   "source": [
    "print(\"The first 5 elements of X_train are:\\n\", X_train[:5])"
   ]
  },
  {
   "cell_type": "code",
   "execution_count": 6,
   "metadata": {},
   "outputs": [
    {
     "name": "stdout",
     "output_type": "stream",
     "text": [
      "The first 5 elements of X_val are\n",
      " [[15.79025979 14.9210243 ]\n",
      " [13.63961877 15.32995521]\n",
      " [14.86589943 16.47386514]\n",
      " [13.58467605 13.98930611]\n",
      " [13.46404167 15.63533011]]\n"
     ]
    }
   ],
   "source": [
    "# Display the first five elements of X_val\n",
    "print(\"The first 5 elements of X_val are\\n\", X_val[:5])"
   ]
  },
  {
   "cell_type": "code",
   "execution_count": 7,
   "metadata": {},
   "outputs": [
    {
     "name": "stdout",
     "output_type": "stream",
     "text": [
      "The first 5 elements of y_val are\n",
      " [0 0 0 0 0]\n"
     ]
    }
   ],
   "source": [
    "# Display the first five elements of y_val\n",
    "print(\"The first 5 elements of y_val are\\n\", y_val[:5])"
   ]
  },
  {
   "cell_type": "markdown",
   "metadata": {},
   "source": [
    "### Checking the Dimensions of the Variables"
   ]
  },
  {
   "cell_type": "code",
   "execution_count": 8,
   "metadata": {},
   "outputs": [
    {
     "name": "stdout",
     "output_type": "stream",
     "text": [
      "The shape of X_train is: (307, 2)\n",
      "The shape of X_val is: (307, 2)\n",
      "The shape of y_val is:  (307,)\n"
     ]
    }
   ],
   "source": [
    "print('The shape of X_train is:', X_train.shape)\n",
    "print('The shape of X_val is:', X_val.shape)\n",
    "print('The shape of y_val is: ', y_val.shape)"
   ]
  },
  {
   "cell_type": "markdown",
   "metadata": {},
   "source": [
    "### Visualising Our Data"
   ]
  },
  {
   "cell_type": "code",
   "execution_count": 13,
   "metadata": {},
   "outputs": [
    {
     "data": {
      "image/png": "[encoded data removed]",
      "text/plain": [
       "<Figure size 640x480 with 1 Axes>"
      ]
     },
     "metadata": {},
     "output_type": "display_data"
    }
   ],
   "source": [
    "#Creating our scatter plot\n",
    "plt.scatter(X_train[:, 0], X_train[:, 1], marker='x', c='grey')\n",
    "\n",
    "#setting the title\n",
    "plt.title(\"The First Dataset\")\n",
    "#setting the y-axis label\n",
    "plt.ylabel('Throughput(mb/s)')\n",
    "# Set the x-axis label\n",
    "plt.xlabel('Latency (ms)')\n",
    "# Set axis range\n",
    "plt.axis([0, 30, 0, 30])\n",
    "plt.show()"
   ]
  },
  {
   "cell_type": "code",
   "execution_count": null,
   "metadata": {},
   "outputs": [],
   "source": []
  }
 ],
 "metadata": {
  "kernelspec": {
   "display_name": "Python 3",
   "language": "python",
   "name": "python3"
  },
  "language_info": {
   "codemirror_mode": {
    "name": "ipython",
    "version": 3
   },
   "file_extension": ".py",
   "mimetype": "text/x-python",
   "name": "python",
   "nbconvert_exporter": "python",
   "pygments_lexer": "ipython3",
   "version": "3.8.19"
  }
 },
 "nbformat": 4,
 "nbformat_minor": 2
}
