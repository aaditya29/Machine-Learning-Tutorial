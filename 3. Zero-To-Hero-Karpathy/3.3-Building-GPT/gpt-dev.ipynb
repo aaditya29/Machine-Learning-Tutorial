{
 "cells": [
  {
   "cell_type": "markdown",
   "id": "ea767054",
   "metadata": {},
   "source": [
    "# Building GPT From Scratch"
   ]
  },
  {
   "cell_type": "markdown",
   "id": "4b5e1c28",
   "metadata": {},
   "source": [
    "## 1. Data Loading and Preparation"
   ]
  },
  {
   "cell_type": "markdown",
   "id": "2a886f16",
   "metadata": {},
   "source": [
    "### Reading the Text Data"
   ]
  },
  {
   "cell_type": "code",
   "execution_count": 1,
   "id": "2737fc44",
   "metadata": {},
   "outputs": [],
   "source": [
    "# read it in to inspect it\n",
    "with open('input.txt', 'r', encoding='utf-8') as f:\n",
    "    text = f.read()"
   ]
  },
  {
   "cell_type": "code",
   "execution_count": null,
   "id": "70d2fc7c",
   "metadata": {},
   "outputs": [],
   "source": []
  }
 ],
 "metadata": {
  "kernelspec": {
   "display_name": "env",
   "language": "python",
   "name": "python3"
  },
  "language_info": {
   "codemirror_mode": {
    "name": "ipython",
    "version": 3
   },
   "file_extension": ".py",
   "mimetype": "text/x-python",
   "name": "python",
   "nbconvert_exporter": "python",
   "pygments_lexer": "ipython3",
   "version": "3.8.19"
  }
 },
 "nbformat": 4,
 "nbformat_minor": 5
}
