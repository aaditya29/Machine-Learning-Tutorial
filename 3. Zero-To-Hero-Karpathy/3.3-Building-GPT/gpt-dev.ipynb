{
 "cells": [
  {
   "cell_type": "markdown",
   "id": "ea767054",
   "metadata": {},
   "source": [
    "# Building GPT From Scratch"
   ]
  },
  {
   "cell_type": "markdown",
   "id": "4b5e1c28",
   "metadata": {},
   "source": [
    "## 1. Data Loading and Preparation"
   ]
  },
  {
   "cell_type": "markdown",
   "id": "2a886f16",
   "metadata": {},
   "source": [
    "### Reading the Text Data"
   ]
  },
  {
   "cell_type": "code",
   "execution_count": 12,
   "id": "9d535d21",
   "metadata": {},
   "outputs": [],
   "source": [
    "import torch"
   ]
  },
  {
   "cell_type": "code",
   "execution_count": 1,
   "id": "2737fc44",
   "metadata": {},
   "outputs": [],
   "source": [
    "# read it in to inspect it\n",
    "with open('input.txt', 'r', encoding='utf-8') as f:\n",
    "    text = f.read()"
   ]
  },
  {
   "cell_type": "markdown",
   "id": "937a9db0",
   "metadata": {},
   "source": [
    "### Inspecting the Data Size"
   ]
  },
  {
   "cell_type": "code",
   "execution_count": 2,
   "id": "70d2fc7c",
   "metadata": {},
   "outputs": [
    {
     "name": "stdout",
     "output_type": "stream",
     "text": [
      "Length of dataset in characters:  1115394\n"
     ]
    }
   ],
   "source": [
    "print(\"Length of dataset in characters: \", len(text))"
   ]
  },
  {
   "cell_type": "markdown",
   "id": "1e9318e2",
   "metadata": {},
   "source": [
    "### Previewing the Dataset"
   ]
  },
  {
   "cell_type": "code",
   "execution_count": 5,
   "id": "c593eb92",
   "metadata": {},
   "outputs": [
    {
     "name": "stdout",
     "output_type": "stream",
     "text": [
      "First Citizen:\n",
      "Before we proceed any further, hear me speak.\n",
      "\n",
      "All:\n",
      "Speak, speak.\n",
      "\n",
      "First Citizen:\n",
      "You\n"
     ]
    }
   ],
   "source": [
    "print(text[:100])# print the first 100 characters"
   ]
  },
  {
   "cell_type": "markdown",
   "id": "9ab1afe9",
   "metadata": {},
   "source": [
    "## 2. Tokenization"
   ]
  },
  {
   "cell_type": "markdown",
   "id": "b08b758b",
   "metadata": {},
   "source": [
    "### Creating the Vocabulary\n",
    "A neural network can't process raw characters hence it needs numbers. Therefore our first step is to create a \"vocabulary\" of all the unique characters present in our text. We also calculate the `vocab_size` which is the number of unique characters. This will determine the size of our model's embedding and output layers."
   ]
  },
  {
   "cell_type": "code",
   "execution_count": 7,
   "id": "1f4a93d3",
   "metadata": {},
   "outputs": [
    {
     "name": "stdout",
     "output_type": "stream",
     "text": [
      "All the unique characters in the dataset are as follows:  \n",
      " !$&',-.3:;?ABCDEFGHIJKLMNOPQRSTUVWXYZabcdefghijklmnopqrstuvwxyz\n"
     ]
    }
   ],
   "source": [
    "chars = sorted(list(set(text)))# create a sorted list of unique characters\n",
    "vocab_size = len(chars)\n",
    "print(\"All the unique characters in the dataset are as follows: \", ''.join(chars))"
   ]
  },
  {
   "cell_type": "code",
   "execution_count": 9,
   "id": "9e04184d",
   "metadata": {},
   "outputs": [
    {
     "name": "stdout",
     "output_type": "stream",
     "text": [
      "Vocabulary size: 65\n"
     ]
    }
   ],
   "source": [
    "print(\"Vocabulary size:\", vocab_size)"
   ]
  },
  {
   "cell_type": "markdown",
   "id": "32eb4388",
   "metadata": {},
   "source": [
    "### Creating Encoder and Decoder\n",
    "\n",
    "Now we create a mapping (or \"tokenizer\") that can convert characters to integers and back.\n",
    "- **`stoi` (string-to-integer):** A dictionary that maps each unique character to a unique integer.\n",
    "- **`itos` (integer-to-string):** A dictionary that does the reverse, mapping integers back to characters.\n",
    "- `encode`: A function that takes a string and converts it into a list of integers (tokens) using stoi.\n",
    "- `decode`: A function that takes a list of integers and converts it back into a string using itos."
   ]
  },
  {
   "cell_type": "code",
   "execution_count": 10,
   "id": "da843a26",
   "metadata": {},
   "outputs": [],
   "source": [
    "# create a mapping from characters to integers and vice versa\n",
    "stoi = {ch:i for i,ch in enumerate(chars)}\n",
    "itos = {i:ch for i, ch in enumerate(chars)}\n",
    "encode = lambda s: [stoi[c] for c in s] # encoder: take a string, output a list of integers\n",
    "decode = lambda l: ''.join([itos[i] for i in l]) # decoder: take a list of integers, output a string"
   ]
  },
  {
   "cell_type": "code",
   "execution_count": 11,
   "id": "12a4188b",
   "metadata": {},
   "outputs": [
    {
     "name": "stdout",
     "output_type": "stream",
     "text": [
      "[46, 43, 50, 50, 53, 1, 61, 53, 56, 50, 42]\n",
      "hello world\n"
     ]
    }
   ],
   "source": [
    "print(encode(\"hello world\")) # encode the string \"hello world\" to integers\n",
    "print(decode(encode(\"hello world\"))) # decode back to string"
   ]
  },
  {
   "cell_type": "markdown",
   "id": "542e7c27",
   "metadata": {},
   "source": [
    "### Encoding the Entire Dataset"
   ]
  },
  {
   "cell_type": "code",
   "execution_count": 13,
   "id": "6f822372",
   "metadata": {},
   "outputs": [
    {
     "name": "stdout",
     "output_type": "stream",
     "text": [
      "torch.Size([1115394]) torch.int64\n",
      "tensor([18, 47, 56, 57, 58,  1, 15, 47, 58, 47, 64, 43, 52, 10,  0, 14, 43, 44,\n",
      "        53, 56, 43,  1, 61, 43,  1, 54, 56, 53, 41, 43, 43, 42,  1, 39, 52, 63,\n",
      "         1, 44, 59, 56, 58, 46, 43, 56,  6,  1, 46, 43, 39, 56,  1, 51, 43,  1,\n",
      "        57, 54, 43, 39, 49,  8,  0,  0, 13, 50, 50, 10,  0, 31, 54, 43, 39, 49,\n",
      "         6,  1, 57, 54, 43, 39, 49,  8,  0,  0, 18, 47, 56, 57, 58,  1, 15, 47,\n",
      "        58, 47, 64, 43, 52, 10,  0, 37, 53, 59])\n"
     ]
    }
   ],
   "source": [
    "data = torch.tensor(encode(text), dtype=torch.long)# encode the entire text dataset and store it in a torch tensor\n",
    "print(data.shape, data.dtype)\n",
    "print(data[:100])"
   ]
  },
  {
   "cell_type": "markdown",
   "id": "37189ce2",
   "metadata": {},
   "source": [
    "## 3. Data Splitting and Batching"
   ]
  },
  {
   "cell_type": "markdown",
   "id": "0bee94e6",
   "metadata": {},
   "source": [
    "### Train and Validation Split\n"
   ]
  },
  {
   "cell_type": "code",
   "execution_count": 14,
   "id": "2446eeaf",
   "metadata": {},
   "outputs": [],
   "source": [
    "n = int(0.9*len(data))# first 90% will be train, rest validation\n",
    "train_data = data[:n]\n",
    "val_data = data[n:]"
   ]
  },
  {
   "cell_type": "markdown",
   "id": "271de848",
   "metadata": {},
   "source": [
    "### Understanding Context and Targets\n",
    "A language model works by predicting the next token in a sequence given a preceding context. The maximum length of this context is called the **block size** or **context length**.<br>\n",
    "Now we perform two tasks:\n",
    "- The input `x` is a chunk of text of length `block_size`.\n",
    "- The target `y` is the same chunk of text but shifted one position to the right.\n",
    "\n",
    "For every position `t` in the sequence the model will learn to predict the target `y[t]` using the context of all tokens up to `x[t]`."
   ]
  },
  {
   "cell_type": "code",
   "execution_count": 15,
   "id": "ceeda881",
   "metadata": {},
   "outputs": [
    {
     "data": {
      "text/plain": [
       "tensor([18, 47, 56, 57, 58,  1, 15, 47, 58])"
      ]
     },
     "execution_count": 15,
     "metadata": {},
     "output_type": "execute_result"
    }
   ],
   "source": [
    "block_size = 8# context length for predictions\n",
    "train_data[:block_size+1]# a chunk of text of length block_size + 1"
   ]
  },
  {
   "cell_type": "code",
   "execution_count": 16,
   "id": "b5544466",
   "metadata": {},
   "outputs": [
    {
     "name": "stdout",
     "output_type": "stream",
     "text": [
      "When input is tensor([18]) the target: 47\n",
      "When input is tensor([18, 47]) the target: 56\n",
      "When input is tensor([18, 47, 56]) the target: 57\n",
      "When input is tensor([18, 47, 56, 57]) the target: 58\n",
      "When input is tensor([18, 47, 56, 57, 58]) the target: 1\n",
      "When input is tensor([18, 47, 56, 57, 58,  1]) the target: 15\n",
      "When input is tensor([18, 47, 56, 57, 58,  1, 15]) the target: 47\n",
      "When input is tensor([18, 47, 56, 57, 58,  1, 15, 47]) the target: 58\n"
     ]
    }
   ],
   "source": [
    "x = train_data[:block_size]# input\n",
    "y = train_data[1:block_size+1]# target\n",
    "for t in range(block_size):\n",
    "    context = x[:t+1]# the context is everything up to and including position t\n",
    "    target = y[t]# the target is the next character we want to predict\n",
    "    print(f\"When input is {context} the target: {target}\")"
   ]
  },
  {
   "cell_type": "markdown",
   "id": "2360ece6",
   "metadata": {},
   "source": [
    "### Creating a Batch Generation Function\n",
    "Training on the entire dataset at once is computationally expensive. Instead we train on small random chunks of data called minibatches.\n",
    "This function `get_batch` does the following:\n",
    "1. Selects `batch_size` (e.g., 4) random starting points in the dataset (`train_data` or `val_data`).\n",
    "2. For each starting point it grabs a sequence of length `block_size` for the input (`x`).\n",
    "3. It grabs the corresponding sequence of length block_size (shifted by one) for the target (y).\n",
    "4. It stacks these individual sequences into two tensors `xb` and `yb` of shape (batch_size, block_size).\n",
    "\n",
    "This provides a batch of independent examples that we can process in parallel which is highly efficient on modern hardware like GPUs."
   ]
  },
  {
   "cell_type": "code",
   "execution_count": 18,
   "id": "c05da2a9",
   "metadata": {},
   "outputs": [
    {
     "name": "stdout",
     "output_type": "stream",
     "text": [
      "inputs:\n",
      "torch.Size([4, 8])\n",
      "tensor([[24, 43, 58,  5, 57,  1, 46, 43],\n",
      "        [44, 53, 56,  1, 58, 46, 39, 58],\n",
      "        [52, 58,  1, 58, 46, 39, 58,  1],\n",
      "        [25, 17, 27, 10,  0, 21,  1, 54]])\n",
      "targets:\n",
      "torch.Size([4, 8])\n",
      "tensor([[43, 58,  5, 57,  1, 46, 43, 39],\n",
      "        [53, 56,  1, 58, 46, 39, 58,  1],\n",
      "        [58,  1, 58, 46, 39, 58,  1, 46],\n",
      "        [17, 27, 10,  0, 21,  1, 54, 39]])\n"
     ]
    }
   ],
   "source": [
    "torch.manual_seed(1337)\n",
    "batch_size = 4 # how many independent sequences will we process in parallel\n",
    "block_size = 8 # what is the maximum context length for predictions\n",
    "\n",
    "def get_batch(split):\n",
    "    data = train_data if split == 'train' else val_data\n",
    "    ix = torch.randint(len(data) - block_size, (batch_size,))# pick random starting indices for the batch \n",
    "    x = torch.stack([data[i:i+block_size] for i in ix])# gather the input sequences for each starting index\n",
    "    y = torch.stack([data[i+1:i+block_size+1] for i in ix])# gather the target sequences (shifted by one) for each starting index\n",
    "    return x, y\n",
    "\n",
    "\n",
    "xb, yb = get_batch('train')\n",
    "print('inputs:')\n",
    "print(xb.shape)\n",
    "print(xb)\n",
    "print('targets:')\n",
    "print(yb.shape)\n",
    "print(yb)"
   ]
  },
  {
   "cell_type": "code",
   "execution_count": 20,
   "id": "70b758e3",
   "metadata": {},
   "outputs": [
    {
     "name": "stdout",
     "output_type": "stream",
     "text": [
      "When input is [24] the target: 43\n",
      "When input is [24, 43] the target: 58\n",
      "When input is [24, 43, 58] the target: 5\n",
      "When input is [24, 43, 58, 5] the target: 57\n",
      "When input is [24, 43, 58, 5, 57] the target: 1\n",
      "When input is [24, 43, 58, 5, 57, 1] the target: 46\n",
      "When input is [24, 43, 58, 5, 57, 1, 46] the target: 43\n",
      "When input is [24, 43, 58, 5, 57, 1, 46, 43] the target: 39\n",
      "When input is [44] the target: 53\n",
      "When input is [44, 53] the target: 56\n",
      "When input is [44, 53, 56] the target: 1\n",
      "When input is [44, 53, 56, 1] the target: 58\n",
      "When input is [44, 53, 56, 1, 58] the target: 46\n",
      "When input is [44, 53, 56, 1, 58, 46] the target: 39\n",
      "When input is [44, 53, 56, 1, 58, 46, 39] the target: 58\n",
      "When input is [44, 53, 56, 1, 58, 46, 39, 58] the target: 1\n",
      "When input is [52] the target: 58\n",
      "When input is [52, 58] the target: 1\n",
      "When input is [52, 58, 1] the target: 58\n",
      "When input is [52, 58, 1, 58] the target: 46\n",
      "When input is [52, 58, 1, 58, 46] the target: 39\n",
      "When input is [52, 58, 1, 58, 46, 39] the target: 58\n",
      "When input is [52, 58, 1, 58, 46, 39, 58] the target: 1\n",
      "When input is [52, 58, 1, 58, 46, 39, 58, 1] the target: 46\n",
      "When input is [25] the target: 17\n",
      "When input is [25, 17] the target: 27\n",
      "When input is [25, 17, 27] the target: 10\n",
      "When input is [25, 17, 27, 10] the target: 0\n",
      "When input is [25, 17, 27, 10, 0] the target: 21\n",
      "When input is [25, 17, 27, 10, 0, 21] the target: 1\n",
      "When input is [25, 17, 27, 10, 0, 21, 1] the target: 54\n",
      "When input is [25, 17, 27, 10, 0, 21, 1, 54] the target: 39\n"
     ]
    }
   ],
   "source": [
    "for b in range(batch_size):  # batch dimension\n",
    "    for t in range(block_size):  # time dimension\n",
    "        context = xb[b, :t+1]# the context is everything up to and including position t\n",
    "        target = yb[b, t]# the target is the next character we want to predict\n",
    "        print(f\"When input is {context.tolist()} the target: {target}\")"
   ]
  },
  {
   "cell_type": "code",
   "execution_count": null,
   "id": "b6817606",
   "metadata": {},
   "outputs": [],
   "source": []
  }
 ],
 "metadata": {
  "kernelspec": {
   "display_name": "env",
   "language": "python",
   "name": "python3"
  },
  "language_info": {
   "codemirror_mode": {
    "name": "ipython",
    "version": 3
   },
   "file_extension": ".py",
   "mimetype": "text/x-python",
   "name": "python",
   "nbconvert_exporter": "python",
   "pygments_lexer": "ipython3",
   "version": "3.8.19"
  }
 },
 "nbformat": 4,
 "nbformat_minor": 5
}
