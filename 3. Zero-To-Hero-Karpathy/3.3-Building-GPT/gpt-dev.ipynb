{
 "cells": [
  {
   "cell_type": "markdown",
   "id": "ea767054",
   "metadata": {},
   "source": [
    "# Building GPT From Scratch"
   ]
  },
  {
   "cell_type": "markdown",
   "id": "4b5e1c28",
   "metadata": {},
   "source": [
    "## 1. Data Loading and Preparation"
   ]
  },
  {
   "cell_type": "markdown",
   "id": "2a886f16",
   "metadata": {},
   "source": [
    "### Reading the Text Data"
   ]
  },
  {
   "cell_type": "code",
   "execution_count": 12,
   "id": "9d535d21",
   "metadata": {},
   "outputs": [],
   "source": [
    "import torch"
   ]
  },
  {
   "cell_type": "code",
   "execution_count": 1,
   "id": "2737fc44",
   "metadata": {},
   "outputs": [],
   "source": [
    "# read it in to inspect it\n",
    "with open('input.txt', 'r', encoding='utf-8') as f:\n",
    "    text = f.read()"
   ]
  },
  {
   "cell_type": "markdown",
   "id": "937a9db0",
   "metadata": {},
   "source": [
    "### Inspecting the Data Size"
   ]
  },
  {
   "cell_type": "code",
   "execution_count": 2,
   "id": "70d2fc7c",
   "metadata": {},
   "outputs": [
    {
     "name": "stdout",
     "output_type": "stream",
     "text": [
      "Length of dataset in characters:  1115394\n"
     ]
    }
   ],
   "source": [
    "print(\"Length of dataset in characters: \", len(text))"
   ]
  },
  {
   "cell_type": "markdown",
   "id": "1e9318e2",
   "metadata": {},
   "source": [
    "### Previewing the Dataset"
   ]
  },
  {
   "cell_type": "code",
   "execution_count": 5,
   "id": "c593eb92",
   "metadata": {},
   "outputs": [
    {
     "name": "stdout",
     "output_type": "stream",
     "text": [
      "First Citizen:\n",
      "Before we proceed any further, hear me speak.\n",
      "\n",
      "All:\n",
      "Speak, speak.\n",
      "\n",
      "First Citizen:\n",
      "You\n"
     ]
    }
   ],
   "source": [
    "print(text[:100])# print the first 100 characters"
   ]
  },
  {
   "cell_type": "markdown",
   "id": "9ab1afe9",
   "metadata": {},
   "source": [
    "## 2. Tokenization"
   ]
  },
  {
   "cell_type": "markdown",
   "id": "b08b758b",
   "metadata": {},
   "source": [
    "### Creating the Vocabulary\n",
    "A neural network can't process raw characters hence it needs numbers. Therefore our first step is to create a \"vocabulary\" of all the unique characters present in our text. We also calculate the `vocab_size` which is the number of unique characters. This will determine the size of our model's embedding and output layers."
   ]
  },
  {
   "cell_type": "code",
   "execution_count": 7,
   "id": "1f4a93d3",
   "metadata": {},
   "outputs": [
    {
     "name": "stdout",
     "output_type": "stream",
     "text": [
      "All the unique characters in the dataset are as follows:  \n",
      " !$&',-.3:;?ABCDEFGHIJKLMNOPQRSTUVWXYZabcdefghijklmnopqrstuvwxyz\n"
     ]
    }
   ],
   "source": [
    "chars = sorted(list(set(text)))# create a sorted list of unique characters\n",
    "vocab_size = len(chars)\n",
    "print(\"All the unique characters in the dataset are as follows: \", ''.join(chars))"
   ]
  },
  {
   "cell_type": "code",
   "execution_count": 9,
   "id": "9e04184d",
   "metadata": {},
   "outputs": [
    {
     "name": "stdout",
     "output_type": "stream",
     "text": [
      "Vocabulary size: 65\n"
     ]
    }
   ],
   "source": [
    "print(\"Vocabulary size:\", vocab_size)"
   ]
  },
  {
   "cell_type": "markdown",
   "id": "32eb4388",
   "metadata": {},
   "source": [
    "### Creating Encoder and Decoder\n",
    "\n",
    "Now we create a mapping (or \"tokenizer\") that can convert characters to integers and back.\n",
    "- **`stoi` (string-to-integer):** A dictionary that maps each unique character to a unique integer.\n",
    "- **`itos` (integer-to-string):** A dictionary that does the reverse, mapping integers back to characters.\n",
    "- `encode`: A function that takes a string and converts it into a list of integers (tokens) using stoi.\n",
    "- `decode`: A function that takes a list of integers and converts it back into a string using itos."
   ]
  },
  {
   "cell_type": "code",
   "execution_count": 10,
   "id": "da843a26",
   "metadata": {},
   "outputs": [],
   "source": [
    "# create a mapping from characters to integers and vice versa\n",
    "stoi = {ch:i for i,ch in enumerate(chars)}\n",
    "itos = {i:ch for i, ch in enumerate(chars)}\n",
    "encode = lambda s: [stoi[c] for c in s] # encoder: take a string, output a list of integers\n",
    "decode = lambda l: ''.join([itos[i] for i in l]) # decoder: take a list of integers, output a string"
   ]
  },
  {
   "cell_type": "code",
   "execution_count": 11,
   "id": "12a4188b",
   "metadata": {},
   "outputs": [
    {
     "name": "stdout",
     "output_type": "stream",
     "text": [
      "[46, 43, 50, 50, 53, 1, 61, 53, 56, 50, 42]\n",
      "hello world\n"
     ]
    }
   ],
   "source": [
    "print(encode(\"hello world\")) # encode the string \"hello world\" to integers\n",
    "print(decode(encode(\"hello world\"))) # decode back to string"
   ]
  },
  {
   "cell_type": "markdown",
   "id": "542e7c27",
   "metadata": {},
   "source": [
    "### Encoding the Entire Dataset"
   ]
  },
  {
   "cell_type": "code",
   "execution_count": 13,
   "id": "6f822372",
   "metadata": {},
   "outputs": [
    {
     "name": "stdout",
     "output_type": "stream",
     "text": [
      "torch.Size([1115394]) torch.int64\n",
      "tensor([18, 47, 56, 57, 58,  1, 15, 47, 58, 47, 64, 43, 52, 10,  0, 14, 43, 44,\n",
      "        53, 56, 43,  1, 61, 43,  1, 54, 56, 53, 41, 43, 43, 42,  1, 39, 52, 63,\n",
      "         1, 44, 59, 56, 58, 46, 43, 56,  6,  1, 46, 43, 39, 56,  1, 51, 43,  1,\n",
      "        57, 54, 43, 39, 49,  8,  0,  0, 13, 50, 50, 10,  0, 31, 54, 43, 39, 49,\n",
      "         6,  1, 57, 54, 43, 39, 49,  8,  0,  0, 18, 47, 56, 57, 58,  1, 15, 47,\n",
      "        58, 47, 64, 43, 52, 10,  0, 37, 53, 59])\n"
     ]
    }
   ],
   "source": [
    "data = torch.tensor(encode(text), dtype=torch.long)# encode the entire text dataset and store it in a torch tensor\n",
    "print(data.shape, data.dtype)\n",
    "print(data[:100])"
   ]
  },
  {
   "cell_type": "code",
   "execution_count": null,
   "id": "2446eeaf",
   "metadata": {},
   "outputs": [],
   "source": []
  }
 ],
 "metadata": {
  "kernelspec": {
   "display_name": "env",
   "language": "python",
   "name": "python3"
  },
  "language_info": {
   "codemirror_mode": {
    "name": "ipython",
    "version": 3
   },
   "file_extension": ".py",
   "mimetype": "text/x-python",
   "name": "python",
   "nbconvert_exporter": "python",
   "pygments_lexer": "ipython3",
   "version": "3.8.19"
  }
 },
 "nbformat": 4,
 "nbformat_minor": 5
}
