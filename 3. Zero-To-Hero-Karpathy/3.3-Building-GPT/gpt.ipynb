{
 "cells": [
  {
   "cell_type": "markdown",
   "id": "23792c3e",
   "metadata": {},
   "source": [
    "# GPT For Bigram Language Model"
   ]
  },
  {
   "cell_type": "markdown",
   "id": "69b28af3",
   "metadata": {},
   "source": [
    "Here we build a complete working Generative Pre-trained Transformer (GPT) model from scratch capable of generating text in the style of Shakespeare."
   ]
  },
  {
   "cell_type": "markdown",
   "id": "630d38cf",
   "metadata": {},
   "source": [
    "## 1. Setup and Hyperparameters"
   ]
  },
  {
   "cell_type": "code",
   "execution_count": 2,
   "id": "8ee8d13b",
   "metadata": {},
   "outputs": [],
   "source": [
    "import torch\n",
    "import torch.nn as nn\n",
    "from torch.nn import functional as F"
   ]
  },
  {
   "cell_type": "code",
   "execution_count": 3,
   "id": "8baaa9e9",
   "metadata": {},
   "outputs": [],
   "source": [
    "atch_size = 16#how many independent sequences will we process in parallel\n",
    "block_size = 32# what is the maximum context length for predictions\n",
    "max_iters = 5000# how many training iterations\n",
    "eval_interval = 100# evaluate the loss every eval_interval iterations\n",
    "learning_rate = 1e-3# learning rate for optimization\n",
    "device = 'cuda' if torch.cuda.is_available() else 'cpu'\n",
    "eval_iters = 200# how many batches to use for evaluation\n",
    "n_embd = 64# the embedding dimension\n",
    "n_head = 4# the number of heads in the multi-head attention model\n",
    "n_layer = 4# the number of layers in the transformer\n",
    "dropout = 0.0# the dropout rate"
   ]
  },
  {
   "cell_type": "markdown",
   "id": "cccf789a",
   "metadata": {},
   "source": [
    "## 2. Data Loading and Tokenization"
   ]
  },
  {
   "cell_type": "code",
   "execution_count": 4,
   "id": "ada638ab",
   "metadata": {},
   "outputs": [],
   "source": [
    "with open('input.txt', 'r', encoding='utf-8') as f:\n",
    "    text = f.read()\n",
    "\n",
    "# here are all the unique characters that occur in this text\n",
    "chars = sorted(list(set(text)))\n",
    "vocab_size = len(chars)\n",
    "# create a mapping from characters to integers\n",
    "stoi = {ch: i for i, ch in enumerate(chars)}\n",
    "itos = {i: ch for i, ch in enumerate(chars)}\n",
    "# encoder: take a string, output a list of integers\n",
    "def encode(s): return [stoi[c] for c in s]\n",
    "# decoder: take a list of integers, output a string\n",
    "def decode(l): return ''.join([itos[i] for i in l])\n",
    "# Train and test splits\n",
    "data = torch.tensor(encode(text), dtype=torch.long)\n",
    "n = int(0.9*len(data))  # first 90% will be train, rest val\n",
    "train_data = data[:n]\n",
    "val_data = data[n:]"
   ]
  },
  {
   "cell_type": "markdown",
   "id": "c3d585b3",
   "metadata": {},
   "source": [
    "## 3. Data Batching and Loss Estimation\n"
   ]
  },
  {
   "cell_type": "markdown",
   "id": "6a843853",
   "metadata": {},
   "source": [
    "### Data Loading Function `(get_batch)`\n"
   ]
  },
  {
   "cell_type": "code",
   "execution_count": 5,
   "id": "061fa6cf",
   "metadata": {},
   "outputs": [],
   "source": [
    "# data loading\n",
    "def get_batch(split):\n",
    "    # generate a small batch of data of inputs x and targets y\n",
    "    data = train_data if split == 'train' else val_data\n",
    "    ix = torch.randint(len(data) - block_size, (batch_size,))\n",
    "    x = torch.stack([data[i:i+block_size] for i in ix])\n",
    "    y = torch.stack([data[i+1:i+block_size+1] for i in ix])\n",
    "    x, y = x.to(device), y.to(device)\n",
    "    return x, y"
   ]
  }
 ],
 "metadata": {
  "kernelspec": {
   "display_name": "env",
   "language": "python",
   "name": "python3"
  },
  "language_info": {
   "codemirror_mode": {
    "name": "ipython",
    "version": 3
   },
   "file_extension": ".py",
   "mimetype": "text/x-python",
   "name": "python",
   "nbconvert_exporter": "python",
   "pygments_lexer": "ipython3",
   "version": "3.8.19"
  }
 },
 "nbformat": 4,
 "nbformat_minor": 5
}
