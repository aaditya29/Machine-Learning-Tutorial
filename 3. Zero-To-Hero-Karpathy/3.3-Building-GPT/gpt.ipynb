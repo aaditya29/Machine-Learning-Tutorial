{
 "cells": [
  {
   "cell_type": "markdown",
   "id": "23792c3e",
   "metadata": {},
   "source": [
    "# GPT For Bigram Language Model"
   ]
  },
  {
   "cell_type": "markdown",
   "id": "69b28af3",
   "metadata": {},
   "source": [
    "Here we build a complete working Generative Pre-trained Transformer (GPT) model from scratch capable of generating text in the style of Shakespeare."
   ]
  },
  {
   "cell_type": "markdown",
   "id": "630d38cf",
   "metadata": {},
   "source": [
    "## 1. Setup and Hyperparameters"
   ]
  },
  {
   "cell_type": "code",
   "execution_count": 2,
   "id": "8ee8d13b",
   "metadata": {},
   "outputs": [],
   "source": [
    "import torch\n",
    "import torch.nn as nn\n",
    "from torch.nn import functional as F"
   ]
  },
  {
   "cell_type": "code",
   "execution_count": 3,
   "id": "8baaa9e9",
   "metadata": {},
   "outputs": [],
   "source": [
    "atch_size = 16#how many independent sequences will we process in parallel\n",
    "block_size = 32# what is the maximum context length for predictions\n",
    "max_iters = 5000# how many training iterations\n",
    "eval_interval = 100# evaluate the loss every eval_interval iterations\n",
    "learning_rate = 1e-3# learning rate for optimization\n",
    "device = 'cuda' if torch.cuda.is_available() else 'cpu'\n",
    "eval_iters = 200# how many batches to use for evaluation\n",
    "n_embd = 64# the embedding dimension\n",
    "n_head = 4# the number of heads in the multi-head attention model\n",
    "n_layer = 4# the number of layers in the transformer\n",
    "dropout = 0.0# the dropout rate"
   ]
  },
  {
   "cell_type": "markdown",
   "id": "cccf789a",
   "metadata": {},
   "source": [
    "## 2. Data Loading and Tokenization"
   ]
  },
  {
   "cell_type": "code",
   "execution_count": 4,
   "id": "ada638ab",
   "metadata": {},
   "outputs": [],
   "source": [
    "with open('input.txt', 'r', encoding='utf-8') as f:\n",
    "    text = f.read()\n",
    "\n",
    "# here are all the unique characters that occur in this text\n",
    "chars = sorted(list(set(text)))\n",
    "vocab_size = len(chars)\n",
    "# create a mapping from characters to integers\n",
    "stoi = {ch: i for i, ch in enumerate(chars)}\n",
    "itos = {i: ch for i, ch in enumerate(chars)}\n",
    "# encoder: take a string, output a list of integers\n",
    "def encode(s): return [stoi[c] for c in s]\n",
    "# decoder: take a list of integers, output a string\n",
    "def decode(l): return ''.join([itos[i] for i in l])\n",
    "# Train and test splits\n",
    "data = torch.tensor(encode(text), dtype=torch.long)\n",
    "n = int(0.9*len(data))  # first 90% will be train, rest val\n",
    "train_data = data[:n]\n",
    "val_data = data[n:]"
   ]
  },
  {
   "cell_type": "markdown",
   "id": "c3d585b3",
   "metadata": {},
   "source": [
    "## 3. Data Batching and Loss Estimation\n"
   ]
  },
  {
   "cell_type": "markdown",
   "id": "6a843853",
   "metadata": {},
   "source": [
    "### Data Loading Function `(get_batch)`\n"
   ]
  },
  {
   "cell_type": "code",
   "execution_count": 5,
   "id": "061fa6cf",
   "metadata": {},
   "outputs": [],
   "source": [
    "# data loading\n",
    "def get_batch(split):\n",
    "    # generate a small batch of data of inputs x and targets y\n",
    "    data = train_data if split == 'train' else val_data\n",
    "    ix = torch.randint(len(data) - block_size, (batch_size,))\n",
    "    x = torch.stack([data[i:i+block_size] for i in ix])\n",
    "    y = torch.stack([data[i+1:i+block_size+1] for i in ix])\n",
    "    x, y = x.to(device), y.to(device)\n",
    "    return x, y"
   ]
  },
  {
   "cell_type": "markdown",
   "id": "9e5fafe1",
   "metadata": {},
   "source": [
    "### Loss Estimation Function `(estimate_loss)`"
   ]
  },
  {
   "cell_type": "code",
   "execution_count": 6,
   "id": "e1c48dcc",
   "metadata": {},
   "outputs": [],
   "source": [
    "@torch.no_grad()\n",
    "def estimate_loss():\n",
    "    out = {}# results will be collected here\n",
    "    model.eval()# set the model to evaluation mode\n",
    "    for split in ['train', 'val']:\n",
    "        losses = torch.zeros(eval_iters)# tensor to hold the loss values\n",
    "        for k in range(eval_iters):\n",
    "            X, Y = get_batch(split)# get a batch of data\n",
    "            logits, loss = model(X, Y)# forward pass through the model\n",
    "            losses[k] = loss.item()# store the loss value\n",
    "        out[split] = losses.mean()# compute the mean loss for this split\n",
    "    model.train()# set the model back to training mode\n",
    "    return out"
   ]
  },
  {
   "cell_type": "markdown",
   "id": "de823a4d",
   "metadata": {},
   "source": [
    "## 4. Transformer Model Architecture"
   ]
  },
  {
   "cell_type": "markdown",
   "id": "42d69b34",
   "metadata": {},
   "source": [
    "### `Head` Module: A Single Head of Self-Attention\n",
    "\n",
    "- `__init__:`\n",
    "    - It creates three `nn.Linear` layers to produce the Query, Key, and Value vectors from the input with no bias term.\n",
    "    - `self.register_buffer('tril', ...)`: This creates a lower-triangular matrix of ones called `tril`. A buffer is a parameter that is part of the model's state but is not trained by the optimizer. This mask is essential for creating a decoder-style Transformer that can only attend to previous tokens in the sequence.\n",
    "\n",
    "- `forward:`\n",
    "    - It calculates the attention scores (`wei`) by taking the dot product of queries and keys and scaling by the square root of the channel dimension (C**-0.5).\n",
    "    - `wei.masked_fill(...)`: This applies the causal `mask`. It prevents tokens from seeing future tokens by setting the attention scores for future positions to negative infinity.\n",
    "    - `F.softmax`: Converts the scores into a probability distribution.\n",
    "    - `wei @ v`: Performs the weighted aggregation of the value vectors to produce the output of the attention head."
   ]
  },
  {
   "cell_type": "code",
   "execution_count": 7,
   "id": "0b740147",
   "metadata": {},
   "outputs": [],
   "source": [
    "#One head of self attention\n",
    "class Head(nn.Module):\n",
    "    \n",
    "    def __init__(self, head_size):\n",
    "        super().__init__()\n",
    "        self.key = nn.Linear(n_embd, head_size, bias = False)# key projection\n",
    "        self.query = nn.Linear(n_embd, head_size, bias = False)# query projection\n",
    "        self.value = nn.Linear(n_embd, head_size, bias = False)# value projection\n",
    "        self.register_buffer('tril', torch.tril(torch.ones(block_size, block_size)))# lower triangular matrix for masking\n",
    "        self.dropout = nn.Dropout(dropout)# dropout layer\n",
    "    \n",
    "    def forward(self, x):\n",
    "        B, T, C = x.shape\n",
    "        k = self.key(x) # (B,T,head_size)\n",
    "        q = self.query(x) # (B,T,head_size)\n",
    "        # compute attention scores\n",
    "        wei = q @ k.transpose(-2, -1) * C**-0.5 # (B,T,head_size) @ (B,head_size,T) -> (B,T)\n",
    "        wei = wei.masked_fill(self.tril[:T, :T] == 0, float('-inf'))# apply the mask to ensure causality\n",
    "        wei = F.softmax(wei, dim=-1)# softmax to get attention weights\n",
    "        wei = self.dropout(wei)# apply dropout to the attention weights\n",
    "        v = self.value(x) # (B,T,head_size)\n",
    "        out = wei @ v # (B,T,T) @ (B,T,head_size) -> (B,T,head_size)\n",
    "        return out"
   ]
  },
  {
   "cell_type": "code",
   "execution_count": null,
   "id": "d6b43397",
   "metadata": {},
   "outputs": [],
   "source": []
  }
 ],
 "metadata": {
  "kernelspec": {
   "display_name": "env",
   "language": "python",
   "name": "python3"
  },
  "language_info": {
   "codemirror_mode": {
    "name": "ipython",
    "version": 3
   },
   "file_extension": ".py",
   "mimetype": "text/x-python",
   "name": "python",
   "nbconvert_exporter": "python",
   "pygments_lexer": "ipython3",
   "version": "3.8.19"
  }
 },
 "nbformat": 4,
 "nbformat_minor": 5
}
