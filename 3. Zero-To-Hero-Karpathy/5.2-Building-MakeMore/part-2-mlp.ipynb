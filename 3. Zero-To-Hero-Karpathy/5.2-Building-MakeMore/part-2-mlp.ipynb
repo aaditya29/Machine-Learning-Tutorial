{
 "cells": [
  {
   "cell_type": "markdown",
   "id": "21bc9f27",
   "metadata": {},
   "source": [
    "# Part-2: MLP"
   ]
  },
  {
   "cell_type": "markdown",
   "id": "3e109ed4",
   "metadata": {},
   "source": [
    "Here we implement a multilayer perceptron (MLP) character-level language model using [Bengio et al. 2003 MLP language model paper.](https://www.jmlr.org/papers/volume3/bengio03a/bengio03a.pdf)"
   ]
  },
  {
   "cell_type": "markdown",
   "id": "c779f4f9",
   "metadata": {},
   "source": [
    "### 1. Setting Up Environment and Loading the Dataset"
   ]
  },
  {
   "cell_type": "code",
   "execution_count": 2,
   "id": "457aaaf5",
   "metadata": {},
   "outputs": [],
   "source": [
    "import torch\n",
    "import matplotlib.pyplot as plt\n",
    "import torch.nn.functional as F\n",
    "%matplotlib inline"
   ]
  },
  {
   "cell_type": "code",
   "execution_count": 3,
   "id": "6c48d898",
   "metadata": {},
   "outputs": [
    {
     "data": {
      "text/plain": [
       "['emma', 'olivia', 'ava', 'isabella', 'sophia', 'charlotte', 'mia', 'amelia']"
      ]
     },
     "execution_count": 3,
     "metadata": {},
     "output_type": "execute_result"
    }
   ],
   "source": [
    "words = open('names.txt', 'r').read().splitlines()# reading the file and splitting into list of\n",
    "words[:8]# printing first 8 words"
   ]
  },
  {
   "cell_type": "code",
   "execution_count": 4,
   "id": "c7d4bd22",
   "metadata": {},
   "outputs": [
    {
     "data": {
      "text/plain": [
       "32033"
      ]
     },
     "execution_count": 4,
     "metadata": {},
     "output_type": "execute_result"
    }
   ],
   "source": [
    "len(words)# number of words in the dataset"
   ]
  },
  {
   "cell_type": "code",
   "execution_count": 5,
   "id": "81460a97",
   "metadata": {},
   "outputs": [
    {
     "name": "stdout",
     "output_type": "stream",
     "text": [
      "vocab size:  27\n",
      "{1: 'a', 2: 'b', 3: 'c', 4: 'd', 5: 'e', 6: 'f', 7: 'g', 8: 'h', 9: 'i', 10: 'j', 11: 'k', 12: 'l', 13: 'm', 14: 'n', 15: 'o', 16: 'p', 17: 'q', 18: 'r', 19: 's', 20: 't', 21: 'u', 22: 'v', 23: 'w', 24: 'x', 25: 'y', 26: 'z', 0: '.'}\n"
     ]
    }
   ],
   "source": [
    "#building the vocabulary of characters\n",
    "chars = sorted(list(set(''.join(words))))# getting unique characters in the dataset and sorting them\n",
    "stoi = {s:i+1 for i,s in enumerate(chars)}# mapping characters to integers (1-26)\n",
    "stoi['.'] = 0# mapping the special character '.' to 0\n",
    "itos = {i:s for s,i in stoi.items()}# mapping integers to characters\n",
    "vocab_size = len(itos)# getting the vocabulary size\n",
    "print('vocab size: ', vocab_size)\n",
    "print(itos)"
   ]
  },
  {
   "cell_type": "code",
   "execution_count": null,
   "id": "99229c35",
   "metadata": {},
   "outputs": [],
   "source": []
  }
 ],
 "metadata": {
  "kernelspec": {
   "display_name": "Python 3",
   "language": "python",
   "name": "python3"
  },
  "language_info": {
   "codemirror_mode": {
    "name": "ipython",
    "version": 3
   },
   "file_extension": ".py",
   "mimetype": "text/x-python",
   "name": "python",
   "nbconvert_exporter": "python",
   "pygments_lexer": "ipython3",
   "version": "3.8.19"
  }
 },
 "nbformat": 4,
 "nbformat_minor": 5
}
