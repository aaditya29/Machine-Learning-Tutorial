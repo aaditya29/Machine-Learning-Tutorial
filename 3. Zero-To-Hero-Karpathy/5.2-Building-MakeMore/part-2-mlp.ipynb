{
 "cells": [
  {
   "cell_type": "markdown",
   "id": "21bc9f27",
   "metadata": {},
   "source": [
    "# Part-2: MLP"
   ]
  },
  {
   "cell_type": "markdown",
   "id": "3e109ed4",
   "metadata": {},
   "source": [
    "Here we implement a multilayer perceptron (MLP) character-level language model using [Bengio et al. 2003 MLP language model paper.](https://www.jmlr.org/papers/volume3/bengio03a/bengio03a.pdf)"
   ]
  },
  {
   "cell_type": "markdown",
   "id": "c779f4f9",
   "metadata": {},
   "source": [
    "### 1. Setting Up Environment and Loading the Dataset"
   ]
  },
  {
   "cell_type": "code",
   "execution_count": 38,
   "id": "457aaaf5",
   "metadata": {},
   "outputs": [],
   "source": [
    "import torch\n",
    "import matplotlib.pyplot as plt\n",
    "import torch.nn.functional as F\n",
    "%matplotlib inline"
   ]
  },
  {
   "cell_type": "code",
   "execution_count": 39,
   "id": "6c48d898",
   "metadata": {},
   "outputs": [
    {
     "data": {
      "text/plain": [
       "['emma', 'olivia', 'ava', 'isabella', 'sophia', 'charlotte', 'mia', 'amelia']"
      ]
     },
     "execution_count": 39,
     "metadata": {},
     "output_type": "execute_result"
    }
   ],
   "source": [
    "words = open('names.txt', 'r').read().splitlines()# reading the file and splitting into list of\n",
    "words[:8]# printing first 8 words"
   ]
  },
  {
   "cell_type": "code",
   "execution_count": 40,
   "id": "c7d4bd22",
   "metadata": {},
   "outputs": [
    {
     "data": {
      "text/plain": [
       "32033"
      ]
     },
     "execution_count": 40,
     "metadata": {},
     "output_type": "execute_result"
    }
   ],
   "source": [
    "len(words)# number of words in the dataset"
   ]
  },
  {
   "cell_type": "code",
   "execution_count": 41,
   "id": "81460a97",
   "metadata": {},
   "outputs": [
    {
     "name": "stdout",
     "output_type": "stream",
     "text": [
      "vocab size:  27\n",
      "{1: 'a', 2: 'b', 3: 'c', 4: 'd', 5: 'e', 6: 'f', 7: 'g', 8: 'h', 9: 'i', 10: 'j', 11: 'k', 12: 'l', 13: 'm', 14: 'n', 15: 'o', 16: 'p', 17: 'q', 18: 'r', 19: 's', 20: 't', 21: 'u', 22: 'v', 23: 'w', 24: 'x', 25: 'y', 26: 'z', 0: '.'}\n"
     ]
    }
   ],
   "source": [
    "#building the vocabulary of characters\n",
    "chars = sorted(list(set(''.join(words))))# getting unique characters in the dataset and sorting them\n",
    "stoi = {s:i+1 for i,s in enumerate(chars)}# mapping characters to integers (1-26)\n",
    "stoi['.'] = 0# mapping the special character '.' to 0\n",
    "itos = {i:s for s,i in stoi.items()}# mapping integers to characters\n",
    "vocab_size = len(itos)# getting the vocabulary size\n",
    "print('vocab size: ', vocab_size)\n",
    "print(itos)"
   ]
  },
  {
   "cell_type": "markdown",
   "id": "27a5c8fa",
   "metadata": {},
   "source": [
    "We need to create a mapping from characters to integers `(stoi)` and back `(itos)`. This allows us to represent our text data numerically, which is the only format a neural network can understand.<br>\n",
    "Hence we create a sorted list of all unique characters and then add a special `.` token at index 0"
   ]
  },
  {
   "cell_type": "markdown",
   "id": "c8439088",
   "metadata": {},
   "source": [
    "- #### Building the Dataset"
   ]
  },
  {
   "cell_type": "code",
   "execution_count": 42,
   "id": "99229c35",
   "metadata": {},
   "outputs": [],
   "source": [
    "block_size = 3# context length: how many characters do we take to predict the next one\n",
    "X, Y = [], []# input and output lists\n",
    "for w in words:\n",
    "    context = [0]*block_size# starting with a context of 3 '.' characters\n",
    "    for ch in w + '.':# for each character in the word plus the special character\n",
    "        ix = stoi[ch]# get the integer representation of the character\n",
    "        X.append(context)# append the current context to the input list\n",
    "        Y.append(ix)# append the integer representation of the character to the output list\n",
    "        #print(''.join(itos[i] for i in context), '--->', itos[ix])\n",
    "        context = context[1:] + [ix]# slide the context window to the right\n",
    "\n",
    "X = torch.tensor(X)# converting input list to tensor\n",
    "Y = torch.tensor(Y)# converting output list to tensor"
   ]
  },
  {
   "cell_type": "markdown",
   "id": "708aa16e",
   "metadata": {},
   "source": [
    "Instead of just looking at the single previous character (a bigram) we will now use a **context** of multiple characters to predict the next one.\n",
    "- `block_size = 3`: This is a crucial hyperparameter which defines our context length. Here block_size = 3 means our model will always use the last 3 characters to predict the 4th character.\n",
    "- We iterate through each word and build our input `X` and target `Y` pairs.\n",
    "    - For a name like \"emma\" the process is:\n",
    "        1. `...` ---> `e` (context is [0, 0, 0], target is e)\n",
    "        2. `..e` ---> `m` (context is [0, 0, e], target is m)\n",
    "        3. `.em` ---> `m` (context is [0, e, m], target is m)\n",
    "        4. `emm` ---> `a` (context is [e, m, a], target is a)\n",
    "        5. `mma` ---> `.` (context is [m, m, a], target is .)\n",
    "\n",
    "- `context = context[1:] + [ix]`: It is the \"sliding window.\" After each prediction we slide the context.\n",
    "\n",
    "> Finally X becomes a tensor where each row is a context of 3 character indices and Y is a tensor containing the corresponding target character index for each context."
   ]
  },
  {
   "cell_type": "code",
   "execution_count": 43,
   "id": "2ec3877b",
   "metadata": {},
   "outputs": [
    {
     "data": {
      "text/plain": [
       "(torch.Size([228146, 3]), torch.int64, torch.Size([228146]), torch.int64)"
      ]
     },
     "execution_count": 43,
     "metadata": {},
     "output_type": "execute_result"
    }
   ],
   "source": [
    "X.shape, X.dtype, Y.shape, Y.dtype"
   ]
  },
  {
   "cell_type": "code",
   "execution_count": 44,
   "id": "90d41bcd",
   "metadata": {},
   "outputs": [
    {
     "data": {
      "text/plain": [
       "tensor([[ 0,  0,  0],\n",
       "        [ 0,  0,  5],\n",
       "        [ 0,  5, 13],\n",
       "        ...,\n",
       "        [26, 26, 25],\n",
       "        [26, 25, 26],\n",
       "        [25, 26, 24]])"
      ]
     },
     "execution_count": 44,
     "metadata": {},
     "output_type": "execute_result"
    }
   ],
   "source": [
    "X"
   ]
  },
  {
   "cell_type": "markdown",
   "id": "6f2c1efb",
   "metadata": {},
   "source": [
    "#### Creating Train, Validation and Test Splits\n",
    "\n",
    "- `Training Set (Xtr, Ytr)`: The largest chunk (80% of the data). The model learns the patterns from this data.\n",
    "- `Validation Set (Xdev, Ydev)`: A smaller portion (10%). We use this set to tune our model's hyperparameters (like embedding size, hidden layer size, learning rate) and to check for overfitting. The model does not train on this data.\n",
    "- `Test Set (Xte, Yte)`: The final 10%. We use this set only once at the very end to get an unbiased evaluation of how well our final, tuned model performs on completely unseen data."
   ]
  },
  {
   "cell_type": "code",
   "execution_count": 45,
   "id": "c5f75f2f",
   "metadata": {},
   "outputs": [
    {
     "name": "stdout",
     "output_type": "stream",
     "text": [
      "torch.Size([182625, 3]) torch.Size([182625])\n",
      "torch.Size([22655, 3]) torch.Size([22655])\n",
      "torch.Size([22866, 3]) torch.Size([22866])\n"
     ]
    }
   ],
   "source": [
    "import random\n",
    "def build_dataset(words):\n",
    "  X, Y = [], []\n",
    "  for w in words:\n",
    "\n",
    "    # print(w)\n",
    "    context = [0] * block_size\n",
    "    for ch in w + '.':\n",
    "      ix = stoi[ch]\n",
    "      X.append(context)\n",
    "      Y.append(ix)\n",
    "      # print(''.join(itos[i] for i in context), '--->', itos[ix])\n",
    "      context = context[1:] + [ix]  # crop and append\n",
    "\n",
    "  X = torch.tensor(X)\n",
    "  Y = torch.tensor(Y)\n",
    "  print(X.shape, Y.shape)\n",
    "  return X, Y\n",
    "\n",
    "\n",
    "random.seed(42)# setting the seed for reproducibility\n",
    "random.shuffle(words)# shuffling the words\n",
    "n1 = int(0.8*len(words))# first 80% for training\n",
    "n2 = int(0.9*len(words))# next 10% for validation, last 10% for testing\n",
    "\n",
    "Xtr, Ytr = build_dataset(words[:n1])# training set\n",
    "Xdev, Ydev = build_dataset(words[n1:n2])# validation set\n",
    "Xte, Yte = build_dataset(words[n2:])# test set"
   ]
  },
  {
   "cell_type": "code",
   "execution_count": null,
   "id": "2c3de5f7",
   "metadata": {},
   "outputs": [],
   "source": []
  }
 ],
 "metadata": {
  "kernelspec": {
   "display_name": "env",
   "language": "python",
   "name": "python3"
  },
  "language_info": {
   "codemirror_mode": {
    "name": "ipython",
    "version": 3
   },
   "file_extension": ".py",
   "mimetype": "text/x-python",
   "name": "python",
   "nbconvert_exporter": "python",
   "pygments_lexer": "ipython3",
   "version": "3.8.19"
  }
 },
 "nbformat": 4,
 "nbformat_minor": 5
}
