{
 "cells": [
  {
   "cell_type": "markdown",
   "id": "52a7aaf1",
   "metadata": {},
   "source": [
    "# Part-3: Activations, Gradients and BatchNorm"
   ]
  },
  {
   "cell_type": "markdown",
   "id": "1e47dcc8",
   "metadata": {},
   "source": [
    "## 1. Introduction\n",
    "\n",
    "In this part we dive into the practical challenges of training neural networks and introduces powerful techniques like Batch Normalization to make our models train faster and better."
   ]
  },
  {
   "cell_type": "markdown",
   "id": "17b37c91",
   "metadata": {},
   "source": [
    "## 2. Setup and Data Loading"
   ]
  },
  {
   "cell_type": "code",
   "execution_count": 1,
   "id": "bbef743d",
   "metadata": {},
   "outputs": [],
   "source": [
    "import torch\n",
    "import random\n",
    "import matplotlib.pyplot as plt\n",
    "import torch.nn.functional as F\n",
    "%matplotlib inline"
   ]
  },
  {
   "cell_type": "markdown",
   "id": "f5ead416",
   "metadata": {},
   "source": [
    "### Reading the Names Dataset\n",
    "\n",
    "Like previous parts we load the names.txt file into a Python list called words.\n",
    "\n"
   ]
  },
  {
   "cell_type": "code",
   "execution_count": 2,
   "id": "b817ea09",
   "metadata": {},
   "outputs": [
    {
     "data": {
      "text/plain": [
       "['emma', 'olivia', 'ava', 'isabella', 'sophia', 'charlotte', 'mia', 'amelia']"
      ]
     },
     "execution_count": 2,
     "metadata": {},
     "output_type": "execute_result"
    }
   ],
   "source": [
    "words = open('names.txt', 'r').read().splitlines() # list of strings\n",
    "words[:8]"
   ]
  },
  {
   "cell_type": "code",
   "execution_count": 3,
   "id": "f33cc105",
   "metadata": {},
   "outputs": [
    {
     "data": {
      "text/plain": [
       "32033"
      ]
     },
     "execution_count": 3,
     "metadata": {},
     "output_type": "execute_result"
    }
   ],
   "source": [
    "len(words)"
   ]
  },
  {
   "cell_type": "markdown",
   "id": "fdc24cf9",
   "metadata": {},
   "source": [
    "### Building the Vocabulary\n",
    "\n",
    "We create our character-to-integer `(stoi)` and integer-to-character `(itos)` mappings. This vocabulary is essential for converting our text data into a numerical format for the network. We also define `vocab_size` which we'll need for the dimensions of our output layer."
   ]
  },
  {
   "cell_type": "code",
   "execution_count": 4,
   "id": "77f1cd9c",
   "metadata": {},
   "outputs": [
    {
     "name": "stdout",
     "output_type": "stream",
     "text": [
      "{1: 'a', 2: 'b', 3: 'c', 4: 'd', 5: 'e', 6: 'f', 7: 'g', 8: 'h', 9: 'i', 10: 'j', 11: 'k', 12: 'l', 13: 'm', 14: 'n', 15: 'o', 16: 'p', 17: 'q', 18: 'r', 19: 's', 20: 't', 21: 'u', 22: 'v', 23: 'w', 24: 'x', 25: 'y', 26: 'z', 0: '.'}\n"
     ]
    }
   ],
   "source": [
    "chars = sorted(list(set(''.join(words))))# unique characters in the dataset\n",
    "stoi = {s: i+1 for i, s in enumerate(chars)}# char to int mapping\n",
    "stoi['.'] = 0# we will use '.' as a special character to represent \"end of string\"\n",
    "itos = {i: s for s, i in stoi.items()}# int to char mapping\n",
    "vocab_size = len(itos)# vocab size\n",
    "print(itos)"
   ]
  },
  {
   "cell_type": "code",
   "execution_count": 5,
   "id": "6026ce63",
   "metadata": {},
   "outputs": [
    {
     "name": "stdout",
     "output_type": "stream",
     "text": [
      "27\n"
     ]
    }
   ],
   "source": [
    "print(vocab_size)"
   ]
  },
  {
   "cell_type": "markdown",
   "id": "53bcefdf",
   "metadata": {},
   "source": [
    "## 2. Dataset Preparation"
   ]
  },
  {
   "cell_type": "markdown",
   "id": "c5e08f12",
   "metadata": {},
   "source": [
    "### Creating the Dataset (Train/Val/Test Split)"
   ]
  },
  {
   "cell_type": "code",
   "execution_count": 6,
   "id": "8ea1b74e",
   "metadata": {},
   "outputs": [
    {
     "name": "stdout",
     "output_type": "stream",
     "text": [
      "torch.Size([182625, 3]) torch.Size([182625])\n",
      "torch.Size([22655, 3]) torch.Size([22655])\n",
      "torch.Size([22866, 3]) torch.Size([22866])\n"
     ]
    }
   ],
   "source": [
    "block_size = 3#context length: how many characters do we take to predict the next one?\n",
    "\n",
    "\n",
    "def build_dataset(words):\n",
    "  X, Y = [], []# X is the input, Y is the target\n",
    "\n",
    "  for w in words:\n",
    "    context = [0] * block_size# initialize the context with 'block_size' zeros\n",
    "    for ch in w + '.':# we add the special character '.' to the end of each word\n",
    "      ix = stoi[ch]# get the integer representation of the character\n",
    "      X.append(context)# append the current context to X\n",
    "      Y.append(ix)# append the target character to Y\n",
    "      context = context[1:] + [ix]# slide the context window and add the new character\n",
    "\n",
    "  X = torch.tensor(X)# convert to tensor\n",
    "  Y = torch.tensor(Y)# convert to tensor\n",
    "  print(X.shape, Y.shape)# print the shape of X and Y\n",
    "  return X, Y# return the dataset\n",
    "\n",
    "\n",
    "random.seed(42)# for reproducibility\n",
    "random.shuffle(words)# shuffle the words\n",
    "n1 = int(0.8*len(words))#80%\n",
    "n2 = int(0.9*len(words))#90%\n",
    "\n",
    "Xtr,  Ytr = build_dataset(words[:n1])#80%\n",
    "Xdev, Ydev = build_dataset(words[n1:n2])#10%\n",
    "Xte,  Yte = build_dataset(words[n2:])#10%"
   ]
  },
  {
   "cell_type": "markdown",
   "id": "ae25c976",
   "metadata": {},
   "source": [
    "## 3. MLP with Batch Normalization\n",
    "\n",
    "### Summary of Batch Normalisation\n",
    "\n",
    "Batch Normalization (BatchNorm) is a technique used in neural networks to make training faster and more stable. It works by normalising the inputs to each layer during training to have a consistent mean and standard deviation, which helps the network learn more efficiently.<br>\n",
    "\n",
    "#### Problem in the Learning Environment\n",
    "\n",
    "- **Covariate Shift:** Covariate shift is a fundamental challenge in machine learning that occurs when the distribution of our input features (also called covariates) is different in the real world (inference) than it was in your training data.<br>\n",
    "The model learns patterns from one specific type of data but then fails when it sees slightly different data in production even if the underlying task is the same.\n",
    "\n",
    "- **Internal Covariate Shift:** As the network learns the weights in the previous layers are constantly updated. This means the distribution of the data that each layer receives is also constantly changing. A layer might learn to expect inputs with a certain mean and range but in the next training step those inputs might have a completely different mean and range.<br>\n",
    "This phenomenon is called **Internal Covariate Shift.** It makes training unstable and slow because each layer is constantly trying to adapt to a new input distribution.\n",
    "\n",
    "#### Solution by Normalizing Each Batch\n",
    "BatchNorm solves this problem by adding a step that standardizes the inputs to a layer for each mini-batch of data. Before the data is passed through an activation function (like ReLU or tanh), BatchNorm ensures the data for that specific batch has:\n",
    "- A mean of 0.\n",
    "- A standard deviation of 1.\n",
    "This gives each layer a stable predictable distribution of inputs at every training step making the learning process much smoother and faster. It's like giving each layer a pair of auto-adjusting sunglasses so it always sees a consistently lit world, no matter how the \"lights\" (the weights of the previous layer) are flickering.\n",
    "\n",
    "\n",
    "> I will suggest go through the linked video for deeper understanding of [BatchNorm.](https://www.youtube.com/watch?v=2AscwXePInA)\n",
    "\n",
    "\n"
   ]
  },
  {
   "cell_type": "markdown",
   "id": "71e0ae62",
   "metadata": {},
   "source": [
    "### Initializing Model Parameters\n",
    "\n",
    "Below we set up all the trainable parameters for our network.\n",
    "\n",
    "- `C, W2, B2`: These are the same as before i.e. the embedding matrix and the weights/biases for the output layer.\n",
    "- `W1` **(Principled Initialization)**: We're no longer initializing `W1` with just `torch.randn`. Instead, we scale it by `(5/3)/((n_embd * block_size)**0.5)`. This is a simplified version of ***Kaiming initialization.*** <br>\n",
    "Its purpose is to ensure the outputs of this layer (the pre-activations) have a standard deviation of roughly 1 at the start of training. This prevents the `tanh` neurons from immediately saturating (producing outputs close to `-1` or `1`) which would kill their gradients and stall learning. The bias `b1` is removed because the subsequent BatchNorm layer has its own bias (`bnbias`) that makes `b1` redundant.\n",
    "- **BatchNorm Parameters:**\n",
    "    - `bngain` $(γ)$: A learnable scale parameter for the batch-normalized activations which is initialized to 1.\n",
    "    - `bnbias` $(β)$: A learnable shift (bias) parameter which is initialized to 0.\n",
    "    - `bnmean_running`, `bnstd_running`: These are not trained with backpropagation. They are buffers that will keep a running average of the mean and standard deviation of the activations seen during training. These are crucial for using the model in \"inference mode\" (i.e. for evaluation or prediction)."
   ]
  },
  {
   "cell_type": "code",
   "execution_count": 7,
   "id": "54fa80e4",
   "metadata": {},
   "outputs": [
    {
     "name": "stdout",
     "output_type": "stream",
     "text": [
      "12297\n"
     ]
    }
   ],
   "source": [
    "n_embd = 10# embedding dimension\n",
    "n_hidden = 200# hidden layer dimension\n",
    "\n",
    "g = torch.Generator().manual_seed(2147483647)# for reproducibility\n",
    "C = torch.randn((vocab_size, n_embd), generator=g)# character embedding matrix\n",
    "W1 = torch.randn((n_embd * block_size, n_hidden), generator=g) * (5/3) / ((n_embd * block_size) ** 0.5)# first layer weights\n",
    "b1 = torch.randn(n_hidden, generator=g) * 0.01# first layer bias\n",
    "W2 = torch.randn((n_hidden, vocab_size), generator=g) * 0.01# second layer weights\n",
    "b2 = torch.randn(vocab_size, generator=g) *0# second layer bias\n",
    "\n",
    "#BatchNorm parameters\n",
    "bngain = torch.ones(1, n_hidden)# batchnorm gain\n",
    "bnbias = torch.zeros(1, n_hidden)# batchnorm bias\n",
    "bnmean_running = torch.zeros(1, n_hidden)# running mean for batchnorm\n",
    "bnstd_running = torch.ones(1, n_hidden)# running std for batchnorm\n",
    "\n",
    "parameters = [C, W1, b1, W2, b2, bngain, bnbias]# list of parameters to optimize\n",
    "print(sum(p.nelement() for p in parameters))# number of parameters\n",
    "for p in parameters:\n",
    "  p.requires_grad = True# we want to compute gradients for these parameters"
   ]
  },
  {
   "cell_type": "markdown",
   "id": "fc80a827",
   "metadata": {},
   "source": [
    "### The Training Loop with Batch Normalization\n",
    "This is the main training loop. The key difference is the addition of the BatchNorm layer right after the first linear layer and before the tanh activation.\n",
    "- **Forward Pass Breakdown:**\n",
    "    1. **Linear Layer:** Compute `hpreact = embcat @ W1`. This is the pre-activation for the hidden layer.\n",
    "\n",
    "    2. **BatchNorm Layer (During Training):**\n",
    "\n",
    "        - Calculate the mean (`bnmeani`) and standard deviation (`bnstdi`) of hpreact for the current minibatch.\n",
    "\n",
    "        - Normalize `hpreact` using this mean and std: `(hpreact - bnmeani) / bnstdi`.\n",
    "\n",
    "        - Scale and shift the result using the learnable bngain and bnbias parameters. This allows the network to learn the optimal scale and offset for the activations.\n",
    "\n",
    "    3. **Updating Running Stats:** Inside a `torch.no_grad()` block (to prevent these operations from being part of the gradient computation). We update `bnmean_running` and `bnstd_running` with an exponential moving average. This allows us to maintain a smooth global estimate of the activation statistics across all training batches.\n",
    "\n",
    "    4. **Non-linearity:** Apply `h = torch.tanh(hpreact)` because hpreact is now nicely normalized around zero the tanh function will operate in its active region and preventing the saturation problem."
   ]
  },
  {
   "cell_type": "code",
   "execution_count": 8,
   "id": "3c070a0f",
   "metadata": {},
   "outputs": [
    {
     "name": "stdout",
     "output_type": "stream",
     "text": [
      "      0/ 200000: 3.3147\n",
      "  10000/ 200000: 2.1984\n",
      "  20000/ 200000: 2.3375\n",
      "  30000/ 200000: 2.4359\n",
      "  40000/ 200000: 2.0119\n",
      "  50000/ 200000: 2.2595\n",
      "  60000/ 200000: 2.4775\n",
      "  70000/ 200000: 2.1020\n",
      "  80000/ 200000: 2.2788\n",
      "  90000/ 200000: 2.1862\n",
      " 100000/ 200000: 1.9474\n",
      " 110000/ 200000: 2.3010\n",
      " 120000/ 200000: 1.9837\n",
      " 130000/ 200000: 2.4523\n",
      " 140000/ 200000: 2.3839\n",
      " 150000/ 200000: 2.1987\n",
      " 160000/ 200000: 1.9733\n",
      " 170000/ 200000: 1.8668\n",
      " 180000/ 200000: 1.9973\n",
      " 190000/ 200000: 1.8347\n"
     ]
    }
   ],
   "source": [
    "max_steps = 200000# number of training steps\n",
    "batch_size = 32# batch size\n",
    "lossi = []# list to store loss values\n",
    "\n",
    "for i in range(max_steps):\n",
    "    # minibatch construction\n",
    "    ix = torch.randint(0, Xtr.shape[0], (batch_size,), generator=g)# random indices for the minibatch\n",
    "    Xb, Yb = Xtr[ix], Ytr[ix]# minibatch input and target\n",
    "    \n",
    "    # forward pass\n",
    "    emb = C[Xb]# embed the characters into vectors, shape (batch_size, block_size, n_embd)\n",
    "    embcat = emb.view(emb.shape[0], -1)# concatenate the vectors, shape (batch_size, block_size * n_embd)\n",
    "    #linear layer\n",
    "    hpreact = embcat @ W1 + b1# hidden layer pre-activation, shape (batch_size, n_hidden)\n",
    "    \n",
    "    #BatchNorm Layer\n",
    "    bnmeani = hpreact.mean(0, keepdim=True)# batch mean\n",
    "    bnstdi = hpreact.std(0, keepdim=True)# batch std\n",
    "    hpreact = bngain * (hpreact - bnmeani) / bnstdi + bnbias# batch normalization\n",
    "    with torch.no_grad():\n",
    "        bnmean_running = 0.999 * bnmean_running + 0.001 * bnmeani# update running mean\n",
    "        bnstd_running = 0.999 * bnstd_running + 0.001 * bnstdi# update running std\n",
    "    \n",
    "    h = torch.tanh(hpreact)# hidden layer activation, shape (batch_size, n_hidden)\n",
    "    logits = h @ W2 + b2# output layer, shape (batch_size, vocab_size)\n",
    "    loss = F.cross_entropy(logits, Yb)# cross-entropy loss\n",
    "    \n",
    "    #backward pass\n",
    "    for p in parameters:\n",
    "        p.grad = None# set gradients to zero\n",
    "    loss.backward()# compute gradients\n",
    "    \n",
    "    lr = 0.1 if i < 100000 else 0.01 # step learning rate decay\n",
    "    for p in parameters:\n",
    "        p.data += -lr * p.grad# update parameters with gradient descent\n",
    "\n",
    "    # track stats\n",
    "    if i % 10000 == 0: # print every once in a while\n",
    "        print(f'{i:7d}/{max_steps:7d}: {loss.item():.4f}')\n",
    "    lossi.append(loss.log10().item())# store the loss value"
   ]
  },
  {
   "cell_type": "code",
   "execution_count": 10,
   "id": "a16eda84",
   "metadata": {},
   "outputs": [
    {
     "data": {
      "image/png": "[encoded data removed]",
      "text/plain": [
       "<Figure size 640x480 with 1 Axes>"
      ]
     },
     "metadata": {},
     "output_type": "display_data"
    }
   ],
   "source": [
    "# plot the loss curve\n",
    "plt.plot(torch.tensor(lossi).view(-1, 1000).mean(1))\n",
    "plt.xlabel('x1000')\n",
    "plt.ylabel('log10(loss)')\n",
    "plt.title('Loss curve')\n",
    "plt.show()"
   ]
  },
  {
   "cell_type": "code",
   "execution_count": 12,
   "id": "df17df7b",
   "metadata": {},
   "outputs": [
    {
     "data": {
      "image/png": "[encoded data removed]",
      "text/plain": [
       "<Figure size 640x480 with 1 Axes>"
      ]
     },
     "metadata": {},
     "output_type": "display_data"
    }
   ],
   "source": [
    "plt.plot(lossi)\n",
    "plt.xlabel('step')\n",
    "plt.ylabel('log10(loss)')\n",
    "plt.title('Loss curve')\n",
    "plt.show()"
   ]
  },
  {
   "cell_type": "markdown",
   "id": "80b89528",
   "metadata": {},
   "source": [
    "### Calibrating Final BatchNorm Statistics"
   ]
  },
  {
   "cell_type": "code",
   "execution_count": 13,
   "id": "d4a4d2fc",
   "metadata": {},
   "outputs": [],
   "source": [
    "with torch.no_grad():\n",
    "  emb = C[Xtr]# pass the training set through\n",
    "  embcat = emb.view(emb.shape[0], -1)# concatenate the vectors\n",
    "  hpreact = embcat @ W1  # + b1\n",
    "  bnmean = hpreact.mean(0, keepdim=True)\n",
    "  bnstd = hpreact.std(0, keepdim=True)"
   ]
  },
  {
   "cell_type": "markdown",
   "id": "486611e3",
   "metadata": {},
   "source": [
    "### Evaluating the Final Loss (Training vs. Validation)\n",
    "Here we calculate the loss for a given data split (train or val).\n",
    "\n",
    "- `@torch.no_grad()`: This decorator disables gradient tracking making the computation much faster and more memory-efficient which is appropriate since we are only evaluating, not training."
   ]
  },
  {
   "cell_type": "code",
   "execution_count": 14,
   "id": "f4030708",
   "metadata": {},
   "outputs": [
    {
     "name": "stdout",
     "output_type": "stream",
     "text": [
      "train 2.0666232109069824\n",
      "val 2.1051769256591797\n"
     ]
    }
   ],
   "source": [
    "@torch.no_grad()  # this decorator disables gradient tracking\n",
    "def split_loss(split):\n",
    "  x, y = {\n",
    "      'train': (Xtr, Ytr),\n",
    "      'val': (Xdev, Ydev),\n",
    "      'test': (Xte, Yte),\n",
    "  }[split]\n",
    "  emb = C[x]  # (N, block_size, n_embd)\n",
    "  embcat = emb.view(emb.shape[0], -1)  # concat into (N, block_size * n_embd)\n",
    "  hpreact = embcat @ W1  # + b1\n",
    "  # hpreact = bngain * (hpreact - hpreact.mean(0, keepdim=True)) / hpreact.std(0, keepdim=True) + bnbias\n",
    "  hpreact = bngain * (hpreact - bnmean_running) / bnstd_running + bnbias\n",
    "  h = torch.tanh(hpreact)  # (N, n_hidden)\n",
    "  logits = h @ W2 + b2  # (N, vocab_size)\n",
    "  loss = F.cross_entropy(logits, y)\n",
    "  print(split, loss.item())\n",
    "  \n",
    "split_loss('train')\n",
    "split_loss('val')"
   ]
  },
  {
   "cell_type": "code",
   "execution_count": null,
   "id": "d736064f",
   "metadata": {},
   "outputs": [],
   "source": []
  }
 ],
 "metadata": {
  "kernelspec": {
   "display_name": "env",
   "language": "python",
   "name": "python3"
  },
  "language_info": {
   "codemirror_mode": {
    "name": "ipython",
    "version": 3
   },
   "file_extension": ".py",
   "mimetype": "text/x-python",
   "name": "python",
   "nbconvert_exporter": "python",
   "pygments_lexer": "ipython3",
   "version": "3.8.19"
  }
 },
 "nbformat": 4,
 "nbformat_minor": 5
}
