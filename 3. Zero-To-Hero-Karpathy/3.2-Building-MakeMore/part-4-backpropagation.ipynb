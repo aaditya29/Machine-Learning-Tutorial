{
 "cells": [
  {
   "cell_type": "markdown",
   "id": "d6441c8a",
   "metadata": {},
   "source": [
    "# Part 4: Becoming a Backpropagation Ninja"
   ]
  },
  {
   "cell_type": "markdown",
   "id": "304fe414",
   "metadata": {},
   "source": [
    "Here we take the 2-layer MLP (with `BatchNorm`) from the previous part and backpropagate through it manually without using PyTorch autograd's `loss.backward()` through the cross entropy loss, 2nd linear layer, tanh, batchnorm, 1st linear layer, and the embedding table."
   ]
  }
 ],
 "metadata": {
  "language_info": {
   "name": "python"
  }
 },
 "nbformat": 4,
 "nbformat_minor": 5
}
