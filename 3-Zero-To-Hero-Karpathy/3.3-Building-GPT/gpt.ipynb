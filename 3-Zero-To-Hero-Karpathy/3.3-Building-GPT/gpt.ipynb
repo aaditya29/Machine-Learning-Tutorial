{
 "cells": [
  {
   "cell_type": "markdown",
   "id": "23792c3e",
   "metadata": {},
   "source": [
    "# GPT For Bigram Language Model"
   ]
  },
  {
   "cell_type": "markdown",
   "id": "69b28af3",
   "metadata": {},
   "source": [
    "Here we build a complete working Generative Pre-trained Transformer (GPT) model from scratch capable of generating text in the style of Shakespeare."
   ]
  },
  {
   "cell_type": "markdown",
   "id": "630d38cf",
   "metadata": {},
   "source": [
    "## 1. Setup and Hyperparameters"
   ]
  },
  {
   "cell_type": "code",
   "execution_count": 2,
   "id": "8ee8d13b",
   "metadata": {},
   "outputs": [],
   "source": [
    "import torch\n",
    "import torch.nn as nn\n",
    "from torch.nn import functional as F"
   ]
  },
  {
   "cell_type": "code",
   "execution_count": 18,
   "id": "8baaa9e9",
   "metadata": {},
   "outputs": [],
   "source": [
    "batch_size = 16#how many independent sequences will we process in parallel\n",
    "block_size = 32# what is the maximum context length for predictions\n",
    "max_iters = 5000# how many training iterations\n",
    "eval_interval = 100# evaluate the loss every eval_interval iterations\n",
    "learning_rate = 1e-3# learning rate for optimization\n",
    "device = 'cuda' if torch.cuda.is_available() else 'cpu'\n",
    "eval_iters = 200# how many batches to use for evaluation\n",
    "n_embd = 64# the embedding dimension\n",
    "n_head = 4# the number of heads in the multi-head attention model\n",
    "n_layer = 4# the number of layers in the transformer\n",
    "dropout = 0.0# the dropout rate"
   ]
  },
  {
   "cell_type": "markdown",
   "id": "cccf789a",
   "metadata": {},
   "source": [
    "## 2. Data Loading and Tokenization"
   ]
  },
  {
   "cell_type": "code",
   "execution_count": 4,
   "id": "ada638ab",
   "metadata": {},
   "outputs": [],
   "source": [
    "with open('input.txt', 'r', encoding='utf-8') as f:\n",
    "    text = f.read()\n",
    "\n",
    "# here are all the unique characters that occur in this text\n",
    "chars = sorted(list(set(text)))\n",
    "vocab_size = len(chars)\n",
    "# create a mapping from characters to integers\n",
    "stoi = {ch: i for i, ch in enumerate(chars)}\n",
    "itos = {i: ch for i, ch in enumerate(chars)}\n",
    "# encoder: take a string, output a list of integers\n",
    "def encode(s): return [stoi[c] for c in s]\n",
    "# decoder: take a list of integers, output a string\n",
    "def decode(l): return ''.join([itos[i] for i in l])\n",
    "# Train and test splits\n",
    "data = torch.tensor(encode(text), dtype=torch.long)\n",
    "n = int(0.9*len(data))  # first 90% will be train, rest val\n",
    "train_data = data[:n]\n",
    "val_data = data[n:]"
   ]
  },
  {
   "cell_type": "markdown",
   "id": "c3d585b3",
   "metadata": {},
   "source": [
    "## 3. Data Batching and Loss Estimation\n"
   ]
  },
  {
   "cell_type": "markdown",
   "id": "6a843853",
   "metadata": {},
   "source": [
    "### Data Loading Function `(get_batch)`\n"
   ]
  },
  {
   "cell_type": "code",
   "execution_count": 5,
   "id": "061fa6cf",
   "metadata": {},
   "outputs": [],
   "source": [
    "# data loading\n",
    "def get_batch(split):\n",
    "    # generate a small batch of data of inputs x and targets y\n",
    "    data = train_data if split == 'train' else val_data\n",
    "    ix = torch.randint(len(data) - block_size, (batch_size,))\n",
    "    x = torch.stack([data[i:i+block_size] for i in ix])\n",
    "    y = torch.stack([data[i+1:i+block_size+1] for i in ix])\n",
    "    x, y = x.to(device), y.to(device)\n",
    "    return x, y"
   ]
  },
  {
   "cell_type": "markdown",
   "id": "9e5fafe1",
   "metadata": {},
   "source": [
    "### Loss Estimation Function `(estimate_loss)`"
   ]
  },
  {
   "cell_type": "code",
   "execution_count": 6,
   "id": "e1c48dcc",
   "metadata": {},
   "outputs": [],
   "source": [
    "@torch.no_grad()\n",
    "def estimate_loss():\n",
    "    out = {}# results will be collected here\n",
    "    model.eval()# set the model to evaluation mode\n",
    "    for split in ['train', 'val']:\n",
    "        losses = torch.zeros(eval_iters)# tensor to hold the loss values\n",
    "        for k in range(eval_iters):\n",
    "            X, Y = get_batch(split)# get a batch of data\n",
    "            logits, loss = model(X, Y)# forward pass through the model\n",
    "            losses[k] = loss.item()# store the loss value\n",
    "        out[split] = losses.mean()# compute the mean loss for this split\n",
    "    model.train()# set the model back to training mode\n",
    "    return out"
   ]
  },
  {
   "cell_type": "markdown",
   "id": "de823a4d",
   "metadata": {},
   "source": [
    "## 4. Transformer Model Architecture"
   ]
  },
  {
   "cell_type": "markdown",
   "id": "42d69b34",
   "metadata": {},
   "source": [
    "### `Head` Module: A Single Head of Self-Attention\n",
    "\n",
    "- `__init__:`\n",
    "    - It creates three `nn.Linear` layers to produce the Query, Key, and Value vectors from the input with no bias term.\n",
    "    - `self.register_buffer('tril', ...)`: This creates a lower-triangular matrix of ones called `tril`. A buffer is a parameter that is part of the model's state but is not trained by the optimizer. This mask is essential for creating a decoder-style Transformer that can only attend to previous tokens in the sequence.\n",
    "\n",
    "- `forward:`\n",
    "    - It calculates the attention scores (`wei`) by taking the dot product of queries and keys and scaling by the square root of the channel dimension (C**-0.5).\n",
    "    - `wei.masked_fill(...)`: This applies the causal `mask`. It prevents tokens from seeing future tokens by setting the attention scores for future positions to negative infinity.\n",
    "    - `F.softmax`: Converts the scores into a probability distribution.\n",
    "    - `wei @ v`: Performs the weighted aggregation of the value vectors to produce the output of the attention head."
   ]
  },
  {
   "cell_type": "code",
   "execution_count": 7,
   "id": "0b740147",
   "metadata": {},
   "outputs": [],
   "source": [
    "#One head of self attention\n",
    "class Head(nn.Module):\n",
    "    \n",
    "    def __init__(self, head_size):\n",
    "        super().__init__()\n",
    "        self.key = nn.Linear(n_embd, head_size, bias = False)# key projection\n",
    "        self.query = nn.Linear(n_embd, head_size, bias = False)# query projection\n",
    "        self.value = nn.Linear(n_embd, head_size, bias = False)# value projection\n",
    "        self.register_buffer('tril', torch.tril(torch.ones(block_size, block_size)))# lower triangular matrix for masking\n",
    "        self.dropout = nn.Dropout(dropout)# dropout layer\n",
    "    \n",
    "    def forward(self, x):\n",
    "        B, T, C = x.shape\n",
    "        k = self.key(x) # (B,T,head_size)\n",
    "        q = self.query(x) # (B,T,head_size)\n",
    "        # compute attention scores\n",
    "        wei = q @ k.transpose(-2, -1) * C**-0.5 # (B,T,head_size) @ (B,head_size,T) -> (B,T)\n",
    "        wei = wei.masked_fill(self.tril[:T, :T] == 0, float('-inf'))# apply the mask to ensure causality\n",
    "        wei = F.softmax(wei, dim=-1)# softmax to get attention weights\n",
    "        wei = self.dropout(wei)# apply dropout to the attention weights\n",
    "        v = self.value(x) # (B,T,head_size)\n",
    "        out = wei @ v # (B,T,T) @ (B,T,head_size) -> (B,T,head_size)\n",
    "        return out"
   ]
  },
  {
   "cell_type": "markdown",
   "id": "00312fe7",
   "metadata": {},
   "source": [
    "### `MultiHeadAttention` Module\n",
    "\n",
    "This module combines multiple Heads to run in parallel.\n",
    "- `__init__`: It creates `num_heads` instances of our ``Head` class and stores them in an `nn.ModuleList`. It also has a final projection layer (`self.proj`) that maps the concatenated head outputs back to the original embedding dimension.\n",
    "\n",
    "- `forward`: It runs each head on the input x concatenates their outputs along the channel dimension and then passes the result through the projection layer."
   ]
  },
  {
   "cell_type": "code",
   "execution_count": 8,
   "id": "d6b43397",
   "metadata": {},
   "outputs": [],
   "source": [
    "class MultiHeadAttention(nn.Module):\n",
    "    \n",
    "    def __init__(self, num_heads, head_size):\n",
    "        super().__init__()# initialize the multi-head attention module\n",
    "        self.heads = nn.ModuleList([Head(head_size) for _ in range(num_heads)])# create multiple heads\n",
    "        self.proj = nn.Linear(n_embd, n_embd)# final projection layer\n",
    "        self.dropout = nn.Dropout(dropout)# dropout layer\n",
    "\n",
    "    def forward(self, x):\n",
    "        out = torch.cat([h(x) for h in self.heads], dim=-1)# concatenate the outputs of all heads\n",
    "        out = self.dropout(self.proj(out))# final projection and dropout\n",
    "        return out"
   ]
  },
  {
   "cell_type": "markdown",
   "id": "8d3aa10a",
   "metadata": {},
   "source": [
    "### `FeedForward` Module"
   ]
  },
  {
   "cell_type": "code",
   "execution_count": 9,
   "id": "36b26f3c",
   "metadata": {},
   "outputs": [],
   "source": [
    "class FeedFoward(nn.Module):\n",
    "    def __init__(self, n_embd):\n",
    "        super().__init__()\n",
    "        self.net = nn.Sequential(\n",
    "            nn.Linear(n_embd, 4 * n_embd),\n",
    "            nn.ReLU(),\n",
    "            nn.Linear(4 * n_embd, n_embd),\n",
    "            nn.Dropout(dropout),\n",
    "        )\n",
    "\n",
    "    def forward(self, x):\n",
    "        return self.net(x)"
   ]
  },
  {
   "cell_type": "markdown",
   "id": "1f463e14",
   "metadata": {},
   "source": [
    "### Block Module: The Transformer Block"
   ]
  },
  {
   "cell_type": "code",
   "execution_count": 10,
   "id": "4aa346c2",
   "metadata": {},
   "outputs": [],
   "source": [
    "class Block(nn.Module):\n",
    "    def __init__(self, n_embd, n_head):\n",
    "        # n_embd: embedding dimension, n_head: the number of heads we'd like\n",
    "        super().__init__()\n",
    "        head_size = n_embd // n_head\n",
    "        self.sa = MultiHeadAttention(n_head, head_size)# self-attention\n",
    "        self.ffwd = FeedFoward(n_embd)# feed-forward network\n",
    "        self.ln1 = nn.LayerNorm(n_embd)# layer norm 1\n",
    "        self.ln2 = nn.LayerNorm(n_embd)# layer norm 2\n",
    "\n",
    "    def forward(self, x):\n",
    "        x = x + self.sa(self.ln1(x))# residual connection around self-attention\n",
    "        x = x + self.ffwd(self.ln2(x))# residual connection around feed-forward network\n",
    "        return x"
   ]
  },
  {
   "cell_type": "markdown",
   "id": "4240916e",
   "metadata": {},
   "source": [
    "### `BigramLanguageModel`"
   ]
  },
  {
   "cell_type": "code",
   "execution_count": 20,
   "id": "2d0551d0",
   "metadata": {},
   "outputs": [
    {
     "name": "stdout",
     "output_type": "stream",
     "text": [
      "0.209729 M parameters\n"
     ]
    }
   ],
   "source": [
    "class BigramLanguageModel(nn.Module):\n",
    "\n",
    "    def __init__(self):\n",
    "        super().__init__()\n",
    "        # each token directly reads off the logits for the next token from a lookup table\n",
    "        self.token_embedding_table = nn.Embedding(vocab_size, n_embd)\n",
    "        self.position_embedding_table = nn.Embedding(block_size, n_embd)# position embeddings\n",
    "        self.blocks = nn.Sequential(\n",
    "            *[Block(n_embd, n_head=n_head) for _ in range(n_layer)])# stack of transformer blocks\n",
    "        self.ln_f = nn.LayerNorm(n_embd)  # final layer norm\n",
    "        self.lm_head = nn.Linear(n_embd, vocab_size)# language model head\n",
    "\n",
    "    def forward(self, idx, targets=None):\n",
    "        B, T = idx.shape\n",
    "\n",
    "        # idx and targets are both (B,T) tensor of integers\n",
    "        tok_emb = self.token_embedding_table(idx)  # (B,T,C)\n",
    "        pos_emb = self.position_embedding_table(\n",
    "            torch.arange(T, device=device))  # (T,C)\n",
    "        x = tok_emb + pos_emb  # (B,T,C)\n",
    "        x = self.blocks(x)  # (B,T,C)\n",
    "        x = self.ln_f(x)  # (B,T,C)\n",
    "        logits = self.lm_head(x)  # (B,T,vocab_size)\n",
    "\n",
    "        if targets is None:\n",
    "            loss = None\n",
    "        else:\n",
    "            B, T, C = logits.shape# batch size, time steps, vocab size\n",
    "            logits = logits.view(B*T, C)# reshape logits to (B*T, C)\n",
    "            targets = targets.view(B*T)# reshape targets to (B*T)\n",
    "            loss = F.cross_entropy(logits, targets)# compute the cross-entropy loss\n",
    "\n",
    "        return logits, loss\n",
    "\n",
    "    def generate(self, idx, max_new_tokens):\n",
    "        # idx is (B, T) array of indices in the current context\n",
    "        for _ in range(max_new_tokens):\n",
    "            # crop idx to the last block_size tokens\n",
    "            idx_cond = idx[:, -block_size:]\n",
    "            # get the predictions\n",
    "            logits, loss = self(idx_cond)\n",
    "            # focus only on the last time step\n",
    "            logits = logits[:, -1, :]  # becomes (B, C)\n",
    "            # apply softmax to get probabilities\n",
    "            probs = F.softmax(logits, dim=-1)  # (B, C)\n",
    "            # sample from the distribution\n",
    "            idx_next = torch.multinomial(probs, num_samples=1)  # (B, 1)\n",
    "            # append sampled index to the running sequence\n",
    "            idx = torch.cat((idx, idx_next), dim=1)  # (B, T+1)\n",
    "        return idx\n",
    "\n",
    "\n",
    "model = BigramLanguageModel()\n",
    "m = model.to(device)\n",
    "# print the number of parameters in the model\n",
    "print(sum(p.numel() for p in m.parameters())/1e6, 'M parameters')\n",
    "\n",
    "# create a PyTorch optimizer\n",
    "optimizer = torch.optim.AdamW(model.parameters(), lr=learning_rate)\n",
    "\n"
   ]
  },
  {
   "cell_type": "code",
   "execution_count": 22,
   "id": "7ea483ee",
   "metadata": {},
   "outputs": [
    {
     "name": "stdout",
     "output_type": "stream",
     "text": [
      "step 0: train loss 1.6574, val loss 1.8160\n",
      "step 100: train loss 1.6566, val loss 1.8172\n",
      "step 200: train loss 1.6344, val loss 1.8100\n",
      "step 300: train loss 1.6545, val loss 1.8224\n",
      "step 400: train loss 1.6500, val loss 1.8052\n",
      "step 500: train loss 1.6421, val loss 1.7940\n",
      "step 600: train loss 1.6368, val loss 1.8067\n",
      "step 700: train loss 1.6360, val loss 1.8089\n",
      "step 800: train loss 1.6324, val loss 1.7921\n",
      "step 900: train loss 1.6272, val loss 1.7870\n",
      "step 1000: train loss 1.6230, val loss 1.7834\n",
      "step 1100: train loss 1.6311, val loss 1.7822\n",
      "step 1200: train loss 1.6212, val loss 1.7872\n",
      "step 1300: train loss 1.6261, val loss 1.7828\n",
      "step 1400: train loss 1.6129, val loss 1.7790\n",
      "step 1500: train loss 1.6141, val loss 1.7829\n",
      "step 1600: train loss 1.6014, val loss 1.7814\n",
      "step 1700: train loss 1.6109, val loss 1.7812\n",
      "step 1800: train loss 1.6050, val loss 1.7684\n",
      "step 1900: train loss 1.6014, val loss 1.7809\n",
      "step 2000: train loss 1.5982, val loss 1.7747\n",
      "step 2100: train loss 1.5979, val loss 1.7683\n",
      "step 2200: train loss 1.5987, val loss 1.7768\n",
      "step 2300: train loss 1.5869, val loss 1.7620\n",
      "step 2400: train loss 1.5904, val loss 1.7642\n",
      "step 2500: train loss 1.6004, val loss 1.7688\n",
      "step 2600: train loss 1.5944, val loss 1.7544\n",
      "step 2700: train loss 1.5822, val loss 1.7579\n",
      "step 2800: train loss 1.5873, val loss 1.7501\n",
      "step 2900: train loss 1.5744, val loss 1.7624\n",
      "step 3000: train loss 1.5815, val loss 1.7710\n",
      "step 3100: train loss 1.5778, val loss 1.7492\n",
      "step 3200: train loss 1.5742, val loss 1.7443\n",
      "step 3300: train loss 1.5817, val loss 1.7760\n",
      "step 3400: train loss 1.5841, val loss 1.7361\n",
      "step 3500: train loss 1.5727, val loss 1.7340\n",
      "step 3600: train loss 1.5638, val loss 1.7312\n",
      "step 3700: train loss 1.5707, val loss 1.7412\n",
      "step 3800: train loss 1.5730, val loss 1.7252\n",
      "step 3900: train loss 1.5624, val loss 1.7396\n",
      "step 4000: train loss 1.5652, val loss 1.7442\n",
      "step 4100: train loss 1.5621, val loss 1.7319\n",
      "step 4200: train loss 1.5647, val loss 1.7432\n",
      "step 4300: train loss 1.5553, val loss 1.7396\n",
      "step 4400: train loss 1.5587, val loss 1.7420\n",
      "step 4500: train loss 1.5696, val loss 1.7308\n",
      "step 4600: train loss 1.5487, val loss 1.7361\n",
      "step 4700: train loss 1.5578, val loss 1.7302\n",
      "step 4800: train loss 1.5603, val loss 1.7383\n",
      "step 4900: train loss 1.5474, val loss 1.7482\n",
      "step 4999: train loss 1.5546, val loss 1.7250\n"
     ]
    }
   ],
   "source": [
    "for iter in range(max_iters):\n",
    "    # every once in a while evaluate the loss on train and val sets\n",
    "    if iter % eval_interval == 0 or iter == max_iters - 1:\n",
    "        losses = estimate_loss()\n",
    "        print(\n",
    "            f\"step {iter}: train loss {losses['train']:.4f}, val loss {losses['val']:.4f}\")\n",
    "\n",
    "    # sample a batch of data\n",
    "    xb, yb = get_batch('train')\n",
    "\n",
    "    # evaluate the loss\n",
    "    logits, loss = model(xb, yb)\n",
    "    optimizer.zero_grad(set_to_none=True)  # reset the gradients\n",
    "    loss.backward()  # backpropagate to compute gradients\n",
    "    optimizer.step()  # perform a parameter update\n",
    "\n",
    "# generate from the model\n",
    "context = torch.zeros((1, 1), dtype=torch.long, device=device)"
   ]
  },
  {
   "cell_type": "code",
   "execution_count": 24,
   "id": "ad32ba0d",
   "metadata": {},
   "outputs": [
    {
     "name": "stdout",
     "output_type": "stream",
     "text": [
      "\n",
      "Have no know them, which abitory,\n",
      "To my peeer! suffs of, Leazen: Say, dead not for we havishmasion: dear homeld be murder;\n",
      "As theye there breat and pleaded own,\n",
      "being breathe, my pare mock, when better, Leozen of him Take.\n",
      "I did know this fellow: flady, yea!\n",
      "Stand o' the woman: and he silks as know him one loves?\n",
      "\n",
      "QUEEN MARTIUS:\n",
      "Would but where is freals of cheacher no courts\n",
      "I in the which and shosest unto what see be me to no vicievee to chance:\n",
      "Since uncanswer; he humeting's kneess sweet body,.\n",
      "O, here not on earth, the vice of for thoughtsing this: and if thy bidition by my arm repolling;\n",
      "I pase apastage up out that his shall truke cule I earth,\n",
      "Dearing what give be leverent, lived \n",
      "BUCK:\n",
      "Could forth my faught.\n",
      "\n",
      "DORD:\n",
      "Wout took that is the not; or what is storry shall his herm,\n",
      "Here loves as whan to stortake, it this\n",
      "say abless peace celset me; picit\n",
      "feed, woo; and thind will cause a vine be leforne busin and some\n",
      "All from verbilood: asay' as from their scan to snift;\n",
      "Now'tings say\n"
     ]
    }
   ],
   "source": [
    "print(decode(m.generate(context, max_new_tokens=1000)[0].tolist()))"
   ]
  }
 ],
 "metadata": {
  "kernelspec": {
   "display_name": "env",
   "language": "python",
   "name": "python3"
  },
  "language_info": {
   "codemirror_mode": {
    "name": "ipython",
    "version": 3
   },
   "file_extension": ".py",
   "mimetype": "text/x-python",
   "name": "python",
   "nbconvert_exporter": "python",
   "pygments_lexer": "ipython3",
   "version": "3.8.19"
  }
 },
 "nbformat": 4,
 "nbformat_minor": 5
}
