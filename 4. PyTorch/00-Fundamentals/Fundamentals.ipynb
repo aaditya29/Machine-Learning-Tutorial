{
 "cells": [
  {
   "cell_type": "markdown",
   "id": "4ecc1406",
   "metadata": {},
   "source": [
    "# Pytorch Fundamentals"
   ]
  },
  {
   "cell_type": "markdown",
   "id": "7f062b8b",
   "metadata": {},
   "source": [
    "## Introduction to Tensors"
   ]
  },
  {
   "cell_type": "code",
   "execution_count": 1,
   "id": "7fbfd6db",
   "metadata": {},
   "outputs": [
    {
     "name": "stdout",
     "output_type": "stream",
     "text": [
      "2.3.1\n"
     ]
    }
   ],
   "source": [
    "import torch\n",
    "import pandas as pd\n",
    "import numpy as np\n",
    "import matplotlib.pyplot as plt\n",
    "print(torch.__version__)"
   ]
  },
  {
   "cell_type": "markdown",
   "id": "7f861766",
   "metadata": {},
   "source": [
    "### Creating Tensors\n",
    "\n",
    "A **tensor** is a fundamental data structure in PyTorch, generalizing scalars, vectors, and matrices to potentially higher dimensions. \n",
    "\n",
    "#### **1. Intuitive Understanding**\n",
    "\n",
    "- **Scalar**: A single number (0D tensor), e.g., temperature = 37°C.\n",
    "- **Vector**: An array of numbers (1D tensor), e.g., [height, weight, age].\n",
    "- **Matrix**: A 2D array (2D tensor), e.g., grayscale image pixels.\n",
    "- **Tensor**: An n-dimensional array (nD tensor), e.g., color images (3D), video (4D), or batches of data.\n",
    "\n",
    "**Analogy:**  \n",
    "Think of a tensor as a general container for data, like a spreadsheet (matrix), but extended to more dimensions—imagine a stack of spreadsheets (3D), or a sequence of such stacks (4D).\n",
    "\n",
    "#### **2. Mathematical Foundation**\n",
    "\n",
    "A tensor is a multi-dimensional array of numerical values. Formally, an n-th order tensor is an element of the tensor product of n vector spaces.\n",
    "\n",
    "- **Order (Rank):** Number of dimensions (axes).\n",
    "- **Shape:** Size along each dimension.\n",
    "\n",
    "**Example:**  \n",
    "A tensor of shape (3, 4, 5) is a 3D tensor with 3 matrices, each of size 4x5.\n",
    "\n",
    "\n",
    "**In PyTorch:**  \n",
    "Tensors are implemented as contiguous blocks of memory, supporting efficient computation and broadcasting.\n",
    "\n",
    "\n",
    "#### **4. Key Operations**\n",
    "\n",
    "- **Reshaping:** `tensor.view()`, `tensor.reshape()`\n",
    "- **Indexing/Slicing:** `tensor[0]`, `tensor[:, 1]`\n",
    "- **Mathematical Ops:** `torch.add()`, `torch.matmul()`, etc.\n",
    "- **Broadcasting:** Automatic expansion of dimensions for operations.\n",
    "\n",
    "#### **5. Real-World Analogies**\n",
    "\n",
    "- **Images:** 2D (grayscale) or 3D (color) tensors.\n",
    "- **Videos:** 4D tensors (batch, channel, height, width).\n",
    "- **Text:** 2D or 3D tensors (batch, sequence length, embedding size).\n",
    "\n",
    "#### **6. Applications in AI/ML**\n",
    "\n",
    "- **Deep Learning:** All neural network computations (inputs, weights, activations) are tensor operations.\n",
    "- **Computer Vision:** Images and videos as tensors.\n",
    "- **Natural Language Processing:** Sentences as sequences of word embeddings (tensors).\n",
    "- **Reinforcement Learning:** States, actions, and rewards as tensors.\n",
    "\n",
    "#### **7. Why Tensors?**\n",
    "\n",
    "- **Efficiency:** Optimized for GPU/TPU computation.\n",
    "- **Flexibility:** Can represent any data structure needed for ML.\n",
    "- **Expressiveness:** Enable complex operations (convolutions, matrix multiplications) essential for modern AI."
   ]
  },
  {
   "cell_type": "code",
   "execution_count": 2,
   "id": "e03e4134",
   "metadata": {},
   "outputs": [
    {
     "data": {
      "text/plain": [
       "tensor(7)"
      ]
     },
     "execution_count": 2,
     "metadata": {},
     "output_type": "execute_result"
    }
   ],
   "source": [
    "# scalar\n",
    "# creating pytorch tensor using torch.Tensor()\n",
    "scalar = torch.tensor(7)\n",
    "scalar"
   ]
  },
  {
   "cell_type": "code",
   "execution_count": 3,
   "id": "19f68bbd",
   "metadata": {},
   "outputs": [
    {
     "data": {
      "text/plain": [
       "0"
      ]
     },
     "execution_count": 3,
     "metadata": {},
     "output_type": "execute_result"
    }
   ],
   "source": [
    "scalar.ndim  # number of dimensions"
   ]
  },
  {
   "cell_type": "code",
   "execution_count": 4,
   "id": "8eca48e0",
   "metadata": {},
   "outputs": [
    {
     "data": {
      "text/plain": [
       "7"
      ]
     },
     "execution_count": 4,
     "metadata": {},
     "output_type": "execute_result"
    }
   ],
   "source": [
    "scalar.item()  # get the value of the tensor"
   ]
  },
  {
   "cell_type": "markdown",
   "id": "0b08e61e",
   "metadata": {},
   "source": [
    "### Creating Vectors\n",
    "\n",
    "\n",
    "#### Intuitive Understanding\n",
    "\n",
    "A **vector** is a one-dimensional array of numbers. In PyTorch, a vector is represented as a 1D tensor. Vectors are fundamental in mathematics, physics, and machine learning, serving as the building blocks for more complex structures.\n",
    "\n",
    "- **Example:**  \n",
    "    `vector = torch.tensor([7, 7])`  \n",
    "    This is a 1D tensor (vector) with two elements.\n",
    "\n",
    "**Intuition:**  \n",
    "Think of a vector as an arrow in space, defined by its direction and magnitude. In data science, vectors often represent features of a data point (e.g., height and weight of a person).\n",
    "\n",
    "####  Why Vectors Matter in PyTorch\n",
    "\n",
    "- **Efficiency:** PyTorch operations are vectorized for speed, leveraging GPUs.\n",
    "- **Expressiveness:** Vectors enable concise representation of data and parameters.\n",
    "- **Foundation:** All higher-dimensional tensors (matrices, etc.) are built from vectors.\n",
    "\n"
   ]
  },
  {
   "cell_type": "code",
   "execution_count": 5,
   "id": "91b8092b",
   "metadata": {},
   "outputs": [
    {
     "data": {
      "text/plain": [
       "tensor([7, 7])"
      ]
     },
     "execution_count": 5,
     "metadata": {},
     "output_type": "execute_result"
    }
   ],
   "source": [
    "# vector\n",
    "vector = torch.tensor([7, 7])\n",
    "vector"
   ]
  },
  {
   "cell_type": "code",
   "execution_count": 6,
   "id": "06f9128a",
   "metadata": {},
   "outputs": [
    {
     "data": {
      "text/plain": [
       "1"
      ]
     },
     "execution_count": 6,
     "metadata": {},
     "output_type": "execute_result"
    }
   ],
   "source": [
    "vector.ndim  # number of dimensions"
   ]
  },
  {
   "cell_type": "code",
   "execution_count": 7,
   "id": "9ba4f2cd",
   "metadata": {},
   "outputs": [
    {
     "data": {
      "text/plain": [
       "torch.Size([2])"
      ]
     },
     "execution_count": 7,
     "metadata": {},
     "output_type": "execute_result"
    }
   ],
   "source": [
    "vector.shape  # shape of the tensor"
   ]
  },
  {
   "cell_type": "code",
   "execution_count": 8,
   "id": "dc727c13",
   "metadata": {},
   "outputs": [
    {
     "data": {
      "text/plain": [
       "tensor([[ 7,  8],\n",
       "        [ 9, 10]])"
      ]
     },
     "execution_count": 8,
     "metadata": {},
     "output_type": "execute_result"
    }
   ],
   "source": [
    "# MATRIX\n",
    "matrix = torch.tensor([[7, 8], [9, 10]])\n",
    "matrix"
   ]
  },
  {
   "cell_type": "code",
   "execution_count": 9,
   "id": "0abf02e7",
   "metadata": {},
   "outputs": [
    {
     "data": {
      "text/plain": [
       "2"
      ]
     },
     "execution_count": 9,
     "metadata": {},
     "output_type": "execute_result"
    }
   ],
   "source": [
    "matrix.ndim  # number of dimensions"
   ]
  },
  {
   "cell_type": "code",
   "execution_count": 10,
   "id": "09e487c0",
   "metadata": {},
   "outputs": [
    {
     "data": {
      "text/plain": [
       "tensor([ 9, 10])"
      ]
     },
     "execution_count": 10,
     "metadata": {},
     "output_type": "execute_result"
    }
   ],
   "source": [
    "matrix[1]"
   ]
  },
  {
   "cell_type": "code",
   "execution_count": 11,
   "id": "fc755b10",
   "metadata": {},
   "outputs": [
    {
     "data": {
      "text/plain": [
       "torch.Size([2, 2])"
      ]
     },
     "execution_count": 11,
     "metadata": {},
     "output_type": "execute_result"
    }
   ],
   "source": [
    "matrix.shape  # shape of the tensor"
   ]
  },
  {
   "cell_type": "code",
   "execution_count": 12,
   "id": "4327472f",
   "metadata": {},
   "outputs": [
    {
     "data": {
      "text/plain": [
       "tensor([[[1, 2, 3],\n",
       "         [4, 5, 6],\n",
       "         [7, 8, 9]]])"
      ]
     },
     "execution_count": 12,
     "metadata": {},
     "output_type": "execute_result"
    }
   ],
   "source": [
    "# TENSOR    \n",
    "TENSOR = torch.tensor([[[1, 2, 3], \n",
    "                        [4,5,6,],\n",
    "                        [7,8,9]]])\n",
    "TENSOR"
   ]
  },
  {
   "cell_type": "code",
   "execution_count": 13,
   "id": "fa24b847",
   "metadata": {},
   "outputs": [
    {
     "data": {
      "text/plain": [
       "3"
      ]
     },
     "execution_count": 13,
     "metadata": {},
     "output_type": "execute_result"
    }
   ],
   "source": [
    "TENSOR.ndim  # number of dimensions"
   ]
  },
  {
   "cell_type": "code",
   "execution_count": 14,
   "id": "5a5d61ed",
   "metadata": {},
   "outputs": [
    {
     "data": {
      "text/plain": [
       "torch.Size([1, 3, 3])"
      ]
     },
     "execution_count": 14,
     "metadata": {},
     "output_type": "execute_result"
    }
   ],
   "source": [
    "TENSOR.shape  # shape of the tensor"
   ]
  },
  {
   "cell_type": "code",
   "execution_count": 15,
   "id": "0504ef53",
   "metadata": {},
   "outputs": [
    {
     "data": {
      "text/plain": [
       "tensor([[1, 2, 3],\n",
       "        [4, 5, 6],\n",
       "        [7, 8, 9]])"
      ]
     },
     "execution_count": 15,
     "metadata": {},
     "output_type": "execute_result"
    }
   ],
   "source": [
    "TENSOR[0]"
   ]
  },
  {
   "cell_type": "markdown",
   "id": "42f9dc83",
   "metadata": {},
   "source": [
    "### Random Tensors\n",
    "\n",
    "Random tensors are tensors whose values are sampled from a probability distribution, such as uniform or normal (Gaussian) distributions. In PyTorch, we can create random tensors using functions like `torch.rand()`, `torch.randn()`, and `torch.randint()`.\n",
    "\n",
    "**Why use random tensors?**\n",
    "\n",
    "- **Weight Initialization:** Neural networks require their weights to be initialized randomly to break symmetry and help the model learn effectively.\n",
    "- **Simulating Data:** Random tensors are useful for testing models and functions when real data is unavailable.\n",
    "- **Stochastic Processes:** Many machine learning algorithms rely on randomness, such as dropout or data augmentation.\n",
    "\n",
    "Random tensors are essential for reproducibility and experimentation in deep learning workflows."
   ]
  },
  {
   "cell_type": "code",
   "execution_count": 16,
   "id": "2f5fd6fd",
   "metadata": {},
   "outputs": [
    {
     "data": {
      "text/plain": [
       "tensor([[0.0953, 0.4583, 0.2522, 0.4809],\n",
       "        [0.2706, 0.8970, 0.5260, 0.6321],\n",
       "        [0.9633, 0.6385, 0.0459, 0.1848]])"
      ]
     },
     "execution_count": 16,
     "metadata": {},
     "output_type": "execute_result"
    }
   ],
   "source": [
    "random_tensor = torch.rand(3, 4)\n",
    "random_tensor"
   ]
  },
  {
   "cell_type": "code",
   "execution_count": 17,
   "id": "f3f13828",
   "metadata": {},
   "outputs": [
    {
     "data": {
      "text/plain": [
       "2"
      ]
     },
     "execution_count": 17,
     "metadata": {},
     "output_type": "execute_result"
    }
   ],
   "source": [
    "random_tensor.ndim  # number of dimensions"
   ]
  },
  {
   "cell_type": "code",
   "execution_count": 18,
   "id": "96a9f6ac",
   "metadata": {},
   "outputs": [
    {
     "data": {
      "text/plain": [
       "(torch.Size([224, 224, 3]), 3)"
      ]
     },
     "execution_count": 18,
     "metadata": {},
     "output_type": "execute_result"
    }
   ],
   "source": [
    "# Creating a random tensor with specific shape of an image tensor\n",
    "random_image_size_tensor = torch.rand(size = (224,224, 3)) # 3 color channels, 224 height, 224 width and rgb color channels\n",
    "random_image_size_tensor.shape, random_image_size_tensor.ndim # shape and dimension of the tensor"
   ]
  },
  {
   "cell_type": "markdown",
   "id": "533c851c",
   "metadata": {},
   "source": [
    "### Tensors of Zeros and Ones"
   ]
  },
  {
   "cell_type": "code",
   "execution_count": 19,
   "id": "d27d935d",
   "metadata": {},
   "outputs": [
    {
     "data": {
      "text/plain": [
       "tensor([[0., 0., 0., 0.],\n",
       "        [0., 0., 0., 0.],\n",
       "        [0., 0., 0., 0.]])"
      ]
     },
     "execution_count": 19,
     "metadata": {},
     "output_type": "execute_result"
    }
   ],
   "source": [
    "# Creating a tensor of all zeros\n",
    "zeros = torch.zeros(size=(3, 4))\n",
    "zeros"
   ]
  },
  {
   "cell_type": "code",
   "execution_count": 20,
   "id": "be557cfc",
   "metadata": {},
   "outputs": [
    {
     "data": {
      "text/plain": [
       "tensor([[1., 1., 1., 1.],\n",
       "        [1., 1., 1., 1.],\n",
       "        [1., 1., 1., 1.]])"
      ]
     },
     "execution_count": 20,
     "metadata": {},
     "output_type": "execute_result"
    }
   ],
   "source": [
    "# creating a tensor of all ones\n",
    "ones = torch.ones(size=(3, 4))\n",
    "ones"
   ]
  },
  {
   "cell_type": "markdown",
   "id": "22c2c901",
   "metadata": {},
   "source": [
    "### Creating a Range of Tensors and Tensors-Like"
   ]
  },
  {
   "cell_type": "code",
   "execution_count": 21,
   "id": "ec7e7018",
   "metadata": {},
   "outputs": [
    {
     "data": {
      "text/plain": [
       "tensor([0, 1, 2, 3, 4, 5, 6, 7, 8, 9])"
      ]
     },
     "execution_count": 21,
     "metadata": {},
     "output_type": "execute_result"
    }
   ],
   "source": [
    "# Using torch.arange() to create a tensor of a range of numbers\n",
    "torch.arange(0, 10)"
   ]
  },
  {
   "cell_type": "code",
   "execution_count": 22,
   "id": "6118079b",
   "metadata": {},
   "outputs": [
    {
     "data": {
      "text/plain": [
       "tensor([  1,  51, 101, 151, 201, 251, 301, 351, 401, 451, 501, 551, 601, 651,\n",
       "        701, 751, 801, 851, 901, 951])"
      ]
     },
     "execution_count": 22,
     "metadata": {},
     "output_type": "execute_result"
    }
   ],
   "source": [
    "#  one to thousand with step of 50\n",
    "one_to_thousand = torch.arange(1, 1001, 50)\n",
    "one_to_thousand"
   ]
  },
  {
   "cell_type": "code",
   "execution_count": 23,
   "id": "f0142f36",
   "metadata": {},
   "outputs": [
    {
     "data": {
      "text/plain": [
       "tensor([0, 0, 0, 0, 0, 0, 0, 0, 0, 0, 0, 0, 0, 0, 0, 0, 0, 0, 0, 0])"
      ]
     },
     "execution_count": 23,
     "metadata": {},
     "output_type": "execute_result"
    }
   ],
   "source": [
    "# Creating tensors like\n",
    "thousand_zeros = torch.zeros_like(input=one_to_thousand)\n",
    "thousand_zeros"
   ]
  },
  {
   "cell_type": "markdown",
   "id": "8cc8090e",
   "metadata": {},
   "source": [
    "### Tensor Datatypes"
   ]
  },
  {
   "cell_type": "code",
   "execution_count": 24,
   "id": "3640eaa8",
   "metadata": {},
   "outputs": [
    {
     "data": {
      "text/plain": [
       "tensor([3., 6., 9.])"
      ]
     },
     "execution_count": 24,
     "metadata": {},
     "output_type": "execute_result"
    }
   ],
   "source": [
    "# float 32 tensor\n",
    "float_32_tensor = torch.tensor([3.0, 6.0, 9.0], dtype=torch.float32)\n",
    "float_32_tensor"
   ]
  },
  {
   "cell_type": "markdown",
   "id": "4f65f03c",
   "metadata": {},
   "source": [
    "A **tensor datatype** (or `dtype`) specifies the kind of elements contained in a tensor, such as integers, floating-point numbers, or booleans. The datatype determines how much memory each element uses and what operations are supported.\n",
    "\n",
    "#### Common PyTorch Tensor Datatypes\n",
    "\n",
    "| PyTorch dtype         | Description                | Example usage                |\n",
    "|---------------------- |---------------------------|------------------------------|\n",
    "| `torch.float32`       | 32-bit floating point      | Neural network weights       |\n",
    "| `torch.float64`       | 64-bit floating point      | High-precision calculations  |\n",
    "| `torch.int32`         | 32-bit integer             | Indexing, counting           |\n",
    "| `torch.int64`         | 64-bit integer (long)      | Large indices, counters      |\n",
    "| `torch.bool`          | Boolean (True/False)       | Masks, conditions            |\n",
    "\n",
    "We can specify the dtype when creating a tensor:\n",
    "```python\n",
    "float_tensor = torch.tensor([1.0, 2.0, 3.0], dtype=torch.float32)\n",
    "int_tensor = torch.tensor([1, 2, 3], dtype=torch.int64)\n",
    "```\n",
    "\n",
    "#### Why Tensor Datatypes Matter\n",
    "\n",
    "- **Memory Usage:** Lower precision (e.g., `float16`) uses less memory, allowing larger models or batches.\n",
    "- **Computation Speed:** Some hardware (like GPUs/TPUs) is optimized for specific datatypes.\n",
    "- **Numerical Precision:** Higher precision (e.g., `float64`) reduces rounding errors but is slower and uses more memory.\n",
    "\n",
    "#### Problems That Arise with Tensor Datatypes\n",
    "\n",
    "1. **Type Mismatch Errors:**  \n",
    "    Operations between tensors of different dtypes can cause errors or unexpected results.\n",
    "    ```python\n",
    "    a = torch.tensor([1.0, 2.0], dtype=torch.float32)\n",
    "    b = torch.tensor([1, 2], dtype=torch.int32)\n",
    "    # a + b will raise a RuntimeError unless dtypes are matched\n",
    "    ```\n",
    "\n",
    "2. **Loss of Precision:**  \n",
    "    Converting from higher to lower precision (e.g., `float64` to `float32`) can lose information.\n",
    "    ```python\n",
    "    high_precision = torch.tensor([1.123456789], dtype=torch.float64)\n",
    "    low_precision = high_precision.to(torch.float32)\n",
    "    # low_precision may not store all decimal places\n",
    "    ```\n",
    "\n",
    "3. **Increased Memory Usage:**  \n",
    "    Using unnecessarily high precision (e.g., `float64` for images) wastes memory and slows down computation.\n",
    "\n",
    "4. **Incompatible Operations:**  \n",
    "    Some operations require specific dtypes (e.g., indices must be `int64` for advanced indexing).\n",
    "\n",
    "#### Best Practices\n",
    "\n",
    "- Use `float32` for most deep learning tasks (default in PyTorch).\n",
    "- Use integer types for labels, indices, or counting.\n",
    "- Be explicit about dtypes when precision or compatibility matters.\n",
    "- Convert dtypes using `.to()`, `.float()`, `.long()`, etc.\n",
    "\n",
    "**Example:**\n",
    "```python\n",
    "tensor = torch.arange(10)           # Default dtype: int64\n",
    "tensor = tensor.float()             # Convert to float32\n",
    "```\n",
    "\n",
    "Understanding and managing tensor datatypes is crucial for efficient, correct, and reproducible deep learning workflows."
   ]
  },
  {
   "cell_type": "code",
   "execution_count": null,
   "id": "fde3dcb7",
   "metadata": {},
   "outputs": [],
   "source": []
  }
 ],
 "metadata": {
  "kernelspec": {
   "display_name": "Python 3",
   "language": "python",
   "name": "python3"
  },
  "language_info": {
   "codemirror_mode": {
    "name": "ipython",
    "version": 3
   },
   "file_extension": ".py",
   "mimetype": "text/x-python",
   "name": "python",
   "nbconvert_exporter": "python",
   "pygments_lexer": "ipython3",
   "version": "3.8.19"
  }
 },
 "nbformat": 4,
 "nbformat_minor": 5
}
