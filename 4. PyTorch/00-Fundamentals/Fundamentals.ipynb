{
 "cells": [
  {
   "cell_type": "markdown",
   "id": "4ecc1406",
   "metadata": {},
   "source": [
    "# Pytorch Fundamentals"
   ]
  },
  {
   "cell_type": "markdown",
   "id": "7f062b8b",
   "metadata": {},
   "source": [
    "## Introduction to Tensors"
   ]
  },
  {
   "cell_type": "code",
   "execution_count": 2,
   "id": "7fbfd6db",
   "metadata": {},
   "outputs": [
    {
     "name": "stdout",
     "output_type": "stream",
     "text": [
      "2.3.1\n"
     ]
    }
   ],
   "source": [
    "import torch\n",
    "import pandas as pd\n",
    "import numpy as np\n",
    "import matplotlib.pyplot as plt\n",
    "print(torch.__version__)"
   ]
  },
  {
   "cell_type": "markdown",
   "id": "7f861766",
   "metadata": {},
   "source": [
    "### Creating Tensors\n",
    "\n",
    "A **tensor** is a fundamental data structure in PyTorch, generalizing scalars, vectors, and matrices to potentially higher dimensions. \n",
    "\n",
    "#### **1. Intuitive Understanding**\n",
    "\n",
    "- **Scalar**: A single number (0D tensor), e.g., temperature = 37°C.\n",
    "- **Vector**: An array of numbers (1D tensor), e.g., [height, weight, age].\n",
    "- **Matrix**: A 2D array (2D tensor), e.g., grayscale image pixels.\n",
    "- **Tensor**: An n-dimensional array (nD tensor), e.g., color images (3D), video (4D), or batches of data.\n",
    "\n",
    "**Analogy:**  \n",
    "Think of a tensor as a general container for data, like a spreadsheet (matrix), but extended to more dimensions—imagine a stack of spreadsheets (3D), or a sequence of such stacks (4D).\n",
    "\n",
    "#### **2. Mathematical Foundation**\n",
    "\n",
    "A tensor is a multi-dimensional array of numerical values. Formally, an n-th order tensor is an element of the tensor product of n vector spaces.\n",
    "\n",
    "- **Order (Rank):** Number of dimensions (axes).\n",
    "- **Shape:** Size along each dimension.\n",
    "\n",
    "**Example:**  \n",
    "A tensor of shape (3, 4, 5) is a 3D tensor with 3 matrices, each of size 4x5.\n",
    "\n",
    "\n",
    "**In PyTorch:**  \n",
    "Tensors are implemented as contiguous blocks of memory, supporting efficient computation and broadcasting.\n",
    "\n",
    "\n",
    "#### **4. Key Operations**\n",
    "\n",
    "- **Reshaping:** `tensor.view()`, `tensor.reshape()`\n",
    "- **Indexing/Slicing:** `tensor[0]`, `tensor[:, 1]`\n",
    "- **Mathematical Ops:** `torch.add()`, `torch.matmul()`, etc.\n",
    "- **Broadcasting:** Automatic expansion of dimensions for operations.\n",
    "\n",
    "#### **5. Real-World Analogies**\n",
    "\n",
    "- **Images:** 2D (grayscale) or 3D (color) tensors.\n",
    "- **Videos:** 4D tensors (batch, channel, height, width).\n",
    "- **Text:** 2D or 3D tensors (batch, sequence length, embedding size).\n",
    "\n",
    "#### **6. Applications in AI/ML**\n",
    "\n",
    "- **Deep Learning:** All neural network computations (inputs, weights, activations) are tensor operations.\n",
    "- **Computer Vision:** Images and videos as tensors.\n",
    "- **Natural Language Processing:** Sentences as sequences of word embeddings (tensors).\n",
    "- **Reinforcement Learning:** States, actions, and rewards as tensors.\n",
    "\n",
    "#### **7. Why Tensors?**\n",
    "\n",
    "- **Efficiency:** Optimized for GPU/TPU computation.\n",
    "- **Flexibility:** Can represent any data structure needed for ML.\n",
    "- **Expressiveness:** Enable complex operations (convolutions, matrix multiplications) essential for modern AI."
   ]
  },
  {
   "cell_type": "code",
   "execution_count": 4,
   "id": "e03e4134",
   "metadata": {},
   "outputs": [
    {
     "data": {
      "text/plain": [
       "tensor(7)"
      ]
     },
     "execution_count": 4,
     "metadata": {},
     "output_type": "execute_result"
    }
   ],
   "source": [
    "# scalar\n",
    "# creating pytorch tensor using torch.Tensor()\n",
    "scalar = torch.tensor(7)\n",
    "scalar"
   ]
  },
  {
   "cell_type": "code",
   "execution_count": 7,
   "id": "19f68bbd",
   "metadata": {},
   "outputs": [
    {
     "data": {
      "text/plain": [
       "0"
      ]
     },
     "execution_count": 7,
     "metadata": {},
     "output_type": "execute_result"
    }
   ],
   "source": [
    "scalar.ndim  # number of dimensions"
   ]
  },
  {
   "cell_type": "code",
   "execution_count": null,
   "id": "8eca48e0",
   "metadata": {},
   "outputs": [
    {
     "data": {
      "text/plain": [
       "7"
      ]
     },
     "execution_count": 8,
     "metadata": {},
     "output_type": "execute_result"
    }
   ],
   "source": [
    "scalar.item()  # get the value of the tensor"
   ]
  },
  {
   "cell_type": "markdown",
   "id": "0b08e61e",
   "metadata": {},
   "source": [
    "### Creating Vectors\n",
    "\n",
    "\n",
    "#### Intuitive Understanding\n",
    "\n",
    "A **vector** is a one-dimensional array of numbers. In PyTorch, a vector is represented as a 1D tensor. Vectors are fundamental in mathematics, physics, and machine learning, serving as the building blocks for more complex structures.\n",
    "\n",
    "- **Example:**  \n",
    "    `vector = torch.tensor([7, 7])`  \n",
    "    This is a 1D tensor (vector) with two elements.\n",
    "\n",
    "**Intuition:**  \n",
    "Think of a vector as an arrow in space, defined by its direction and magnitude. In data science, vectors often represent features of a data point (e.g., height and weight of a person).\n",
    "\n",
    "####  Why Vectors Matter in PyTorch\n",
    "\n",
    "- **Efficiency:** PyTorch operations are vectorized for speed, leveraging GPUs.\n",
    "- **Expressiveness:** Vectors enable concise representation of data and parameters.\n",
    "- **Foundation:** All higher-dimensional tensors (matrices, etc.) are built from vectors.\n",
    "\n"
   ]
  },
  {
   "cell_type": "code",
   "execution_count": 9,
   "id": "91b8092b",
   "metadata": {},
   "outputs": [
    {
     "data": {
      "text/plain": [
       "tensor([7, 7])"
      ]
     },
     "execution_count": 9,
     "metadata": {},
     "output_type": "execute_result"
    }
   ],
   "source": [
    "# vector\n",
    "vector = torch.tensor([7, 7])\n",
    "vector"
   ]
  },
  {
   "cell_type": "code",
   "execution_count": null,
   "id": "06f9128a",
   "metadata": {},
   "outputs": [],
   "source": []
  }
 ],
 "metadata": {
  "kernelspec": {
   "display_name": "Python 3",
   "language": "python",
   "name": "python3"
  },
  "language_info": {
   "codemirror_mode": {
    "name": "ipython",
    "version": 3
   },
   "file_extension": ".py",
   "mimetype": "text/x-python",
   "name": "python",
   "nbconvert_exporter": "python",
   "pygments_lexer": "ipython3",
   "version": "3.8.19"
  }
 },
 "nbformat": 4,
 "nbformat_minor": 5
}
