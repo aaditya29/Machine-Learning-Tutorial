{
 "cells": [
  {
   "cell_type": "markdown",
   "id": "c8be1e79",
   "metadata": {},
   "source": [
    "# PyTorch Neural Network Classification"
   ]
  },
  {
   "cell_type": "markdown",
   "id": "07708cb9",
   "metadata": {},
   "source": [
    "## 0. Architecture of a Classification Neural Network"
   ]
  },
  {
   "cell_type": "markdown",
   "id": "337b391b",
   "metadata": {},
   "source": [
    "| Hyperparameter              | Binary Classification                                                                 | Multiclass Classification                                              |\n",
    "|-----------------------------|----------------------------------------------------------------------------------------|------------------------------------------------------------------------|\n",
    "| **Input layer shape** (`in_features`) | Same as number of features (e.g. 5 for age, sex, height, weight, smoking status in heart disease prediction) | Same as binary classification |\n",
    "| **Hidden layer(s)**          | Problem specific, minimum = 1, maximum = unlimited                                    | Same as binary classification |\n",
    "| **Neurons per hidden layer** | Problem specific, generally 10 to 512                                                  | Same as binary classification |\n",
    "| **Output layer shape** (`out_features`) | 1 (one class or the other)                                                         | 1 per class (e.g. 3 for food, person or dog photo) |\n",
    "| **Hidden layer activation**  | Usually [ReLU](https://pytorch.org/docs/stable/generated/torch.nn.ReLU.html) (rectified linear unit) but can be many others | Same as binary classification |\n",
    "| **Output activation**        | Sigmoid (`torch.sigmoid` in PyTorch)                                                   | Softmax (`torch.softmax` in PyTorch) |\n",
    "| **Loss function**            | Binary cross-entropy (`torch.nn.BCELoss` in PyTorch)                                   | Cross entropy (`torch.nn.CrossEntropyLoss` in PyTorch) |\n",
    "| **Optimizer**                | [SGD](https://pytorch.org/docs/stable/generated/torch.optim.SGD.html) (stochastic gradient descent), [Adam](https://pytorch.org/docs/stable/generated/torch.optim.Adam.html) (see `torch.optim` for more options) | Same as binary classification |\n"
   ]
  },
  {
   "cell_type": "markdown",
   "id": "82caf022",
   "metadata": {},
   "source": [
    "## 1. Making Classification Data"
   ]
  },
  {
   "cell_type": "code",
   "execution_count": 1,
   "id": "56ac07aa",
   "metadata": {},
   "outputs": [],
   "source": [
    "from sklearn.datasets import make_circles"
   ]
  },
  {
   "cell_type": "code",
   "execution_count": 2,
   "id": "8d017c6b",
   "metadata": {},
   "outputs": [],
   "source": [
    "n_samples = 1000# how many samples we want\n",
    "X, y = make_circles(n_samples,\n",
    "                    noise=0.03,  # a little bit of noise to the dots\n",
    "                    random_state=42)  # keep random state so we get the same values"
   ]
  },
  {
   "cell_type": "code",
   "execution_count": null,
   "id": "4a076ee2",
   "metadata": {},
   "outputs": [],
   "source": []
  }
 ],
 "metadata": {
  "kernelspec": {
   "display_name": "env",
   "language": "python",
   "name": "python3"
  },
  "language_info": {
   "codemirror_mode": {
    "name": "ipython",
    "version": 3
   },
   "file_extension": ".py",
   "mimetype": "text/x-python",
   "name": "python",
   "nbconvert_exporter": "python",
   "pygments_lexer": "ipython3",
   "version": "3.8.19"
  }
 },
 "nbformat": 4,
 "nbformat_minor": 5
}
