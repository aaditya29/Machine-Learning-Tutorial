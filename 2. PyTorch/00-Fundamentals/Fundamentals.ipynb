{
 "cells": [
  {
   "cell_type": "markdown",
   "id": "4ecc1406",
   "metadata": {},
   "source": [
    "# Pytorch Fundamentals"
   ]
  },
  {
   "cell_type": "markdown",
   "id": "7f062b8b",
   "metadata": {},
   "source": [
    "## Introduction to Tensors"
   ]
  },
  {
   "cell_type": "code",
   "execution_count": 1,
   "id": "7fbfd6db",
   "metadata": {},
   "outputs": [
    {
     "name": "stdout",
     "output_type": "stream",
     "text": [
      "2.3.1\n"
     ]
    }
   ],
   "source": [
    "import torch\n",
    "import pandas as pd\n",
    "import numpy as np\n",
    "import matplotlib.pyplot as plt\n",
    "print(torch.__version__)"
   ]
  },
  {
   "cell_type": "markdown",
   "id": "7f861766",
   "metadata": {},
   "source": [
    "### Creating Tensors\n",
    "\n",
    "A **tensor** is a fundamental data structure in PyTorch, generalizing scalars, vectors, and matrices to potentially higher dimensions. \n",
    "\n",
    "#### **1. Intuitive Understanding**\n",
    "\n",
    "- **Scalar**: A single number (0D tensor), e.g., temperature = 37°C.\n",
    "- **Vector**: An array of numbers (1D tensor), e.g., [height, weight, age].\n",
    "- **Matrix**: A 2D array (2D tensor), e.g., grayscale image pixels.\n",
    "- **Tensor**: An n-dimensional array (nD tensor), e.g., color images (3D), video (4D), or batches of data.\n",
    "\n",
    "**Analogy:**  \n",
    "Think of a tensor as a general container for data, like a spreadsheet (matrix), but extended to more dimensions—imagine a stack of spreadsheets (3D), or a sequence of such stacks (4D).\n",
    "\n",
    "#### **2. Mathematical Foundation**\n",
    "\n",
    "A tensor is a multi-dimensional array of numerical values. Formally, an n-th order tensor is an element of the tensor product of n vector spaces.\n",
    "\n",
    "- **Order (Rank):** Number of dimensions (axes).\n",
    "- **Shape:** Size along each dimension.\n",
    "\n",
    "**Example:**  \n",
    "A tensor of shape (3, 4, 5) is a 3D tensor with 3 matrices, each of size 4x5.\n",
    "\n",
    "\n",
    "**In PyTorch:**  \n",
    "Tensors are implemented as contiguous blocks of memory, supporting efficient computation and broadcasting.\n",
    "\n",
    "\n",
    "#### **4. Key Operations**\n",
    "\n",
    "- **Reshaping:** `tensor.view()`, `tensor.reshape()`\n",
    "- **Indexing/Slicing:** `tensor[0]`, `tensor[:, 1]`\n",
    "- **Mathematical Ops:** `torch.add()`, `torch.matmul()`, etc.\n",
    "- **Broadcasting:** Automatic expansion of dimensions for operations.\n",
    "\n",
    "#### **5. Real-World Analogies**\n",
    "\n",
    "- **Images:** 2D (grayscale) or 3D (color) tensors.\n",
    "- **Videos:** 4D tensors (batch, channel, height, width).\n",
    "- **Text:** 2D or 3D tensors (batch, sequence length, embedding size).\n",
    "\n",
    "#### **6. Applications in AI/ML**\n",
    "\n",
    "- **Deep Learning:** All neural network computations (inputs, weights, activations) are tensor operations.\n",
    "- **Computer Vision:** Images and videos as tensors.\n",
    "- **Natural Language Processing:** Sentences as sequences of word embeddings (tensors).\n",
    "- **Reinforcement Learning:** States, actions, and rewards as tensors.\n",
    "\n",
    "#### **7. Why Tensors?**\n",
    "\n",
    "- **Efficiency:** Optimized for GPU/TPU computation.\n",
    "- **Flexibility:** Can represent any data structure needed for ML.\n",
    "- **Expressiveness:** Enable complex operations (convolutions, matrix multiplications) essential for modern AI."
   ]
  },
  {
   "cell_type": "code",
   "execution_count": 2,
   "id": "e03e4134",
   "metadata": {},
   "outputs": [
    {
     "data": {
      "text/plain": [
       "tensor(7)"
      ]
     },
     "execution_count": 2,
     "metadata": {},
     "output_type": "execute_result"
    }
   ],
   "source": [
    "# scalar\n",
    "# creating pytorch tensor using torch.Tensor()\n",
    "scalar = torch.tensor(7)\n",
    "scalar"
   ]
  },
  {
   "cell_type": "code",
   "execution_count": 3,
   "id": "19f68bbd",
   "metadata": {},
   "outputs": [
    {
     "data": {
      "text/plain": [
       "0"
      ]
     },
     "execution_count": 3,
     "metadata": {},
     "output_type": "execute_result"
    }
   ],
   "source": [
    "scalar.ndim  # number of dimensions"
   ]
  },
  {
   "cell_type": "code",
   "execution_count": 4,
   "id": "8eca48e0",
   "metadata": {},
   "outputs": [
    {
     "data": {
      "text/plain": [
       "7"
      ]
     },
     "execution_count": 4,
     "metadata": {},
     "output_type": "execute_result"
    }
   ],
   "source": [
    "scalar.item()  # get the value of the tensor"
   ]
  },
  {
   "cell_type": "markdown",
   "id": "0b08e61e",
   "metadata": {},
   "source": [
    "### Creating Vectors\n",
    "\n",
    "\n",
    "#### Intuitive Understanding\n",
    "\n",
    "A **vector** is a one-dimensional array of numbers. In PyTorch, a vector is represented as a 1D tensor. Vectors are fundamental in mathematics, physics, and machine learning, serving as the building blocks for more complex structures.\n",
    "\n",
    "- **Example:**  \n",
    "    `vector = torch.tensor([7, 7])`  \n",
    "    This is a 1D tensor (vector) with two elements.\n",
    "\n",
    "**Intuition:**  \n",
    "Think of a vector as an arrow in space, defined by its direction and magnitude. In data science, vectors often represent features of a data point (e.g., height and weight of a person).\n",
    "\n",
    "####  Why Vectors Matter in PyTorch\n",
    "\n",
    "- **Efficiency:** PyTorch operations are vectorized for speed, leveraging GPUs.\n",
    "- **Expressiveness:** Vectors enable concise representation of data and parameters.\n",
    "- **Foundation:** All higher-dimensional tensors (matrices, etc.) are built from vectors.\n",
    "\n"
   ]
  },
  {
   "cell_type": "code",
   "execution_count": 5,
   "id": "91b8092b",
   "metadata": {},
   "outputs": [
    {
     "data": {
      "text/plain": [
       "tensor([7, 7])"
      ]
     },
     "execution_count": 5,
     "metadata": {},
     "output_type": "execute_result"
    }
   ],
   "source": [
    "# vector\n",
    "vector = torch.tensor([7, 7])\n",
    "vector"
   ]
  },
  {
   "cell_type": "code",
   "execution_count": 6,
   "id": "06f9128a",
   "metadata": {},
   "outputs": [
    {
     "data": {
      "text/plain": [
       "1"
      ]
     },
     "execution_count": 6,
     "metadata": {},
     "output_type": "execute_result"
    }
   ],
   "source": [
    "vector.ndim  # number of dimensions"
   ]
  },
  {
   "cell_type": "code",
   "execution_count": 7,
   "id": "9ba4f2cd",
   "metadata": {},
   "outputs": [
    {
     "data": {
      "text/plain": [
       "torch.Size([2])"
      ]
     },
     "execution_count": 7,
     "metadata": {},
     "output_type": "execute_result"
    }
   ],
   "source": [
    "vector.shape  # shape of the tensor"
   ]
  },
  {
   "cell_type": "code",
   "execution_count": 8,
   "id": "dc727c13",
   "metadata": {},
   "outputs": [
    {
     "data": {
      "text/plain": [
       "tensor([[ 7,  8],\n",
       "        [ 9, 10]])"
      ]
     },
     "execution_count": 8,
     "metadata": {},
     "output_type": "execute_result"
    }
   ],
   "source": [
    "# MATRIX\n",
    "matrix = torch.tensor([[7, 8], [9, 10]])\n",
    "matrix"
   ]
  },
  {
   "cell_type": "code",
   "execution_count": 9,
   "id": "0abf02e7",
   "metadata": {},
   "outputs": [
    {
     "data": {
      "text/plain": [
       "2"
      ]
     },
     "execution_count": 9,
     "metadata": {},
     "output_type": "execute_result"
    }
   ],
   "source": [
    "matrix.ndim  # number of dimensions"
   ]
  },
  {
   "cell_type": "code",
   "execution_count": 10,
   "id": "09e487c0",
   "metadata": {},
   "outputs": [
    {
     "data": {
      "text/plain": [
       "tensor([ 9, 10])"
      ]
     },
     "execution_count": 10,
     "metadata": {},
     "output_type": "execute_result"
    }
   ],
   "source": [
    "matrix[1]"
   ]
  },
  {
   "cell_type": "code",
   "execution_count": 11,
   "id": "fc755b10",
   "metadata": {},
   "outputs": [
    {
     "data": {
      "text/plain": [
       "torch.Size([2, 2])"
      ]
     },
     "execution_count": 11,
     "metadata": {},
     "output_type": "execute_result"
    }
   ],
   "source": [
    "matrix.shape  # shape of the tensor"
   ]
  },
  {
   "cell_type": "code",
   "execution_count": 12,
   "id": "4327472f",
   "metadata": {},
   "outputs": [
    {
     "data": {
      "text/plain": [
       "tensor([[[1, 2, 3],\n",
       "         [4, 5, 6],\n",
       "         [7, 8, 9]]])"
      ]
     },
     "execution_count": 12,
     "metadata": {},
     "output_type": "execute_result"
    }
   ],
   "source": [
    "# TENSOR    \n",
    "TENSOR = torch.tensor([[[1, 2, 3], \n",
    "                        [4,5,6,],\n",
    "                        [7,8,9]]])\n",
    "TENSOR"
   ]
  },
  {
   "cell_type": "code",
   "execution_count": 13,
   "id": "fa24b847",
   "metadata": {},
   "outputs": [
    {
     "data": {
      "text/plain": [
       "3"
      ]
     },
     "execution_count": 13,
     "metadata": {},
     "output_type": "execute_result"
    }
   ],
   "source": [
    "TENSOR.ndim  # number of dimensions"
   ]
  },
  {
   "cell_type": "code",
   "execution_count": 14,
   "id": "5a5d61ed",
   "metadata": {},
   "outputs": [
    {
     "data": {
      "text/plain": [
       "torch.Size([1, 3, 3])"
      ]
     },
     "execution_count": 14,
     "metadata": {},
     "output_type": "execute_result"
    }
   ],
   "source": [
    "TENSOR.shape  # shape of the tensor"
   ]
  },
  {
   "cell_type": "code",
   "execution_count": 15,
   "id": "0504ef53",
   "metadata": {},
   "outputs": [
    {
     "data": {
      "text/plain": [
       "tensor([[1, 2, 3],\n",
       "        [4, 5, 6],\n",
       "        [7, 8, 9]])"
      ]
     },
     "execution_count": 15,
     "metadata": {},
     "output_type": "execute_result"
    }
   ],
   "source": [
    "TENSOR[0]"
   ]
  },
  {
   "cell_type": "markdown",
   "id": "42f9dc83",
   "metadata": {},
   "source": [
    "### Random Tensors\n",
    "\n",
    "Random tensors are tensors whose values are sampled from a probability distribution, such as uniform or normal (Gaussian) distributions. In PyTorch, we can create random tensors using functions like `torch.rand()`, `torch.randn()`, and `torch.randint()`.\n",
    "\n",
    "**Why use random tensors?**\n",
    "\n",
    "- **Weight Initialization:** Neural networks require their weights to be initialized randomly to break symmetry and help the model learn effectively.\n",
    "- **Simulating Data:** Random tensors are useful for testing models and functions when real data is unavailable.\n",
    "- **Stochastic Processes:** Many machine learning algorithms rely on randomness, such as dropout or data augmentation.\n",
    "\n",
    "Random tensors are essential for reproducibility and experimentation in deep learning workflows."
   ]
  },
  {
   "cell_type": "code",
   "execution_count": 16,
   "id": "2f5fd6fd",
   "metadata": {},
   "outputs": [
    {
     "data": {
      "text/plain": [
       "tensor([[0.2413, 0.8337, 0.0088, 0.2416],\n",
       "        [0.7993, 0.3380, 0.2261, 0.6610],\n",
       "        [0.3512, 0.3304, 0.1887, 0.3715]])"
      ]
     },
     "execution_count": 16,
     "metadata": {},
     "output_type": "execute_result"
    }
   ],
   "source": [
    "random_tensor = torch.rand(3, 4)\n",
    "random_tensor"
   ]
  },
  {
   "cell_type": "code",
   "execution_count": 17,
   "id": "f3f13828",
   "metadata": {},
   "outputs": [
    {
     "data": {
      "text/plain": [
       "2"
      ]
     },
     "execution_count": 17,
     "metadata": {},
     "output_type": "execute_result"
    }
   ],
   "source": [
    "random_tensor.ndim  # number of dimensions"
   ]
  },
  {
   "cell_type": "code",
   "execution_count": 18,
   "id": "96a9f6ac",
   "metadata": {},
   "outputs": [
    {
     "data": {
      "text/plain": [
       "(torch.Size([224, 224, 3]), 3)"
      ]
     },
     "execution_count": 18,
     "metadata": {},
     "output_type": "execute_result"
    }
   ],
   "source": [
    "# Creating a random tensor with specific shape of an image tensor\n",
    "random_image_size_tensor = torch.rand(size = (224,224, 3)) # 3 color channels, 224 height, 224 width and rgb color channels\n",
    "random_image_size_tensor.shape, random_image_size_tensor.ndim # shape and dimension of the tensor"
   ]
  },
  {
   "cell_type": "markdown",
   "id": "533c851c",
   "metadata": {},
   "source": [
    "### Tensors of Zeros and Ones"
   ]
  },
  {
   "cell_type": "code",
   "execution_count": 19,
   "id": "d27d935d",
   "metadata": {},
   "outputs": [
    {
     "data": {
      "text/plain": [
       "tensor([[0., 0., 0., 0.],\n",
       "        [0., 0., 0., 0.],\n",
       "        [0., 0., 0., 0.]])"
      ]
     },
     "execution_count": 19,
     "metadata": {},
     "output_type": "execute_result"
    }
   ],
   "source": [
    "# Creating a tensor of all zeros\n",
    "zeros = torch.zeros(size=(3, 4))\n",
    "zeros"
   ]
  },
  {
   "cell_type": "code",
   "execution_count": 20,
   "id": "be557cfc",
   "metadata": {},
   "outputs": [
    {
     "data": {
      "text/plain": [
       "tensor([[1., 1., 1., 1.],\n",
       "        [1., 1., 1., 1.],\n",
       "        [1., 1., 1., 1.]])"
      ]
     },
     "execution_count": 20,
     "metadata": {},
     "output_type": "execute_result"
    }
   ],
   "source": [
    "# creating a tensor of all ones\n",
    "ones = torch.ones(size=(3, 4))\n",
    "ones"
   ]
  },
  {
   "cell_type": "markdown",
   "id": "22c2c901",
   "metadata": {},
   "source": [
    "### Creating a Range of Tensors and Tensors-Like"
   ]
  },
  {
   "cell_type": "code",
   "execution_count": 21,
   "id": "ec7e7018",
   "metadata": {},
   "outputs": [
    {
     "data": {
      "text/plain": [
       "tensor([0, 1, 2, 3, 4, 5, 6, 7, 8, 9])"
      ]
     },
     "execution_count": 21,
     "metadata": {},
     "output_type": "execute_result"
    }
   ],
   "source": [
    "# Using torch.arange() to create a tensor of a range of numbers\n",
    "torch.arange(0, 10)"
   ]
  },
  {
   "cell_type": "code",
   "execution_count": 22,
   "id": "6118079b",
   "metadata": {},
   "outputs": [
    {
     "data": {
      "text/plain": [
       "tensor([  1,  51, 101, 151, 201, 251, 301, 351, 401, 451, 501, 551, 601, 651,\n",
       "        701, 751, 801, 851, 901, 951])"
      ]
     },
     "execution_count": 22,
     "metadata": {},
     "output_type": "execute_result"
    }
   ],
   "source": [
    "#  one to thousand with step of 50\n",
    "one_to_thousand = torch.arange(1, 1001, 50)\n",
    "one_to_thousand"
   ]
  },
  {
   "cell_type": "code",
   "execution_count": 23,
   "id": "f0142f36",
   "metadata": {},
   "outputs": [
    {
     "data": {
      "text/plain": [
       "tensor([0, 0, 0, 0, 0, 0, 0, 0, 0, 0, 0, 0, 0, 0, 0, 0, 0, 0, 0, 0])"
      ]
     },
     "execution_count": 23,
     "metadata": {},
     "output_type": "execute_result"
    }
   ],
   "source": [
    "# Creating tensors like\n",
    "thousand_zeros = torch.zeros_like(input=one_to_thousand)\n",
    "thousand_zeros"
   ]
  },
  {
   "cell_type": "markdown",
   "id": "8cc8090e",
   "metadata": {},
   "source": [
    "### Tensor Datatypes"
   ]
  },
  {
   "cell_type": "code",
   "execution_count": 24,
   "id": "3640eaa8",
   "metadata": {},
   "outputs": [
    {
     "data": {
      "text/plain": [
       "tensor([3., 6., 9.])"
      ]
     },
     "execution_count": 24,
     "metadata": {},
     "output_type": "execute_result"
    }
   ],
   "source": [
    "# float 32 tensor\n",
    "float_32_tensor = torch.tensor([3.0, 6.0, 9.0], dtype=torch.float32)\n",
    "float_32_tensor"
   ]
  },
  {
   "cell_type": "markdown",
   "id": "4f65f03c",
   "metadata": {},
   "source": [
    "A **tensor datatype** (or `dtype`) specifies the kind of elements contained in a tensor, such as integers, floating-point numbers, or booleans. The datatype determines how much memory each element uses and what operations are supported.\n",
    "\n",
    "#### Common PyTorch Tensor Datatypes\n",
    "\n",
    "| PyTorch dtype         | Description                | Example usage                |\n",
    "|---------------------- |---------------------------|------------------------------|\n",
    "| `torch.float32`       | 32-bit floating point      | Neural network weights       |\n",
    "| `torch.float64`       | 64-bit floating point      | High-precision calculations  |\n",
    "| `torch.int32`         | 32-bit integer             | Indexing, counting           |\n",
    "| `torch.int64`         | 64-bit integer (long)      | Large indices, counters      |\n",
    "| `torch.bool`          | Boolean (True/False)       | Masks, conditions            |\n",
    "\n",
    "We can specify the dtype when creating a tensor:\n",
    "```python\n",
    "float_tensor = torch.tensor([1.0, 2.0, 3.0], dtype=torch.float32)\n",
    "int_tensor = torch.tensor([1, 2, 3], dtype=torch.int64)\n",
    "```\n",
    "\n",
    "#### Why Tensor Datatypes Matter\n",
    "\n",
    "- **Memory Usage:** Lower precision (e.g., `float16`) uses less memory, allowing larger models or batches.\n",
    "- **Computation Speed:** Some hardware (like GPUs/TPUs) is optimized for specific datatypes.\n",
    "- **Numerical Precision:** Higher precision (e.g., `float64`) reduces rounding errors but is slower and uses more memory.\n",
    "\n",
    "#### Problems That Arise with Tensor Datatypes\n",
    "\n",
    "1. **Type Mismatch Errors:**  \n",
    "    Operations between tensors of different dtypes can cause errors or unexpected results.\n",
    "    ```python\n",
    "    a = torch.tensor([1.0, 2.0], dtype=torch.float32)\n",
    "    b = torch.tensor([1, 2], dtype=torch.int32)\n",
    "    # a + b will raise a RuntimeError unless dtypes are matched\n",
    "    ```\n",
    "\n",
    "2. **Loss of Precision:**  \n",
    "    Converting from higher to lower precision (e.g., `float64` to `float32`) can lose information.\n",
    "    ```python\n",
    "    high_precision = torch.tensor([1.123456789], dtype=torch.float64)\n",
    "    low_precision = high_precision.to(torch.float32)\n",
    "    # low_precision may not store all decimal places\n",
    "    ```\n",
    "\n",
    "3. **Increased Memory Usage:**  \n",
    "    Using unnecessarily high precision (e.g., `float64` for images) wastes memory and slows down computation.\n",
    "\n",
    "4. **Incompatible Operations:**  \n",
    "    Some operations require specific dtypes (e.g., indices must be `int64` for advanced indexing).\n",
    "\n",
    "#### Best Practices\n",
    "\n",
    "- Use `float32` for most deep learning tasks (default in PyTorch).\n",
    "- Use integer types for labels, indices, or counting.\n",
    "- Be explicit about dtypes when precision or compatibility matters.\n",
    "- Convert dtypes using `.to()`, `.float()`, `.long()`, etc.\n",
    "\n",
    "**Example:**\n",
    "```python\n",
    "tensor = torch.arange(10)           # Default dtype: int64\n",
    "tensor = tensor.float()             # Convert to float32\n",
    "```\n",
    "\n",
    "Understanding and managing tensor datatypes is crucial for efficient, correct, and reproducible deep learning workflows."
   ]
  },
  {
   "cell_type": "code",
   "execution_count": 25,
   "id": "fde3dcb7",
   "metadata": {},
   "outputs": [
    {
     "data": {
      "text/plain": [
       "torch.float32"
      ]
     },
     "execution_count": 25,
     "metadata": {},
     "output_type": "execute_result"
    }
   ],
   "source": [
    "float_32_tensor.dtype  # data type of the tensor"
   ]
  },
  {
   "cell_type": "code",
   "execution_count": 26,
   "id": "d3142b65",
   "metadata": {},
   "outputs": [
    {
     "data": {
      "text/plain": [
       "tensor([3, 6, 9], dtype=torch.int32)"
      ]
     },
     "execution_count": 26,
     "metadata": {},
     "output_type": "execute_result"
    }
   ],
   "source": [
    "int_32_tensor = float_32_tensor.type(torch.int32)  # changing the data type of the tensor\n",
    "int_32_tensor"
   ]
  },
  {
   "cell_type": "code",
   "execution_count": 27,
   "id": "6845e61e",
   "metadata": {},
   "outputs": [
    {
     "data": {
      "text/plain": [
       "tensor([ 9., 36., 81.])"
      ]
     },
     "execution_count": 27,
     "metadata": {},
     "output_type": "execute_result"
    }
   ],
   "source": [
    "float_32_tensor*int_32_tensor  # element-wise multiplication"
   ]
  },
  {
   "cell_type": "markdown",
   "id": "fa8ad884",
   "metadata": {},
   "source": [
    "### Getting Information from Tensor\n",
    "\n",
    "After creating tensors we might want to get some information from them.<br>\n",
    "\n",
    "Most common attributes you'll want to find out about tensors are:\n",
    "- `shape` - what shape is the tensor? (some operations require specific shape rules)\n",
    "- `dtype` - what datatype are the elements within the tensor stored in?\n",
    "- `device` - what device is the tensor stored on? (usually GPU or CPU)"
   ]
  },
  {
   "cell_type": "code",
   "execution_count": 28,
   "id": "7dda4f5f",
   "metadata": {},
   "outputs": [
    {
     "data": {
      "text/plain": [
       "tensor([[0.5020, 0.0454, 0.6678, 0.1819],\n",
       "        [0.9683, 0.2076, 0.8100, 0.3943],\n",
       "        [0.8694, 0.9924, 0.3539, 0.2197]])"
      ]
     },
     "execution_count": 28,
     "metadata": {},
     "output_type": "execute_result"
    }
   ],
   "source": [
    "# creating a tensor\n",
    "some_tensor = torch.rand(3,4)\n",
    "some_tensor"
   ]
  },
  {
   "cell_type": "code",
   "execution_count": 29,
   "id": "1ddc6f92",
   "metadata": {},
   "outputs": [
    {
     "name": "stdout",
     "output_type": "stream",
     "text": [
      "tensor([[0.5020, 0.0454, 0.6678, 0.1819],\n",
      "        [0.9683, 0.2076, 0.8100, 0.3943],\n",
      "        [0.8694, 0.9924, 0.3539, 0.2197]])\n"
     ]
    }
   ],
   "source": [
    "# Finding out details about the tensor\n",
    "print(some_tensor)"
   ]
  },
  {
   "cell_type": "code",
   "execution_count": 30,
   "id": "6f5907e6",
   "metadata": {},
   "outputs": [
    {
     "name": "stdout",
     "output_type": "stream",
     "text": [
      "tensor([[0.5020, 0.0454, 0.6678, 0.1819],\n",
      "        [0.9683, 0.2076, 0.8100, 0.3943],\n",
      "        [0.8694, 0.9924, 0.3539, 0.2197]])\n",
      "Shape of tensor: torch.Size([3, 4])\n",
      "Datatype of tensor: torch.float32\n",
      "Device tensor is stored on: cpu\n"
     ]
    }
   ],
   "source": [
    "print(some_tensor)\n",
    "print(f\"Shape of tensor: {some_tensor.shape}\")\n",
    "print(f\"Datatype of tensor: {some_tensor.dtype}\")\n",
    "print(f\"Device tensor is stored on: {some_tensor.device}\")"
   ]
  },
  {
   "cell_type": "markdown",
   "id": "69d38515",
   "metadata": {},
   "source": [
    "### Manipulating Tensors( Tensor Operations)\n",
    "\n",
    "Tensor operations are fundamental to working with data in PyTorch. They allow us to manipulate, transform, and compute with tensors efficiently. Here are some of the most common tensor operations:\n",
    "\n",
    "#### 1. **Basic Arithmetic Operations**\n",
    "- **Addition/Subtraction:** `+`, `-`, or `torch.add()`, `torch.sub()`\n",
    "- **Multiplication/Division:** `*`, `/`, or `torch.mul()`, `torch.div()`\n",
    "- **Element-wise:** Operations are performed element-by-element.\n",
    "\n",
    "#### 2. **Matrix Operations**\n",
    "- **Matrix Multiplication:** `torch.matmul(a, b)` or `a @ b`\n",
    "- **Dot Product:** `torch.dot(a, b)` (for 1D tensors)\n",
    "- **Transpose:** `tensor.T` or `tensor.transpose(dim0, dim1)`\n",
    "\n",
    "#### 3. **Aggregation**\n",
    "- **Sum:** `tensor.sum()`\n",
    "- **Mean:** `tensor.mean()`\n",
    "- **Max/Min:** `tensor.max()`, `tensor.min()`\n",
    "- **Argmax/Argmin:** `tensor.argmax()`, `tensor.argmin()`\n",
    "\n",
    "#### 4. **Reshaping and Manipulation**\n",
    "- **Reshape:** `tensor.reshape(new_shape)` or `tensor.view(new_shape)`\n",
    "- **Squeeze/Unsqueeze:** Remove or add dimensions of size 1.\n",
    "    - `tensor.squeeze()` (removes)\n",
    "    - `tensor.unsqueeze(dim)` (adds)\n",
    "- **Stacking:** Combine tensors along a new dimension.\n",
    "    - `torch.stack([a, b], dim=0)`\n",
    "    - `torch.cat([a, b], dim=1)`\n",
    "\n",
    "#### 5. **Indexing and Slicing**\n",
    "- Access elements or sub-tensors using Python-style indexing: `tensor[0]`, `tensor[:, 1]`, etc.\n",
    "\n",
    "#### 6. **Broadcasting**\n",
    "- PyTorch automatically expands tensors of different shapes for compatible operations.\n",
    "\n",
    "#### 7. **In-place Operations**\n",
    "- Operations ending with `_` modify the tensor in place, e.g., `tensor.add_(1)`\n",
    "\n",
    "**Example:**\n",
    "```python\n",
    "a = torch.tensor([[1, 2], [3, 4]])\n",
    "b = torch.tensor([[5, 6], [7, 8]])\n",
    "c = a + b           # Element-wise addition\n",
    "d = a @ b           # Matrix multiplication\n",
    "e = a.reshape(4)    # Reshape to 1D\n",
    "```\n"
   ]
  },
  {
   "cell_type": "code",
   "execution_count": 31,
   "id": "6569796a",
   "metadata": {},
   "outputs": [
    {
     "data": {
      "text/plain": [
       "tensor([11, 12, 13])"
      ]
     },
     "execution_count": 31,
     "metadata": {},
     "output_type": "execute_result"
    }
   ],
   "source": [
    "# Creating a tensor of values and adding a number to it\n",
    "tensor = torch.tensor([1, 2, 3])\n",
    "tensor + 10"
   ]
  },
  {
   "cell_type": "code",
   "execution_count": 32,
   "id": "a084560d",
   "metadata": {},
   "outputs": [
    {
     "data": {
      "text/plain": [
       "tensor([10, 20, 30])"
      ]
     },
     "execution_count": 32,
     "metadata": {},
     "output_type": "execute_result"
    }
   ],
   "source": [
    "# Multiply it by 10\n",
    "tensor * 10"
   ]
  },
  {
   "cell_type": "code",
   "execution_count": 33,
   "id": "d8d4aef1",
   "metadata": {},
   "outputs": [
    {
     "data": {
      "text/plain": [
       "tensor([1, 2, 3])"
      ]
     },
     "execution_count": 33,
     "metadata": {},
     "output_type": "execute_result"
    }
   ],
   "source": [
    "# Tensors don't change unless reassigned\n",
    "tensor"
   ]
  },
  {
   "cell_type": "code",
   "execution_count": 34,
   "id": "3bbfd834",
   "metadata": {},
   "outputs": [
    {
     "data": {
      "text/plain": [
       "tensor([-9, -8, -7])"
      ]
     },
     "execution_count": 34,
     "metadata": {},
     "output_type": "execute_result"
    }
   ],
   "source": [
    "# Subtract and reassign\n",
    "tensor = tensor - 10\n",
    "tensor"
   ]
  },
  {
   "cell_type": "code",
   "execution_count": 35,
   "id": "14981f91",
   "metadata": {},
   "outputs": [
    {
     "data": {
      "text/plain": [
       "tensor([1, 2, 3])"
      ]
     },
     "execution_count": 35,
     "metadata": {},
     "output_type": "execute_result"
    }
   ],
   "source": [
    "# Add and reassign\n",
    "tensor = tensor + 10\n",
    "tensor"
   ]
  },
  {
   "cell_type": "code",
   "execution_count": 36,
   "id": "685bcbad",
   "metadata": {},
   "outputs": [
    {
     "data": {
      "text/plain": [
       "tensor([10, 20, 30])"
      ]
     },
     "execution_count": 36,
     "metadata": {},
     "output_type": "execute_result"
    }
   ],
   "source": [
    "# Can also use torch functions\n",
    "torch.multiply(tensor, 10)"
   ]
  },
  {
   "cell_type": "code",
   "execution_count": 37,
   "id": "18215559",
   "metadata": {},
   "outputs": [
    {
     "name": "stdout",
     "output_type": "stream",
     "text": [
      "tensor([1, 2, 3]) * tensor([1, 2, 3])\n",
      "Equals: tensor([1, 4, 9])\n"
     ]
    }
   ],
   "source": [
    "# Element-wise multiplication (each element multiplies its equivalent, index 0->0, 1->1, 2->2)\n",
    "print(tensor, \"*\", tensor)\n",
    "print(\"Equals:\", tensor * tensor)"
   ]
  },
  {
   "cell_type": "code",
   "execution_count": 38,
   "id": "4afc20c7",
   "metadata": {},
   "outputs": [
    {
     "data": {
      "text/plain": [
       "tensor(14)"
      ]
     },
     "execution_count": 38,
     "metadata": {},
     "output_type": "execute_result"
    }
   ],
   "source": [
    "# matrix multiplication\n",
    "torch.matmul(tensor, tensor)"
   ]
  },
  {
   "cell_type": "code",
   "execution_count": 39,
   "id": "f0179b2e",
   "metadata": {},
   "outputs": [
    {
     "data": {
      "text/plain": [
       "tensor([1, 2, 3])"
      ]
     },
     "execution_count": 39,
     "metadata": {},
     "output_type": "execute_result"
    }
   ],
   "source": [
    "tensor"
   ]
  },
  {
   "cell_type": "code",
   "execution_count": 40,
   "id": "335e2cb2",
   "metadata": {},
   "outputs": [
    {
     "data": {
      "text/plain": [
       "tensor(14)"
      ]
     },
     "execution_count": 40,
     "metadata": {},
     "output_type": "execute_result"
    }
   ],
   "source": [
    "#using @ for matrix multiplication\n",
    "tensor @ tensor"
   ]
  },
  {
   "cell_type": "markdown",
   "id": "79ca116a",
   "metadata": {},
   "source": [
    "#### Using Buit-In Pytorch Tensor"
   ]
  },
  {
   "cell_type": "code",
   "execution_count": 41,
   "id": "8b8d3134",
   "metadata": {},
   "outputs": [
    {
     "name": "stdout",
     "output_type": "stream",
     "text": [
      "tensor(14)\n",
      "CPU times: user 784 µs, sys: 786 µs, total: 1.57 ms\n",
      "Wall time: 1.2 ms\n"
     ]
    }
   ],
   "source": [
    "%%time \n",
    "value = 0\n",
    "for i in range(len(tensor)):\n",
    "    value += tensor[i] * tensor[i]\n",
    "print(value)"
   ]
  },
  {
   "cell_type": "code",
   "execution_count": 44,
   "id": "a54969be",
   "metadata": {},
   "outputs": [
    {
     "name": "stdout",
     "output_type": "stream",
     "text": [
      "CPU times: user 126 µs, sys: 34 µs, total: 160 µs\n",
      "Wall time: 147 µs\n"
     ]
    },
    {
     "data": {
      "text/plain": [
       "tensor(14)"
      ]
     },
     "execution_count": 44,
     "metadata": {},
     "output_type": "execute_result"
    }
   ],
   "source": [
    "%%time\n",
    "torch.matmul(tensor, tensor)"
   ]
  },
  {
   "cell_type": "markdown",
   "id": "c6c76914",
   "metadata": {},
   "source": [
    "### Rules of Matrix Multiplications\n",
    "\n",
    "- The inner dimensions must match.\n",
    "- The resulting matrix has the shape of the outer dimensions."
   ]
  },
  {
   "cell_type": "code",
   "execution_count": 46,
   "id": "f5114402",
   "metadata": {},
   "outputs": [
    {
     "data": {
      "text/plain": [
       "torch.Size([3])"
      ]
     },
     "execution_count": 46,
     "metadata": {},
     "output_type": "execute_result"
    }
   ],
   "source": [
    "tensor = torch.tensor([1,2,3])#\n",
    "tensor.shape"
   ]
  },
  {
   "cell_type": "code",
   "execution_count": 47,
   "id": "31371108",
   "metadata": {},
   "outputs": [
    {
     "data": {
      "text/plain": [
       "tensor([1, 4, 9])"
      ]
     },
     "execution_count": 47,
     "metadata": {},
     "output_type": "execute_result"
    }
   ],
   "source": [
    "# Element-wise matrix multiplication\n",
    "tensor * tensor"
   ]
  },
  {
   "cell_type": "code",
   "execution_count": 48,
   "id": "b38fddf7",
   "metadata": {},
   "outputs": [
    {
     "data": {
      "text/plain": [
       "tensor(14)"
      ]
     },
     "execution_count": 48,
     "metadata": {},
     "output_type": "execute_result"
    }
   ],
   "source": [
    "# Matrix multiplication\n",
    "torch.matmul(tensor, tensor)"
   ]
  },
  {
   "cell_type": "code",
   "execution_count": 50,
   "id": "84cea186",
   "metadata": {},
   "outputs": [
    {
     "data": {
      "text/plain": [
       "tensor(14)"
      ]
     },
     "execution_count": 50,
     "metadata": {},
     "output_type": "execute_result"
    }
   ],
   "source": [
    "# Can also use the \"@\" symbol for matrix multiplication\n",
    "tensor @ tensor"
   ]
  },
  {
   "cell_type": "code",
   "execution_count": null,
   "id": "545c980b",
   "metadata": {},
   "outputs": [],
   "source": [
    "# Shapes need to be in the right way\n",
    "tensor_A = torch.tensor([[1, 2],\n",
    "                         [3, 4],\n",
    "                         [5, 6]], dtype=torch.float32)\n",
    "\n",
    "tensor_B = torch.tensor([[7, 10],\n",
    "                         [8, 11],\n",
    "                         [9, 12]], dtype=torch.float32)\n",
    "\n",
    "#torch.matmul(tensor_A, tensor_B) (this will error)"
   ]
  },
  {
   "cell_type": "markdown",
   "id": "aa5cb3cc",
   "metadata": {},
   "source": [
    "Now we are using transpose to avoid the error.\n",
    "\n",
    "We can attempt transpose in following way:\n",
    "- `torch.transpose(input, dim0, dim1)`  where input is the desired tensor to transpose and dim0 and dim1 are the dimensions to be swapped.\n",
    "- `tensor.T` where tensor is the desired tensor to transpose."
   ]
  },
  {
   "cell_type": "code",
   "execution_count": 53,
   "id": "46091439",
   "metadata": {},
   "outputs": [
    {
     "name": "stdout",
     "output_type": "stream",
     "text": [
      "tensor([[1., 2.],\n",
      "        [3., 4.],\n",
      "        [5., 6.]])\n",
      "tensor([[ 7., 10.],\n",
      "        [ 8., 11.],\n",
      "        [ 9., 12.]])\n"
     ]
    }
   ],
   "source": [
    "print(tensor_A)\n",
    "print(tensor_B)"
   ]
  },
  {
   "cell_type": "code",
   "execution_count": 54,
   "id": "4fdcd2ef",
   "metadata": {},
   "outputs": [
    {
     "name": "stdout",
     "output_type": "stream",
     "text": [
      "tensor([[1., 2.],\n",
      "        [3., 4.],\n",
      "        [5., 6.]])\n",
      "tensor([[ 7.,  8.,  9.],\n",
      "        [10., 11., 12.]])\n"
     ]
    }
   ],
   "source": [
    "print(tensor_A)\n",
    "print(tensor_B.T)"
   ]
  },
  {
   "cell_type": "code",
   "execution_count": 55,
   "id": "dfb274ed",
   "metadata": {},
   "outputs": [
    {
     "name": "stdout",
     "output_type": "stream",
     "text": [
      "Original shapes: tensor_A = torch.Size([3, 2]), tensor_B = torch.Size([3, 2])\n",
      "\n",
      "New shapes: tensor_A = torch.Size([3, 2]) (same as above), tensor_B.T = torch.Size([2, 3])\n",
      "\n",
      "Multiplying: torch.Size([3, 2]) * torch.Size([2, 3]) <- inner dimensions match\n",
      "\n",
      "Output:\n",
      "\n",
      "tensor([[ 27.,  30.,  33.],\n",
      "        [ 61.,  68.,  75.],\n",
      "        [ 95., 106., 117.]])\n",
      "\n",
      "Output shape: torch.Size([3, 3])\n"
     ]
    }
   ],
   "source": [
    "# The operation works when tensor_B is transposed\n",
    "print(f\"Original shapes: tensor_A = {tensor_A.shape}, tensor_B = {tensor_B.shape}\\n\")\n",
    "print(f\"New shapes: tensor_A = {tensor_A.shape} (same as above), tensor_B.T = {tensor_B.T.shape}\\n\")\n",
    "print(f\"Multiplying: {tensor_A.shape} * {tensor_B.T.shape} <- inner dimensions match\\n\")\n",
    "print(\"Output:\\n\")\n",
    "output = torch.matmul(tensor_A, tensor_B.T)\n",
    "print(output)\n",
    "print(f\"\\nOutput shape: {output.shape}\")"
   ]
  },
  {
   "cell_type": "code",
   "execution_count": 56,
   "id": "d8b957e8",
   "metadata": {},
   "outputs": [
    {
     "data": {
      "text/plain": [
       "tensor([[ 27.,  30.,  33.],\n",
       "        [ 61.,  68.,  75.],\n",
       "        [ 95., 106., 117.]])"
      ]
     },
     "execution_count": 56,
     "metadata": {},
     "output_type": "execute_result"
    }
   ],
   "source": [
    "# using torch.mm which is a shortcut for matmul\n",
    "torch.mm(tensor_A, tensor_B.T)"
   ]
  },
  {
   "cell_type": "markdown",
   "id": "22202cd1",
   "metadata": {},
   "source": [
    "### Finding the min, max, mean, sum etc (aggregation)"
   ]
  },
  {
   "cell_type": "code",
   "execution_count": 57,
   "id": "999d8d96",
   "metadata": {},
   "outputs": [
    {
     "data": {
      "text/plain": [
       "tensor([ 0, 10, 20, 30, 40, 50, 60, 70, 80, 90])"
      ]
     },
     "execution_count": 57,
     "metadata": {},
     "output_type": "execute_result"
    }
   ],
   "source": [
    "#creating a tensor\n",
    "x = torch.arange(0, 100, 10)\n",
    "x"
   ]
  },
  {
   "cell_type": "code",
   "execution_count": 58,
   "id": "b8f6c170",
   "metadata": {},
   "outputs": [
    {
     "name": "stdout",
     "output_type": "stream",
     "text": [
      "Minimum: 0\n",
      "Maximum: 90\n",
      "Mean: 45.0\n",
      "Sum: 450\n"
     ]
    }
   ],
   "source": [
    "print(f\"Minimum: {x.min()}\")\n",
    "print(f\"Maximum: {x.max()}\")\n",
    "# won't work without float datatype\n",
    "print(f\"Mean: {x.type(torch.float32).mean()}\")\n",
    "print(f\"Sum: {x.sum()}\")"
   ]
  },
  {
   "cell_type": "code",
   "execution_count": 60,
   "id": "0f442403",
   "metadata": {},
   "outputs": [
    {
     "data": {
      "text/plain": [
       "(tensor(90), tensor(0), tensor(45.), tensor(450))"
      ]
     },
     "execution_count": 60,
     "metadata": {},
     "output_type": "execute_result"
    }
   ],
   "source": [
    "# USING TORCH METHODS \n",
    "torch.max(x), torch.min(x), torch.mean(x.type(torch.float32)), torch.sum(x)"
   ]
  },
  {
   "cell_type": "markdown",
   "id": "b49b5ffc",
   "metadata": {},
   "source": [
    "### Positional Min/Max"
   ]
  },
  {
   "cell_type": "markdown",
   "id": "0c1d6b91",
   "metadata": {},
   "source": [
    "We can also find the index of a tensor where the max or minimum occurs with `torch.argmax()` and `torch.argmin()` respectively."
   ]
  },
  {
   "cell_type": "code",
   "execution_count": 61,
   "id": "181fffcf",
   "metadata": {},
   "outputs": [
    {
     "name": "stdout",
     "output_type": "stream",
     "text": [
      "Tensor: tensor([10, 20, 30, 40, 50, 60, 70, 80, 90])\n",
      "Index where max value occurs: 8\n",
      "Index where min value occurs: 0\n"
     ]
    }
   ],
   "source": [
    "#creating a tensor\n",
    "tensor = torch.arange(10, 100, 10)\n",
    "print(f\"Tensor: {tensor}\")\n",
    "\n",
    "#returns index of max and min values\n",
    "print(f\"Index where max value occurs: {tensor.argmax()}\")\n",
    "print(f\"Index where min value occurs: {tensor.argmin()}\")"
   ]
  },
  {
   "cell_type": "markdown",
   "id": "b1dc5b59",
   "metadata": {},
   "source": [
    "### Changing Tensor Datatype\n",
    "\n",
    "If one tensor is in `torch.float64` and another is in `torch.float32` we might run into some errors.<br>\n",
    "We can change the datatypes of tensors using `torch.Tensor.type(dtype=None)` where the `dtype` parameter is the datatype we'd like to use."
   ]
  },
  {
   "cell_type": "code",
   "execution_count": 62,
   "id": "6b8f57e2",
   "metadata": {},
   "outputs": [
    {
     "data": {
      "text/plain": [
       "torch.float32"
      ]
     },
     "execution_count": 62,
     "metadata": {},
     "output_type": "execute_result"
    }
   ],
   "source": [
    "#creating a tensor and checking its datatype\n",
    "tensor = torch.arange(10., 100., 10.)\n",
    "tensor.dtype"
   ]
  },
  {
   "cell_type": "code",
   "execution_count": 63,
   "id": "7342b474",
   "metadata": {},
   "outputs": [
    {
     "data": {
      "text/plain": [
       "tensor([10., 20., 30., 40., 50., 60., 70., 80., 90.], dtype=torch.float16)"
      ]
     },
     "execution_count": 63,
     "metadata": {},
     "output_type": "execute_result"
    }
   ],
   "source": [
    "# creating a float16 tensor\n",
    "tensor_float16 = tensor.type(torch.float16)\n",
    "tensor_float16"
   ]
  },
  {
   "cell_type": "code",
   "execution_count": 64,
   "id": "f80d7838",
   "metadata": {},
   "outputs": [
    {
     "data": {
      "text/plain": [
       "tensor([10, 20, 30, 40, 50, 60, 70, 80, 90], dtype=torch.int8)"
      ]
     },
     "execution_count": 64,
     "metadata": {},
     "output_type": "execute_result"
    }
   ],
   "source": [
    "#creating an int8 tensor\n",
    "tensor_int8 = tensor.type(torch.int8)\n",
    "tensor_int8"
   ]
  }
 ],
 "metadata": {
  "kernelspec": {
   "display_name": "env",
   "language": "python",
   "name": "python3"
  },
  "language_info": {
   "codemirror_mode": {
    "name": "ipython",
    "version": 3
   },
   "file_extension": ".py",
   "mimetype": "text/x-python",
   "name": "python",
   "nbconvert_exporter": "python",
   "pygments_lexer": "ipython3",
   "version": "3.8.19"
  }
 },
 "nbformat": 4,
 "nbformat_minor": 5
}
