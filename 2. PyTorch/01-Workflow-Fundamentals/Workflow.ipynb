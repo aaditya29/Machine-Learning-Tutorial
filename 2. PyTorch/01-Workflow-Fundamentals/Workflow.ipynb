{
 "cells": [
  {
   "cell_type": "markdown",
   "id": "3eb0cc90",
   "metadata": {},
   "source": [
    "# PyTorch Workflow"
   ]
  },
  {
   "cell_type": "markdown",
   "id": "37c92030",
   "metadata": {},
   "source": [
    "## Typical PyTorch Workflow Summary\n",
    "\n",
    "A typical PyTorch workflow is a structured and five-step process for training a neural network. The best way to understand it is through an analogy of**teaching a student to pass an exam**.\n",
    "\n",
    "Here’s the entire process at a glance:\n",
    "\n",
    "1.  **Prepare the Data** (Get the study materials)\n",
    "2.  **Build the Model** (The student's brain)\n",
    "3.  **Define Loss Function & Optimizer** (The practice test and study technique)\n",
    "4.  **Create the Training Loop** (The study session)\n",
    "5.  **Evaluate the Model** (The final exam)\n",
    "\n",
    "\n",
    "#### 1. Prepare the Data (The Study Materials)\n",
    "\n",
    "Before a student can learn they need textbooks and notes. Similarly a model needs data. This step involves getting the data and preparing it for PyTorch.\n",
    "\n",
    "* **What we do:** We load our data (images, text, numbers) and convert it into **tensors**, which are the fundamental data structure in PyTorch.\n",
    "* **Key PyTorch tools:**\n",
    "    * `torch.utils.data.Dataset`: An object that holds our entire dataset. Think of it as the complete textbook.\n",
    "    * `torch.utils.data.DataLoader`: An object that wraps our `Dataset` and serves up the data in small and manageable **batches**. A student doesn't study the entire textbook at once but they study chapter by chapter. The `DataLoader` hence provides these \"chapters.\"\n",
    "\n",
    "#### 2. Build the Model (The Student's Brain)\n",
    "\n",
    "Next we need to define the student—the neural network itself. It's like building a brain with layers of neurons which are ready to learn but it doesn't know anything yet.\n",
    "\n",
    "* **What we do:** We define yur neural network architecture as a Python class.\n",
    "* **Key PyTorch tools:**\n",
    "    * `torch.nn.Module`: All of our models will be subclasses of this. It gives us all the core functionality.\n",
    "    * `__init__()`: In this methodw you define the layers of our network (e.g., `torch.nn.Linear` for simple layers, `torch.nn.Conv2d` for image layers). This is like defining the different parts of the brain.\n",
    "    * `forward()`: This method defines how data flows through the layers you created. It's the path of thinking.\n",
    "\n",
    "#### 3. Define the Loss Function & Optimizer (The Test & Study Technique)\n",
    "\n",
    "How does a student know if they're learning? They take a practice test. And how do they improve? They use a study technique.\n",
    "\n",
    "* **Loss Function (The Practice Test):** This measures how wrong our model's predictions are compared to the true answers. A high loss means the model is very wrong and a low loss means it's doing well.\n",
    "    * **PyTorch examples:** `nn.CrossEntropyLoss` (for classification) or `nn.MSELoss` (for regression).\n",
    "* **Optimizer (The Study Technique):** This is the algorithm that updates the model's internal parameters (its \"knowledge\") to reduce the loss. It tells the model *how* to learn from its mistakes.\n",
    "    * **PyTorch examples:** `torch.optim.Adam` or `torch.optim.SGD`.\n",
    "\n",
    "#### 4. The Training Loop (The Study Session)\n",
    "\n",
    "This is the core of the learning process where everything comes together. We'll loop over our data multiple times (called **epochs**) and in each loop, the model will practice, get graded, and improve.<br>\n",
    "A single training step inside the loop has five parts:\n",
    "\n",
    "1.  **Forward Pass:** The model makes a prediction on a batch of data. (`model(inputs)`)\n",
    "    * *Analogy: The student answers a set of practice questions.*\n",
    "2.  **Calculate Loss:** The loss function compares the model's prediction to the correct answer. (`loss_fn(...)`)\n",
    "    * *Analogy: The practice test is graded yielding a score.*\n",
    "3.  **Zero Gradients:** We reset the optimizer's memory of past errors. (`optimizer.zero_grad()`)\n",
    "    * *Analogy: The student clears their mind before tackling the next set of questions.*\n",
    "4.  **Backpropagation:** PyTorch calculates how much each parameter in the model contributed to the error. (`loss.backward()`)\n",
    "    * *Analogy: The student figures out *why* they got each question wrong.*\n",
    "5.  **Update Weights:** The optimizer adjusts the model's parameters based on the backpropagation results. (`optimizer.step()`)\n",
    "    * *Analogy: The student corrects their understanding and updates their knowledge.*\n",
    "\n",
    "You repeat this loop over and over until the model's performance stops improving.\n",
    "\n",
    "\n",
    "#### 5. Evaluate the Model (The Final Exam)\n",
    "\n",
    "After the study sessions are over it's time for the final exam. We test the model on **new and unseen data** to see how well it truly learned to generalize.\n",
    "\n",
    "* **What we do:** We create a testing loop. It's similar to the training loop but with two key differences:\n",
    "    1.  We use `model.eval()` mode to turn off certain layers that behave differently during training (like dropout).\n",
    "    2.  We use `with torch.no_grad():` to tell PyTorch not to calculate gradients which makes evaluation faster and more memory-efficient. We're only testing not learning."
   ]
  },
  {
   "cell_type": "code",
   "execution_count": 1,
   "id": "0915e9eb",
   "metadata": {},
   "outputs": [
    {
     "data": {
      "text/plain": [
       "'2.3.1'"
      ]
     },
     "execution_count": 1,
     "metadata": {},
     "output_type": "execute_result"
    }
   ],
   "source": [
    "import torch\n",
    "from torch import nn\n",
    "import matplotlib.pyplot as plt\n",
    "\n",
    "torch.__version__"
   ]
  },
  {
   "cell_type": "markdown",
   "id": "d2f4fe43",
   "metadata": {},
   "source": [
    "### 1. Data Preparing And Loading"
   ]
  },
  {
   "cell_type": "code",
   "execution_count": 2,
   "id": "6239de56",
   "metadata": {},
   "outputs": [
    {
     "data": {
      "text/plain": [
       "(tensor([[0.0000],\n",
       "         [0.0200],\n",
       "         [0.0400],\n",
       "         [0.0600],\n",
       "         [0.0800],\n",
       "         [0.1000],\n",
       "         [0.1200],\n",
       "         [0.1400],\n",
       "         [0.1600],\n",
       "         [0.1800]]),\n",
       " tensor([[0.3000],\n",
       "         [0.3140],\n",
       "         [0.3280],\n",
       "         [0.3420],\n",
       "         [0.3560],\n",
       "         [0.3700],\n",
       "         [0.3840],\n",
       "         [0.3980],\n",
       "         [0.4120],\n",
       "         [0.4260]]))"
      ]
     },
     "execution_count": 2,
     "metadata": {},
     "output_type": "execute_result"
    }
   ],
   "source": [
    "# creating known parameters\n",
    "weight = 0.7\n",
    "bias = 0.3\n",
    "\n",
    "#creating the data\n",
    "start = 0\n",
    "end = 1\n",
    "step = 0.02\n",
    "X = torch.arange(start, end, step).unsqueeze(dim=1)# shape (50,1)\n",
    "y = weight * X + bias # shape (50,1)\n",
    "\n",
    "X[:10], y[:10]# first 10 samples"
   ]
  },
  {
   "cell_type": "markdown",
   "id": "7601f264",
   "metadata": {},
   "source": [
    "Now we will build a model that can learn the relationship between X (features) and y (labels)."
   ]
  },
  {
   "cell_type": "markdown",
   "id": "fceeaf76",
   "metadata": {},
   "source": [
    "- #### Splitting Data into Training and Test Sets"
   ]
  },
  {
   "cell_type": "code",
   "execution_count": 3,
   "id": "76dd9c47",
   "metadata": {},
   "outputs": [
    {
     "data": {
      "text/plain": [
       "(40, 40, 10, 10)"
      ]
     },
     "execution_count": 3,
     "metadata": {},
     "output_type": "execute_result"
    }
   ],
   "source": [
    "train_split = int(0.8 * len(X))# 80% of the data for training\n",
    "X_train, y_train = X[:train_split], y[:train_split]# getting the training data till 80%\n",
    "X_test, y_test = X[train_split:], y[train_split:]# getting the testing data from 80% to end\n",
    "\n",
    "len(X_train), len(y_train), len(X_test), len(y_test)"
   ]
  },
  {
   "cell_type": "code",
   "execution_count": 4,
   "id": "06d9bea5",
   "metadata": {},
   "outputs": [],
   "source": [
    "# plotting training data, test data and compares predictions\n",
    "def plot_predictions(train_data = X_train, train_labels =y_train, test_data=X_test, test_labels = y_test, predictions = None):\n",
    "    plt.figure(figsize=(10, 7))# creating a figure\n",
    "    #plotting training data in blue\n",
    "    plt.scatter(train_data, train_labels, c=\"b\", s=4, label=\"Training data\")\n",
    "    \n",
    "    # plotting testing data in green\n",
    "    plt.scatter(test_data, test_labels, c=\"g\", s=4, label=\"Testing data\")\n",
    "    if predictions is not None: #plotting the predictions in red (predictions were made on the test data)\n",
    "        plt.scatter(test_data, predictions, c=\"r\", s=4, label=\"Predictions\")\n",
    "    plt.legend(prop={\"size\": 14})"
   ]
  },
  {
   "cell_type": "code",
   "execution_count": 5,
   "id": "b784e7a5",
   "metadata": {},
   "outputs": [
    {
     "data": {
      "image/png": "[encoded data removed]",
      "text/plain": [
       "<Figure size 1000x700 with 1 Axes>"
      ]
     },
     "metadata": {},
     "output_type": "display_data"
    }
   ],
   "source": [
    "plot_predictions()"
   ]
  },
  {
   "cell_type": "markdown",
   "id": "eb232e41",
   "metadata": {},
   "source": [
    "### 2. Building Model"
   ]
  },
  {
   "cell_type": "code",
   "execution_count": 10,
   "id": "43bf1c94",
   "metadata": {},
   "outputs": [],
   "source": [
    "# creating a Linear Regression model class\n",
    "# almost everything in PyTorch is a nn.Module\n",
    "class LinearRegressionModel(nn.Module):\n",
    "    def __init__(self):\n",
    "        super().__init__() # calling the constructor of the parent class nn.Module\n",
    "        self.weights = nn.Parameter(torch.randn(1, # random initialisation of weights starting with 1 as model learns\n",
    "                                                dtype=torch.float), # dtype is float by default\n",
    "                                                requires_grad=True) # we want to calculate the gradients\n",
    "        # initialising bias\n",
    "        self.bias = nn.Parameter(torch.randn(1,\n",
    "                                             dtype=torch.float),  # dtype is float by default\n",
    "                                             requires_grad=True)  # we want to calculate the gradients\n",
    "\n",
    "        \n",
    "    \n",
    "    #defining forward function for the purpose of making predictions\n",
    "    def forward(self, x: torch.Tensor) -> torch.Tensor:# x is type torch.Tensor and the function returns a torch.Tensor\n",
    "        return self.weights * x + self.bias # y = wx + b(linear regression equation)\n",
    " "
   ]
  },
  {
   "cell_type": "markdown",
   "id": "cd940ae5",
   "metadata": {},
   "source": [
    "#### PyTorch Model Building Essentials\n",
    "\n",
    "PyTorch has four (give or take) essential modules you can use to create almost any kind of neural network we can imagine.<br>\n",
    "They are `torch.nn`, `torch.optim`, `torch.utils.data.Dataset` and `torch.utils.data.DataLoader`."
   ]
  },
  {
   "cell_type": "markdown",
   "id": "195c246e",
   "metadata": {},
   "source": [
    "- `torch.nn`: Contains all of the building blocks for computational graphs (essentially a series of computations executed in a particular way).\n",
    "- `torch.nn.Parameter`: Stores tensors that can be used with `nn.Module`.\n",
    "- `torch.nn.Module`: The base class for all neural network modules all the building blocks for neural networks are subclasses. Requires a forward() method be implemented.\n",
    "- `torch.optim`: Contains various optimization algorithms (these tell the model parameters stored in `nn.Parameter` how to best change to improve gradient descent and in turn reduce the loss).\n",
    "- `def forward()`: \tAll `nn.Module` subclasses require a forward() method, this defines the computation that will take place on the data passed to the particular `nn.Module`."
   ]
  },
  {
   "cell_type": "markdown",
   "id": "92f10d33",
   "metadata": {},
   "source": [
    "#### Checking Contents of PyTorch Model"
   ]
  },
  {
   "cell_type": "code",
   "execution_count": 12,
   "id": "0605c701",
   "metadata": {},
   "outputs": [
    {
     "data": {
      "text/plain": [
       "[Parameter containing:\n",
       " tensor([0.3367], requires_grad=True),\n",
       " Parameter containing:\n",
       " tensor([0.1288], requires_grad=True)]"
      ]
     },
     "execution_count": 12,
     "metadata": {},
     "output_type": "execute_result"
    }
   ],
   "source": [
    "# creating a random seed\n",
    "torch.manual_seed(42)\n",
    "# creating an instance of the model\n",
    "model_0 = LinearRegressionModel()\n",
    "# Checking the nn.Parameter(s) within the nn.Module subclass we created\n",
    "list(model_0.parameters())"
   ]
  },
  {
   "cell_type": "markdown",
   "id": "26ca6968",
   "metadata": {},
   "source": [
    "Getting the state (what the model contains) of the model."
   ]
  },
  {
   "cell_type": "code",
   "execution_count": 13,
   "id": "86d32da2",
   "metadata": {},
   "outputs": [
    {
     "data": {
      "text/plain": [
       "OrderedDict([('weights', tensor([0.3367])), ('bias', tensor([0.1288]))])"
      ]
     },
     "execution_count": 13,
     "metadata": {},
     "output_type": "execute_result"
    }
   ],
   "source": [
    "model_0.state_dict()# getting the state (what the model contains) of the model."
   ]
  },
  {
   "cell_type": "markdown",
   "id": "18184156",
   "metadata": {},
   "source": [
    "#### Making Predictions using `torch.inference_mode()`:\n",
    "\n",
    "We pass the test data `X_test` to see how closely it predicts `y_test.` When we pass data to our model it'll go through the model's forward() method and produce a result using the computation we've defined.\n",
    "\n"
   ]
  },
  {
   "cell_type": "code",
   "execution_count": 14,
   "id": "72977fab",
   "metadata": {},
   "outputs": [],
   "source": [
    "#making predictions with the model\n",
    "with torch.inference_mode():\n",
    "    y_preds = model_0(X_test)"
   ]
  },
  {
   "cell_type": "code",
   "execution_count": 15,
   "id": "8f39c4a9",
   "metadata": {},
   "outputs": [
    {
     "name": "stdout",
     "output_type": "stream",
     "text": [
      "Number of testing samples: 10\n",
      "Number of predictions made: 10\n",
      "Predicted values:\n",
      "tensor([[0.3982],\n",
      "        [0.4049],\n",
      "        [0.4116],\n",
      "        [0.4184],\n",
      "        [0.4251],\n",
      "        [0.4318],\n",
      "        [0.4386],\n",
      "        [0.4453],\n",
      "        [0.4520],\n",
      "        [0.4588]])\n"
     ]
    }
   ],
   "source": [
    "#Checking the predictions\n",
    "print(f\"Number of testing samples: {len(X_test)}\")\n",
    "print(f\"Number of predictions made: {len(y_preds)}\")\n",
    "print(f\"Predicted values:\\n{y_preds}\")"
   ]
  },
  {
   "cell_type": "code",
   "execution_count": 16,
   "id": "6d7f811e",
   "metadata": {},
   "outputs": [
    {
     "data": {
      "image/png": "[encoded data removed]",
      "text/plain": [
       "<Figure size 1000x700 with 1 Axes>"
      ]
     },
     "metadata": {},
     "output_type": "display_data"
    }
   ],
   "source": [
    "plot_predictions(predictions=y_preds)"
   ]
  },
  {
   "cell_type": "code",
   "execution_count": null,
   "id": "f712145c",
   "metadata": {},
   "outputs": [],
   "source": []
  }
 ],
 "metadata": {
  "kernelspec": {
   "display_name": "env",
   "language": "python",
   "name": "python3"
  },
  "language_info": {
   "codemirror_mode": {
    "name": "ipython",
    "version": 3
   },
   "file_extension": ".py",
   "mimetype": "text/x-python",
   "name": "python",
   "nbconvert_exporter": "python",
   "pygments_lexer": "ipython3",
   "version": "3.8.19"
  }
 },
 "nbformat": 4,
 "nbformat_minor": 5
}
