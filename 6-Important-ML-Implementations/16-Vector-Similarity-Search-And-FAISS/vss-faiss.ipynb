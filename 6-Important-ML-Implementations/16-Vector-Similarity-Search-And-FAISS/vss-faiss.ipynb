{
 "cells": [
  {
   "cell_type": "markdown",
   "id": "27eb100d",
   "metadata": {},
   "source": [
    "# Beginner Friendly Guide to Vector Similarity Search and Facebook AI Similarity Search(FAISS)"
   ]
  },
  {
   "cell_type": "markdown",
   "id": "ad3ff275",
   "metadata": {},
   "source": [
    "## 1. Embeddings: How Machines Understand Meaning"
   ]
  }
 ],
 "metadata": {
  "kernelspec": {
   "display_name": "env",
   "language": "python",
   "name": "python3"
  },
  "language_info": {
   "name": "python",
   "version": "3.12.11"
  }
 },
 "nbformat": 4,
 "nbformat_minor": 5
}
