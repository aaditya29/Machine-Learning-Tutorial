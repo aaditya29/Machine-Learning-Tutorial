{
 "cells": [
  {
   "cell_type": "markdown",
   "id": "27eb100d",
   "metadata": {},
   "source": [
    "# Beginner Friendly Guide to Vector Similarity Search and Facebook AI Similarity Search(FAISS)"
   ]
  },
  {
   "cell_type": "markdown",
   "id": "ad3ff275",
   "metadata": {},
   "source": [
    "## 1. Embeddings: How Machines Understand Meaning"
   ]
  },
  {
   "cell_type": "markdown",
   "id": "32f1f9b8",
   "metadata": {},
   "source": [
    "> > Computers don't understand **zero** and **one** but they understant **0** and **1**."
   ]
  },
  {
   "cell_type": "code",
   "execution_count": 3,
   "id": "ee607b49",
   "metadata": {},
   "outputs": [],
   "source": [
    "from transformers import BertModel, BertTokenizer"
   ]
  },
  {
   "cell_type": "code",
   "execution_count": 4,
   "id": "a2f534ff",
   "metadata": {},
   "outputs": [],
   "source": [
    "import torch"
   ]
  },
  {
   "cell_type": "code",
   "execution_count": 5,
   "id": "76bc38e0",
   "metadata": {},
   "outputs": [
    {
     "name": "stdout",
     "output_type": "stream",
     "text": [
      "['vector', 'similarity', 'search', 'using', 'fai', '##ss']\n"
     ]
    }
   ],
   "source": [
    "# Load pre-trained BERT model and tokenizer\n",
    "tokenizer = BertTokenizer.from_pretrained('bert-base-uncased')\n",
    "\n",
    "text = \"Vector Similarity Search using FAISS\"\n",
    "tokenized_text = tokenizer.tokenize(text)  # Tokenize the input text\n",
    "print(tokenized_text)"
   ]
  }
 ],
 "metadata": {
  "kernelspec": {
   "display_name": "Python 3",
   "language": "python",
   "name": "python3"
  },
  "language_info": {
   "codemirror_mode": {
    "name": "ipython",
    "version": 3
   },
   "file_extension": ".py",
   "mimetype": "text/x-python",
   "name": "python",
   "nbconvert_exporter": "python",
   "pygments_lexer": "ipython3",
   "version": "3.12.11"
  }
 },
 "nbformat": 4,
 "nbformat_minor": 5
}
