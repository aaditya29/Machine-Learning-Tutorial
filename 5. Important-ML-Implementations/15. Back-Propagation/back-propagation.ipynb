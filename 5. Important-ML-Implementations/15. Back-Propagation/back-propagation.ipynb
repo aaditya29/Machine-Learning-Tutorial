{
 "cells": [
  {
   "cell_type": "markdown",
   "id": "1c6e51bd",
   "metadata": {},
   "source": [
    "# Implementing Back-Propagation from Scratch"
   ]
  }
 ],
 "metadata": {
  "language_info": {
   "name": "python"
  }
 },
 "nbformat": 4,
 "nbformat_minor": 5
}
