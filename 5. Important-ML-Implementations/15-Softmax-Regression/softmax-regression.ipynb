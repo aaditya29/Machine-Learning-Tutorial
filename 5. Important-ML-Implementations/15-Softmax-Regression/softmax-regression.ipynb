{
 "cells": [
  {
   "cell_type": "markdown",
   "id": "d6d3a6bd",
   "metadata": {},
   "source": [
    "# Softmax Regression from Scratch"
   ]
  }
 ],
 "metadata": {
  "language_info": {
   "name": "python"
  }
 },
 "nbformat": 4,
 "nbformat_minor": 5
}
