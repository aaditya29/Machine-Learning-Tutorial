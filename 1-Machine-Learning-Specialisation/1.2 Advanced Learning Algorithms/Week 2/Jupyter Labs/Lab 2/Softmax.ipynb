{
  "nbformat": 4,
  "nbformat_minor": 0,
  "metadata": {
    "colab": {
      "provenance": [],
      "gpuType": "T4"
    },
    "kernelspec": {
      "name": "python3",
      "display_name": "Python 3"
    },
    "language_info": {
      "name": "python"
    },
    "accelerator": "GPU",
    "widgets": {
      "application/vnd.jupyter.widget-state+json": {
        "36a4ad52c9f24fc29916f45d5e34226f": {
          "model_module": "jupyter-matplotlib",
          "model_name": "MPLCanvasModel",
          "model_module_version": "^0.11",
          "state": {
            "_cursor": "pointer",
            "_data_url": "data:image/png;base64,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",
            "_dom_classes": [],
            "_figure_label": "Figure",
            "_image_mode": "full",
            "_message": "",
            "_model_module": "jupyter-matplotlib",
            "_model_module_version": "^0.11",
            "_model_name": "MPLCanvasModel",
            "_rubberband_height": 0,
            "_rubberband_width": 0,
            "_rubberband_x": 0,
            "_rubberband_y": 0,
            "_size": [
              800,
              400
            ],
            "_view_count": null,
            "_view_module": "jupyter-matplotlib",
            "_view_module_version": "^0.11",
            "_view_name": "MPLCanvasView",
            "capture_scroll": false,
            "footer_visible": true,
            "header_visible": true,
            "layout": "IPY_MODEL_a063ed6e639642948e32e6c9262d7699",
            "pan_zoom_throttle": 33,
            "resizable": true,
            "toolbar": "IPY_MODEL_c4c3046113674267a78200e05dc203ae",
            "toolbar_position": "left",
            "toolbar_visible": "fade-in-fade-out"
          }
        }
      }
    }
  },
  "cells": [
    {
      "cell_type": "markdown",
      "source": [
        "# Softmax Lab"
      ],
      "metadata": {
        "id": "rSG9lXdNZnAq"
      }
    },
    {
      "cell_type": "code",
      "source": [
        "from google.colab import drive\n",
        "drive.mount('/content/drive')"
      ],
      "metadata": {
        "colab": {
          "base_uri": "https://localhost:8080/"
        },
        "id": "wxwW3ERX_1LD",
        "outputId": "11cdff66-b6ad-4e26-eadb-96959cdf2741"
      },
      "execution_count": 1,
      "outputs": [
        {
          "output_type": "stream",
          "name": "stdout",
          "text": [
            "Drive already mounted at /content/drive; to attempt to forcibly remount, call drive.mount(\"/content/drive\", force_remount=True).\n"
          ]
        }
      ]
    },
    {
      "cell_type": "code",
      "source": [
        "from google.colab import files"
      ],
      "metadata": {
        "id": "rpUPQh8S_2t-"
      },
      "execution_count": 2,
      "outputs": []
    },
    {
      "cell_type": "code",
      "source": [
        "!cp /content/drive/MyDrive/Datasets/lab_utils_common.py /content"
      ],
      "metadata": {
        "id": "4qxI90LuAh-m"
      },
      "execution_count": 3,
      "outputs": []
    },
    {
      "cell_type": "code",
      "source": [
        "!cp /content/drive/MyDrive/Datasets/lab_utils_softmax.py /content"
      ],
      "metadata": {
        "id": "m06UbL_dN05S"
      },
      "execution_count": 4,
      "outputs": []
    },
    {
      "cell_type": "code",
      "source": [
        "from google.colab import output\n",
        "output.disable_custom_widget_manager()"
      ],
      "metadata": {
        "id": "9aLT6rbEjpS-"
      },
      "execution_count": 17,
      "outputs": []
    },
    {
      "cell_type": "code",
      "source": [
        "pip install ipympl"
      ],
      "metadata": {
        "colab": {
          "base_uri": "https://localhost:8080/"
        },
        "id": "ChzjkI65gSGg",
        "outputId": "ca996b6d-d243-4bce-ea79-2c1b21c6382f"
      },
      "execution_count": 10,
      "outputs": [
        {
          "output_type": "stream",
          "name": "stdout",
          "text": [
            "Collecting ipympl\n",
            "  Downloading ipympl-0.9.4-py3-none-any.whl (516 kB)\n",
            "\u001b[2K     \u001b[90m━━━━━━━━━━━━━━━━━━━━━━━━━━━━━━━━━━━━━━━━\u001b[0m \u001b[32m516.3/516.3 kB\u001b[0m \u001b[31m9.2 MB/s\u001b[0m eta \u001b[36m0:00:00\u001b[0m\n",
            "\u001b[?25hRequirement already satisfied: ipython-genutils in /usr/local/lib/python3.10/dist-packages (from ipympl) (0.2.0)\n",
            "Requirement already satisfied: ipython<9 in /usr/local/lib/python3.10/dist-packages (from ipympl) (7.34.0)\n",
            "Requirement already satisfied: ipywidgets<9,>=7.6.0 in /usr/local/lib/python3.10/dist-packages (from ipympl) (7.7.1)\n",
            "Requirement already satisfied: matplotlib<4,>=3.4.0 in /usr/local/lib/python3.10/dist-packages (from ipympl) (3.7.1)\n",
            "Requirement already satisfied: numpy in /usr/local/lib/python3.10/dist-packages (from ipympl) (1.25.2)\n",
            "Requirement already satisfied: pillow in /usr/local/lib/python3.10/dist-packages (from ipympl) (9.4.0)\n",
            "Requirement already satisfied: traitlets<6 in /usr/local/lib/python3.10/dist-packages (from ipympl) (5.7.1)\n",
            "Requirement already satisfied: setuptools>=18.5 in /usr/local/lib/python3.10/dist-packages (from ipython<9->ipympl) (67.7.2)\n",
            "Collecting jedi>=0.16 (from ipython<9->ipympl)\n",
            "  Downloading jedi-0.19.1-py2.py3-none-any.whl (1.6 MB)\n",
            "\u001b[2K     \u001b[90m━━━━━━━━━━━━━━━━━━━━━━━━━━━━━━━━━━━━━━━━\u001b[0m \u001b[32m1.6/1.6 MB\u001b[0m \u001b[31m19.7 MB/s\u001b[0m eta \u001b[36m0:00:00\u001b[0m\n",
            "\u001b[?25hRequirement already satisfied: decorator in /usr/local/lib/python3.10/dist-packages (from ipython<9->ipympl) (4.4.2)\n",
            "Requirement already satisfied: pickleshare in /usr/local/lib/python3.10/dist-packages (from ipython<9->ipympl) (0.7.5)\n",
            "Requirement already satisfied: prompt-toolkit!=3.0.0,!=3.0.1,<3.1.0,>=2.0.0 in /usr/local/lib/python3.10/dist-packages (from ipython<9->ipympl) (3.0.43)\n",
            "Requirement already satisfied: pygments in /usr/local/lib/python3.10/dist-packages (from ipython<9->ipympl) (2.16.1)\n",
            "Requirement already satisfied: backcall in /usr/local/lib/python3.10/dist-packages (from ipython<9->ipympl) (0.2.0)\n",
            "Requirement already satisfied: matplotlib-inline in /usr/local/lib/python3.10/dist-packages (from ipython<9->ipympl) (0.1.7)\n",
            "Requirement already satisfied: pexpect>4.3 in /usr/local/lib/python3.10/dist-packages (from ipython<9->ipympl) (4.9.0)\n",
            "Requirement already satisfied: ipykernel>=4.5.1 in /usr/local/lib/python3.10/dist-packages (from ipywidgets<9,>=7.6.0->ipympl) (5.5.6)\n",
            "Requirement already satisfied: widgetsnbextension~=3.6.0 in /usr/local/lib/python3.10/dist-packages (from ipywidgets<9,>=7.6.0->ipympl) (3.6.6)\n",
            "Requirement already satisfied: jupyterlab-widgets>=1.0.0 in /usr/local/lib/python3.10/dist-packages (from ipywidgets<9,>=7.6.0->ipympl) (3.0.10)\n",
            "Requirement already satisfied: contourpy>=1.0.1 in /usr/local/lib/python3.10/dist-packages (from matplotlib<4,>=3.4.0->ipympl) (1.2.1)\n",
            "Requirement already satisfied: cycler>=0.10 in /usr/local/lib/python3.10/dist-packages (from matplotlib<4,>=3.4.0->ipympl) (0.12.1)\n",
            "Requirement already satisfied: fonttools>=4.22.0 in /usr/local/lib/python3.10/dist-packages (from matplotlib<4,>=3.4.0->ipympl) (4.51.0)\n",
            "Requirement already satisfied: kiwisolver>=1.0.1 in /usr/local/lib/python3.10/dist-packages (from matplotlib<4,>=3.4.0->ipympl) (1.4.5)\n",
            "Requirement already satisfied: packaging>=20.0 in /usr/local/lib/python3.10/dist-packages (from matplotlib<4,>=3.4.0->ipympl) (24.0)\n",
            "Requirement already satisfied: pyparsing>=2.3.1 in /usr/local/lib/python3.10/dist-packages (from matplotlib<4,>=3.4.0->ipympl) (3.1.2)\n",
            "Requirement already satisfied: python-dateutil>=2.7 in /usr/local/lib/python3.10/dist-packages (from matplotlib<4,>=3.4.0->ipympl) (2.8.2)\n",
            "Requirement already satisfied: jupyter-client in /usr/local/lib/python3.10/dist-packages (from ipykernel>=4.5.1->ipywidgets<9,>=7.6.0->ipympl) (6.1.12)\n",
            "Requirement already satisfied: tornado>=4.2 in /usr/local/lib/python3.10/dist-packages (from ipykernel>=4.5.1->ipywidgets<9,>=7.6.0->ipympl) (6.3.3)\n",
            "Requirement already satisfied: parso<0.9.0,>=0.8.3 in /usr/local/lib/python3.10/dist-packages (from jedi>=0.16->ipython<9->ipympl) (0.8.4)\n",
            "Requirement already satisfied: ptyprocess>=0.5 in /usr/local/lib/python3.10/dist-packages (from pexpect>4.3->ipython<9->ipympl) (0.7.0)\n",
            "Requirement already satisfied: wcwidth in /usr/local/lib/python3.10/dist-packages (from prompt-toolkit!=3.0.0,!=3.0.1,<3.1.0,>=2.0.0->ipython<9->ipympl) (0.2.13)\n",
            "Requirement already satisfied: six>=1.5 in /usr/local/lib/python3.10/dist-packages (from python-dateutil>=2.7->matplotlib<4,>=3.4.0->ipympl) (1.16.0)\n",
            "Requirement already satisfied: notebook>=4.4.1 in /usr/local/lib/python3.10/dist-packages (from widgetsnbextension~=3.6.0->ipywidgets<9,>=7.6.0->ipympl) (6.5.5)\n",
            "Requirement already satisfied: jinja2 in /usr/local/lib/python3.10/dist-packages (from notebook>=4.4.1->widgetsnbextension~=3.6.0->ipywidgets<9,>=7.6.0->ipympl) (3.1.3)\n",
            "Requirement already satisfied: pyzmq<25,>=17 in /usr/local/lib/python3.10/dist-packages (from notebook>=4.4.1->widgetsnbextension~=3.6.0->ipywidgets<9,>=7.6.0->ipympl) (23.2.1)\n",
            "Requirement already satisfied: argon2-cffi in /usr/local/lib/python3.10/dist-packages (from notebook>=4.4.1->widgetsnbextension~=3.6.0->ipywidgets<9,>=7.6.0->ipympl) (23.1.0)\n",
            "Requirement already satisfied: jupyter-core>=4.6.1 in /usr/local/lib/python3.10/dist-packages (from notebook>=4.4.1->widgetsnbextension~=3.6.0->ipywidgets<9,>=7.6.0->ipympl) (5.7.2)\n",
            "Requirement already satisfied: nbformat in /usr/local/lib/python3.10/dist-packages (from notebook>=4.4.1->widgetsnbextension~=3.6.0->ipywidgets<9,>=7.6.0->ipympl) (5.10.4)\n",
            "Requirement already satisfied: nbconvert>=5 in /usr/local/lib/python3.10/dist-packages (from notebook>=4.4.1->widgetsnbextension~=3.6.0->ipywidgets<9,>=7.6.0->ipympl) (6.5.4)\n",
            "Requirement already satisfied: nest-asyncio>=1.5 in /usr/local/lib/python3.10/dist-packages (from notebook>=4.4.1->widgetsnbextension~=3.6.0->ipywidgets<9,>=7.6.0->ipympl) (1.6.0)\n",
            "Requirement already satisfied: Send2Trash>=1.8.0 in /usr/local/lib/python3.10/dist-packages (from notebook>=4.4.1->widgetsnbextension~=3.6.0->ipywidgets<9,>=7.6.0->ipympl) (1.8.3)\n",
            "Requirement already satisfied: terminado>=0.8.3 in /usr/local/lib/python3.10/dist-packages (from notebook>=4.4.1->widgetsnbextension~=3.6.0->ipywidgets<9,>=7.6.0->ipympl) (0.18.1)\n",
            "Requirement already satisfied: prometheus-client in /usr/local/lib/python3.10/dist-packages (from notebook>=4.4.1->widgetsnbextension~=3.6.0->ipywidgets<9,>=7.6.0->ipympl) (0.20.0)\n",
            "Requirement already satisfied: nbclassic>=0.4.7 in /usr/local/lib/python3.10/dist-packages (from notebook>=4.4.1->widgetsnbextension~=3.6.0->ipywidgets<9,>=7.6.0->ipympl) (1.0.0)\n",
            "Requirement already satisfied: platformdirs>=2.5 in /usr/local/lib/python3.10/dist-packages (from jupyter-core>=4.6.1->notebook>=4.4.1->widgetsnbextension~=3.6.0->ipywidgets<9,>=7.6.0->ipympl) (4.2.0)\n",
            "Requirement already satisfied: jupyter-server>=1.8 in /usr/local/lib/python3.10/dist-packages (from nbclassic>=0.4.7->notebook>=4.4.1->widgetsnbextension~=3.6.0->ipywidgets<9,>=7.6.0->ipympl) (1.24.0)\n",
            "Requirement already satisfied: notebook-shim>=0.2.3 in /usr/local/lib/python3.10/dist-packages (from nbclassic>=0.4.7->notebook>=4.4.1->widgetsnbextension~=3.6.0->ipywidgets<9,>=7.6.0->ipympl) (0.2.4)\n",
            "Requirement already satisfied: lxml in /usr/local/lib/python3.10/dist-packages (from nbconvert>=5->notebook>=4.4.1->widgetsnbextension~=3.6.0->ipywidgets<9,>=7.6.0->ipympl) (4.9.4)\n",
            "Requirement already satisfied: beautifulsoup4 in /usr/local/lib/python3.10/dist-packages (from nbconvert>=5->notebook>=4.4.1->widgetsnbextension~=3.6.0->ipywidgets<9,>=7.6.0->ipympl) (4.12.3)\n",
            "Requirement already satisfied: bleach in /usr/local/lib/python3.10/dist-packages (from nbconvert>=5->notebook>=4.4.1->widgetsnbextension~=3.6.0->ipywidgets<9,>=7.6.0->ipympl) (6.1.0)\n",
            "Requirement already satisfied: defusedxml in /usr/local/lib/python3.10/dist-packages (from nbconvert>=5->notebook>=4.4.1->widgetsnbextension~=3.6.0->ipywidgets<9,>=7.6.0->ipympl) (0.7.1)\n",
            "Requirement already satisfied: entrypoints>=0.2.2 in /usr/local/lib/python3.10/dist-packages (from nbconvert>=5->notebook>=4.4.1->widgetsnbextension~=3.6.0->ipywidgets<9,>=7.6.0->ipympl) (0.4)\n",
            "Requirement already satisfied: jupyterlab-pygments in /usr/local/lib/python3.10/dist-packages (from nbconvert>=5->notebook>=4.4.1->widgetsnbextension~=3.6.0->ipywidgets<9,>=7.6.0->ipympl) (0.3.0)\n",
            "Requirement already satisfied: MarkupSafe>=2.0 in /usr/local/lib/python3.10/dist-packages (from nbconvert>=5->notebook>=4.4.1->widgetsnbextension~=3.6.0->ipywidgets<9,>=7.6.0->ipympl) (2.1.5)\n",
            "Requirement already satisfied: mistune<2,>=0.8.1 in /usr/local/lib/python3.10/dist-packages (from nbconvert>=5->notebook>=4.4.1->widgetsnbextension~=3.6.0->ipywidgets<9,>=7.6.0->ipympl) (0.8.4)\n",
            "Requirement already satisfied: nbclient>=0.5.0 in /usr/local/lib/python3.10/dist-packages (from nbconvert>=5->notebook>=4.4.1->widgetsnbextension~=3.6.0->ipywidgets<9,>=7.6.0->ipympl) (0.10.0)\n",
            "Requirement already satisfied: pandocfilters>=1.4.1 in /usr/local/lib/python3.10/dist-packages (from nbconvert>=5->notebook>=4.4.1->widgetsnbextension~=3.6.0->ipywidgets<9,>=7.6.0->ipympl) (1.5.1)\n",
            "Requirement already satisfied: tinycss2 in /usr/local/lib/python3.10/dist-packages (from nbconvert>=5->notebook>=4.4.1->widgetsnbextension~=3.6.0->ipywidgets<9,>=7.6.0->ipympl) (1.2.1)\n",
            "Requirement already satisfied: fastjsonschema>=2.15 in /usr/local/lib/python3.10/dist-packages (from nbformat->notebook>=4.4.1->widgetsnbextension~=3.6.0->ipywidgets<9,>=7.6.0->ipympl) (2.19.1)\n",
            "Requirement already satisfied: jsonschema>=2.6 in /usr/local/lib/python3.10/dist-packages (from nbformat->notebook>=4.4.1->widgetsnbextension~=3.6.0->ipywidgets<9,>=7.6.0->ipympl) (4.19.2)\n",
            "Requirement already satisfied: argon2-cffi-bindings in /usr/local/lib/python3.10/dist-packages (from argon2-cffi->notebook>=4.4.1->widgetsnbextension~=3.6.0->ipywidgets<9,>=7.6.0->ipympl) (21.2.0)\n",
            "Requirement already satisfied: attrs>=22.2.0 in /usr/local/lib/python3.10/dist-packages (from jsonschema>=2.6->nbformat->notebook>=4.4.1->widgetsnbextension~=3.6.0->ipywidgets<9,>=7.6.0->ipympl) (23.2.0)\n",
            "Requirement already satisfied: jsonschema-specifications>=2023.03.6 in /usr/local/lib/python3.10/dist-packages (from jsonschema>=2.6->nbformat->notebook>=4.4.1->widgetsnbextension~=3.6.0->ipywidgets<9,>=7.6.0->ipympl) (2023.12.1)\n",
            "Requirement already satisfied: referencing>=0.28.4 in /usr/local/lib/python3.10/dist-packages (from jsonschema>=2.6->nbformat->notebook>=4.4.1->widgetsnbextension~=3.6.0->ipywidgets<9,>=7.6.0->ipympl) (0.34.0)\n",
            "Requirement already satisfied: rpds-py>=0.7.1 in /usr/local/lib/python3.10/dist-packages (from jsonschema>=2.6->nbformat->notebook>=4.4.1->widgetsnbextension~=3.6.0->ipywidgets<9,>=7.6.0->ipympl) (0.18.0)\n",
            "Requirement already satisfied: anyio<4,>=3.1.0 in /usr/local/lib/python3.10/dist-packages (from jupyter-server>=1.8->nbclassic>=0.4.7->notebook>=4.4.1->widgetsnbextension~=3.6.0->ipywidgets<9,>=7.6.0->ipympl) (3.7.1)\n",
            "Requirement already satisfied: websocket-client in /usr/local/lib/python3.10/dist-packages (from jupyter-server>=1.8->nbclassic>=0.4.7->notebook>=4.4.1->widgetsnbextension~=3.6.0->ipywidgets<9,>=7.6.0->ipympl) (1.7.0)\n",
            "Requirement already satisfied: cffi>=1.0.1 in /usr/local/lib/python3.10/dist-packages (from argon2-cffi-bindings->argon2-cffi->notebook>=4.4.1->widgetsnbextension~=3.6.0->ipywidgets<9,>=7.6.0->ipympl) (1.16.0)\n",
            "Requirement already satisfied: soupsieve>1.2 in /usr/local/lib/python3.10/dist-packages (from beautifulsoup4->nbconvert>=5->notebook>=4.4.1->widgetsnbextension~=3.6.0->ipywidgets<9,>=7.6.0->ipympl) (2.5)\n",
            "Requirement already satisfied: webencodings in /usr/local/lib/python3.10/dist-packages (from bleach->nbconvert>=5->notebook>=4.4.1->widgetsnbextension~=3.6.0->ipywidgets<9,>=7.6.0->ipympl) (0.5.1)\n",
            "Requirement already satisfied: idna>=2.8 in /usr/local/lib/python3.10/dist-packages (from anyio<4,>=3.1.0->jupyter-server>=1.8->nbclassic>=0.4.7->notebook>=4.4.1->widgetsnbextension~=3.6.0->ipywidgets<9,>=7.6.0->ipympl) (3.7)\n",
            "Requirement already satisfied: sniffio>=1.1 in /usr/local/lib/python3.10/dist-packages (from anyio<4,>=3.1.0->jupyter-server>=1.8->nbclassic>=0.4.7->notebook>=4.4.1->widgetsnbextension~=3.6.0->ipywidgets<9,>=7.6.0->ipympl) (1.3.1)\n",
            "Requirement already satisfied: exceptiongroup in /usr/local/lib/python3.10/dist-packages (from anyio<4,>=3.1.0->jupyter-server>=1.8->nbclassic>=0.4.7->notebook>=4.4.1->widgetsnbextension~=3.6.0->ipywidgets<9,>=7.6.0->ipympl) (1.2.0)\n",
            "Requirement already satisfied: pycparser in /usr/local/lib/python3.10/dist-packages (from cffi>=1.0.1->argon2-cffi-bindings->argon2-cffi->notebook>=4.4.1->widgetsnbextension~=3.6.0->ipywidgets<9,>=7.6.0->ipympl) (2.22)\n",
            "Installing collected packages: jedi, ipympl\n",
            "Successfully installed ipympl-0.9.4 jedi-0.19.1\n"
          ]
        }
      ]
    },
    {
      "cell_type": "code",
      "source": [
        "!cp /content/drive/MyDrive/Datasets/deeplearning.mplstyle /content"
      ],
      "metadata": {
        "id": "iv5hod7FOkF_"
      },
      "execution_count": 5,
      "outputs": []
    },
    {
      "cell_type": "code",
      "source": [
        "import numpy as np\n",
        "import matplotlib.pyplot as plt\n",
        "plt.style.use('./deeplearning.mplstyle')\n",
        "import tensorflow as tf\n",
        "from tensorflow.keras.models import Sequential\n",
        "from tensorflow.keras.layers import Dense\n",
        "from IPython.display import display, Markdown, Latex\n",
        "from sklearn.datasets import make_blobs\n",
        "%matplotlib widget\n",
        "from matplotlib.widgets import Slider\n",
        "from lab_utils_common import dlc\n",
        "from lab_utils_softmax import plt_softmax\n",
        "import logging\n",
        "logging.getLogger(\"tensorflow\").setLevel(logging.ERROR)\n",
        "tf.autograph.set_verbosity(0)"
      ],
      "metadata": {
        "id": "Puyba1wM7KZ7"
      },
      "execution_count": 11,
      "outputs": []
    },
    {
      "cell_type": "markdown",
      "source": [
        "## Softmax Function\n",
        "In both softmax regression and neural networks with Softmax outputs, N outputs are generated and one output is selected as the predicted category. In both cases a vector $\\mathbf{z}$ is generated by a linear function which is applied to a softmax function. The softmax function converts $\\mathbf{z}$  into a probability distribution as described below. After applying softmax, each output will be between 0 and 1 and the outputs will add to 1, so that they can be interpreted as probabilities. The larger inputs  will correspond to larger output probabilities."
      ],
      "metadata": {
        "id": "2pVW3bUCiczY"
      }
    },
    {
      "cell_type": "markdown",
      "source": [
        "The softmax function can be written:\n",
        "$$a_j = \\frac{e^{z_j}}{ \\sum_{k=1}^{N}{e^{z_k} }} \\tag{1}$$\n",
        "The output $\\mathbf{a}$ is a vector of length N, so for softmax regression, you could also write:\n",
        "\\begin{align}\n",
        "\\mathbf{a}(x) =\n",
        "\\begin{bmatrix}\n",
        "P(y = 1 | \\mathbf{x}; \\mathbf{w},b) \\\\\n",
        "\\vdots \\\\\n",
        "P(y = N | \\mathbf{x}; \\mathbf{w},b)\n",
        "\\end{bmatrix}\n",
        "=\n",
        "\\frac{1}{ \\sum_{k=1}^{N}{e^{z_k} }}\n",
        "\\begin{bmatrix}\n",
        "e^{z_1} \\\\\n",
        "\\vdots \\\\\n",
        "e^{z_{N}} \\\\\n",
        "\\end{bmatrix} \\tag{2}\n",
        "\\end{align}\n"
      ],
      "metadata": {
        "id": "5vpm3WcAiiQo"
      }
    },
    {
      "cell_type": "markdown",
      "source": [
        "Which shows the output is a vector of probabilities. The first entry is the probability the input is the first category given the input $\\mathbf{x}$ and parameters $\\mathbf{w}$ and $\\mathbf{b}$."
      ],
      "metadata": {
        "id": "anyKwBzlium3"
      }
    },
    {
      "cell_type": "code",
      "source": [
        "def my_softmax(z):\n",
        "    ez = np.exp(z)#element-wise exponenial\n",
        "    sm = ez/np.sum(ez)\n",
        "    return(sm)"
      ],
      "metadata": {
        "id": "iB50OSW4fnXp"
      },
      "execution_count": 12,
      "outputs": []
    },
    {
      "cell_type": "markdown",
      "source": [
        "**Below, we can vary the values of the `z` inputs using the sliders.**"
      ],
      "metadata": {
        "id": "ndBH_irIjRAH"
      }
    },
    {
      "cell_type": "code",
      "source": [
        "plt.close(\"all\")\n",
        "plt_softmax(my_softmax)"
      ],
      "metadata": {
        "colab": {
          "base_uri": "https://localhost:8080/",
          "height": 17,
          "referenced_widgets": [
            "36a4ad52c9f24fc29916f45d5e34226f"
          ]
        },
        "id": "-BroD8Ssi218",
        "outputId": "03f91c84-0762-48ca-c731-6fdcbe4f8ddd"
      },
      "execution_count": 18,
      "outputs": [
        {
          "output_type": "display_data",
          "data": {
            "text/plain": [
              "Canvas(toolbar=Toolbar(toolitems=[('Home', 'Reset original view', 'home', 'home'), ('Back', 'Back to previous …"
            ],
            "image/png": "[encoded data removed]",
            "text/html": [
              "\n",
              "            <div style=\"display: inline-block;\">\n",
              "                <div class=\"jupyter-widgets widget-label\" style=\"text-align: center;\">\n",
              "                    Figure\n",
              "                </div>\n",
              "                <img src='data:image/png;base64,iVBORw0KGgoAAAANSUhEUgAAAyAAAAGQCAYAAABWJQQ0AAAAOXRFWHRTb2Z0d2FyZQBNYXRwbG90bGliIHZlcnNpb24zLjcuMSwgaHR0cHM6Ly9tYXRwbG90bGliLm9yZy/bCgiHAAAACXBIWXMAAA9hAAAPYQGoP6dpAAA8W0lEQVR4nO3de1iUdcL/8c8ASaYopwHFE5GBBzRLrVQ2tZQ8hB121xNrZWWlSVmZT/I8bnaUjrpbbItla6xSoG1iZUV1GYliZY9uspiPh/AAioAQZDE6h98fXs4vAg10uO8B36/r8g/uuWfmc4t+Zz7zvb/3WKqqqlwCAAAAAAP4mB0AAAAAwPmDAgIAAADAMBQQAAAAAIahgAAAAAAwDAUEAAAAgGEoIAAAAAAMQwEBAAAAYBgKCAAAAADDUEAAAAAAGIYCAgAAAMAwFBAAAAAAhqGAAAAAADAMBQQAAACAYSggAAAAAAxDAQEAAABgGAoIAAAAAMNQQAAAAAAYhgICAAAAwDAUEAAAAACGoYAAAAAAMAwFBAAAAIBhKCAAAAAADEMBAQAAAGAYCggAAAAAw1BAAAAAABiGAgIAAADAMBQQAAAAAIahgKDVCgwM1KJFi8yOIUn629/+prVr1zZq3w0bNmjRokVyOp3NnOrsfPXVV7ruuusUERGhwMBAffvtt1q0aJFyc3PNjgagFfvnP/+pK664QlarVd27d9e+ffu0aNEiFRUVmR3tNx07dky9evVSdnZ2o+/z73//W507d9aBAweaMRlgDgoIWq1PPvlEt956q9kxJEmvvvqq3n///Ubtm5eXp2effdZrC0hSUpLsdrveeustffLJJ+rZs6eeffZZbdiwwexoAFqpQ4cOac6cObryyiu1du1aZWdna//+/Xr22WdbRAF55ZVXFBwcrAkTJjT6PpdddplGjBihp59+uhmTAeaggKDVGjx4sLp06WJ2jFbF6XRq165dio+P1/DhwzV48GBddNFFZscC0Mrt2bNHDodDU6ZM0ZAhQ3T55ZebHanRbDabli5dqunTp8tisTTpvtOnT9fq1at16NChZkoHmIMCAq+2YcMGBQYGNvhn5syZZ7zvr0/BWrRokQIDA7Vnzx5NnDhRXbp0UWxsbL3ZhlPPmZ2drZkzZ6pHjx7q1q2bZsyYoaNHj7r327dvnwIDA7Vy5coGM5+aEejXr58OHDigrKys38y+aNEiPfvss5Kk0NBQ9/6nHD58WPfcc4+ioqIUFhamoUOHKjMz8zf/Hn/88Uc98sgjio2NVVhYmHr27Kkbb7xR//d//+fep7q6Wo888oh69eqlsLAwDRo0SKmpqXK5XJKklStXKjg4WE6nU88//7wCAwPVr18/d74XXnjBnffU3/vMmTPVp08fbd26VfHx8erUqZMGDRqkjz/+WNLJTwX79eunbt26acqUKSovL6+Te+nSpRo9erQiIyPVvXt3jRo1yn3fU5566ilZrVb97//+r3vbsWPHNGjQII0ePVp2u/03/34ANJ/du3crMTFRPXv2VHh4uGJjY3Xbbbe5/2/u2rVLiYmJ6t69uzp16qRRo0bp008/dd9/5syZuuGGGyRJN954o3vsSUhIkCTddNNN7rHnl+Pu3XffrbfffluDBg1Sp06dNHbsWO3Zs0fHjh3TnDlzdPHFF+vSSy/Vf//3f9cZJ2prazV//nwNGTJEXbp0UXR0tCZNmlRnvHQ6nRo/frz69eunH374wb39P//5jzp16qQFCxa4t33wwQeqrKzULbfc4t62cuXK0762/fJ169prr1VAQIAyMjI88rsAvIWf2QGAM7nsssv0ySef1Nn2xRdf6Mknn1RMTMxZPeaf/vQnTZ06VbNmzdKHH36oRYsWqUuXLvrTn/5UZ7/k5GQNHz5cy5Yt0549e/Tkk0/q0KFDjT6V6pQVK1Zo4sSJio2N1aOPPirpZLloyK233qqSkhL985//1EcffSRfX1/3bceOHdP48eNVVVWlP//5z+rSpYuysrJ0zz336Oeff9btt99+2gzJycn68MMPtWDBAl1yySU6evSovvzyS/cLp9Pp1KRJk/Tvf/9b8+fPV9++ffXxxx/rv//7v1VRUaE///nPuv766/XRRx9pzJgxmjZtmm699Va1adNGx48f1+jRozV16lRNnz5dkhQREeF+7pqaGt17772aPXu2OnfurBdffFG33nqr7rrrLu3evVsvvPCCjhw5ouTkZM2dO1fLly9333f//v2aNm2aevToIbvdro8++kiTJk3S6tWrNWrUKEnSo48+qi+++EJ33XWXvvjiC7Vv315z587VkSNHtHr1avn5McwBZpo4caICAwP14osvKiQkRIcOHdInn3wip9OpQ4cOacyYMWrfvr2ef/55dejQQa+//romTpyozMxMjR49WvPmzdOAAQP0X//1X3rhhRd02WWX6cILL9SXX36puXPn6tlnn9UVV1whSXVeFzZt2qTvv/9eCxcu1IkTJzR//nxNmzZNkZGRioqK0htvvKGNGzfqhRde0MUXX6y77rpL0skZix9//FFz585VeHi4KisrtWzZMo0ePVpfffWVwsPD5ePjo6VLlyouLk4PPvig3njjDf3888+688471atXrzoF5NNPP1VMTIxCQkLc266//vp6r21ZWVl67bXX6hyDn5+frrzySn366ad6+OGHm+X3A5iBV2Z4tQ4dOmjw4MHun3fv3q2XX35ZEyZM0AMPPHBWj3nfffe5y8aIESO0YcMGvfPOO/UKSK9evfS3v/1NkjRq1CgFBQXp7rvvVm5uroYPH97o57vsssvUpk0bhYSE1DmWhnTp0sX95n3QoEF13jyvXLlSe/bs0Xvvvaff/e53kqTRo0fryJEjeuqppzRt2rQ6heWXvv76a/3xj3+ssybm1KeHkpSTk6P8/HylpqYqMTFR0slP3n766Se98soruu+++9wzMtLJgvHrY2lom3SygLz00ksaNmyYJKlTp06Ki4vTxx9/rC+//NKdeceOHVq6dKkcDod721NPPeV+HKfTqeHDh2v37t1atmyZu4D4+fnptdde0+9+9zvNnTtXo0aN0ltvvaXXX39dkZGRZ/z7BtC8KioqtHfvXmVkZGjcuHHu7X/84x8lSampqaqqqtInn3yiqKgoSVJ8fLyuuuoqPfnkkxo9erQuvvhi95vymJgY9zhTVVVVb9sv/fjjj1q9erU6duwoSSotLdWjjz6qgQMHuseWkSNHKicnR2vWrHEXkI4dO+rll192P47D4dB1112n6OhorV69Wvfdd5+kk+P1X//6V02bNk3XXnutvv76ax08eFC5ublq06aN+/5btmzRZZddVidbaGhonQ+iNm/erPT0dM2aNavOTIl0cjbn5ZdfltPplI8PJ66gdeBfMlqMqqoqTZ48WVFRUUpLS2vyubSnXH/99XV+7t27tw4ePFhvv5tuuqnezz4+Pvrqq6/O6nnP1aZNmxQREeEuH6dMnDhR5eXl+u67705738svv1wZGRl68cUXtXXrVjkcjnqP7ePj435T8MvHPn78+Dkdc7t27dzlQ5Kio6MlnSx/vyxM0dHRstvtOnz4sHvbtm3bNGnSJF166aUKCQlRaGio1q9fr927d9d5jh49emjx4sV6++23dd9992ny5Mn6wx/+cNaZAXhGcHCwIiMj9fjjj+vNN9/Unj176ty+adMmDR482F0+JMnX11e///3vtX37dlVXV5/1c1955ZXu8iH9/7Hnuuuuq7NfdHS0iouL62x79913dd1116l79+4KCQlRRESEfvzxx3pjT0JCgqZPn66HH35Yb775plJSUnTJJZfU2efw4cN1Zj9+bd++ffrTn/6ka6+9ts6HLqeEhobKZrOpsrKycQcOtAAUELQIJ06c0K233qra2lq99dZbatu27Vk/VlBQUJ2f27Rpo9ra2nr7hYWF1dsvMDDQtMWAlZWVCg8Pr7f91LYzvTg999xzmj59ulasWKGRI0eqZ8+emj9/vn766Sf3fYOCgup8atfYx/4tv3wDIMn9HL9c2yJJF1xwgaSTpz9I0sGDBzVhwgRVVlbqueeeU05OjtavX69Ro0Y1+PuKj49XcHCwbDabZs2addZ5AXiOxWLRmjVrNGDAAD3++OMaOHCgLrvsMi1btkzSmcc1l8vlnuU4G6cbYxrafmrckaQPP/xQ06dPV3R0tF5//XV99tlnWr9+vUJDQxsce6ZMmSKbzSar1VrvQxzp5JoSf3//BjNWV1dr8uTJioiI0Ouvv97gDMep17uff/75jMcLtCScgoUWYe7cudq6das++uijBl+smsORI0fq/Hz8+HFVVVWpc+fOkqQLL7xQ0sly9Eu/XKjuSUFBQfU+fZNOnlZw6vbTad++vR577DE99thj2r9/v7Kzs/X444+rTZs2evzxxxUUFKTKykodP368TglpzGM3l88++0zV1dX6xz/+UedqZqdK06/NnTtXDodDF198sR588EF9/PHHrP8AvEBkZKTS0tLkcrm0fft2vfbaa3r44YfVvXt3BQUF1RtrpZNjj8ViqVcWjPCvf/1LUVFRevXVV93bTpw40eAHMT/99JNmz56tPn36aM+ePVq4cGG9758KDg5usEg5HA7dcccd+uGHH/Tpp5+qXbt2DeY59bxnmkUBWhpmQOD1UlNTtWLFCi1btkx9+/Y17HnXrFlT72en06krr7xS0skZEn9/fxUWFtbZLycnp95j+fv7N/rTq1OflP16/2HDhqm4uFibN2+us3316tWyWq3q1atXox6/e/fuSkpKUp8+fbRjxw73YzudznrHvGrVKrVp08Z9zKfTpk0bj386d6ponPrUUjq5BujLL7+st++qVauUmZmpv/zlL/rHP/6hb7/9lmvnA17GYrGof//+7v+bO3bs0LBhw/T1119r37597v0cDofeffdd9e/fXx06dDjt451urDxXP/30U70PL95+++16p65KJy+CcejQIWVkZOjxxx/X3//+d3322Wd19rn00ksb/K6S5ORk5efn66233qpz4Y5f27dvn7p27XpOM/+At+HjQXi1L7/8UgsWLNDkyZMVFBSkr7/+2n1baGioLr744mZ77u+++06zZs3S73//e+3evVtPPfWU4uLi3AvQLRaLbr75Zq1YsUI9e/bUpZdeqo8//lh5eXn1HismJkb5+fnuGZzg4GD16NGjwec9tdjylVde0ejRo+Xr66vLL79cU6dO1d///ndNmzZNCxYsUEREhLKysrR+/XotWbLktAvQpZOL1ceOHas+ffqoXbt22rhxowoKCjRlyhT37UOGDNFDDz2k8vJy9e7dWzk5OUpPT9dDDz30m5+8xcTEKCcnR6NGjVJgYKA6derknik6WyNGjJCfn5/7ClqHDx/WokWL1LVr1zqXTS4qKtLDDz+sadOmudftLFiwQAsXLtTIkSN1zTXXnFMOAGevoKBAjz76qG655RZFRUXJ4XAoIyNDfn5+uuaaaxQeHq6MjAzdfPPNmj9/vgICArRs2TLt3r1bWVlZZ3zsnj17ys/PTytWrFBQUJD8/f3Vs2dPBQQEnFPmUaNG6YMPPtD8+fM1ZswYbd26VUuXLq13Oml2drbS09OVlpamyMhI3XvvvVq/fr1mzpypjRs3ymq1SpKGDh2qV199tc4i8nfeeUdpaWl66KGHdPz48TqvbREREXVmfbds2aKhQ4ee0zEB3oYZEHi13bt3y+l0KiMjQ6NHj67z57nnnmvW5160aJFcLpemT5+uJ598Utdff73efPPNOvukpKTohhtuUEpKiqZPny6bzdZgrscee0yXXnqppk+frpEjRyolJeW0zztmzBjddddd7ss+jhw5UtLJxdwffPCBRo4cqYULF2rq1KkqKChQWlraGS/BK518AXz33Xd19913a9KkSVq7dq2eeeYZ9/eR+Pj4KDMzU1OmTNFf/vIXTZw4UTk5OXr66afrXE7ydJ5//nlddNFFmjx5skaOHFnnUrpnq3fv3nrttdd04MABTZkyRX/961+1cOHCOi/EdrtdM2bMUFhYWJ2/06SkJA0fPlz33ntvs50SB+C3hYeHq2vXrkpNTdWUKVN055136tChQ8rMzNSAAQPUuXNnffTRR+rVq5cefvhh3XbbbaqsrFRWVpb7SnenExwcrOeff14FBQUaP368Ro4cqW3btp1z5ttuu01z587Vu+++q8mTJysnJ0dvvfVWndmYgwcP6oEHHtDEiRM1adIk9/bU1FRZLBbNmjXL/R1Kt9xyi6qrq7Vp0yb3fqe+U+Sll16q99qWnp5e53kKCgrqXRkLaOksVVVVLrNDAN5kw4YNSkhI0Jo1azRixAiz4wAAWrjx48crKiqqzuV9G2PJkiVatmyZtm3bdsZZbqClYQYEAACgGS1YsECrVq1SSUlJo+9TW1urv//970pOTqZ8oNWhgAAAADSjq6++Ws8884wOHDjQ6Pvs379f9957ryZPntyMyQBzcAoWAAAAAMMwAwIAAADAMBQQAAAAAIahgAAAAAAwDAUEAAAAgGEoIAAAAAAMQwEBAAAAYBg/swOgYe3atZOPD/0QgGc4nU4dO3bM7BiGYhwF4Enn4zjaXCggXsrHx4cXTgA4B4yjAOCdGJkBAAAAGIYCAgAAAMAwFBAAAAAAhqGAAAAAADAMBQQAAACAYSggAAAAAAzDZXi9VNhyqcJmdgqcDddMsxMAkKRNYWFyVFSYHQPwiOEul9kRAI9hBgQAAACAYSggAAAAAAxDAQEAAABgGAoIAAAAAMNQQAAAAAAYhgICAAAAwDAUEAAAAACGoYAAAAAAMAwFBAAAAIBhKCAAAAAADEMBAQAAAGAYP7MDtHbHjh3ThAkTVFtbK0nq1KmTXnrpJfXo0cPkZADQMjCOAkDrYqmqqnKZHaI1czqdOnbsmAICAiRJqampysvL01tvvXXG+13yToAqbExQtUSumWYnAOpzOp2qqakxO8ZZOdtxdPsll8hRUWFERKDZDXfxds1sLXkc9Ta8w/WgnJwcxcXFuf+Eh4fr7bffdr9oulwu1dTUyGKxmJwUALzTjBkzNGLECA0dOlQTJ05UaWmpfHx8GEcBoBVhBqSZZGZm6pVXXtG6desUEBCgG2+8UYWFhQoNDdU777yjiIiIM96fGZCWixkQeKOW8sldeXm5QkNDJUmLFy/W/v37tXjxYklq8jjKDAhaE2ZAzNdSxtGWgHe4zSA3N1cpKSnKyspyf2qXnZ2tnTt36uabb9aLL75ockIA8E6rVq3SiBEjNGTIEKWnp2v79u3u2xhHAaB1oIB4WGFhoWbPnq2MjAx17ty5zm0+Pj667bbblJmZaVI6APBe+fn5SktL06pVq5Sfn6+nn37avfD8FMZRAGj5KCAeVFJSosTERKWmpqp3796SpNLSUlVVVbn3+de//qW+ffualBAAvFdVVZXat2+v4OBgHT9+XMuXL5fEOAoArQ2X4fWg9PR0VVRUKDk52b0tISFB77//vhwOhyQpMjJSaWlpZkUEAK81atQoZWVladCgQQoODtaIESNUUlKigwcPas6cOYyjANBKsAjdS7EIveViETq80fm4eJJF6GhNWIRuvvNxHG0uvMMFAAAAYBgKCAAAAADDUEAAAAAAGIYCAgAAAMAwFBAAAAAAhqGAAAAAADAMBQQAAACAYSggAAAAAAxDAQEAAABgGAoIAAAAAMNQQAAAAAAYxlJVVeUyOwTqCwgIkI8P/RCAZzidTtXU1Jgdw1CMowA86XwcR5sLIzMAAAAAw1BAAAAAABiGAgIAAADAMBQQAAAAAIahgAAAAAAwDAUEAAAAgGEoIAAAAAAMQwEBAAAAYBgKCAAAAADDUEAAAAAAGIYCAgAAAMAwFBAAAAAAhqGAAAAAADAMBQQAAACAYSggAAAAAAxDAQEAAABgGAoIAAAAAMNQQAAAAAAYhgICAAAAwDAUEAAAAACG8TM7ABoWtlyqsJmdonVwzTQ7AQAzbAoLk6OiwuwYphrucpkdAQDqYQYEAAAAgGEoIAAAAAAMQwEBAAAAYBgKCAAAAADDUEAAAAAAGIYCAgAAAMAwFBAAAAAAhqGAAAAAADAMBQQAAACAYSggAAAAAAxDAQEAAABgGApIMzt06JBuueUWDRo0SEOHDtW0adNUXl5udiwAaDEYRwGgdaGANDNfX1898sgj2rJlizZt2qTIyEgtWLDA7FgA0GIwjgJA60IB8aCcnBzFxcW5/4SHh+vTTz/VkCFD3PsMGjRI+/fvNzElAHivGTNmaMSIERo6dKgmTpyo0tJShYWFMY4CQCtCAfGg+Ph45eXlKS8vT0lJSYqOjlZCQoL7dofDoaVLl2rcuHEmpgQA77Vo0SJ9/vnn2rRpk4YMGaKUlJQ6tzOOAkDL52d2gNYoNzdXKSkpWrdunQICAiRJLpdLDz/8sAIDAzVz5kyTEwKAd1q1apUyMzNls9lUW1urkJAQ922MowDQOlBAPKywsFCzZ89WVlaWOnfu7N4+b948FRcXa+XKlfLxYeIJAH4tPz9faWlp+uSTT2S1WrVu3To988wz7tsZRwGgdaCAeFBJSYkSExOVmpqq3r17u7fPmzdP33//vVauXKk2bdqYmBAAvFdVVZXat2+v4OBgHT9+XMuXL3ffxjgKAK0HBcSD0tPTVVFRoeTkZPe2G264QUuXLlV0dLSuu+46SVKPHj20cuVKs2ICgFcaNWqUsrKyNGjQIAUHB2vEiBEqKSnR5s2bGUcBoBWxVFVVucwOgfoueSdAFTZOMfAEF6eKA3I6naqpqTE7hqG2X3KJHBUVZscw1XAXL/GAp5yP42hz4R0uAAAAAMNQQAAAAAAYhgICAAAAwDAUEAAAAACGoYAAAAAAMAwFBAAAAIBhKCAAAAAADEMBAQAAAGAYCggAAAAAw1BAAAAAABiGAgIAAADAMJaqqiqX2SFQX0BAgHx86IcAPMPpdKqmpsbsGIZiHAXgSefjONpcGJkBAAAAGIYCAgAAAMAwFBAAAAAAhqGAAAAAADAMBQQAAACAYSggAAAAAAxDAQEAAABgGAoIAAAAAMNQQAAAAAAYhgICAAAAwDAUEAAAAACGoYAAAAAAMAwFBAAAAIBhKCAAAAAADEMBAQAAAGAYCggAAAAAw1BAAAAAABiGAgIAAADAMBQQAAAAAIahgAAAAAAwDAUEAAAAgGH8zA6AhoUtlypsZqfwPNdMsxMAOF9sCguTo6KiWR57uMvVLI8LAOcDZkAAAAAAGIYCAgAAAMAwFBAAAAAAhqGAAAAAADAMBQQAAACAYSggAAAAAAxDAQEAAABgGAoIAAAAAMNQQAAAAAAYhgICAAAAwDAUEAAAAACGoYAY4NZbb1WvXr0UGBioqqoqs+MAQIvDOAoArQcFxAB33HGHNmzYYHYMAGixGEcBoPXwMztAa5KTk6MnnnjC/fOuXbu0ePFiTZ061cRUANByzJgxQ7t27dLx48fVtWtXvfzyywoPD9eIESPMjgYA8BBmQDwoPj5eeXl5ysvLU1JSkqKjo5WQkGB2LABoMRYtWqTPP/9cmzZt0pAhQ5SSkmJ2JACAhzED0gxyc3OVkpKidevWKSAgwOw4ANBirFq1SpmZmbLZbKqtrVVISIjZkQAAHsYMiIcVFhZq9uzZysjIUOfOnc2OAwAtRn5+vtLS0rRq1Srl5+fr6aefVm1trdmxAAAeRgHxoJKSEiUmJio1NVW9e/c2Ow4AtChVVVVq3769goODdfz4cS1fvtzsSACAZkAB8aD09HRVVFQoOTlZcXFxiouL07p16zRx4kT16dNHkjRkyBCNHz/e5KQA4H1GjRqlSy+9VIMGDdLYsWPVr18/922MowDQeliqqqpcZodAfZe8E6AKW+vrh66ZZicAzk9Op1M1NTVmxzDU9ksukaOiolkee7iLl07gfHM+jqPNpfW9wwUAAADgtSggAAAAAAxDAQEAAABgGAoIAAAAAMNQQAAAAAAYhgICAAAAwDAUEAAAAACGoYAAAAAAMAwFBAAAAIBhKCAAAAAADEMBAQAAAGAYS1VVlcvsEKgvICBAPj70QwCe4XQ6VVNTY3YMQzGOAvCk83EcbS6MzAAAAAAMQwEBAAAAYBgKCAAAAADDUEAAAAAAGIYCAgAAAMAwFBAAAAAAhqGAAAAAADAMBQQAAACAYSggAAAAAAxDAQEAAABgGAoIAAAAAMNQQAAAAAAYhgICAAAAwDAUEAAAAACGoYAAAAAAMAwFBAAAAIBhKCAAAAAADEMBAQAAAGAYCggAAAAAw1BAAAAAABjGz+wAaFjYcqnC1vzP45rZ/M8BAGbYFBYmR0VFg7cNd7kMTgMAOIUZEAAAAACGoYAAAAAAMAwFBAAAAIBhKCAAAAAADEMBAQAAAGAYCggAAAAAw1BAAAAAABiGAgIAAADAMBQQAAAAAIahgAAAAAAwDAUEAAAAgGEoIAbYsmWLhg0bpoEDByohIUElJSVmRwKAFoVxFABaDwpIM3M6nZoxY4YWLVqkb775RvHx8Zo/f77ZsQCgxWAcBYDWhQLiQTk5OYqLi3P/CQ8P13PPPSc/Pz9dc801kqTbb79dH330kWpra01OCwDeZ8aMGRoxYoSGDh2qiRMnqrS0VNu2bWMcBYBWhALiQfHx8crLy1NeXp6SkpIUHR2t7t27q1u3bu59AgICFBAQoMOHD5uYFAC806JFi/T5559r06ZNGjJkiFJSUnTgwAHGUQBoRfzMDtAa5ebmKiUlRevWrdNXX31ldhwAaDFWrVqlzMxM2Ww21dbWKiQkRCNGjDA7FgDAg5gB8bDCwkLNnj1bGRkZ6ty5s7p166YDBw64b6+pqVF1dbU6depkYkoA8D75+flKS0vTqlWrlJ+fr6efflq1tbWMowDQylBAPKikpESJiYlKTU1V7969JUkDBgzQiRMn9MUXX0iSli9frjFjxujCCy80MyoAeJ2qqiq1b99ewcHBOn78uJYvXy6JcRQAWhtOwfKg9PR0VVRUKDk52b0tOTlZS5cu1Zw5c2Sz2dSpUyelpaWZmBIAvNOoUaOUlZWlQYMGKTg4WCNGjFBJSYl8fHwYRwGgFbFUVVW5zA6B+i55J0AVtuafoHLNbPanAOAFnE6nampqzI5hqO2XXCJHRUWDtw138dIHoGnOx3G0uXAKFgAAAADDUEAAAAAAGIYCAgAAAMAwFBAAAAAAhqGAAAAAADAMBQQAAACAYSggAAAAAAxDAQEAAABgGAoIAAAAAMNQQAAAAAAYhgICAAAAwDCWqqoql9khUF9AQIB8fOiHADzD6XSqpqbG7BiGYhwF4Enn4zjaXBiZAQAAABiGAgIAAADAMBQQAAAAAIahgAAAAAAwDAUEAAAAgGEoIAAAAAAM42d2ADTM6XSaHQFAK3I+jinn4zEDaD6MKZ7D94AAAAAAMAynYAEAAAAwDAUEAAAAgGEoIAAAAAAMQwEBAAAAYBgKCAAAAADDUEAAAAAAGIYC4iX27Nmj+Ph4DRw4UCNHjtSOHTvMjuRRtbW1mjp1qgYOHKhhw4bppptu0t69e82O1SxWrFihwMBAvf/++2ZH8SibzaZHHnlEV1xxhYYOHaq7777b7Egel5OTo2uuuUZxcXEaMmSIMjIyzI50TubNm6d+/fopMDBQ3377rXt7axhvGnsM6enpuuKKKzRgwADdf//9OnHihMFJz05jji83N1fXXnutrrrqKl199dX685//3KK+p6Ap/w5dLpcSEhLUvXt3AxOem8Ye33/+8x+NHz9eV155pa688kqtXbvW4KRnrzHH6HQ6lZycrKuuukpDhw7VDTfc0CJe/083fv5aSx1jzEYB8RJz5szRbbfdpm+++UZz5szRrFmzzI7kcbfffru2bNmijRs3aty4cUpKSjI7ksft27dP6enpGjx4sNlRPG7hwoWSpG+++UabNm3Sk08+aW4gD3O5XLr77rv1t7/9TXl5eXr77bf14IMPqqamxuxoZ+3GG2/URx99pG7dutXZ3hrGm8YcQ1FRkZ555hl9+OGH2rp1q44cOaLly5cbH/YsNOb4AgMD9cYbb+jLL7/U559/rq+++kpvvfWWCWnPTlP+Haampuriiy82MN25a8zx/fTTT5o6dar+53/+R1999ZXy8/M1dOhQE9KencYc47p16/Tll18qLy9PmzZt0vDhw/XEE0+YkLZpTjd+/lJLHmPMRgHxAmVlZdq2bZsmTZokSZowYYKKi4tbxCcEjXXhhRcqPj5eFotFkjR48GDt37/f5FSe5XQ6df/99+u5555TmzZtzI7jUceOHdOKFSu0YMEC9+8wPDzc5FSeZ7FY9MMPP0iSampqFBwcLH9/f5NTnb1hw4apS5cudba1hvGmscewdu1ajR07VuHh4bJYLLrjjjv0zjvvmBG5SRp7fJdddpkiIyMlnRxj+/Xr12LG1ab8O9yxY4c++OADPfjgg0bHPGuNPb7Vq1dr8ODBGjJkiCTJ19dXoaGhhuc9G409RovFIpvNptraWrlcLtXU1CgiIsKMyE3S0Pj5ay11jPEGFBAvUFxcrPDwcPn5+Uk6+Z+1a9euOnDggMnJms+rr76qcePGmR3Do1JTU3XVVVdpwIABZkfxuO+//16BgYF66aWXNGLECI0dO1a5ublmx/Ioi8Wif/zjH5o2bZpiY2M1duxYvfrqq62uTLaG8aaxx3DgwIE6n152795dBw8eNDTr2Tib31Fpaamys7M1ZswYo2Kek8Ye44kTJ/TAAw9oyZIl8vFpOW9ZGnt83333ndq0aaNJkyYpLi5O99xzj8rLy82I3GSNPcaxY8cqLi5OMTExiomJUW5urpKTk82I7HEtdYzxBi3nfzNajRdffFHff/+9HnvsMbOjeExhYaHWrl2rRx55xOwozcJut+vAgQOKiYnR559/rpSUFE2fPl1HjhwxO5rH2O12Pf/88/rnP/+pgoICZWdn65577lFFRYXZ0YAzqq6u1uTJk3X//ffr8ssvNzuORz377LNKSEhQTEyM2VGahd1uV25urhYvXqwNGzYoIiJCDz30kNmxPGrr1q3asWOHCgsL9d1332n48OGt7hjRdBQQL9ClSxeVlpbKbrdLOnku+sGDB8943mFL9fLLL+u9997TqlWrdNFFF5kdx2Py8/O1f/9+XXHFFerXr5+2bNmiOXPmaNmyZWZH84hu3brJx8dHEydOlHTy1I8ePXqosLDQ5GSes337dh0+fFjDhg2TJF1xxRWKiIg44+LDlqg1jDeNPYZu3brV+TR2//796tq1q6FZz0ZTfkc1NTX6wx/+oHHjxmn27NlGRz1rjT3GjRs3Ki0tTf369dPYsWNVU1Ojfv36ef0sQVP+jcbFxSkiIkIWi0UTJ07Uli1bzIjcZI09xrffflvXXHONAgMD5ePjoylTpmjDhg1mRPa4ljrGeAMKiBewWq3q37+/MjMzJZ08pzAiIkJRUVEmJ/OsV155RatXr9aaNWsUGBhodhyPuvPOO7Vz505t375d27dv16BBg7RkyRLdeeedZkfziJCQEA0fPlyfffaZpJML7/bt26fo6GiTk3nOqRfTnTt3SpL27t2r77//Xj179jQ5mWe1hvGmsccwYcIEffjhhyotLZXL5dIbb7yhW265xYzITdLY4/vxxx/1hz/8Qdddd12Lm31t7DF++OGHKigo0Pbt2/Xhhx8qICBA27dv9/p1Eo09vptuuklbt25VdXW1JOmTTz5RbGys4XnPRmOPsUePHvriiy90/PhxSdLHH3+s3r17G563ObTUMcYbWKqqqlxmh4C0a9cuzZo1S0ePHlVAQIBSU1PVt29fs2N5THFxsfr27avIyEi1b99ekuTv7+9+Q9vajB8/XjNnztQNN9xgdhSPKSoq0uzZs3X06FFZLBbNmzdPN954o9mxPGr16tV66aWXZLFY5HK59OCDD+qPf/yj2bHO2pw5c5STk6PS0lIFBwerffv22rp1a6sYb053DElJSRo7dqx7jdmbb76pxYsXS5Li4uK0ePFiXXDBBWZGb5TGHN8LL7yglJQU9erVy32/m266SXPnzjUxeeM19nd4yr59+/S73/2uxSy0b+zxvf322/rLX/4ii8WiiIgILVmypMV8it6YYzx1CffNmzfLz89P4eHhWrx4sfsCCt7qdONnaxljzEYBAQAAAGAYTsECAAAAYBgKCAAAAADDUEAAAAAAGIYCAgAAAMAwFBAAAAAAhqGAAAAAADAMBQQAAACAYSggAAAAAAxDAQEAAABgGAoIAAAAAMNQQAAAAAAYhgICAAAAwDB+ZgcAWhuXyyWHwyGHwyFfX1/5+vrKYrGYHQsAAMArUEAAD7Hb7Tp69KjKy8tls9nc2/39/RUaGqrg4GD5+fFfDgAAnN8sVVVVLrNDAC1ddXW1ioqK5HQ6FRoaKqvVKj8/P9ntdpWVlam8vFw+Pj6KjIxUhw4dzI4LAABgGgpIC3Ps2DFNmDBBtbW1kqROnTrppZdeUo8ePUxOdv6qrq7W3r17FRQUpJiYGPn7+9fbx2azaefOnaqsrFRUVBQlBAAAnLdYhN7CtG3bVmvWrNHGjRu1ceNGXXvttXr00UfNjnXestvtKioqUlBQkGJjYxssH9LJ07BiY2MVFBSkoqIi2e12g5OitVqxYoUCAwP1/vvvN3j7nj17FB8fr4EDB2rkyJHasWOHwQkBAKiLE9K9WE5Ojp544gn3z7t27dLixYs1depUSScXO9fU1JxxgXNgRsdmz3k++33QQd3XyamYmBj5+Jy5z/v4+CgmJkb5+fnau3ev2rZta1BKtFTdunU74+379u1Tenq6Bg8efNp95syZo9tuu02JiYnKzs7WrFmztH79ek9HBQCg0ZgB8WLx8fHKy8tTXl6ekpKSFB0drYSEBEnSjTfeqOjoaGVnZ+uFF14wOen5yqVbQopltYaedubj1/z9/WW1WlVbWyuXi7MfcfacTqfuv/9+Pffcc2rTpk2D+5SVlWnbtm2aNGmSJGnChAkqLi7W3r17jYwKAEAdFJAWIDc3VykpKcrKylJAQIAkKTs7Wzt37tTNN9+sF1980eSE56cOvicUccHPCrNam3Q/q9Uqh8NBAcE5SU1N1VVXXaUBAwacdp/i4mKFh4e7r75msVjUtWtXHThwwKCUAADURwHxcoWFhZo9e7YyMjLUuXPnOrf5+PjotttuU2Zmpknpzm9tfRyS1ORL657anwKCs1VYWKi1a9fqkUceMTsKAABNxhoQL1ZSUqLExESlpqaqd+/ekqTS0lL5+/srMDBQkvSvf/1Lffv2NTHl+etnp68kNXlB+an9+XJCnK38/Hzt379fV1xxhSTpyJEjmjNnjkpLS3XnnXe69+vSpYtKS0tlt9vl5+cnl8ulgwcP/ubaEgAAmhMFxIulp6eroqJCycnJ7m0JCQl6//335XCc/PQ9MjJSaWlpZkU8r1U7LlDJibYKPVKmsLCwRt+vrKyMb0fHObnzzjvrFI3x48dr5syZuuGGG+rsZ7Va1b9/f2VmZioxMVFr165VRESEoqKijI4MAIAb3wMCnIMjR46opKREV199daMWottsNm3evFkRERFNKi3Amfy6gCQlJWns2LEaN26cdu3apVmzZuno0aMKCAhQamoqs6YAAFNRQIBzYLfbVVhYqI4dOyo2NvaMl+J1Op0qKCjQDz/8oD59+jR57QgAAEBrwCJ04Bz4+fkpMjJSlZWVKigokM1ma3A/m82mgoICVVZWKjIykvIBAADOW8yAAB5QXV2toqIiOZ1OhYaGymq1ys/PT3a7XWVlZSovL5ePj48iIyPVoUMHs+MCAACYhgICeIjdbtfRo0dVXl5eZybE399foaGhCgkJka+vr4kJAQAAzEcBATzM5XLJ4XDI4XDI19eXK14BAAD8AieiAx5msVjk5+fHOg8AAIAGsAgdAAAAgGEoIAAAAAAMwzkiOK+wPgMAAMBcFBCcF37rClXBwcGs2QAAADAAV8FCq8d3dAAAAHgPCkgLc+jQId13333av3+/2rRpo0suuUSLFy9WaGio2dG8UnV1tfbu3augoCDFxMTI39+/3j42m007d+5UZWWloqKiKCEAAADNiEXoLYyvr68eeeQRbdmyRZs2bVJkZKQWLFhgdiyvZLfbVVRUpKCgIMXGxjZYPqSTp2HFxsYqKChIRUVFstvtBicFmu7mm2/W0KFDFRcXp7Fjx+rf//53g/vt2bNH8fHxGjhwoEaOHKkdO3YYnBQAgLqYAfFiOTk5euKJJ9w/79q1S4sXL9bUqVPd27Kzs7V06VJ98MEHDT5GYEbHZs/prX4fdFD3ddqjoUOuPm35+CWbzab8/Hy1a9dObdu2NSAhcGbdunU77W1VVVUKDAyUJL333ntKSUnRxo0b6+2XkJCgyZMnKzExUdnZ2VqyZInWr1/fXJEBAPhNzIB4sfj4eOXl5SkvL09JSUmKjo5WQkKC+3aHw6GlS5dq3LhxJqb0Vi7dElIsqzW0UeVDOjkTYrVaVVtbK5eLXg7vdqp8SCdPNWzoam5lZWXatm2bJk2aJEmaMGGCiouLtXfvXqNiAgBQD5f9aQFyc3OVkpKidevWKSAgQNLJy8k+/PDDCgwM1MyZM01O6H06+J5QxAU/K8x6cZPuZ7VaVVZWJpfLxeV54fXuuece5eXlSZKysrLq3V5cXKzw8HD3Fd4sFou6du2qAwcOKCoqytCsAACcQgHxcoWFhZo9e7aysrLUuXNn9/Z58+apuLhYK1eulI8PE1m/1tbHIUlNvrTuqf2ZAUFLkJaWJknKyMjQwoULtWrVKpMTAQDw23jn6sVKSkqUmJio1NRU9e7d27193rx5+v7777VixQq1adPGxITe62enryQ1eUH5qf2Z/UBLMnXqVG3YsEFHjx6ts71Lly4qLS11/7t2uVw6ePDgGdeWAADQ3JgB8WLp6emqqKhQcnKye9sNN9ygpUuXKjo6Wtddd50kqUePHlq5cqVZMb1SteMClZxoq9AjZQoLC2v0/crKyvh2dHi9qqoq/fzzz+5Z0ffff1/BwcEKCgqqs5/ValX//v2VmZmpxMRErV27VhEREZx+BQAwFVfBQqt15MgRlZSU6OqrG38VrM2bNysiIqJJpQUw2v79+3X77bertrZWFotFoaGhevLJJ9W/f39JUlJSksaOHatx48Zp165dmjVrlo4ePaqAgAClpqaqb9++Jh8BAOB8RgFBq2W321VYWKiOHTsqNjb2jGtlnE6nCgoK9MMPP6hPnz5NXjsCAACAxmENCFotPz8/RUZGqrKyUgUFBbLZbA3uZ7PZVFBQoMrKSkVGRlI+AAAAmhEzIGj1qqurVVRUJKfTqdDQUFmtVvn5+clut6usrEzl5eXy8fFRZGSkOnToYHZcAACAVo0CgvOC3W7X0aNHVV5eXmcmxN/fX6GhoQoJCZGvr6+JCQEAAM4PFBCcV1wulxwOhxwOh3x9fbniFQAAgME42R3nFYvFIj8/P9Z5AAAAmIRF6AAAAAAMQwEBAAAAYBjOQ4FXYY0GAABA60YBgVf4ratUBQcHs24DAACgFeAqWDAd39MBAABw/qCAtEC33nqrvvrqKx0+fFhFRUUKDAw0O9JZq66u1t69exUUFKSYmBj5+/vX28dms2nnzp2qrKxUVFQUJQQAAKAFYxF6C3THHXdow4YNZsc4Z3a7XUVFRQoKClJsbGyD5UM6eRpWbGysgoKCVFRUJLvdbnBSwLvU1tZq6tSpGjhwoIYNG6abbrpJe/fubXDfPXv2KD4+XgMHDtTIkSO1Y8cOg9MCAFAXMyBeLCcnR0888YT75127dmnx4sWaOnWqJCkwMPA3Z0ACMzo2d8yz9vugg7qv0x4NHXL1acvHL9lsNuXn56tdu3Zq27atAQkBc3Xr1q3B7bW1tfriiy80evRoWSwWLV26VNnZ2frggw/q7ZuQkKDJkycrMTFR2dnZWrJkidavX9/c0QEAOC1mQLxYfHy88vLylJeXp6SkJEVHRyshIcHsWB7i0i0hxbJaQxtVPqSTMyFWq1W1tbVyuejNOH9deOGFio+Pd18hbvDgwdq/f3+9/crKyrRt2zZNmjRJkjRhwgQVFxefdrYEAAAjUEBagNzcXKWkpCgrK0sBAQFmx/GIDr4nFHHBzwqzWpt0P6vVKofDQQEBfuHVV1/VuHHj6m0vLi5WeHi4+wpyFotFXbt21YEDB4yOCACAG9c19XKFhYWaPXu2srKy1LlzZ7PjeExbH4ckNfnSuqf2p4AAJ7344ov6/vvvtWTJErOjAADQKBQQL1ZSUqLExESlpqaqd+/eZsfxqJ+dvpLU5AXlp/bnywkB6eWXX9Z7772nNWvW6KKLLqp3e5cuXVRaWiq73S4/Pz+5XC4dPHjwtGtLAAAwAqdgebH09HRVVFQoOTlZcXFxiouL07p16zRx4kT16dNHkjRkyBCNHz/e5KRNV+24QCUn2urIkbIm3a+srIxvRwckvfLKK1q9erXWrFlz2gtRWK1W9e/fX5mZmZKktWvXKiIiQlFRUQYmBQCgLq6CBdMcOXJEJSUluvrqxl8Fa/PmzYqIiFBYWJgBCQHvVFxcrL59+yoyMlLt27eXdPIiDZ999pkkKSkpSWPHjtW4ceO0a9cuzZo1S0ePHlVAQIBSU1PVt29fM+MDAM5zFBCYxm63q7CwUB07dlRsbKx8fE4/Ied0OlVQUKAffvhBffr0afLaEQAAAHgHTsGCafz8/BQZGanKykoVFBTIZrM1uJ/NZlNBQYEqKysVGRlJ+QAAAGjBmAGB6aqrq1VUVCSn06nQ0FBZrVb5+fnJbrerrKxM5eXl8vHxUWRkpDp06GB2XAAAAJwDCgi8gt1u19GjR1VeXl5nJsTf31+hoaEKCQmRr6+viQkBAADgCRQQeBWXyyWHwyGHwyFfX1+ueAUAANDKcDI9vIrFYpGfnx/rPAAAAFopFqEDAAAAMAwFBAAAAIBhOM8FTcIaDQAAAJwLCgga5beuUhUcHMy6DQAAAPwmroKF38T3dAAAAMBTKCAt0JYtW/TAAw+otrZWERERSktLU0RERLM8V3V1tfbu3augoCDFxMTI39+/3j42m007d+5UZWWloqKiKCEAAAA4LRahtzBOp1MzZszQokWL9M033yg+Pl7z589vluey2+0qKipSUFCQYmNjGywf0snTsGJjYxUUFKSioiLZ7fZmyQPg/5s3b5769eunwMBAffvtt6fdb8+ePYqPj9fAgQM1cuRI7dixw8CUAADUxwyIF8vJydETTzzh/nnXrl168MEH9c477+jrr7+WJNXU1Khnz57at2+fLrzwwnqPEZjR8ayf//dBB3Vfpz0aOuTq05aPX7LZbMrPz1e7du3Utm3bs35eACd169bttLdt3LhRkZGRGjNmjFauXKn+/fs3uF9CQoImT56sxMREZWdna8mSJVq/fn1zRQYA4DcxA+LF4uPjlZeXp7y8PCUlJSk6Olrdu3ev86YkICBAAQEBOnz4sIef3aVbQopltYY2qnxIJ2dCrFaramtr5XLRa4HmNGzYMHXp0uWM+5SVlWnbtm2aNGmSJGnChAkqLi7W3r17jYgIAECDKCAtQG5urlJSUpSVlaV27doZ8pwdfE8o4oKfFWa1Nul+VqtVDoeDAgJ4geLiYoWHh7uvUGexWNS1a1cdOHDA5GQAgPMZ1031coWFhZo9e7aysrLUuXNndevWrc6bh5qaGlVXV6tTp04efd62Pg5JavKldU/tTwEBAABAQ5gB8WIlJSVKTExUamqqevfuLUkaMGCATpw4oS+++EKStHz5co0ZM6bB9R/n4menryQ1eUH5qf35ckLAfF26dFFpaan7/6XL5dLBgwfPuLYEAIDmxgyIF0tPT1dFRYWSk5Pd25KTk7V06VLNmTNHNptNnTp1Ulpamsefu9pxgUpOtFXokTKFhYU1+n5lZWV8OzrgJaxWq/r376/MzEwlJiZq7dq1ioiIUFRUlNnRAADnMa6ChdM6cuSISkpKdPXVjb8K1ubNmxUREdGk0gKg6ebMmaOcnByVlpYqODhY7du319atWyVJSUlJGjt2rMaNG6ddu3Zp1qxZOnr0qAICApSamqq+ffuanB4AcD6jgOC07Ha7CgsL1bFjR8XGxsrH5/Rn7DmdThUUFOiHH35Qnz59mrx2BAAAAOcH1oDgtPz8/BQZGanKykoVFBTIZrM1uJ/NZlNBQYEqKysVGRlJ+QAAAMBpMQOC31RdXa2ioiI5nU6FhobKarXKz89PdrtdZWVlKi8vl4+PjyIjI9WhQwez4wIAAMCLUUDQKHa7XUePHlV5eXmdmRB/f3+FhoYqJCREvr6+JiYEAABAS0ABQZO4XC45HA45HA75+vpyxSsAAAA0CSfro0ksFov8/PxY5wEAAICzwiJ0AAAAAIahgAAAAAAwDAUEAAAAgGEoIAAAAAAMQwEBAAAAYBgKCAAAAADDUEAAAAAAGIYCAgAAAMAwFBAAAAAAhqGAAAAAADAMBQQAAACAYSggAAAAAAxDAQEAAABgGAoIAAAAAMNQQAAAAAAYhgICAAAAwDAUEAAAAACGoYAAAAAAMAwFBAAAAIBhKCAAAAAADEMBAQAAAGAYCggAAAAAw1BAAAAAABiGAgIAAADAMBQQAAAAAIahgAAAAAAwDAUEAAAAgGEoIAAAAAAMQwEBAAAAYBgKCAAAAADDUEAAAAAAGIYCAgAAAMAwFBAAAAAAhqGAAAAAADAMBQQAAACAYSggAAAAAAzz/wAR1PtIFi8DZAAAAABJRU5ErkJggg==' width=800.0/>\n",
              "            </div>\n",
              "        "
            ],
            "application/vnd.jupyter.widget-view+json": {
              "version_major": 2,
              "version_minor": 0,
              "model_id": "36a4ad52c9f24fc29916f45d5e34226f"
            }
          },
          "metadata": {}
        }
      ]
    },
    {
      "cell_type": "markdown",
      "source": [
        "## Cost"
      ],
      "metadata": {
        "id": "UpsFIecUjzu5"
      }
    },
    {
      "cell_type": "markdown",
      "source": [
        "The loss function associated with Softmax, the cross-entropy loss, is:\n",
        "\\begin{equation}\n",
        "  L(\\mathbf{a},y)=\\begin{cases}\n",
        "    -log(a_1), & \\text{if $y=1$}.\\\\\n",
        "        &\\vdots\\\\\n",
        "     -log(a_N), & \\text{if $y=N$}\n",
        "  \\end{cases} \\tag{3}\n",
        "\\end{equation}\n",
        "\n",
        "Where y is the target category for this example and $\\mathbf{a}$ is the output of a softmax function. In particular, the values in $\\mathbf{a}$ are probabilities that sum to one.\n",
        ">**Recall:** Here Loss is for one example while Cost covers all examples.\n",
        "\n",
        "\n",
        "Note in (3) above, only the line that corresponds to the target contributes to the loss, other lines are zero. To write the cost equation we need an 'indicator function' that will be 1 when the index matches the target and zero otherwise.\n",
        "    $$\\mathbf{1}\\{y == n\\} = =\\begin{cases}\n",
        "    1, & \\text{if $y==n$}.\\\\\n",
        "    0, & \\text{otherwise}.\n",
        "  \\end{cases}$$\n",
        "Now the cost is:\n",
        "\\begin{align}\n",
        "J(\\mathbf{w},b) = -\\frac{1}{m} \\left[ \\sum_{i=1}^{m} \\sum_{j=1}^{N}  1\\left\\{y^{(i)} == j\\right\\} \\log \\frac{e^{z^{(i)}_j}}{\\sum_{k=1}^N e^{z^{(i)}_k} }\\right] \\tag{4}\n",
        "\\end{align}$$\n",
        "\n",
        "Where $m$ is the number of examples, $N$ is the number of outputs. This is the average of all the losses.\n"
      ],
      "metadata": {
        "id": "9zeLjrXGj2qE"
      }
    },
    {
      "cell_type": "markdown",
      "source": [
        "## Implementing the Softmax, Cross-Entropy Loss in Tensorflow"
      ],
      "metadata": {
        "id": "_0Gd6D2ykFun"
      }
    },
    {
      "cell_type": "code",
      "source": [
        "# making  dataset for example\n",
        "centers = [[-5, 2], [-2, -2], [1, 2], [5, -2]]\n",
        "X_train, y_train = make_blobs(n_samples=2000, centers=centers, cluster_std=1.0,random_state=30)"
      ],
      "metadata": {
        "id": "Ye-KBTm2jdKw"
      },
      "execution_count": 19,
      "outputs": []
    },
    {
      "cell_type": "markdown",
      "source": [
        "### The *Obvious* organization"
      ],
      "metadata": {
        "id": "qMZGXBUBkeAG"
      }
    },
    {
      "cell_type": "markdown",
      "source": [
        "The model below is implemented with the softmax as an activation in the final Dense layer.\n",
        "The loss function is separately specified in the `compile` directive.\n",
        "\n",
        "The loss function is `SparseCategoricalCrossentropy`. This loss is described in (3) above. In this model, the softmax takes place in the last layer. The loss function takes in the softmax output which is a vector of probabilities."
      ],
      "metadata": {
        "id": "wLifClClkgc4"
      }
    },
    {
      "cell_type": "code",
      "source": [
        "model = Sequential(\n",
        "    [\n",
        "        Dense(25, activation = 'relu'),\n",
        "        Dense(15, activation = 'relu'),\n",
        "        Dense(4, activation = 'softmax')#softmax activation here\n",
        "    ]\n",
        ")\n",
        "model.compile(\n",
        "    loss=tf.keras.losses.SparseCategoricalCrossentropy(),\n",
        "    optimizer=tf.keras.optimizers.Adam(0.001),\n",
        ")\n",
        "\n",
        "model.fit(\n",
        "    X_train,y_train,\n",
        "    epochs=10\n",
        ")\n",
        ""
      ],
      "metadata": {
        "colab": {
          "base_uri": "https://localhost:8080/",
          "height": 392
        },
        "id": "EMPUMVsmkWlS",
        "outputId": "aa549d66-9a63-4820-9f72-c07399289dc7"
      },
      "execution_count": 20,
      "outputs": [
        {
          "output_type": "stream",
          "name": "stdout",
          "text": [
            "Epoch 1/10\n",
            "63/63 [==============================] - 2s 3ms/step - loss: 1.0936\n",
            "Epoch 2/10\n",
            "63/63 [==============================] - 0s 3ms/step - loss: 0.5372\n",
            "Epoch 3/10\n",
            "63/63 [==============================] - 0s 2ms/step - loss: 0.2437\n",
            "Epoch 4/10\n",
            "63/63 [==============================] - 0s 2ms/step - loss: 0.1194\n",
            "Epoch 5/10\n",
            "63/63 [==============================] - 0s 2ms/step - loss: 0.0794\n",
            "Epoch 6/10\n",
            "63/63 [==============================] - 0s 2ms/step - loss: 0.0642\n",
            "Epoch 7/10\n",
            "63/63 [==============================] - 0s 3ms/step - loss: 0.0565\n",
            "Epoch 8/10\n",
            "63/63 [==============================] - 0s 3ms/step - loss: 0.0509\n",
            "Epoch 9/10\n",
            "63/63 [==============================] - 0s 3ms/step - loss: 0.0468\n",
            "Epoch 10/10\n",
            "63/63 [==============================] - 0s 2ms/step - loss: 0.0435\n"
          ]
        },
        {
          "output_type": "execute_result",
          "data": {
            "text/plain": [
              "<keras.src.callbacks.History at 0x7daf949bfcd0>"
            ]
          },
          "metadata": {},
          "execution_count": 20
        }
      ]
    },
    {
      "cell_type": "markdown",
      "source": [
        "Because the softmax is integrated into the output layer, the output is a vector of probabilities."
      ],
      "metadata": {
        "id": "Xmptb6JBkr7B"
      }
    },
    {
      "cell_type": "code",
      "source": [
        "p_nonpreferred = model.predict(X_train)\n",
        "print(p_nonpreferred [:2])\n",
        "print(\"largest value\", np.max(p_nonpreferred), \"smallest value\", np.min(p_nonpreferred))"
      ],
      "metadata": {
        "colab": {
          "base_uri": "https://localhost:8080/",
          "height": 88
        },
        "id": "ms-rYHKLklG7",
        "outputId": "040ff833-a9b3-463e-9884-4e4364221122"
      },
      "execution_count": 21,
      "outputs": [
        {
          "output_type": "stream",
          "name": "stdout",
          "text": [
            "63/63 [==============================] - 0s 2ms/step\n",
            "[[3.63e-03 3.01e-03 9.72e-01 2.10e-02]\n",
            " [9.94e-01 5.64e-03 4.94e-04 2.86e-05]]\n",
            "largest value 0.99999964 smallest value 2.5204892e-12\n"
          ]
        }
      ]
    },
    {
      "cell_type": "markdown",
      "source": [
        "### Preferred Model"
      ],
      "metadata": {
        "id": "MYXK1WHOkzir"
      }
    },
    {
      "cell_type": "code",
      "source": [
        "preferred_model = Sequential(\n",
        "    [\n",
        "        Dense(25, activation = 'relu'),\n",
        "        Dense(15, activation = 'relu'),\n",
        "        Dense(4, activation = 'linear')# Note softmax but not linear\n",
        "    ]\n",
        ")\n",
        "preferred_model.compile(\n",
        "    loss=tf.keras.losses.SparseCategoricalCrossentropy(from_logits=True),  #<-- Note\n",
        "    optimizer=tf.keras.optimizers.Adam(0.001),\n",
        ")\n",
        "\n",
        "preferred_model.fit(\n",
        "    X_train,y_train,\n",
        "    epochs=10\n",
        ")\n",
        ""
      ],
      "metadata": {
        "colab": {
          "base_uri": "https://localhost:8080/",
          "height": 392
        },
        "id": "4kGA_8eokweL",
        "outputId": "8bfe37a1-622e-4209-cbf2-c7ab0b6a8714"
      },
      "execution_count": 22,
      "outputs": [
        {
          "output_type": "stream",
          "name": "stdout",
          "text": [
            "Epoch 1/10\n",
            "63/63 [==============================] - 1s 3ms/step - loss: 1.1210\n",
            "Epoch 2/10\n",
            "63/63 [==============================] - 0s 3ms/step - loss: 0.6130\n",
            "Epoch 3/10\n",
            "63/63 [==============================] - 0s 3ms/step - loss: 0.3496\n",
            "Epoch 4/10\n",
            "63/63 [==============================] - 0s 3ms/step - loss: 0.1911\n",
            "Epoch 5/10\n",
            "63/63 [==============================] - 0s 2ms/step - loss: 0.1143\n",
            "Epoch 6/10\n",
            "63/63 [==============================] - 0s 2ms/step - loss: 0.0789\n",
            "Epoch 7/10\n",
            "63/63 [==============================] - 0s 3ms/step - loss: 0.0616\n",
            "Epoch 8/10\n",
            "63/63 [==============================] - 0s 3ms/step - loss: 0.0519\n",
            "Epoch 9/10\n",
            "63/63 [==============================] - 0s 2ms/step - loss: 0.0457\n",
            "Epoch 10/10\n",
            "63/63 [==============================] - 0s 3ms/step - loss: 0.0413\n"
          ]
        },
        {
          "output_type": "execute_result",
          "data": {
            "text/plain": [
              "<keras.src.callbacks.History at 0x7daf80d37310>"
            ]
          },
          "metadata": {},
          "execution_count": 22
        }
      ]
    },
    {
      "cell_type": "markdown",
      "source": [
        "### Handling Outputs"
      ],
      "metadata": {
        "id": "RxzGp-QKl3dZ"
      }
    },
    {
      "cell_type": "markdown",
      "source": [
        "In the preferred model, the outputs are not probabilities, but can range from large negative numbers to large positive numbers. The output must be sent through a softmax when performing a prediction that expects a probability."
      ],
      "metadata": {
        "id": "vcwxDhc9l_pK"
      }
    },
    {
      "cell_type": "code",
      "source": [
        "p_preferred = preferred_model.predict(X_train)\n",
        "print(f\"two example output vectors:\\n {p_preferred[:2]}\")\n",
        "print(\"largest value\", np.max(p_preferred), \"smallest value\", np.min(p_preferred))"
      ],
      "metadata": {
        "colab": {
          "base_uri": "https://localhost:8080/",
          "height": 106
        },
        "id": "dT_JgGMhk7BV",
        "outputId": "6d640505-3257-4de2-f8f3-aa14c580c13e"
      },
      "execution_count": 23,
      "outputs": [
        {
          "output_type": "stream",
          "name": "stdout",
          "text": [
            "63/63 [==============================] - 0s 1ms/step\n",
            "two example output vectors:\n",
            " [[-2.14 -2.74  3.28 -0.95]\n",
            " [ 2.89 -1.8  -6.24 -7.88]]\n",
            "largest value 9.843831 smallest value -12.912748\n"
          ]
        }
      ]
    },
    {
      "cell_type": "markdown",
      "source": [
        "The output predictions are not probabilities!\n",
        "If the desired output are probabilities, the output should be be processed by a [softmax](https://www.tensorflow.org/api_docs/python/tf/nn/softmax)."
      ],
      "metadata": {
        "id": "9silgN-gmJ_n"
      }
    },
    {
      "cell_type": "code",
      "source": [
        "sm_preferred = tf.nn.softmax(p_preferred).numpy()\n",
        "print(f\"two example output vectors:\\n {sm_preferred[:2]}\")\n",
        "print(\"largest value\", np.max(sm_preferred), \"smallest value\", np.min(sm_preferred))"
      ],
      "metadata": {
        "colab": {
          "base_uri": "https://localhost:8080/",
          "height": 88
        },
        "id": "zKb5S4kLmCMc",
        "outputId": "b50e82d5-21c3-41b6-e31e-5aa4421fb0d7"
      },
      "execution_count": 24,
      "outputs": [
        {
          "output_type": "stream",
          "name": "stdout",
          "text": [
            "two example output vectors:\n",
            " [[4.33e-03 2.38e-03 9.79e-01 1.42e-02]\n",
            " [9.91e-01 9.08e-03 1.07e-04 2.09e-05]]\n",
            "largest value 0.99999917 smallest value 7.1187223e-10\n"
          ]
        }
      ]
    },
    {
      "cell_type": "markdown",
      "source": [
        "To select the most likely category, the softmax is not required. One can find the index of the largest output using [np.argmax()](https://numpy.org/doc/stable/reference/generated/numpy.argmax.html)."
      ],
      "metadata": {
        "id": "bfo2FS04mXmv"
      }
    },
    {
      "cell_type": "code",
      "source": [
        "for i in range(5):\n",
        "    print( f\"{p_preferred[i]}, category: {np.argmax(p_preferred[i])}\")"
      ],
      "metadata": {
        "colab": {
          "base_uri": "https://localhost:8080/",
          "height": 106
        },
        "id": "MFIZYoRYmNCi",
        "outputId": "17e1cc75-2321-4b3b-d43e-d8f56e0f8456"
      },
      "execution_count": 25,
      "outputs": [
        {
          "output_type": "stream",
          "name": "stdout",
          "text": [
            "[-2.14 -2.74  3.28 -0.95], category: 2\n",
            "[ 2.89 -1.8  -6.24 -7.88], category: 0\n",
            "[ 2.07 -0.87 -4.63 -6.29], category: 0\n",
            "[-0.27  3.68 -0.57 -4.19], category: 1\n",
            "[-1.02 -5.35  4.1  -3.86], category: 2\n"
          ]
        }
      ]
    },
    {
      "cell_type": "markdown",
      "source": [
        "## SparseCategorialCrossentropy or CategoricalCrossEntropy\n",
        "Tensorflow has two potential formats for target values and the selection of the loss defines which is expected.\n",
        "- SparseCategorialCrossentropy: expects the target to be an integer corresponding to the index. For example, if there are 10 potential target values, y would be between 0 and 9.\n",
        "- CategoricalCrossEntropy: Expects the target value of an example to be one-hot encoded where the value at the target index is 1 while the other N-1 entries are zero. An example with 10 potential target values, where the target is 2 would be `[0,0,1,0,0,0,0,0,0,0]`.\n"
      ],
      "metadata": {
        "id": "PElhQYREmgGR"
      }
    }
  ]
}