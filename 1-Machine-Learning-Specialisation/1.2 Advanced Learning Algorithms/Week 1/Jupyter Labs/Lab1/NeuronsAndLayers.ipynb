{
  "nbformat": 4,
  "nbformat_minor": 0,
  "metadata": {
    "colab": {
      "provenance": []
    },
    "kernelspec": {
      "name": "python3",
      "display_name": "Python 3"
    },
    "language_info": {
      "name": "python"
    }
  },
  "cells": [
    {
      "cell_type": "markdown",
      "source": [
        "# Neurons And Layers Lab"
      ],
      "metadata": {
        "id": "rSG9lXdNZnAq"
      }
    },
    {
      "cell_type": "code",
      "source": [
        "from google.colab import drive\n",
        "drive.mount('/content/drive')"
      ],
      "metadata": {
        "colab": {
          "base_uri": "https://localhost:8080/"
        },
        "id": "wxwW3ERX_1LD",
        "outputId": "fda37564-1a54-4740-a84e-121030511bfc"
      },
      "execution_count": null,
      "outputs": [
        {
          "output_type": "stream",
          "name": "stdout",
          "text": [
            "Mounted at /content/drive\n"
          ]
        }
      ]
    },
    {
      "cell_type": "code",
      "source": [
        "from google.colab import files"
      ],
      "metadata": {
        "id": "rpUPQh8S_2t-"
      },
      "execution_count": null,
      "outputs": []
    },
    {
      "cell_type": "code",
      "source": [
        "!cp /content/drive/MyDrive/Datasets/lab_neurons_utils.py /content"
      ],
      "metadata": {
        "id": "4qxI90LuAh-m"
      },
      "execution_count": 2,
      "outputs": []
    },
    {
      "cell_type": "code",
      "source": [
        "!cp /content/drive/MyDrive/Datasets/lab_utils_common.py /content"
      ],
      "metadata": {
        "id": "9B3lRvn-BfJr"
      },
      "execution_count": 3,
      "outputs": []
    },
    {
      "cell_type": "code",
      "source": [
        "!cp /content/drive/MyDrive/Datasets/deeplearning.mplstyle /content"
      ],
      "metadata": {
        "id": "FQ2OwTREB4Ux"
      },
      "execution_count": 4,
      "outputs": []
    },
    {
      "cell_type": "markdown",
      "source": [
        "## Packages\n",
        "**Tensorflow and Keras**  \n",
        "Tensorflow is a machine learning package developed by Google. In 2019, Google integrated Keras into Tensorflow and released Tensorflow 2.0. Keras is a framework developed independently by François Chollet that creates a simple, layer-centric interface to Tensorflow."
      ],
      "metadata": {
        "id": "pJl5xY3vUeh8"
      }
    },
    {
      "cell_type": "code",
      "source": [
        "import numpy as np\n",
        "import matplotlib.pyplot as plt\n",
        "import tensorflow as tf\n",
        "from tensorflow.keras.layers import Dense, Input\n",
        "from tensorflow.keras import Sequential\n",
        "from tensorflow.keras.losses import MeanSquaredError, BinaryCrossentropy\n",
        "from tensorflow.keras.activations import sigmoid\n",
        "from lab_utils_common import dlc\n",
        "from lab_neurons_utils import plt_prob_1d, sigmoidnp, plt_linear, plt_logistic\n",
        "plt.style.use('./deeplearning.mplstyle')\n",
        "import logging\n",
        "logging.getLogger(\"tensorflow\").setLevel(logging.ERROR)\n",
        "tf.autograph.set_verbosity(0)"
      ],
      "metadata": {
        "id": "ktdPGO3iCZ9t"
      },
      "execution_count": 5,
      "outputs": []
    },
    {
      "cell_type": "markdown",
      "source": [
        "## Neuron without activation - Regression/Linear Model"
      ],
      "metadata": {
        "id": "Sqyf8enBUiOb"
      }
    },
    {
      "cell_type": "code",
      "source": [
        "# Using dataset of house prices\n",
        "X_train = np.array([[1.0], [2.0]], dtype=np.float32) #(size in 1000 square feet)\n",
        "Y_train = np.array([[300.0], [500.0]], dtype=np.float32)#(price in 1000s of dollars)\n",
        "\n",
        "fig, ax = plt.subplots(1,1)\n",
        "ax.scatter(X_train, Y_train, marker='x', c='r', label=\"Data Points\")\n",
        "ax.legend( fontsize='xx-large')\n",
        "ax.set_ylabel('Price (in 1000s of Dollars)', fontsize='xx-large')\n",
        "ax.set_xlabel('Size (1000 sqft)', fontsize='xx-large')\n",
        "plt.show()"
      ],
      "metadata": {
        "id": "r2w3VV6ZCe8V",
        "colab": {
          "base_uri": "https://localhost:8080/",
          "height": 446
        },
        "outputId": "9871be6b-dfd1-4956-e74c-92366ef8f631"
      },
      "execution_count": 8,
      "outputs": [
        {
          "output_type": "display_data",
          "data": {
            "text/plain": [
              "<Figure size 640x480 with 1 Axes>"
            ],
            "image/png": "[encoded data removed]"
          },
          "metadata": {}
        }
      ]
    },
    {
      "cell_type": "markdown",
      "source": [
        "### Regression/Linear Model\n",
        "The function implemented by a neuron with no activation is the same as linear regression:\n",
        "$$ f_{\\mathbf{w},b}(x^{(i)}) = \\mathbf{w}\\cdot x^{(i)} + b \\tag{1}$$"
      ],
      "metadata": {
        "id": "OvEIWOHmWDkz"
      }
    },
    {
      "cell_type": "markdown",
      "source": [
        "We can define a layer with one neuron or unit and compare it to the familiar linear regression function."
      ],
      "metadata": {
        "id": "QdQDizwkWPC4"
      }
    },
    {
      "cell_type": "code",
      "source": [
        "linear_layer = tf.keras.layers.Dense(units = 1, activation = 'linear',)"
      ],
      "metadata": {
        "id": "7n7tEzK6VwTf"
      },
      "execution_count": 9,
      "outputs": []
    },
    {
      "cell_type": "code",
      "source": [
        "#Examining the weights\n",
        "linear_layer.get_weights()"
      ],
      "metadata": {
        "colab": {
          "base_uri": "https://localhost:8080/"
        },
        "id": "wBUCOH_RXdEo",
        "outputId": "3fe31977-904c-49d2-877f-bcd718f2b779"
      },
      "execution_count": 10,
      "outputs": [
        {
          "output_type": "execute_result",
          "data": {
            "text/plain": [
              "[]"
            ]
          },
          "metadata": {},
          "execution_count": 10
        }
      ]
    },
    {
      "cell_type": "markdown",
      "source": [
        "There are no weights as the weights are not yet instantiated.<br>\n",
        "Now we try the model on one example in `X_train`. This will trigger the instantiation of the weights. Note, the input to the layer must be 2-D, so we'll reshape it."
      ],
      "metadata": {
        "id": "g55Ih_bbXrPl"
      }
    },
    {
      "cell_type": "code",
      "source": [
        "a1 = linear_layer(X_train[0].reshape(1,1))\n",
        "print(a1)"
      ],
      "metadata": {
        "colab": {
          "base_uri": "https://localhost:8080/"
        },
        "id": "EV10brMcXoCm",
        "outputId": "f04f4214-2724-4211-bfda-f17c8660f898"
      },
      "execution_count": 11,
      "outputs": [
        {
          "output_type": "stream",
          "name": "stdout",
          "text": [
            "tf.Tensor([[-0.12]], shape=(1, 1), dtype=float32)\n"
          ]
        }
      ]
    },
    {
      "cell_type": "markdown",
      "source": [
        "The result is a tensor (another name for an array) with a shape of (1,1) or one entry.   \n",
        "Now we look at the weights and bias. These weights are randomly initialized to small numbers and the bias defaults to being initialized to zero."
      ],
      "metadata": {
        "id": "PwRUBKRBYEER"
      }
    },
    {
      "cell_type": "code",
      "source": [
        "w, b = linear_layer.get_weights()\n",
        "print(f\"w = {w}, b={b}\")#randomly assigning w and b"
      ],
      "metadata": {
        "colab": {
          "base_uri": "https://localhost:8080/"
        },
        "id": "Xuf1Yrs4X654",
        "outputId": "9742b8d6-f683-4453-af6a-27aaff59fb66"
      },
      "execution_count": 12,
      "outputs": [
        {
          "output_type": "stream",
          "name": "stdout",
          "text": [
            "w = [[-0.12]], b=[0.]\n"
          ]
        }
      ]
    },
    {
      "cell_type": "markdown",
      "source": [
        "A linear regression model (1) with a single input feature will have a single weight and bias. This matches the dimensions of our `linear_layer` above.   \n",
        "\n",
        "The weights are initialized to random values so now we set them to some known values."
      ],
      "metadata": {
        "id": "uCYljjbtYozB"
      }
    },
    {
      "cell_type": "code",
      "source": [
        "set_w = np.array([[200]])\n",
        "set_b = np.array([100])\n",
        "\n",
        "# set_weights takes a list of numpy arrays\n",
        "linear_layer.set_weights([set_w, set_b])#assigning weights and biases\n",
        "print(linear_layer.get_weights())"
      ],
      "metadata": {
        "colab": {
          "base_uri": "https://localhost:8080/"
        },
        "id": "V6lHUiDuYe-S",
        "outputId": "a3872db9-a12a-4d49-addb-55b7475c0622"
      },
      "execution_count": 13,
      "outputs": [
        {
          "output_type": "stream",
          "name": "stdout",
          "text": [
            "[array([[200.]], dtype=float32), array([100.], dtype=float32)]\n"
          ]
        }
      ]
    },
    {
      "cell_type": "markdown",
      "source": [
        "**Comparing equation (1) to the layer output.**"
      ],
      "metadata": {
        "id": "6pcNPTZ8ZFtr"
      }
    },
    {
      "cell_type": "code",
      "source": [
        "a1 = linear_layer(X_train[0].reshape(1,1))\n",
        "print(a1)\n",
        "alin = np.dot(set_w,X_train[0].reshape(1,1)) + set_b\n",
        "print(alin)"
      ],
      "metadata": {
        "colab": {
          "base_uri": "https://localhost:8080/"
        },
        "id": "5HD-SSy9YzCp",
        "outputId": "d9fe4df3-4610-4b92-a37e-916da86ffb21"
      },
      "execution_count": 14,
      "outputs": [
        {
          "output_type": "stream",
          "name": "stdout",
          "text": [
            "tf.Tensor([[300.]], shape=(1, 1), dtype=float32)\n",
            "[[300.]]\n"
          ]
        }
      ]
    },
    {
      "cell_type": "markdown",
      "source": [
        "## Neuron with Sigmoid activation\n",
        "The function implemented by a neuron/unit with a sigmoid activation is the same as in Course 1, logistic  regression:\n",
        "$$ f_{\\mathbf{w},b}(x^{(i)}) = g(\\mathbf{w}x^{(i)} + b) \\tag{2}$$\n",
        "where $$g(x) = sigmoid(x)$$\n",
        "\n",
        "Let's set $w$ and $b$ to some known values and check the model.\n"
      ],
      "metadata": {
        "id": "6l9TG5WxZaSF"
      }
    },
    {
      "cell_type": "code",
      "source": [
        "X_train = np.array([0., 1, 2, 3, 4, 5], dtype=np.float32).reshape(-1,1)  # 2-D Matrix\n",
        "Y_train = np.array([0,  0, 0, 1, 1, 1], dtype=np.float32).reshape(-1,1)  # 2-D Matrix"
      ],
      "metadata": {
        "id": "8cyFykonZSu9"
      },
      "execution_count": 15,
      "outputs": []
    },
    {
      "cell_type": "code",
      "source": [
        "\"\"\"\n",
        "Here we creates a boolean array called pos.\n",
        "It stores True for  elements in the Y_train array where the value equals 1, and False otherwise.\n",
        "This filters out data points where the target label 'y' is 1.\n",
        "\"\"\"\n",
        "pos = Y_train == 1\n",
        "neg = Y_train == 0\n",
        "\n",
        "#creating a figure (fig) and an axis object (ax).\n",
        "# The subplots function from the matplotlib.pyplot library allows us to organize plots.\n",
        "#(1, 1) means making a grid with 1 row and 1 column,\n",
        "#and figsize sets the size of the figure to 4 inches wide by 3 inches tall.\n",
        "fig,ax = plt.subplots(1,1,figsize=(4,3))\n",
        "ax.scatter(X_train[pos], Y_train[pos], marker='x', s=80, c = 'red', label=\"y=1\")#marker size 80\n",
        "ax.scatter(X_train[neg], Y_train[neg], marker='o', s=100, label=\"y=0\", facecolors='none',\n",
        "              edgecolors=dlc[\"dlblue\"],lw=3)\n",
        "\n",
        "ax.set_ylim(-0.08,1.1)#Setting the limits of the y-axis.\n",
        "ax.set_ylabel('y', fontsize=12)\n",
        "ax.set_xlabel('x', fontsize=12)\n",
        "ax.set_title('One Variable Plot')\n",
        "ax.legend(fontsize=12)\n",
        "plt.show()"
      ],
      "metadata": {
        "colab": {
          "base_uri": "https://localhost:8080/",
          "height": 326
        },
        "id": "NPvS2hBvZfw6",
        "outputId": "c4fb7274-44cb-4b8c-edf7-1368b8cfa2ee"
      },
      "execution_count": 19,
      "outputs": [
        {
          "output_type": "display_data",
          "data": {
            "text/plain": [
              "<Figure size 400x300 with 1 Axes>"
            ],
            "image/png": "[encoded data removed]"
          },
          "metadata": {}
        }
      ]
    },
    {
      "cell_type": "markdown",
      "source": [
        "### Logistic Neuron\n",
        "We can implement a 'logistic neuron' by adding a sigmoid activation. The function of the neuron is described above.   \n",
        "\n",
        "Noq we will create a Tensorflow Model that contains our logistic layer to demonstrate an alternate method of creating models. Tensorflow is most often used to create multi-layer models. The [Sequential](https://keras.io/guides/sequential_model/) model is a convenient means of constructing these models."
      ],
      "metadata": {
        "id": "VsZIgmQnbncE"
      }
    },
    {
      "cell_type": "code",
      "source": [
        "model = Sequential(\n",
        "    [\n",
        "        tf.keras.layers.Dense(1, input_dim=1,  activation = 'sigmoid', name='L1')\n",
        "    ]\n",
        ")"
      ],
      "metadata": {
        "id": "EsgZdgs7Z34z"
      },
      "execution_count": 20,
      "outputs": []
    },
    {
      "cell_type": "markdown",
      "source": [
        "`model.summary()` shows the layers and number of parameters in the model. There is only one layer in this model and that layer has only one unit. The unit has two parameters, $w$ and $b$."
      ],
      "metadata": {
        "id": "qVe1y8e0b_TX"
      }
    },
    {
      "cell_type": "code",
      "source": [
        "model.summary()"
      ],
      "metadata": {
        "colab": {
          "base_uri": "https://localhost:8080/"
        },
        "id": "H7FXdlbcb5V4",
        "outputId": "18a7a597-dc21-4057-e751-4fef91d38cf1"
      },
      "execution_count": 21,
      "outputs": [
        {
          "output_type": "stream",
          "name": "stdout",
          "text": [
            "Model: \"sequential\"\n",
            "_________________________________________________________________\n",
            " Layer (type)                Output Shape              Param #   \n",
            "=================================================================\n",
            " L1 (Dense)                  (None, 1)                 2         \n",
            "                                                                 \n",
            "=================================================================\n",
            "Total params: 2 (8.00 Byte)\n",
            "Trainable params: 2 (8.00 Byte)\n",
            "Non-trainable params: 0 (0.00 Byte)\n",
            "_________________________________________________________________\n"
          ]
        }
      ]
    },
    {
      "cell_type": "code",
      "source": [
        "logistic_layer = model.get_layer('L1')\n",
        "w,b = logistic_layer.get_weights()\n",
        "print(w,b)\n",
        "print(w.shape,b.shape)"
      ],
      "metadata": {
        "colab": {
          "base_uri": "https://localhost:8080/"
        },
        "id": "y1Lxt1w8cB5t",
        "outputId": "7bc17e8d-a067-49d5-8eb9-432f2970d4fe"
      },
      "execution_count": 22,
      "outputs": [
        {
          "output_type": "stream",
          "name": "stdout",
          "text": [
            "[[-0.65]] [0.]\n",
            "(1, 1) (1,)\n"
          ]
        }
      ]
    },
    {
      "cell_type": "markdown",
      "source": [
        "Now we set the weight and bias to some known values."
      ],
      "metadata": {
        "id": "shgNR1ONcQX0"
      }
    },
    {
      "cell_type": "code",
      "source": [
        "set_w = np.array([[2]])\n",
        "set_b = np.array([-4.5])\n",
        "# set_weights takes a list of numpy arrays\n",
        "logistic_layer.set_weights([set_w, set_b])\n",
        "print(logistic_layer.get_weights())"
      ],
      "metadata": {
        "colab": {
          "base_uri": "https://localhost:8080/"
        },
        "id": "2EjzCclJcLEb",
        "outputId": "16ca6ade-73b1-4a76-b3bb-a08033338780"
      },
      "execution_count": 23,
      "outputs": [
        {
          "output_type": "stream",
          "name": "stdout",
          "text": [
            "[array([[2.]], dtype=float32), array([-4.5], dtype=float32)]\n"
          ]
        }
      ]
    },
    {
      "cell_type": "markdown",
      "source": [
        "Comparing equation (2) to the layer output"
      ],
      "metadata": {
        "id": "m3N9K3IudHHs"
      }
    },
    {
      "cell_type": "code",
      "source": [
        "\"\"\"\n",
        "Assumes we have a previously trained machine learning model (the variable model).\n",
        "The predict function generates a prediction based on the input data.\n",
        "\n",
        "X_train[0].reshape(1,1) takes the first data sample (X_train[0]) from our training dataset (X_train).\n",
        "The reshape(1,1) transforms it into a 2-dimensional array with a single row and single column\n",
        "(essentially a 1x1 matrix). This is likely done to match the expected input shape of our model.\n",
        "\"\"\"\n",
        "a1 = model.predict(X_train[0].reshape(1,1))\n",
        "print(a1)\n",
        "\n",
        "\"\"\"\n",
        "X_train[0].reshape(1,1) takes the first data sample (X_train[0]) from our training dataset (X_train).\n",
        "The reshape(1,1) transforms it into a 2-dimensional array with a single row and single column\n",
        "(essentially a 1x1 matrix). This is likely done to match the expected input shape of our model.\n",
        "\n",
        "sigmoidnp function applies the sigmoid activation function to the calculated value and stores in alog\n",
        "\"\"\"\n",
        "alog = sigmoidnp(np.dot(set_w,X_train[0].reshape(1,1)) + set_b)\n",
        "print(alog)"
      ],
      "metadata": {
        "colab": {
          "base_uri": "https://localhost:8080/"
        },
        "id": "FSzHR5kicf4s",
        "outputId": "72aac71b-5d23-419c-8ce6-0958048284b3"
      },
      "execution_count": 25,
      "outputs": [
        {
          "output_type": "stream",
          "name": "stdout",
          "text": [
            "1/1 [==============================] - 0s 37ms/step\n",
            "[[0.01]]\n",
            "[[0.01]]\n"
          ]
        }
      ]
    },
    {
      "cell_type": "markdown",
      "source": [
        "As we can see they produce the same values. <br>\n",
        "Now, we can use our logistic layer and NumPy model to make predictions on our training data."
      ],
      "metadata": {
        "id": "1dUK1H7nefSn"
      }
    },
    {
      "cell_type": "code",
      "source": [
        "plt_logistic(X_train, Y_train, model, set_w, set_b, pos, neg)"
      ],
      "metadata": {
        "colab": {
          "base_uri": "https://localhost:8080/",
          "height": 1000
        },
        "id": "up8NkJw1dO0U",
        "outputId": "1c02ffa0-2cf1-47cc-9c31-30af8d41e866"
      },
      "execution_count": 26,
      "outputs": [
        {
          "output_type": "stream",
          "name": "stdout",
          "text": [
            "1/1 [==============================] - 0s 41ms/step\n",
            "1/1 [==============================] - 0s 37ms/step\n",
            "1/1 [==============================] - 0s 38ms/step\n",
            "1/1 [==============================] - 0s 41ms/step\n",
            "1/1 [==============================] - 0s 22ms/step\n",
            "1/1 [==============================] - 0s 26ms/step\n",
            "1/1 [==============================] - 0s 23ms/step\n",
            "1/1 [==============================] - 0s 24ms/step\n",
            "1/1 [==============================] - 0s 25ms/step\n",
            "1/1 [==============================] - 0s 24ms/step\n",
            "1/1 [==============================] - 0s 28ms/step\n",
            "1/1 [==============================] - 0s 23ms/step\n",
            "1/1 [==============================] - 0s 27ms/step\n",
            "1/1 [==============================] - 0s 30ms/step\n",
            "1/1 [==============================] - 0s 24ms/step\n",
            "1/1 [==============================] - 0s 26ms/step\n",
            "1/1 [==============================] - 0s 24ms/step\n",
            "1/1 [==============================] - 0s 22ms/step\n",
            "1/1 [==============================] - 0s 25ms/step\n",
            "1/1 [==============================] - 0s 23ms/step\n",
            "1/1 [==============================] - 0s 26ms/step\n",
            "1/1 [==============================] - 0s 23ms/step\n",
            "1/1 [==============================] - 0s 24ms/step\n",
            "1/1 [==============================] - 0s 23ms/step\n",
            "1/1 [==============================] - 0s 23ms/step\n",
            "1/1 [==============================] - 0s 22ms/step\n",
            "1/1 [==============================] - 0s 23ms/step\n",
            "1/1 [==============================] - 0s 24ms/step\n",
            "1/1 [==============================] - 0s 25ms/step\n",
            "1/1 [==============================] - 0s 25ms/step\n",
            "1/1 [==============================] - 0s 25ms/step\n",
            "1/1 [==============================] - 0s 23ms/step\n",
            "1/1 [==============================] - 0s 23ms/step\n",
            "1/1 [==============================] - 0s 23ms/step\n",
            "1/1 [==============================] - 0s 25ms/step\n",
            "1/1 [==============================] - 0s 29ms/step\n",
            "1/1 [==============================] - 0s 23ms/step\n",
            "1/1 [==============================] - 0s 23ms/step\n",
            "1/1 [==============================] - 0s 23ms/step\n",
            "1/1 [==============================] - 0s 23ms/step\n",
            "1/1 [==============================] - 0s 25ms/step\n",
            "1/1 [==============================] - 0s 25ms/step\n",
            "1/1 [==============================] - 0s 24ms/step\n",
            "1/1 [==============================] - 0s 23ms/step\n",
            "1/1 [==============================] - 0s 27ms/step\n",
            "1/1 [==============================] - 0s 24ms/step\n",
            "1/1 [==============================] - 0s 30ms/step\n",
            "1/1 [==============================] - 0s 24ms/step\n",
            "1/1 [==============================] - 0s 26ms/step\n",
            "1/1 [==============================] - 0s 25ms/step\n"
          ]
        },
        {
          "output_type": "display_data",
          "data": {
            "text/plain": [
              "<Figure size 1600x400 with 4 Axes>"
            ],
            "image/png": "[encoded data removed]"
          },
          "metadata": {}
        }
      ]
    }
  ]
}