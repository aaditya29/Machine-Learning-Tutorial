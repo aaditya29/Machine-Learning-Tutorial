{
  "nbformat": 4,
  "nbformat_minor": 0,
  "metadata": {
    "colab": {
      "provenance": [],
      "gpuType": "T4"
    },
    "kernelspec": {
      "name": "python3",
      "display_name": "Python 3"
    },
    "language_info": {
      "name": "python"
    },
    "accelerator": "GPU"
  },
  "cells": [
    {
      "cell_type": "markdown",
      "source": [
        "# Model Evaluation and Selection Lab"
      ],
      "metadata": {
        "id": "rSG9lXdNZnAq"
      }
    },
    {
      "cell_type": "markdown",
      "source": [
        "In this lab, we will:\n",
        "\n",
        "* Split datasets into training, cross validation, and test sets\n",
        "* Evaluate regression and classification models\n",
        "* Add polynomial features to improve the performance of a linear regression model\n",
        "* Compare several neural network architectures"
      ],
      "metadata": {
        "id": "K9kmizOuLjJT"
      }
    },
    {
      "cell_type": "code",
      "source": [
        "from google.colab import drive\n",
        "drive.mount('/content/drive')"
      ],
      "metadata": {
        "colab": {
          "base_uri": "https://localhost:8080/"
        },
        "id": "wxwW3ERX_1LD",
        "outputId": "9b0a34f9-f735-4d45-ddf9-53685b808df0"
      },
      "execution_count": 1,
      "outputs": [
        {
          "output_type": "stream",
          "name": "stdout",
          "text": [
            "Drive already mounted at /content/drive; to attempt to forcibly remount, call drive.mount(\"/content/drive\", force_remount=True).\n"
          ]
        }
      ]
    },
    {
      "cell_type": "code",
      "source": [
        "from google.colab import files"
      ],
      "metadata": {
        "id": "rpUPQh8S_2t-"
      },
      "execution_count": 2,
      "outputs": []
    },
    {
      "cell_type": "code",
      "source": [
        "!cp /content/drive/MyDrive/Datasets/utils.py /content"
      ],
      "metadata": {
        "id": "m06UbL_dN05S"
      },
      "execution_count": 3,
      "outputs": []
    },
    {
      "cell_type": "code",
      "source": [
        "!cp /content/drive/MyDrive/Datasets/data/data_w3_ex1.csv /content"
      ],
      "metadata": {
        "id": "GyqBZZqZMsZj"
      },
      "execution_count": 4,
      "outputs": []
    },
    {
      "cell_type": "code",
      "source": [
        "!cp /content/drive/MyDrive/Datasets/deeplearning.mplstyle /content"
      ],
      "metadata": {
        "id": "iv5hod7FOkF_"
      },
      "execution_count": 5,
      "outputs": []
    },
    {
      "cell_type": "code",
      "source": [
        "!cp /content/drive/MyDrive/Datasets/data/data_w3_ex2.csv /content"
      ],
      "metadata": {
        "id": "T7OAFzX2wNUO"
      },
      "execution_count": 31,
      "outputs": []
    },
    {
      "cell_type": "code",
      "source": [
        "# for array computations and loading data\n",
        "import numpy as np\n",
        "\n",
        "# for building linear regression models and preparing data\n",
        "from sklearn.linear_model import LinearRegression\n",
        "from sklearn.preprocessing import StandardScaler, PolynomialFeatures\n",
        "from sklearn.model_selection import train_test_split\n",
        "from sklearn.metrics import mean_squared_error\n",
        "\n",
        "# for building and training neural networks\n",
        "import tensorflow as tf\n",
        "\n",
        "# custom functions\n",
        "import utils\n",
        "\n",
        "# reduce display precision on numpy arrays\n",
        "np.set_printoptions(precision=2)\n",
        "\n",
        "# suppress warnings\n",
        "tf.get_logger().setLevel('ERROR')\n",
        "tf.autograph.set_verbosity(0)"
      ],
      "metadata": {
        "id": "Puyba1wM7KZ7"
      },
      "execution_count": 6,
      "outputs": []
    },
    {
      "cell_type": "markdown",
      "source": [
        "## Regression\n",
        "\n",
        "First, we will be tasked to develop a model for a regression problem. We are given the dataset below consisting of 50 examples of an input feature `x` and its corresponding target `y`."
      ],
      "metadata": {
        "id": "FKoPF1VVNI6q"
      }
    },
    {
      "cell_type": "code",
      "source": [
        "# Load the dataset from the text file\n",
        "data = np.loadtxt('./data_w3_ex1.csv', delimiter=',')\n",
        "\n",
        "# Split the inputs and outputs into separate arrays\n",
        "x = data[:,0]\n",
        "y = data[:,1]\n",
        "\n",
        "# Convert 1-D arrays into 2-D because the commands later will require it\n",
        "x = np.expand_dims(x, axis=1)\n",
        "y = np.expand_dims(y, axis=1)\n",
        "\n",
        "print(f\"the shape of the inputs x is: {x.shape}\")\n",
        "print(f\"the shape of the targets y is: {y.shape}\")"
      ],
      "metadata": {
        "colab": {
          "base_uri": "https://localhost:8080/"
        },
        "id": "Tf7p_g2bNNmX",
        "outputId": "c623d3d2-aaf1-47fb-eb32-02356924ecf9"
      },
      "execution_count": 7,
      "outputs": [
        {
          "output_type": "stream",
          "name": "stdout",
          "text": [
            "the shape of the inputs x is: (50, 1)\n",
            "the shape of the targets y is: (50, 1)\n"
          ]
        }
      ]
    },
    {
      "cell_type": "markdown",
      "source": [
        "We can plot the dataset to get an idea of how the target behaves with respect to the input."
      ],
      "metadata": {
        "id": "pAD1hB6JNgrY"
      }
    },
    {
      "cell_type": "code",
      "source": [
        "# Plot the entire dataset\n",
        "utils.plot_dataset(x=x, y=y, title=\"Input vs. Target\")"
      ],
      "metadata": {
        "colab": {
          "base_uri": "https://localhost:8080/",
          "height": 706
        },
        "id": "Fly4UODONSta",
        "outputId": "d5beeafc-ed70-4be6-8579-d5f373b464e5"
      },
      "execution_count": 8,
      "outputs": [
        {
          "output_type": "display_data",
          "data": {
            "text/plain": [
              "<Figure size 1200x800 with 1 Axes>"
            ],
            "image/png": "[encoded data removed]"
          },
          "metadata": {}
        }
      ]
    },
    {
      "cell_type": "markdown",
      "source": [
        "## Split the Dataset into Training, Cross Validation and Test Sets\n",
        "\n",
        "In previous labs, we have used the entire dataset to train our models. In practice however, it is best to hold out a portion of your data to measure how well our model generalizes to new examples. This will let us know if the model has overfit to your training set.\n",
        "\n",
        "Now we split our data into three parts:\n",
        "\n",
        "* ***training set*** - used to train the model\n",
        "* ***cross validation set (also called validation, development, or dev set)*** - used to evaluate the different model configurations you are choosing from. For example, you can use this to make a decision on what polynomial features to add to your dataset.\n",
        "* ***test set*** - used to give a fair estimate of your chosen model's performance against new examples. This should not be used to make decisions while we are still developing the models.\n",
        "\n",
        "Scikit-learn provides a [`train_test_split`](https://scikit-learn.org/stable/modules/generated/sklearn.model_selection.train_test_split.html) function to split your data into the parts mentioned above. In the code cell below, we will split the entire dataset into 60% training, 20% cross validation, and 20% test."
      ],
      "metadata": {
        "id": "L1OkEDhQN1rk"
      }
    },
    {
      "cell_type": "code",
      "source": [
        "# Get 60% of the dataset as the training set. Put the remaining 40% in temporary variables: x_ and y_.\n",
        "x_train, x_, y_train, y_ = train_test_split(x, y, test_size=0.40, random_state=1)\n",
        "\n",
        "# Split the 40% subset above into two: one half for cross validation and the other for the test set\n",
        "x_cv, x_test, y_cv, y_test = train_test_split(x_, y_, test_size=0.50, random_state=1)\n",
        "\n",
        "# Delete temporary variables\n",
        "del x_, y_\n",
        "\n",
        "print(f\"the shape of the training set (input) is: {x_train.shape}\")\n",
        "print(f\"the shape of the training set (target) is: {y_train.shape}\\n\")\n",
        "print(f\"the shape of the cross validation set (input) is: {x_cv.shape}\")\n",
        "print(f\"the shape of the cross validation set (target) is: {y_cv.shape}\\n\")\n",
        "print(f\"the shape of the test set (input) is: {x_test.shape}\")\n",
        "print(f\"the shape of the test set (target) is: {y_test.shape}\")"
      ],
      "metadata": {
        "colab": {
          "base_uri": "https://localhost:8080/"
        },
        "id": "QJAae0XcNm9_",
        "outputId": "4c34289e-ebf6-4af8-8b96-ae4f4b965e77"
      },
      "execution_count": 9,
      "outputs": [
        {
          "output_type": "stream",
          "name": "stdout",
          "text": [
            "the shape of the training set (input) is: (30, 1)\n",
            "the shape of the training set (target) is: (30, 1)\n",
            "\n",
            "the shape of the cross validation set (input) is: (10, 1)\n",
            "the shape of the cross validation set (target) is: (10, 1)\n",
            "\n",
            "the shape of the test set (input) is: (10, 1)\n",
            "the shape of the test set (target) is: (10, 1)\n"
          ]
        }
      ]
    },
    {
      "cell_type": "markdown",
      "source": [
        "We can plot the dataset again below to see which points were used as training, cross validation, or test data."
      ],
      "metadata": {
        "id": "aLpPDGIuOyce"
      }
    },
    {
      "cell_type": "code",
      "source": [
        "utils.plot_train_cv_test(x_train, y_train, x_cv, y_cv, x_test, y_test, title=\"Input vs. Target\")"
      ],
      "metadata": {
        "colab": {
          "base_uri": "https://localhost:8080/",
          "height": 706
        },
        "id": "tun76nL_OpuL",
        "outputId": "9250d7b6-693d-41bf-8a1f-ad51959e3c08"
      },
      "execution_count": 10,
      "outputs": [
        {
          "output_type": "display_data",
          "data": {
            "text/plain": [
              "<Figure size 1200x800 with 1 Axes>"
            ],
            "image/png": "[encoded data removed]"
          },
          "metadata": {}
        }
      ]
    },
    {
      "cell_type": "markdown",
      "source": [
        "## Fit a Linear Model"
      ],
      "metadata": {
        "id": "0IQNgefzPF8S"
      }
    },
    {
      "cell_type": "markdown",
      "source": [
        "### Feature scaling\n",
        "\n",
        "We earlier saw that it is usually a good idea to perform feature scaling to help our model converge faster. This is especially true if our input features have widely different ranges of values. Later in this lab, you will be adding polynomial terms so your input features will indeed have different ranges. For example, $x$ runs from around 1600 to 3600, while $x^2$ will run from 2.56 million to 12.96 million.\n",
        "\n",
        "We will only use $x$ for this first model but it's good to practice feature scaling now so we can apply it later. For that, we will use the [`StandardScaler`](https://scikit-learn.org/stable/modules/generated/sklearn.preprocessing.StandardScaler.html) class from scikit-learn. This computes the z-score of your inputs. As a refresher, the z-score is given by the equation:\n",
        "\n",
        "$$ z = \\frac{x - \\mu}{\\sigma} $$\n",
        "\n",
        "where $\\mu$ is the mean of the feature values and $\\sigma$ is the standard deviation. The code below shows how to prepare the training set using the said class. You can plot the results again to inspect if it still follows the same pattern as before. The new graph should have a reduced range of values for `x`."
      ],
      "metadata": {
        "id": "QlIyirOCPbeH"
      }
    },
    {
      "cell_type": "code",
      "source": [
        "\"\"\"\n",
        "StandardScaler() is a preprocessing class from scikit-learn (sklearn.preprocessing)\n",
        "used for standardizing features by removing the mean and scaling to unit variance.\n",
        "\"\"\"\n",
        "scaler_linear = StandardScaler()\n",
        "\n",
        "\"\"\"\n",
        "fit_transform() is a method in scikit-learn that first fits the scaler (scaler_linear)\n",
        "to the x_train dataset (computes mean and standard deviation) and then\n",
        "transforms x_train by applying the scaling.\n",
        "The scaled dataset is stored in X_train_scaled.\n",
        "\"\"\"\n",
        "X_train_scaled = scaler_linear.fit_transform(x_train)\n",
        "\n",
        "\n",
        "print(f\"Computed mean of the training set: {scaler_linear.mean_.squeeze():.2f}\")\n",
        "print(f\"Computed standard deviation of the training set: {scaler_linear.scale_.squeeze():.2f}\")\n",
        "\n",
        "# Plot the results\n",
        "utils.plot_dataset(x=X_train_scaled, y=y_train, title=\"Scaled Input vs. Target\")"
      ],
      "metadata": {
        "colab": {
          "base_uri": "https://localhost:8080/",
          "height": 742
        },
        "id": "fBTxgiMUO3pR",
        "outputId": "397b05b0-a6bc-4446-bf2e-69dc1eb67451"
      },
      "execution_count": 15,
      "outputs": [
        {
          "output_type": "stream",
          "name": "stdout",
          "text": [
            "Computed mean of the training set: 2504.06\n",
            "Computed standard deviation of the training set: 574.85\n"
          ]
        },
        {
          "output_type": "display_data",
          "data": {
            "text/plain": [
              "<Figure size 1200x800 with 1 Axes>"
            ],
            "image/png": "[encoded data removed]"
          },
          "metadata": {}
        }
      ]
    },
    {
      "cell_type": "markdown",
      "source": [
        "### Training the Model\n",
        "\n",
        "Next, we will create and train a regression model."
      ],
      "metadata": {
        "id": "3sisvtNFpGue"
      }
    },
    {
      "cell_type": "code",
      "source": [
        "# Initialize the class\n",
        "linear_model = LinearRegression()\n",
        "\n",
        "# Train the model\n",
        "linear_model.fit(X_train_scaled, y_train )"
      ],
      "metadata": {
        "colab": {
          "base_uri": "https://localhost:8080/",
          "height": 75
        },
        "id": "bW-KGyaVQkke",
        "outputId": "4cd1d6af-88c1-4278-e90a-4d6d66f49cb1"
      },
      "execution_count": 16,
      "outputs": [
        {
          "output_type": "execute_result",
          "data": {
            "text/plain": [
              "LinearRegression()"
            ],
            "text/html": [
              "<style>#sk-container-id-1 {color: black;background-color: white;}#sk-container-id-1 pre{padding: 0;}#sk-container-id-1 div.sk-toggleable {background-color: white;}#sk-container-id-1 label.sk-toggleable__label {cursor: pointer;display: block;width: 100%;margin-bottom: 0;padding: 0.3em;box-sizing: border-box;text-align: center;}#sk-container-id-1 label.sk-toggleable__label-arrow:before {content: \"▸\";float: left;margin-right: 0.25em;color: #696969;}#sk-container-id-1 label.sk-toggleable__label-arrow:hover:before {color: black;}#sk-container-id-1 div.sk-estimator:hover label.sk-toggleable__label-arrow:before {color: black;}#sk-container-id-1 div.sk-toggleable__content {max-height: 0;max-width: 0;overflow: hidden;text-align: left;background-color: #f0f8ff;}#sk-container-id-1 div.sk-toggleable__content pre {margin: 0.2em;color: black;border-radius: 0.25em;background-color: #f0f8ff;}#sk-container-id-1 input.sk-toggleable__control:checked~div.sk-toggleable__content {max-height: 200px;max-width: 100%;overflow: auto;}#sk-container-id-1 input.sk-toggleable__control:checked~label.sk-toggleable__label-arrow:before {content: \"▾\";}#sk-container-id-1 div.sk-estimator input.sk-toggleable__control:checked~label.sk-toggleable__label {background-color: #d4ebff;}#sk-container-id-1 div.sk-label input.sk-toggleable__control:checked~label.sk-toggleable__label {background-color: #d4ebff;}#sk-container-id-1 input.sk-hidden--visually {border: 0;clip: rect(1px 1px 1px 1px);clip: rect(1px, 1px, 1px, 1px);height: 1px;margin: -1px;overflow: hidden;padding: 0;position: absolute;width: 1px;}#sk-container-id-1 div.sk-estimator {font-family: monospace;background-color: #f0f8ff;border: 1px dotted black;border-radius: 0.25em;box-sizing: border-box;margin-bottom: 0.5em;}#sk-container-id-1 div.sk-estimator:hover {background-color: #d4ebff;}#sk-container-id-1 div.sk-parallel-item::after {content: \"\";width: 100%;border-bottom: 1px solid gray;flex-grow: 1;}#sk-container-id-1 div.sk-label:hover label.sk-toggleable__label {background-color: #d4ebff;}#sk-container-id-1 div.sk-serial::before {content: \"\";position: absolute;border-left: 1px solid gray;box-sizing: border-box;top: 0;bottom: 0;left: 50%;z-index: 0;}#sk-container-id-1 div.sk-serial {display: flex;flex-direction: column;align-items: center;background-color: white;padding-right: 0.2em;padding-left: 0.2em;position: relative;}#sk-container-id-1 div.sk-item {position: relative;z-index: 1;}#sk-container-id-1 div.sk-parallel {display: flex;align-items: stretch;justify-content: center;background-color: white;position: relative;}#sk-container-id-1 div.sk-item::before, #sk-container-id-1 div.sk-parallel-item::before {content: \"\";position: absolute;border-left: 1px solid gray;box-sizing: border-box;top: 0;bottom: 0;left: 50%;z-index: -1;}#sk-container-id-1 div.sk-parallel-item {display: flex;flex-direction: column;z-index: 1;position: relative;background-color: white;}#sk-container-id-1 div.sk-parallel-item:first-child::after {align-self: flex-end;width: 50%;}#sk-container-id-1 div.sk-parallel-item:last-child::after {align-self: flex-start;width: 50%;}#sk-container-id-1 div.sk-parallel-item:only-child::after {width: 0;}#sk-container-id-1 div.sk-dashed-wrapped {border: 1px dashed gray;margin: 0 0.4em 0.5em 0.4em;box-sizing: border-box;padding-bottom: 0.4em;background-color: white;}#sk-container-id-1 div.sk-label label {font-family: monospace;font-weight: bold;display: inline-block;line-height: 1.2em;}#sk-container-id-1 div.sk-label-container {text-align: center;}#sk-container-id-1 div.sk-container {/* jupyter's `normalize.less` sets `[hidden] { display: none; }` but bootstrap.min.css set `[hidden] { display: none !important; }` so we also need the `!important` here to be able to override the default hidden behavior on the sphinx rendered scikit-learn.org. See: https://github.com/scikit-learn/scikit-learn/issues/21755 */display: inline-block !important;position: relative;}#sk-container-id-1 div.sk-text-repr-fallback {display: none;}</style><div id=\"sk-container-id-1\" class=\"sk-top-container\"><div class=\"sk-text-repr-fallback\"><pre>LinearRegression()</pre><b>In a Jupyter environment, please rerun this cell to show the HTML representation or trust the notebook. <br />On GitHub, the HTML representation is unable to render, please try loading this page with nbviewer.org.</b></div><div class=\"sk-container\" hidden><div class=\"sk-item\"><div class=\"sk-estimator sk-toggleable\"><input class=\"sk-toggleable__control sk-hidden--visually\" id=\"sk-estimator-id-1\" type=\"checkbox\" checked><label for=\"sk-estimator-id-1\" class=\"sk-toggleable__label sk-toggleable__label-arrow\">LinearRegression</label><div class=\"sk-toggleable__content\"><pre>LinearRegression()</pre></div></div></div></div></div>"
            ]
          },
          "metadata": {},
          "execution_count": 16
        }
      ]
    },
    {
      "cell_type": "markdown",
      "source": [
        "### Evaluating the Model\n",
        "\n",
        "To evaluate the performance of our model, we will measure the error for the training and cross validation sets. For the training error, recall the equation for calculating the mean squared error (MSE):\n",
        "\n",
        "$$J_{train}(\\vec{w}, b) = \\frac{1}{2m_{train}}\\left[\\sum_{i=1}^{m_{train}}(f_{\\vec{w},b}(\\vec{x}_{train}^{(i)}) - y_{train}^{(i)})^2\\right]$$\n",
        "\n",
        "Scikit-learn also has a built-in [`mean_squared_error()`](https://scikit-learn.org/stable/modules/generated/sklearn.metrics.mean_squared_error.html) function that we can use. Take note though that [as per the documentation](https://scikit-learn.org/stable/modules/model_evaluation.html#mean-squared-error), scikit-learn's implementation only divides by `m` and not `2*m`, where `m` is the number of examples. As mentioned before, dividing by `2m` is a convention we will follow but the calculations should still work whether or not you include it. Thus, to match the equation above, we can use the scikit-learn function then divide by 2 as shown below. We also included a for-loop implementation so you can check that it's equal.\n",
        "\n",
        "Another thing to take note: Since we trained the model on scaled values (i.e. using the z-score), we should also feed in the scaled training set instead of its raw values."
      ],
      "metadata": {
        "id": "dPZbqPM4pWr0"
      }
    },
    {
      "cell_type": "markdown",
      "source": [
        " Here we demonstrate two different ways of calculating the Mean Squared Error (MSE) for a linear regression model's predictions (yhat) on a training dataset (X_train_scaled)."
      ],
      "metadata": {
        "id": "X4AvlXQYqK6R"
      }
    },
    {
      "cell_type": "code",
      "source": [
        "\"\"\"\n",
        "linear_model.predict(X_train_scaled): This line uses a trained\n",
        "linear regression model (linear_model)\n",
        "to make predictions (yhat) on the scaled training dataset (X_train_scaled).\n",
        "\"\"\"\n",
        "yhat = linear_model.predict(X_train_scaled)\n",
        "\n",
        "# Using scikit-learn's utility function and divide by 2\n",
        "print(f\"training MSE (using sklearn function): {mean_squared_error(y_train, yhat) / 2}\")\n",
        "\n",
        "# for-loop implementation\n",
        "total_squared_error = 0\n",
        "\n",
        "\"\"\"\n",
        "This part of the code manually calculates the MSE\n",
        "by iterating over each prediction (yhat[i]) and true target value (y_train[i]).\n",
        "\n",
        "squared_error_i: Computes the squared error for each individual\n",
        "prediction ((yhat[i] - y_train[i])**2).\n",
        "\n",
        "mse = total_squared_error / (2*len(yhat)): Calculates the MSE by dividing the\n",
        "total squared error by twice the number of predictions (len(yhat)).\n",
        "\"\"\"\n",
        "for i in range(len(yhat)):\n",
        "    squared_error_i  = (yhat[i] - y_train[i])**2\n",
        "    total_squared_error += squared_error_i\n",
        "\n",
        "mse = total_squared_error / (2*len(yhat))\n",
        "\n",
        "#Prints the calculated MSE, potentially converting it to a scalar using squeeze()\n",
        "#if it's a one-dimensional array.\n",
        "print(f\"training MSE (for-loop implementation): {mse.squeeze()}\")"
      ],
      "metadata": {
        "colab": {
          "base_uri": "https://localhost:8080/"
        },
        "id": "_hdyAiCkpQA9",
        "outputId": "ef1b527c-1c7b-495f-aac6-d0ca4b59d0d6"
      },
      "execution_count": 18,
      "outputs": [
        {
          "output_type": "stream",
          "name": "stdout",
          "text": [
            "training MSE (using sklearn function): 406.19374192533155\n",
            "training MSE (for-loop implementation): 406.19374192533155\n"
          ]
        }
      ]
    },
    {
      "cell_type": "markdown",
      "source": [
        "We can then compute the MSE for the cross validation set with basically the same equation:\n",
        "\n",
        "$$J_{cv}(\\vec{w}, b) = \\frac{1}{2m_{cv}}\\left[\\sum_{i=1}^{m_{cv}}(f_{\\vec{w},b}(\\vec{x}_{cv}^{(i)}) - y_{cv}^{(i)})^2\\right]$$\n",
        "\n",
        "As with the training set, you will also want to scale the cross validation set. An *important* thing to note when using the z-score is we have to use the mean and standard deviation of the **training set** when scaling the cross validation set. This is to ensure that your input features are transformed as expected by the model. One way to gain intuition is with this scenario:\n",
        "\n",
        "* Say that our training set has an input feature equal to `500` which is scaled down to `0.5` using the z-score.\n",
        "* After training, our model is able to accurately map this scaled input `x=0.5` to the target output `y=300`.\n",
        "* Now let's say that we deployed this model and one of your users fed it a sample equal to `500`.\n",
        "* If we get this input sample's z-score using any other values of the mean and standard deviation, then it might not be scaled to `0.5` and our model will most likely make a wrong prediction (i.e. not equal to `y=300`).\n",
        "\n",
        "You will scale the cross validation set below by using the same `StandardScaler` we used earlier but only calling its [`transform()`](https://scikit-learn.org/stable/modules/generated/sklearn.preprocessing.StandardScaler.html#sklearn.preprocessing.StandardScaler.transform) method instead of [`fit_transform()`](https://scikit-learn.org/stable/modules/generated/sklearn.preprocessing.StandardScaler.html#sklearn.preprocessing.StandardScaler.fit_transform)."
      ],
      "metadata": {
        "id": "OPRlEmxhrXY3"
      }
    },
    {
      "cell_type": "code",
      "source": [
        "# Scaling the cross validation set using the mean and standard deviation of the training set\n",
        "X_cv_scaled = scaler_linear.transform(x_cv)\n",
        "\n",
        "print(f\"Mean used to scale the CV set: {scaler_linear.mean_.squeeze():.2f}\")\n",
        "print(f\"Standard deviation used to scale the CV set: {scaler_linear.scale_.squeeze():.2f}\")\n",
        "\n",
        "# Feeding the scaled cross validation set\n",
        "yhat = linear_model.predict(X_cv_scaled)\n",
        "\n",
        "# Using scikit-learn's utility function and divide by 2\n",
        "print(f\"Cross validation MSE: {mean_squared_error(y_cv, yhat) / 2}\")"
      ],
      "metadata": {
        "colab": {
          "base_uri": "https://localhost:8080/"
        },
        "id": "IjEGrsaMp2rU",
        "outputId": "dcab13cf-eb2e-473d-fc91-002bf0ee146b"
      },
      "execution_count": 19,
      "outputs": [
        {
          "output_type": "stream",
          "name": "stdout",
          "text": [
            "Mean used to scale the CV set: 2504.06\n",
            "Standard deviation used to scale the CV set: 574.85\n",
            "Cross validation MSE: 551.7789026952216\n"
          ]
        }
      ]
    },
    {
      "cell_type": "markdown",
      "source": [
        "## Adding Polynomial Features\n",
        "\n",
        "From the graphs earlier, we may have noticed that the target `y` rises more sharply at smaller values of `x` compared to higher ones. A straight line might not be the best choice because the target `y` seems to flatten out as `x` increases. Now that we have these values of the training and cross validation MSE from the linear model, we can try adding polynomial features to see if you can get a better performance. The code will mostly be the same but with a few extra preprocessing steps."
      ],
      "metadata": {
        "id": "9Lt5ZmrdsD0b"
      }
    },
    {
      "cell_type": "markdown",
      "source": [
        "### Creating the additional features\n",
        "\n",
        "First, we will generate the polynomial features from our training set. The code below demonstrates how to do this using the [`PolynomialFeatures`](https://scikit-learn.org/stable/modules/generated/sklearn.preprocessing.PolynomialFeatures.html) class. It will create a new input feature which has the squared values of the input `x` (i.e. degree=2)."
      ],
      "metadata": {
        "id": "vcHEGdXNsO-V"
      }
    },
    {
      "cell_type": "code",
      "source": [
        "# Instantiate the class to make polynomial features\n",
        "poly = PolynomialFeatures(degree=2, include_bias=False)\n",
        "\n",
        "# Compute the number of features and transform the training set\n",
        "X_train_mapped = poly.fit_transform(x_train)\n",
        "\n",
        "# Preview the first 5 elements of the new training set. Left column is `x` and right column is `x^2`\n",
        "# Note: The `e+<number>` in the output denotes how many places the decimal point should\n",
        "# be moved. For example, `3.24e+03` is equal to `3240`\n",
        "print(X_train_mapped[:5])"
      ],
      "metadata": {
        "colab": {
          "base_uri": "https://localhost:8080/"
        },
        "id": "hX84yq3mr8AM",
        "outputId": "c2a1b4dc-43eb-4b99-fed3-27e878ee27ca"
      },
      "execution_count": 20,
      "outputs": [
        {
          "output_type": "stream",
          "name": "stdout",
          "text": [
            "[[3.32e+03 1.11e+07]\n",
            " [2.34e+03 5.50e+06]\n",
            " [3.49e+03 1.22e+07]\n",
            " [2.63e+03 6.92e+06]\n",
            " [2.59e+03 6.71e+06]]\n"
          ]
        }
      ]
    },
    {
      "cell_type": "markdown",
      "source": [
        "We will then scale the inputs as before to narrow down the range of values."
      ],
      "metadata": {
        "id": "4dYQrLU4sgJC"
      }
    },
    {
      "cell_type": "code",
      "source": [
        "# Instantiate the class\n",
        "scaler_poly = StandardScaler()\n",
        "\n",
        "# Compute the mean and standard deviation of the training set then transform it\n",
        "X_train_mapped_scaled = scaler_poly.fit_transform(X_train_mapped)\n",
        "\n",
        "# Preview the first 5 elements of the scaled training set.\n",
        "print(X_train_mapped_scaled[:5])"
      ],
      "metadata": {
        "colab": {
          "base_uri": "https://localhost:8080/"
        },
        "id": "iCT2MyYOsaxy",
        "outputId": "a864ebed-c00d-438c-f2a3-d4978dcfc01c"
      },
      "execution_count": 21,
      "outputs": [
        {
          "output_type": "stream",
          "name": "stdout",
          "text": [
            "[[ 1.43  1.47]\n",
            " [-0.28 -0.36]\n",
            " [ 1.71  1.84]\n",
            " [ 0.22  0.11]\n",
            " [ 0.15  0.04]]\n"
          ]
        }
      ]
    },
    {
      "cell_type": "markdown",
      "source": [
        "We can then proceed to train the model. After that, we will measure the model's performance against the cross validation set. Like before, we should make sure to perform the same transformations as you did in the training set. You will add the same number of polynomial features then scale the range of values."
      ],
      "metadata": {
        "id": "mwKca-umswx6"
      }
    },
    {
      "cell_type": "code",
      "source": [
        "# Initialize the class\n",
        "model = LinearRegression()\n",
        "\n",
        "# Train the model\n",
        "model.fit(X_train_mapped_scaled, y_train )\n",
        "\n",
        "# Compute the training MSE\n",
        "yhat = model.predict(X_train_mapped_scaled)\n",
        "print(f\"Training MSE: {mean_squared_error(y_train, yhat) / 2}\")\n",
        "\n",
        "# Add the polynomial features to the cross validation set\n",
        "X_cv_mapped = poly.transform(x_cv)\n",
        "\n",
        "# Scale the cross validation set using the mean and standard deviation of the training set\n",
        "X_cv_mapped_scaled = scaler_poly.transform(X_cv_mapped)\n",
        "\n",
        "# Compute the cross validation MSE\n",
        "yhat = model.predict(X_cv_mapped_scaled)\n",
        "print(f\"Cross validation MSE: {mean_squared_error(y_cv, yhat) / 2}\")"
      ],
      "metadata": {
        "colab": {
          "base_uri": "https://localhost:8080/"
        },
        "id": "5bZnJCKrsnuG",
        "outputId": "171f4c96-a181-4ac4-895f-a58457084048"
      },
      "execution_count": 22,
      "outputs": [
        {
          "output_type": "stream",
          "name": "stdout",
          "text": [
            "Training MSE: 49.111609334025154\n",
            "Cross validation MSE: 87.6984121111191\n"
          ]
        }
      ]
    },
    {
      "cell_type": "markdown",
      "source": [
        "We notice that the MSEs are significantly better for both the training and cross validation set when we added the 2nd order polynomial. You may want to introduce more polynomial terms and see which one gives the best performance.<br>\n",
        "\n",
        "We can create a loop that contains all the steps in the previous code cells. Here is one implementation that adds polynomial features up to degree=10. We'll plot it at the end to make it easier to compare the results for each model.\n"
      ],
      "metadata": {
        "id": "s4cuU81Xs_uq"
      }
    },
    {
      "cell_type": "code",
      "source": [
        "# Initialize lists to save the errors, models, and feature transforms\n",
        "train_mses = []\n",
        "cv_mses = []\n",
        "models = []\n",
        "polys = []\n",
        "scalers = []\n",
        "\n",
        "# Loop over 10 times. Each adding one more degree of polynomial higher than the last.\n",
        "for degree in range(1,11):\n",
        "\n",
        "    # Add polynomial features to the training set\n",
        "    poly = PolynomialFeatures(degree, include_bias=False)\n",
        "    X_train_mapped = poly.fit_transform(x_train)\n",
        "    polys.append(poly)\n",
        "\n",
        "    # Scale the training set\n",
        "    scaler_poly = StandardScaler()\n",
        "    X_train_mapped_scaled = scaler_poly.fit_transform(X_train_mapped)\n",
        "    scalers.append(scaler_poly)\n",
        "\n",
        "    # Create and train the model\n",
        "    model = LinearRegression()\n",
        "    model.fit(X_train_mapped_scaled, y_train )\n",
        "    models.append(model)\n",
        "\n",
        "    # Compute the training MSE\n",
        "    yhat = model.predict(X_train_mapped_scaled)\n",
        "    train_mse = mean_squared_error(y_train, yhat) / 2\n",
        "    train_mses.append(train_mse)\n",
        "\n",
        "    # Add polynomial features and scale the cross validation set\n",
        "    X_cv_mapped = poly.transform(x_cv)\n",
        "    X_cv_mapped_scaled = scaler_poly.transform(X_cv_mapped)\n",
        "\n",
        "    # Compute the cross validation MSE\n",
        "    yhat = model.predict(X_cv_mapped_scaled)\n",
        "    cv_mse = mean_squared_error(y_cv, yhat) / 2\n",
        "    cv_mses.append(cv_mse)\n",
        "\n",
        "# Plot the results\n",
        "degrees=range(1,11)\n",
        "utils.plot_train_cv_mses(degrees, train_mses, cv_mses, title=\"Degree of Polynomial vs. Train and CV MSEs\")"
      ],
      "metadata": {
        "colab": {
          "base_uri": "https://localhost:8080/",
          "height": 706
        },
        "id": "o9Q9WFOPs5tU",
        "outputId": "b4dc9a50-3441-403d-ecd4-3c7a090bb13a"
      },
      "execution_count": 24,
      "outputs": [
        {
          "output_type": "display_data",
          "data": {
            "text/plain": [
              "<Figure size 1200x800 with 1 Axes>"
            ],
            "image/png": "[encoded data removed]"
          },
          "metadata": {}
        }
      ]
    },
    {
      "cell_type": "markdown",
      "source": [
        "### Choosing the Best Model\n",
        "\n",
        "When selecting a model, we want to choose one that performs well both on the training and cross validation set. It implies that it is able to learn the patterns from our training set without overfitting. If you used the defaults we notice a sharp drop in cross validation error from the models with degree=1 to degree=2. This is followed by a relatively flat line up to degree=5. After that, however, the cross validation error is generally getting worse as we add more polynomial features. Given these, we can decide to use the model with the lowest `cv_mse` as the one best suited for our application."
      ],
      "metadata": {
        "id": "5glv9YHttfbO"
      }
    },
    {
      "cell_type": "code",
      "source": [
        "# Get the model with the lowest CV MSE (add 1 because list indices start at 0)\n",
        "# This also corresponds to the degree of the polynomial added\n",
        "degree = np.argmin(cv_mses) + 1\n",
        "print(f\"Lowest CV MSE is found in the model with degree={degree}\")"
      ],
      "metadata": {
        "colab": {
          "base_uri": "https://localhost:8080/"
        },
        "id": "jXJ13CoGtPtY",
        "outputId": "fc1cb63f-1f17-47f7-fff5-fd11d35614c6"
      },
      "execution_count": 25,
      "outputs": [
        {
          "output_type": "stream",
          "name": "stdout",
          "text": [
            "Lowest CV MSE is found in the model with degree=4\n"
          ]
        }
      ]
    },
    {
      "cell_type": "markdown",
      "source": [
        "We can then publish the generalization error by computing the test set's MSE. As usual, we should transform this data the same way you did with the training and cross validation sets."
      ],
      "metadata": {
        "id": "_3kFlRewuJri"
      }
    },
    {
      "cell_type": "code",
      "source": [
        "# Add polynomial features to the test set\n",
        "X_test_mapped = polys[degree-1].transform(x_test)\n",
        "\n",
        "# Scale the test set\n",
        "X_test_mapped_scaled = scalers[degree-1].transform(X_test_mapped)\n",
        "\n",
        "# Compute the test MSE\n",
        "yhat = models[degree-1].predict(X_test_mapped_scaled)\n",
        "test_mse = mean_squared_error(y_test, yhat) / 2\n",
        "\n",
        "print(f\"Training MSE: {train_mses[degree-1]:.2f}\")\n",
        "print(f\"Cross Validation MSE: {cv_mses[degree-1]:.2f}\")\n",
        "print(f\"Test MSE: {test_mse:.2f}\")"
      ],
      "metadata": {
        "colab": {
          "base_uri": "https://localhost:8080/"
        },
        "id": "tEPHoYSduEwI",
        "outputId": "1d54c536-92a8-42e3-ef47-da7178749b1a"
      },
      "execution_count": 26,
      "outputs": [
        {
          "output_type": "stream",
          "name": "stdout",
          "text": [
            "Training MSE: 47.15\n",
            "Cross Validation MSE: 79.43\n",
            "Test MSE: 104.63\n"
          ]
        }
      ]
    },
    {
      "cell_type": "markdown",
      "source": [
        "## Neural Networks\n",
        "\n",
        "The same model selection process can also be used when choosing between different neural network architectures. In this section, we will create the models shown below and apply it to the same regression task above."
      ],
      "metadata": {
        "id": "xB0Jk9Mpujq-"
      }
    },
    {
      "cell_type": "code",
      "source": [
        "# Adding polynomial features\n",
        "degree = 1\n",
        "poly = PolynomialFeatures(degree, include_bias=False)\n",
        "X_train_mapped = poly.fit_transform(x_train)\n",
        "X_cv_mapped = poly.transform(x_cv)\n",
        "X_test_mapped = poly.transform(x_test)"
      ],
      "metadata": {
        "id": "QdaWu6HTuTyW"
      },
      "execution_count": 27,
      "outputs": []
    },
    {
      "cell_type": "markdown",
      "source": [
        "Next, we will scale the input features to help gradient descent converge faster. Again, notice that you are using the mean and standard deviation computed from the training set by just using `transform()` in the cross validation and test sets instead of `fit_transform()`."
      ],
      "metadata": {
        "id": "RKIZITLwu_41"
      }
    },
    {
      "cell_type": "code",
      "source": [
        "# Scale the features using the z-score\n",
        "scaler = StandardScaler()\n",
        "X_train_mapped_scaled = scaler.fit_transform(X_train_mapped)\n",
        "X_cv_mapped_scaled = scaler.transform(X_cv_mapped)\n",
        "X_test_mapped_scaled = scaler.transform(X_test_mapped)"
      ],
      "metadata": {
        "id": "kHtI69pfu7rn"
      },
      "execution_count": 28,
      "outputs": []
    },
    {
      "cell_type": "markdown",
      "source": [
        "### Build and Train the Models\n",
        "\n",
        "We will then create the neural network architectures shown earlier. The code is provided in the `build_models()` function in the `utils.py` file in dataset. We will use that in the loop below then proceed to train the models. For each model, we will also record the training and cross validation errors."
      ],
      "metadata": {
        "id": "GNv3dbKRvHwi"
      }
    },
    {
      "cell_type": "code",
      "source": [
        "# Initialize lists that will contain the errors for each model\n",
        "nn_train_mses = []\n",
        "nn_cv_mses = []\n",
        "\n",
        "# Build the models\n",
        "nn_models = utils.build_models()\n",
        "\n",
        "# Loop over the the models\n",
        "for model in nn_models:\n",
        "\n",
        "    # Setup the loss and optimizer\n",
        "    model.compile(\n",
        "    loss='mse',\n",
        "    optimizer=tf.keras.optimizers.Adam(learning_rate=0.1),\n",
        "    )\n",
        "\n",
        "    print(f\"Training {model.name}...\")\n",
        "\n",
        "    # Train the model\n",
        "    model.fit(\n",
        "        X_train_mapped_scaled, y_train,\n",
        "        epochs=300,\n",
        "        verbose=0\n",
        "    )\n",
        "\n",
        "    print(\"Done!\\n\")\n",
        "\n",
        "\n",
        "    # Record the training MSEs\n",
        "    yhat = model.predict(X_train_mapped_scaled)\n",
        "    train_mse = mean_squared_error(y_train, yhat) / 2\n",
        "    nn_train_mses.append(train_mse)\n",
        "\n",
        "    # Record the cross validation MSEs\n",
        "    yhat = model.predict(X_cv_mapped_scaled)\n",
        "    cv_mse = mean_squared_error(y_cv, yhat) / 2\n",
        "    nn_cv_mses.append(cv_mse)\n",
        "\n",
        "\n",
        "# print results\n",
        "print(\"RESULTS:\")\n",
        "for model_num in range(len(nn_train_mses)):\n",
        "    print(\n",
        "        f\"Model {model_num+1}: Training MSE: {nn_train_mses[model_num]:.2f}, \" +\n",
        "        f\"CV MSE: {nn_cv_mses[model_num]:.2f}\"\n",
        "        )"
      ],
      "metadata": {
        "colab": {
          "base_uri": "https://localhost:8080/"
        },
        "id": "DXpjun9yvEYs",
        "outputId": "3571b97f-5d73-457a-c217-8496c9fc797d"
      },
      "execution_count": 29,
      "outputs": [
        {
          "output_type": "stream",
          "name": "stdout",
          "text": [
            "Training model_1...\n",
            "Done!\n",
            "\n",
            "1/1 [==============================] - 0s 70ms/step\n",
            "1/1 [==============================] - 0s 46ms/step\n",
            "Training model_2...\n",
            "Done!\n",
            "\n",
            "1/1 [==============================] - 0s 55ms/step\n",
            "1/1 [==============================] - 0s 17ms/step\n",
            "Training model_3...\n",
            "Done!\n",
            "\n",
            "1/1 [==============================] - 0s 64ms/step\n",
            "1/1 [==============================] - 0s 17ms/step\n",
            "RESULTS:\n",
            "Model 1: Training MSE: 406.19, CV MSE: 551.78\n",
            "Model 2: Training MSE: 406.19, CV MSE: 551.78\n",
            "Model 3: Training MSE: 73.40, CV MSE: 112.86\n"
          ]
        }
      ]
    },
    {
      "cell_type": "markdown",
      "source": [
        "From the recorded errors, we can decide which is the best model for our application. Look at the results above and see if we agree with the selected `model_num` below. Finally, we will compute the test error to estimate how well it generalizes to new examples."
      ],
      "metadata": {
        "id": "6fUbABRdvjqu"
      }
    },
    {
      "cell_type": "code",
      "source": [
        "# Select the model with the lowest CV MSE\n",
        "model_num = 3\n",
        "\n",
        "# Compute the test MSE\n",
        "yhat = nn_models[model_num-1].predict(X_test_mapped_scaled)\n",
        "test_mse = mean_squared_error(y_test, yhat) / 2\n",
        "\n",
        "print(f\"Selected Model: {model_num}\")\n",
        "print(f\"Training MSE: {nn_train_mses[model_num-1]:.2f}\")\n",
        "print(f\"Cross Validation MSE: {nn_cv_mses[model_num-1]:.2f}\")\n",
        "print(f\"Test MSE: {test_mse:.2f}\")"
      ],
      "metadata": {
        "colab": {
          "base_uri": "https://localhost:8080/"
        },
        "id": "LkV2-y9Gvbh8",
        "outputId": "91550a4f-4c74-4a71-a48d-8a8bfabeb1e3"
      },
      "execution_count": 30,
      "outputs": [
        {
          "output_type": "stream",
          "name": "stdout",
          "text": [
            "1/1 [==============================] - 0s 31ms/step\n",
            "Selected Model: 3\n",
            "Training MSE: 73.40\n",
            "Cross Validation MSE: 112.86\n",
            "Test MSE: 131.80\n"
          ]
        }
      ]
    },
    {
      "cell_type": "markdown",
      "source": [
        "## Classification\n",
        "\n",
        "In this last part of the lab, we will practice model evaluation and selection on a classification task. The process will be similar, with the main difference being the computation of the errors."
      ],
      "metadata": {
        "id": "pTqnJrUSv8SX"
      }
    },
    {
      "cell_type": "markdown",
      "source": [
        "### Load the Dataset\n",
        "\n",
        "First, we will load a dataset for a binary classification task. It has 200 examples of two input features (`x1` and `x2`), and a target `y` of either `0` or `1`."
      ],
      "metadata": {
        "id": "uf8Yy5nIwDNM"
      }
    },
    {
      "cell_type": "code",
      "source": [
        "# Load the dataset from a text file\n",
        "data = np.loadtxt('./data_w3_ex2.csv', delimiter=',')\n",
        "\n",
        "# Split the inputs and outputs into separate arrays\n",
        "x_bc = data[:,:-1]\n",
        "y_bc = data[:,-1]\n",
        "\n",
        "# Convert y into 2-D because the commands later will require it (x is already 2-D)\n",
        "y_bc = np.expand_dims(y_bc, axis=1)\n",
        "\n",
        "print(f\"The shape of the inputs x is: {x_bc.shape}\")\n",
        "print(f\"The shape of the targets y is: {y_bc.shape}\")"
      ],
      "metadata": {
        "colab": {
          "base_uri": "https://localhost:8080/"
        },
        "id": "iv58BwXuvspT",
        "outputId": "0a5f32b4-0b2f-49c2-dedb-9a7987c257a2"
      },
      "execution_count": 33,
      "outputs": [
        {
          "output_type": "stream",
          "name": "stdout",
          "text": [
            "The shape of the inputs x is: (200, 2)\n",
            "The shape of the targets y is: (200, 1)\n"
          ]
        }
      ]
    },
    {
      "cell_type": "markdown",
      "source": [
        "We can plot the dataset to examine how the examples are separated.\n",
        "\n"
      ],
      "metadata": {
        "id": "CtZGONYjwbFJ"
      }
    },
    {
      "cell_type": "code",
      "source": [
        "utils.plot_bc_dataset(x=x_bc, y=y_bc, title=\"x1 vs. x2\")"
      ],
      "metadata": {
        "colab": {
          "base_uri": "https://localhost:8080/",
          "height": 706
        },
        "id": "oz68YsoCwVx9",
        "outputId": "2eccecfc-18a7-4665-954b-eee16d489346"
      },
      "execution_count": 34,
      "outputs": [
        {
          "output_type": "display_data",
          "data": {
            "text/plain": [
              "<Figure size 1200x800 with 1 Axes>"
            ],
            "image/png": "[encoded data removed]"
          },
          "metadata": {}
        }
      ]
    },
    {
      "cell_type": "markdown",
      "source": [
        "### Split and Prepare the Dataset\n",
        "\n",
        "Next, we will generate the training, cross validation, and test sets. We will use the same 60/20/20 proportions as before. You will also scale the features as we did in the previous section."
      ],
      "metadata": {
        "id": "DpG4V990wvEA"
      }
    },
    {
      "cell_type": "code",
      "source": [
        "from sklearn.model_selection import train_test_split\n",
        "\n",
        "# Get 60% of the dataset as the training set. Put the remaining 40% in temporary variables.\n",
        "x_bc_train, x_, y_bc_train, y_ = train_test_split(x_bc, y_bc, test_size=0.40, random_state=1)\n",
        "\n",
        "# Split the 40% subset above into two: one half for cross validation and the other for the test set\n",
        "x_bc_cv, x_bc_test, y_bc_cv, y_bc_test = train_test_split(x_, y_, test_size=0.50, random_state=1)\n",
        "\n",
        "# Delete temporary variables\n",
        "del x_, y_\n",
        "\n",
        "print(f\"The shape of the training set (input) is: {x_bc_train.shape}\")\n",
        "print(f\"The shape of the training set (target) is: {y_bc_train.shape}\\n\")\n",
        "print(f\"The shape of the cross validation set (input) is: {x_bc_cv.shape}\")\n",
        "print(f\"The shape of the cross validation set (target) is: {y_bc_cv.shape}\\n\")\n",
        "print(f\"The shape of the test set (input) is: {x_bc_test.shape}\")\n",
        "print(f\"The shape of the test set (target) is: {y_bc_test.shape}\")"
      ],
      "metadata": {
        "colab": {
          "base_uri": "https://localhost:8080/"
        },
        "id": "vKSsv7eIweKV",
        "outputId": "915bd5f2-060f-490d-d4ef-91ef6b5aba41"
      },
      "execution_count": 36,
      "outputs": [
        {
          "output_type": "stream",
          "name": "stdout",
          "text": [
            "The shape of the training set (input) is: (120, 2)\n",
            "The shape of the training set (target) is: (120, 1)\n",
            "\n",
            "The shape of the cross validation set (input) is: (40, 2)\n",
            "The shape of the cross validation set (target) is: (40, 1)\n",
            "\n",
            "The shape of the test set (input) is: (40, 2)\n",
            "The shape of the test set (target) is: (40, 1)\n"
          ]
        }
      ]
    },
    {
      "cell_type": "code",
      "source": [
        "# Scale the features\n",
        "\n",
        "# Initialize the class\n",
        "scaler_linear = StandardScaler()\n",
        "\n",
        "# Compute the mean and standard deviation of the training set then transform it\n",
        "x_bc_train_scaled = scaler_linear.fit_transform(x_bc_train)\n",
        "x_bc_cv_scaled = scaler_linear.transform(x_bc_cv)\n",
        "x_bc_test_scaled = scaler_linear.transform(x_bc_test)"
      ],
      "metadata": {
        "id": "1Hn_03L3wyf1"
      },
      "execution_count": 37,
      "outputs": []
    },
    {
      "cell_type": "markdown",
      "source": [
        "### Evaluating the Error for Classification Models\n",
        "\n",
        "In the previous sections on regression models, we used the mean squared error to measure how well our model is doing. For classification, we can get a similar metric by getting the fraction of the data that the model has misclassified. For example, if our model made wrong predictions for 2 samples out of 5, then you will report an error of `40%` or `0.4`. The code below demonstrates this using a for-loop and also with Numpy's [`mean()`](https://numpy.org/doc/stable/reference/generated/numpy.mean.html) function."
      ],
      "metadata": {
        "id": "ARtcOxpiw89r"
      }
    },
    {
      "cell_type": "code",
      "source": [
        "# Sample model output\n",
        "probabilities = np.array([0.2, 0.6, 0.7, 0.3, 0.8])\n",
        "\n",
        "# Apply a threshold to the model output. If greater than 0.5, set to 1. Else 0.\n",
        "predictions = np.where(probabilities >= 0.5, 1, 0)\n",
        "\n",
        "# Ground truth labels\n",
        "ground_truth = np.array([1, 1, 1, 1, 1])\n",
        "\n",
        "# Initialize counter for misclassified data\n",
        "misclassified = 0\n",
        "\n",
        "# Get number of predictions\n",
        "num_predictions = len(predictions)\n",
        "\n",
        "# Loop over each prediction\n",
        "for i in range(num_predictions):\n",
        "\n",
        "    # Check if it matches the ground truth\n",
        "    if predictions[i] != ground_truth[i]:\n",
        "\n",
        "        # Add one to the counter if the prediction is wrong\n",
        "        misclassified += 1\n",
        "\n",
        "# Compute the fraction of the data that the model misclassified\n",
        "fraction_error = misclassified/num_predictions\n",
        "\n",
        "print(f\"Probabilities: {probabilities}\")\n",
        "print(f\"Predictions with threshold=0.5: {predictions}\")\n",
        "print(f\"Targets: {ground_truth}\")\n",
        "print(f\"Fraction of misclassified data (for-loop): {fraction_error}\")\n",
        "print(f\"Fraction of misclassified data (with np.mean()): {np.mean(predictions != ground_truth)}\")"
      ],
      "metadata": {
        "colab": {
          "base_uri": "https://localhost:8080/"
        },
        "id": "kmtiPnjCw6RX",
        "outputId": "5b994667-1737-4688-e669-8c797aa2cd1d"
      },
      "execution_count": 38,
      "outputs": [
        {
          "output_type": "stream",
          "name": "stdout",
          "text": [
            "Probabilities: [0.2 0.6 0.7 0.3 0.8]\n",
            "Predictions with threshold=0.5: [0 1 1 0 1]\n",
            "Targets: [1 1 1 1 1]\n",
            "Fraction of misclassified data (for-loop): 0.4\n",
            "Fraction of misclassified data (with np.mean()): 0.4\n"
          ]
        }
      ]
    },
    {
      "cell_type": "markdown",
      "source": [
        "### Build and Train the model\n",
        "\n",
        "We will use the same neural network architectures in the previous section so we can call the `build_models()` function again to create new instances of these models.\n",
        "\n",
        "We will follow the recommended approach mentioned last week where we use a `linear` activation for the output layer (instead of `sigmoid`) then set `from_logits=True` when declaring the loss function of the model. We will use the [binary crossentropy loss](https://www.tensorflow.org/api_docs/python/tf/keras/losses/BinaryCrossentropy) because this is a binary classification problem.\n",
        "\n",
        "After training, we will use a [sigmoid function](https://www.tensorflow.org/api_docs/python/tf/math/sigmoid) to convert the model outputs into probabilities. From there, you can set a threshold and get the fraction of misclassified examples from the training and cross validation sets.\n"
      ],
      "metadata": {
        "id": "esFbJ3NAxa3l"
      }
    },
    {
      "cell_type": "code",
      "source": [
        "# Initialize lists that will contain the errors for each model\n",
        "nn_train_error = []\n",
        "nn_cv_error = []\n",
        "\n",
        "# Build the models\n",
        "models_bc = utils.build_models()\n",
        "\n",
        "# Loop over each model\n",
        "for model in models_bc:\n",
        "\n",
        "    # Setup the loss and optimizer\n",
        "    model.compile(\n",
        "    loss=tf.keras.losses.BinaryCrossentropy(from_logits=True),\n",
        "    optimizer=tf.keras.optimizers.Adam(learning_rate=0.01),\n",
        "    )\n",
        "\n",
        "    print(f\"Training {model.name}...\")\n",
        "\n",
        "    # Train the model\n",
        "    model.fit(\n",
        "        x_bc_train_scaled, y_bc_train,\n",
        "        epochs=200,\n",
        "        verbose=0\n",
        "    )\n",
        "\n",
        "    print(\"Done!\\n\")\n",
        "\n",
        "    # Set the threshold for classification\n",
        "    threshold = 0.5\n",
        "\n",
        "    # Record the fraction of misclassified examples for the training set\n",
        "    yhat = model.predict(x_bc_train_scaled)\n",
        "    yhat = tf.math.sigmoid(yhat)\n",
        "    yhat = np.where(yhat >= threshold, 1, 0)\n",
        "    train_error = np.mean(yhat != y_bc_train)\n",
        "    nn_train_error.append(train_error)\n",
        "\n",
        "    # Record the fraction of misclassified examples for the cross validation set\n",
        "    yhat = model.predict(x_bc_cv_scaled)\n",
        "    yhat = tf.math.sigmoid(yhat)\n",
        "    yhat = np.where(yhat >= threshold, 1, 0)\n",
        "    cv_error = np.mean(yhat != y_bc_cv)\n",
        "    nn_cv_error.append(cv_error)\n",
        "\n",
        "# Print the result\n",
        "for model_num in range(len(nn_train_error)):\n",
        "    print(\n",
        "        f\"Model {model_num+1}: Training Set Classification Error: {nn_train_error[model_num]:.5f}, \" +\n",
        "        f\"CV Set Classification Error: {nn_cv_error[model_num]:.5f}\"\n",
        "        )"
      ],
      "metadata": {
        "colab": {
          "base_uri": "https://localhost:8080/"
        },
        "id": "Su3Kk_mHxMgv",
        "outputId": "e5c2d9c0-aa83-44fc-df8a-bacfe6a56d2f"
      },
      "execution_count": 39,
      "outputs": [
        {
          "output_type": "stream",
          "name": "stdout",
          "text": [
            "Training model_1...\n",
            "Done!\n",
            "\n",
            "4/4 [==============================] - 0s 4ms/step\n",
            "2/2 [==============================] - 0s 5ms/step\n",
            "Training model_2...\n",
            "Done!\n",
            "\n",
            "4/4 [==============================] - 0s 5ms/step\n",
            "2/2 [==============================] - 0s 4ms/step\n",
            "Training model_3...\n",
            "Done!\n",
            "\n",
            "4/4 [==============================] - 0s 3ms/step\n",
            "2/2 [==============================] - 0s 5ms/step\n",
            "Model 1: Training Set Classification Error: 0.05833, CV Set Classification Error: 0.15000\n",
            "Model 2: Training Set Classification Error: 0.09167, CV Set Classification Error: 0.15000\n",
            "Model 3: Training Set Classification Error: 0.10833, CV Set Classification Error: 0.17500\n"
          ]
        }
      ]
    },
    {
      "cell_type": "markdown",
      "source": [
        "From the output above, we can choose which one performed best. If there is a tie on the cross validation set error, then we can add another criteria to break it. For example, we can choose the one with a lower training error. A more common approach is to choose the smaller model because it saves computational resources. In our example, Model 1 is the smallest and Model 3 is the largest.\n",
        "\n",
        "Finally, we can compute the test error to report the model's generalization error."
      ],
      "metadata": {
        "id": "Eqq4ZpEMx2Xp"
      }
    },
    {
      "cell_type": "code",
      "source": [
        "# Select the model with the lowest error\n",
        "model_num = 3\n",
        "\n",
        "# Compute the test error\n",
        "yhat = models_bc[model_num-1].predict(x_bc_test_scaled)\n",
        "yhat = tf.math.sigmoid(yhat)\n",
        "yhat = np.where(yhat >= threshold, 1, 0)\n",
        "nn_test_error = np.mean(yhat != y_bc_test)\n",
        "\n",
        "print(f\"Selected Model: {model_num}\")\n",
        "print(f\"Training Set Classification Error: {nn_train_error[model_num-1]:.4f}\")\n",
        "print(f\"CV Set Classification Error: {nn_cv_error[model_num-1]:.4f}\")\n",
        "print(f\"Test Set Classification Error: {nn_test_error:.4f}\")"
      ],
      "metadata": {
        "colab": {
          "base_uri": "https://localhost:8080/"
        },
        "id": "Z8DQPuF0xoVv",
        "outputId": "848cae06-2dff-4531-f78c-5b52f3c4f9cd"
      },
      "execution_count": 40,
      "outputs": [
        {
          "output_type": "stream",
          "name": "stdout",
          "text": [
            "2/2 [==============================] - 0s 7ms/step\n",
            "Selected Model: 3\n",
            "Training Set Classification Error: 0.1083\n",
            "CV Set Classification Error: 0.1750\n",
            "Test Set Classification Error: 0.1750\n"
          ]
        }
      ]
    }
  ]
}